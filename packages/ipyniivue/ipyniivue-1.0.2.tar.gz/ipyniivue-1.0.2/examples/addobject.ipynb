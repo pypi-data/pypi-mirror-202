{
 "cells": [
  {
   "cell_type": "code",
   "execution_count": null,
   "id": "2f37c304-0bb5-4dca-8c42-6831d2f87b7b",
   "metadata": {
    "tags": []
   },
   "outputs": [],
   "source": [
    "import ipyniivue\n",
    "\n",
    "%pip install nibabel\n",
    "import nibabel"
   ]
  },
  {
   "cell_type": "code",
   "execution_count": null,
   "id": "730697dc-a332-4649-955f-0b9639548a09",
   "metadata": {
    "tags": []
   },
   "outputs": [],
   "source": [
    "nib = nibabel.load('./demo_images/mni152.nii.gz')\n",
    "\n",
    "nv = ipyniivue.Niivue(crosshair_color=[0,1,0,1])\n",
    "nv.add_object(nib)\n",
    "nv"
   ]
  },
  {
   "cell_type": "code",
   "execution_count": null,
   "id": "b7df4acd-28a7-44eb-a3ae-5f89aeb2a754",
   "metadata": {},
   "outputs": [],
   "source": []
  }
 ],
 "metadata": {
  "kernelspec": {
   "display_name": "Python 3 (ipykernel)",
   "language": "python",
   "name": "python3"
  },
  "language_info": {
   "codemirror_mode": {
    "name": "ipython",
    "version": 3
   },
   "file_extension": ".py",
   "mimetype": "text/x-python",
   "name": "python",
   "nbconvert_exporter": "python",
   "pygments_lexer": "ipython3",
   "version": "3.11.2"
  },
  "widgets": {
   "application/vnd.jupyter.widget-state+json": {
    "state": {},
    "version_major": 2,
    "version_minor": 0
   }
  }
 },
 "nbformat": 4,
 "nbformat_minor": 5
}

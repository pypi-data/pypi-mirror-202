{
 "cells": [
  {
   "cell_type": "markdown",
   "id": "12b177b5-a5d4-4b54-b958-2f94c2a5241f",
   "metadata": {},
   "source": [
    "# Run Custom JavaScript Code\n",
    "The following shows how to run custom JavaScript code from python and get the result. \n",
    "Since the eval runs in `NiivueModel.processCommand` in the TypeScript end, any variable accessible there is accessible through `nv.run_custom_code`.\n",
    "\n",
    "For example, `niivue` refers to the NiiVue library and `this.nv` refers to the initialized niivue.Niivue object in the NiivueModel."
   ]
  },
  {
   "cell_type": "code",
   "execution_count": null,
   "id": "8e9b6aed-4b42-4547-be78-c44f16a81542",
   "metadata": {},
   "outputs": [],
   "source": [
    "import ipyniivue\n",
    "nv = ipyniivue.Niivue()"
   ]
  },
  {
   "cell_type": "markdown",
   "id": "7e721a86-09ed-4b1f-ae9d-9633d20e933b",
   "metadata": {},
   "source": [
    "### Get the colormaps\n",
    "The expected output is a list of strings."
   ]
  },
  {
   "cell_type": "code",
   "execution_count": null,
   "id": "0b2dbe19-fe37-4816-8adf-777bbbd45c96",
   "metadata": {},
   "outputs": [],
   "source": [
    "colormaps = nv.run_custom_code('this.nv.colorMaps()')\n",
    "colormaps"
   ]
  },
  {
   "cell_type": "markdown",
   "id": "4f23fab9-6440-4629-b679-a70f5cd93e84",
   "metadata": {},
   "source": [
    "### Check the file extension"
   ]
  },
  {
   "cell_type": "code",
   "execution_count": null,
   "id": "c0f7be6e-ae1a-4d31-804c-f9c3e7ffbd01",
   "metadata": {},
   "outputs": [],
   "source": [
    "is_pial = nv.run_custom_code('this.nv.isMeshExt(\"test.pial\")')\n",
    "print(is_pial)"
   ]
  },
  {
   "cell_type": "markdown",
   "id": "bad09316-836a-49ef-8350-5bdb9e49f462",
   "metadata": {},
   "source": [
    "### Volumes\n",
    "No volumes have been added yet. The expected output is an empty list."
   ]
  },
  {
   "cell_type": "code",
   "execution_count": null,
   "id": "833b99d5-4da3-4c5d-873e-b341c2d5d0de",
   "metadata": {},
   "outputs": [],
   "source": [
    "volumes = nv.run_custom_code('this.nv.volumes')\n",
    "print(volumes)"
   ]
  },
  {
   "cell_type": "markdown",
   "id": "7c63177f-32bc-47a2-b557-39d40d9800a6",
   "metadata": {},
   "source": [
    "Now let's add a volume. `mni152.nii.gz` is used. We can check the volume id after adding it."
   ]
  },
  {
   "cell_type": "code",
   "execution_count": null,
   "id": "186c92ef-b749-43de-9ab6-13b5a99deb3b",
   "metadata": {},
   "outputs": [],
   "source": [
    "nv.add_volume('./demo_images/mni152.nii.gz')\n",
    "volume_id = nv.run_custom_code('this.nv.volumes[0].id')\n",
    "print(volume_id)"
   ]
  },
  {
   "cell_type": "markdown",
   "id": "2639aae7-3ee0-48b7-a723-1d9951522e60",
   "metadata": {},
   "source": [
    "And let's also get the colormap for this volume."
   ]
  },
  {
   "cell_type": "code",
   "execution_count": null,
   "id": "bcc72c8b-5a7d-446e-9510-ffe404b13886",
   "metadata": {},
   "outputs": [],
   "source": [
    "code = '''\n",
    "var nv = this.nv;\n",
    "function getColorMap() {\n",
    "    var id = nv.volumes[0].id;\n",
    "    return nv.colormap(id);\n",
    "}\n",
    "getColorMap();\n",
    "'''\n",
    "colormap_0 = nv.run_custom_code(code) or []\n",
    "print(len(colormap_0))"
   ]
  },
  {
   "cell_type": "markdown",
   "id": "e7ae282e-5708-4173-84ae-da624773f676",
   "metadata": {},
   "source": [
    "Let's ask for a result with over 10 mb of data. The result is chunked in 5 mb chunks over the websocket. The cell below may take a few seconds or longer to run."
   ]
  },
  {
   "cell_type": "code",
   "execution_count": null,
   "id": "d46df167-8797-4cbd-99cd-b1799e1252e8",
   "metadata": {},
   "outputs": [],
   "source": [
    "volume = nv.run_custom_code('this.nv.cloneVolume(0)') or {}\n",
    "print(len(volume))\n",
    "print(type(volume))"
   ]
  },
  {
   "cell_type": "markdown",
   "id": "dba223db-8edf-4348-ae71-15a91e2ccba3",
   "metadata": {},
   "source": [
    "Finally, let's use the `niivue` library."
   ]
  },
  {
   "cell_type": "code",
   "execution_count": null,
   "id": "1cd98fed-ec9d-4b79-82eb-caad7debe0e8",
   "metadata": {},
   "outputs": [],
   "source": [
    "#the following returns None because it is undefined\n",
    "nv.run_custom_code('niivue.NVImage.DT_RGBA32')\n",
    "\n",
    "#the following returns 2304\n",
    "nv.run_custom_code('''\n",
    "var nv = new niivue.NVImage();\n",
    "nv.DT_RGBA32;\n",
    "''')"
   ]
  },
  {
   "cell_type": "code",
   "execution_count": null,
   "id": "17a4827b-5e71-46e1-8d5a-f1e246170fc2",
   "metadata": {},
   "outputs": [],
   "source": []
  }
 ],
 "metadata": {
  "kernelspec": {
   "display_name": "Python 3 (ipykernel)",
   "language": "python",
   "name": "python3"
  },
  "language_info": {
   "codemirror_mode": {
    "name": "ipython",
    "version": 3
   },
   "file_extension": ".py",
   "mimetype": "text/x-python",
   "name": "python",
   "nbconvert_exporter": "python",
   "pygments_lexer": "ipython3",
   "version": "3.11.2"
  }
 },
 "nbformat": 4,
 "nbformat_minor": 5
}

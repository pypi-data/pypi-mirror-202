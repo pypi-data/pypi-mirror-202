{
 "cells": [
  {
   "cell_type": "markdown",
   "metadata": {},
   "source": [
    "# Performing hyperparameter optimization in the bench class\n"
   ]
  },
  {
   "cell_type": "markdown",
   "metadata": {},
   "source": [
    "For this example we will use a model that consumes pre-computed features.\n",
    "We will use [CatBoost](https://catboost.ai/) which you need to install separately (e.g. using `pip install catboost`).\n",
    "\n",
    "We will use [Optuna](https://optuna.org/) for hyperparameter optimization.\n"
   ]
  },
  {
   "cell_type": "code",
   "execution_count": 1,
   "metadata": {},
   "outputs": [],
   "source": [
    "import optuna\n",
    "from catboost import CatBoostRegressor\n",
    "from sklearn.metrics import mean_squared_error\n",
    "\n",
    "from mofdscribe.bench import LogkHCO2OODBench\n",
    "from mofdscribe.bench.df_model import DFModel\n",
    "from mofdscribe.splitters import HashSplitter\n",
    "from mofdscribe.datasets.core_dataset import CoREDataset"
   ]
  },
  {
   "cell_type": "code",
   "execution_count": 2,
   "metadata": {},
   "outputs": [
    {
     "name": "stderr",
     "output_type": "stream",
     "text": [
      "2022-08-05 14:37:41.532 | DEBUG    | mofdscribe.datasets.core_dataset:__init__:125 - Dropped 3227 duplicate basenames. New length 2166\n",
      "2022-08-05 14:37:41.620 | DEBUG    | mofdscribe.datasets.core_dataset:__init__:131 - Dropped 62 duplicate graphs. New length 2104\n"
     ]
    }
   ],
   "source": [
    "ds = CoREDataset()  \n",
    "\n",
    "FEATURES = list(ds.available_features) \n",
    "\n",
    "TARGET = \"outputs.logKH_CO2\"\n"
   ]
  },
  {
   "cell_type": "markdown",
   "metadata": {},
   "source": [
    "## Make sure we can make it work outside MOFBench\n"
   ]
  },
  {
   "cell_type": "code",
   "execution_count": 3,
   "metadata": {},
   "outputs": [],
   "source": [
    "def tune(train_data, valid_data, num_trials=10):\n",
    "    def objective(trial):\n",
    "        param = {\n",
    "            \"colsample_bylevel\": trial.suggest_float(\"colsample_bylevel\", 0.01, 0.1, log=True),\n",
    "            \"depth\": trial.suggest_int(\"depth\", 1, 16),\n",
    "            \"iterations\": trial.suggest_int(\"iterations\", 1, 10000),\n",
    "            \"learning_rate\": trial.suggest_float(\"learning_rate\", 0.001, 0.5, log=True),\n",
    "            \"l2_leaf_reg\": trial.suggest_float(\"l2_leaf_reg\", 0.01, 10),\n",
    "            \"random_strength\": trial.suggest_float(\"random_strength\", 0.01, 10),\n",
    "            \"bagging_temperature\": trial.suggest_float(\"bagging_temperature\", 0.01, 10),\n",
    "        }\n",
    "        model = CatBoostRegressor(\n",
    "            **param,\n",
    "            silent=True,\n",
    "        )\n",
    "        model.fit(train_data[0], train_data[1])\n",
    "\n",
    "        predictions = model.predict(valid_data[0])\n",
    "        mse = mean_squared_error(valid_data[1], predictions)\n",
    "        return mse\n",
    "\n",
    "    study = optuna.create_study(\n",
    "        pruner=optuna.pruners.MedianPruner(n_warmup_steps=5), direction=\"minimize\"\n",
    "    )\n",
    "    study.optimize(\n",
    "        objective,\n",
    "        n_trials=num_trials,\n",
    "        timeout=600,\n",
    "        callbacks=[],  # WeightsAndBiasesCallback(wandb_kwargs==wandb_kwargs) can be nice to use\n",
    "    )\n",
    "    model = CatBoostRegressor(\n",
    "        **study.best_params,\n",
    "        silent=True,\n",
    "    )\n",
    "\n",
    "    model.fit(train_data[0], train_data[1])\n",
    "\n",
    "    return model\n"
   ]
  },
  {
   "cell_type": "markdown",
   "metadata": {},
   "source": [
    "The following lines are solely for the purpose of debugging!\n"
   ]
  },
  {
   "cell_type": "code",
   "execution_count": 4,
   "metadata": {},
   "outputs": [
    {
     "name": "stderr",
     "output_type": "stream",
     "text": [
      "2022-08-05 14:37:49.103 | DEBUG    | mofdscribe.datasets.core_dataset:__init__:125 - Dropped 3227 duplicate basenames. New length 2166\n",
      "2022-08-05 14:37:49.199 | DEBUG    | mofdscribe.datasets.core_dataset:__init__:131 - Dropped 62 duplicate graphs. New length 2104\n",
      "2022-08-05 14:37:53.499 | DEBUG    | mofdscribe.datasets.core_dataset:__init__:125 - Dropped 3227 duplicate basenames. New length 2166\n",
      "2022-08-05 14:37:53.537 | DEBUG    | mofdscribe.datasets.core_dataset:__init__:131 - Dropped 62 duplicate graphs. New length 2104\n",
      "2022-08-05 14:37:53.548 | DEBUG    | mofdscribe.splitters.splitters:__init__:116 - Splitter settings | shuffle True, random state None, sample frac 1.0, q (0, 0.25, 0.5, 0.75, 1)\n"
     ]
    }
   ],
   "source": [
    "df = LogkHCO2OODBench(None)._ds._df\n"
   ]
  },
  {
   "cell_type": "code",
   "execution_count": 5,
   "metadata": {},
   "outputs": [],
   "source": [
    "part_1 = df.iloc[:100]\n",
    "part_2 = df.iloc[100:200]\n"
   ]
  },
  {
   "cell_type": "code",
   "execution_count": 6,
   "metadata": {},
   "outputs": [
    {
     "name": "stderr",
     "output_type": "stream",
     "text": [
      "\u001b[32m[I 2022-08-05 14:38:33,761]\u001b[0m A new study created in memory with name: no-name-e4a912ef-5ee2-4f6e-9ee4-cdf8da5e51d6\u001b[0m\n",
      "\u001b[32m[I 2022-08-05 14:41:17,306]\u001b[0m Trial 0 finished with value: 0.9928974128555632 and parameters: {'colsample_bylevel': 0.04916021967521814, 'depth': 10, 'iterations': 6508, 'learning_rate': 0.26292081565880115, 'l2_leaf_reg': 9.302100409349237, 'random_strength': 1.4880347676087942, 'bagging_temperature': 9.253479940692216}. Best is trial 0 with value: 0.9928974128555632.\u001b[0m\n",
      "\u001b[32m[I 2022-08-05 15:02:20,466]\u001b[0m Trial 1 finished with value: 1.0796535748049636 and parameters: {'colsample_bylevel': 0.06872108685419895, 'depth': 16, 'iterations': 3200, 'learning_rate': 0.04532176566972099, 'l2_leaf_reg': 1.4199906094824046, 'random_strength': 9.285762721519504, 'bagging_temperature': 2.8458182059019452}. Best is trial 0 with value: 0.9928974128555632.\u001b[0m\n"
     ]
    }
   ],
   "source": [
    "model = tune((part_1[FEATURES], part_1[TARGET]), (part_2[FEATURES], part_2[TARGET]))\n"
   ]
  },
  {
   "cell_type": "markdown",
   "metadata": {},
   "source": [
    "This seems to work.\n"
   ]
  },
  {
   "cell_type": "markdown",
   "metadata": {},
   "source": [
    "Let's see how we implement this in a `MOFBench` class using a `mofdscribe` splitter.\n"
   ]
  },
  {
   "cell_type": "markdown",
   "metadata": {},
   "source": [
    "In this example we really want to avoid data leakage and hence will also use the `HashSplitter` in the inner loop.\n",
    "Doing so is relatively easy as we can construct new datasets that we can use in splitters using the `get_subset` method of the datasets.\n"
   ]
  },
  {
   "cell_type": "code",
   "execution_count": 26,
   "metadata": {},
   "outputs": [],
   "source": [
    "class MyCatBoostModel:\n",
    "    def __init__(self, features=FEATURES, num_trials=10):\n",
    "        self.features = features\n",
    "        self.model = CatBoostRegressor()\n",
    "        self.num_trials = num_trials\n",
    "\n",
    "    def tune(self, idx, y):\n",
    "        tune_splitter = HashSplitter(self.ds.get_subset(idx))\n",
    "        # we will now use a simple split in two parts,\n",
    "        # however, you could also use a k-fold in the tune method\n",
    "        train_idx_, valid_idx_ = tune_splitter.train_test_split(0.8)\n",
    "        train_idx = idx[train_idx_]\n",
    "        valid_idx = idx[valid_idx_]\n",
    "        train_data = (self.ds._df.iloc[train_idx][self.features], y[train_idx_])\n",
    "        valid_data = (self.ds._df.iloc[valid_idx][self.features], y[valid_idx_])\n",
    "        self.model = tune(train_data, valid_data, self.num_trials)\n",
    "\n",
    "    def fit(self, idx, structures, y):\n",
    "        self.tune(idx, y)\n",
    "        X = self.ds._df.iloc[idx][self.features]\n",
    "        self.model.fit(X, y)\n",
    "\n",
    "    def predict(self, idx, structures):\n",
    "        X = self.ds._df.iloc[idx][self.features]\n",
    "        pred = self.model.predict(X)\n",
    "        return pred\n"
   ]
  },
  {
   "cell_type": "code",
   "execution_count": 16,
   "metadata": {},
   "outputs": [
    {
     "name": "stderr",
     "output_type": "stream",
     "text": [
      "2022-08-04 15:44:19.025 | DEBUG    | mofdscribe.datasets.core_dataset:__init__:123 - Dropped 639 duplicate basenames. New length 8182\n",
      "2022-08-04 15:44:19.034 | DEBUG    | mofdscribe.datasets.core_dataset:__init__:129 - Dropped 1312 duplicate graphs. New length 6870\n",
      "2022-08-04 15:44:19.948 | DEBUG    | mofdscribe.datasets.core_dataset:__init__:123 - Dropped 639 duplicate basenames. New length 8182\n",
      "2022-08-04 15:44:19.959 | DEBUG    | mofdscribe.datasets.core_dataset:__init__:129 - Dropped 1312 duplicate graphs. New length 6870\n",
      "2022-08-04 15:44:19.981 | DEBUG    | mofdscribe.splitters.splitters:__init__:116 - Splitter settings | shuffle True, random state None, sample frac 0.01, q (0, 0.25, 0.5, 0.75, 1)\n"
     ]
    }
   ],
   "source": [
    "bench = LogkHCO2OODBench(\n",
    "    MyCatBoostModel(), name=\"my model\", features=\" ,\".join(FEATURES), patch_in_ds=True, debug=True\n",
    ")\n"
   ]
  },
  {
   "cell_type": "code",
   "execution_count": 17,
   "metadata": {},
   "outputs": [
    {
     "name": "stderr",
     "output_type": "stream",
     "text": [
      "2022-08-04 15:44:20.129 | DEBUG    | mofdscribe.bench.mofbench:_score:230 - K-fold round 0, 54 train points, 13 test points\n",
      "2022-08-04 15:44:21.065 | DEBUG    | mofdscribe.datasets.core_dataset:__init__:123 - Dropped 639 duplicate basenames. New length 8182\n",
      "2022-08-04 15:44:21.076 | DEBUG    | mofdscribe.datasets.core_dataset:__init__:129 - Dropped 1312 duplicate graphs. New length 6870\n",
      "2022-08-04 15:44:21.083 | DEBUG    | mofdscribe.splitters.splitters:__init__:116 - Splitter settings | shuffle True, random state None, sample frac 1.0, q (0, 0.25, 0.5, 0.75, 1)\n",
      "2022-08-04 15:44:21.084 | DEBUG    | mofdscribe.splitters.utils:check_fraction:429 - Using fractions: train: 0.7, valid: 0, test: 0.30000000000000004\n",
      "2022-08-04 15:44:21.084 | DEBUG    | mofdscribe.splitters.splitters:train_test_split:159 - Using grouped partition\n",
      "\u001b[32m[I 2022-08-04 15:44:21,086]\u001b[0m A new study created in memory with name: no-name-5816ed5a-12b7-49a3-87f8-80c6694becff\u001b[0m\n",
      "\u001b[32m[I 2022-08-04 15:44:22,559]\u001b[0m Trial 0 finished with value: 1.5184188517482504 and parameters: {'colsample_bylevel': 0.018889623616468804, 'depth': 8, 'iterations': 3410, 'learning_rate': 0.009531903223257311, 'l2_leaf_reg': 1.8239286270787374, 'random_strength': 0.35506325465591737, 'bagging_temperature': 6.577407144048756}. Best is trial 0 with value: 1.5184188517482504.\u001b[0m\n",
      "\u001b[32m[I 2022-08-04 15:44:25,076]\u001b[0m Trial 1 finished with value: 1.7253514471486973 and parameters: {'colsample_bylevel': 0.07856806405281096, 'depth': 4, 'iterations': 5998, 'learning_rate': 0.2659193228872567, 'l2_leaf_reg': 1.6150360810412765, 'random_strength': 8.367671014356088, 'bagging_temperature': 6.347130997303228}. Best is trial 0 with value: 1.5184188517482504.\u001b[0m\n",
      "\u001b[32m[I 2022-08-04 15:44:36,624]\u001b[0m Trial 2 finished with value: 1.3808627520440386 and parameters: {'colsample_bylevel': 0.03242535804041285, 'depth': 15, 'iterations': 6246, 'learning_rate': 0.17318221244373763, 'l2_leaf_reg': 7.869555897634878, 'random_strength': 2.635966131837462, 'bagging_temperature': 3.7929166414265056}. Best is trial 2 with value: 1.3808627520440386.\u001b[0m\n",
      "\u001b[32m[I 2022-08-04 15:44:44,535]\u001b[0m Trial 3 finished with value: 1.4324703335814233 and parameters: {'colsample_bylevel': 0.03174887956722597, 'depth': 16, 'iterations': 6244, 'learning_rate': 0.0021058863030304514, 'l2_leaf_reg': 9.350626547581781, 'random_strength': 3.4652707426645124, 'bagging_temperature': 7.413222224869198}. Best is trial 2 with value: 1.3808627520440386.\u001b[0m\n",
      "\u001b[32m[I 2022-08-04 15:44:45,862]\u001b[0m Trial 4 finished with value: 1.5424117382183593 and parameters: {'colsample_bylevel': 0.013913208137627227, 'depth': 7, 'iterations': 5503, 'learning_rate': 0.005131130657594875, 'l2_leaf_reg': 9.0365442469679, 'random_strength': 5.00075875036251, 'bagging_temperature': 8.300564911076476}. Best is trial 2 with value: 1.3808627520440386.\u001b[0m\n",
      "\u001b[32m[I 2022-08-04 15:44:47,837]\u001b[0m Trial 5 finished with value: 1.5323701267730876 and parameters: {'colsample_bylevel': 0.012647834744686772, 'depth': 11, 'iterations': 7100, 'learning_rate': 0.08799820565670952, 'l2_leaf_reg': 9.820907949717025, 'random_strength': 5.136924267956174, 'bagging_temperature': 6.418517675393227}. Best is trial 2 with value: 1.3808627520440386.\u001b[0m\n",
      "\u001b[32m[I 2022-08-04 15:44:48,360]\u001b[0m Trial 6 finished with value: 1.8399924105498198 and parameters: {'colsample_bylevel': 0.011681565678326981, 'depth': 1, 'iterations': 8606, 'learning_rate': 0.10156046468427689, 'l2_leaf_reg': 2.2576608090828465, 'random_strength': 0.13075897490900418, 'bagging_temperature': 3.1261378449357347}. Best is trial 2 with value: 1.3808627520440386.\u001b[0m\n",
      "\u001b[32m[I 2022-08-04 15:44:48,670]\u001b[0m Trial 7 finished with value: 1.4266540421490959 and parameters: {'colsample_bylevel': 0.046856633072094034, 'depth': 8, 'iterations': 310, 'learning_rate': 0.002969588414208903, 'l2_leaf_reg': 0.17990700361321724, 'random_strength': 6.718343525064666, 'bagging_temperature': 0.46615864171703275}. Best is trial 2 with value: 1.3808627520440386.\u001b[0m\n",
      "\u001b[32m[I 2022-08-04 15:45:01,415]\u001b[0m Trial 8 finished with value: 1.4123896037351569 and parameters: {'colsample_bylevel': 0.042040540922828565, 'depth': 13, 'iterations': 7935, 'learning_rate': 0.0018185230012246966, 'l2_leaf_reg': 6.6066948350311785, 'random_strength': 3.408769923702828, 'bagging_temperature': 6.048431948356739}. Best is trial 2 with value: 1.3808627520440386.\u001b[0m\n",
      "\u001b[32m[I 2022-08-04 15:45:09,788]\u001b[0m Trial 9 finished with value: 1.4785541692949025 and parameters: {'colsample_bylevel': 0.0637915190432203, 'depth': 14, 'iterations': 3420, 'learning_rate': 0.013576957192192339, 'l2_leaf_reg': 2.7786399611614407, 'random_strength': 8.059388378739747, 'bagging_temperature': 9.77175802849212}. Best is trial 2 with value: 1.3808627520440386.\u001b[0m\n",
      "2022-08-04 15:45:41.386 | DEBUG    | mofdscribe.bench.mofbench:_score:230 - K-fold round 1, 54 train points, 13 test points\n"
     ]
    },
    {
     "name": "stdout",
     "output_type": "stream",
     "text": [
      "[-3.61860741 -3.7046139  -3.58547182 -3.70272673 -2.78660819 -3.55187778\n",
      " -3.55935148 -3.41970087 -2.75539022 -3.68527742 -3.81238797 -3.19262452\n",
      " -3.13289448]\n"
     ]
    },
    {
     "name": "stderr",
     "output_type": "stream",
     "text": [
      "2022-08-04 15:45:42.364 | DEBUG    | mofdscribe.datasets.core_dataset:__init__:123 - Dropped 639 duplicate basenames. New length 8182\n",
      "2022-08-04 15:45:42.374 | DEBUG    | mofdscribe.datasets.core_dataset:__init__:129 - Dropped 1312 duplicate graphs. New length 6870\n",
      "2022-08-04 15:45:42.381 | DEBUG    | mofdscribe.splitters.splitters:__init__:116 - Splitter settings | shuffle True, random state None, sample frac 1.0, q (0, 0.25, 0.5, 0.75, 1)\n",
      "2022-08-04 15:45:42.381 | DEBUG    | mofdscribe.splitters.utils:check_fraction:429 - Using fractions: train: 0.7, valid: 0, test: 0.30000000000000004\n",
      "2022-08-04 15:45:42.382 | DEBUG    | mofdscribe.splitters.splitters:train_test_split:159 - Using grouped partition\n",
      "\u001b[32m[I 2022-08-04 15:45:42,384]\u001b[0m A new study created in memory with name: no-name-c05fbc0b-1c0b-4ea8-ac19-ec6f615ac4bd\u001b[0m\n",
      "\u001b[32m[I 2022-08-04 15:45:45,253]\u001b[0m Trial 0 finished with value: 0.7889371030146659 and parameters: {'colsample_bylevel': 0.02248339281894256, 'depth': 8, 'iterations': 5194, 'learning_rate': 0.07687148576751897, 'l2_leaf_reg': 7.074244117107132, 'random_strength': 4.250014446708891, 'bagging_temperature': 1.5948914007987574}. Best is trial 0 with value: 0.7889371030146659.\u001b[0m\n",
      "\u001b[32m[I 2022-08-04 15:45:56,129]\u001b[0m Trial 1 finished with value: 0.9067245387775467 and parameters: {'colsample_bylevel': 0.053902323749449456, 'depth': 10, 'iterations': 8055, 'learning_rate': 0.25554641923928123, 'l2_leaf_reg': 3.4732006487438927, 'random_strength': 2.3403656212676234, 'bagging_temperature': 3.5606109369306296}. Best is trial 0 with value: 0.7889371030146659.\u001b[0m\n",
      "\u001b[32m[I 2022-08-04 15:45:57,716]\u001b[0m Trial 2 finished with value: 0.9235130635621462 and parameters: {'colsample_bylevel': 0.04197868915704591, 'depth': 5, 'iterations': 3331, 'learning_rate': 0.0014106612142529703, 'l2_leaf_reg': 5.517402883070037, 'random_strength': 2.992418104147, 'bagging_temperature': 7.296445127276293}. Best is trial 0 with value: 0.7889371030146659.\u001b[0m\n",
      "\u001b[32m[I 2022-08-04 15:46:08,677]\u001b[0m Trial 3 finished with value: 0.8636915086767306 and parameters: {'colsample_bylevel': 0.07325966528475564, 'depth': 14, 'iterations': 5071, 'learning_rate': 0.00432106742750873, 'l2_leaf_reg': 6.26740320486058, 'random_strength': 0.48827853599494514, 'bagging_temperature': 0.4970989288581391}. Best is trial 0 with value: 0.7889371030146659.\u001b[0m\n",
      "\u001b[32m[I 2022-08-04 15:46:08,760]\u001b[0m Trial 4 finished with value: 0.765995040398299 and parameters: {'colsample_bylevel': 0.0678817659292243, 'depth': 2, 'iterations': 457, 'learning_rate': 0.1487623827110677, 'l2_leaf_reg': 3.252350052478492, 'random_strength': 1.509369421689585, 'bagging_temperature': 2.7112590760116464}. Best is trial 4 with value: 0.765995040398299.\u001b[0m\n",
      "\u001b[32m[I 2022-08-04 15:46:10,787]\u001b[0m Trial 5 finished with value: 0.8362970210988947 and parameters: {'colsample_bylevel': 0.010287383614858219, 'depth': 9, 'iterations': 9887, 'learning_rate': 0.009315237677325824, 'l2_leaf_reg': 1.4737645980925473, 'random_strength': 1.782350736171564, 'bagging_temperature': 7.786962217254311}. Best is trial 4 with value: 0.765995040398299.\u001b[0m\n",
      "\u001b[32m[I 2022-08-04 15:46:11,381]\u001b[0m Trial 6 finished with value: 0.7569041881127471 and parameters: {'colsample_bylevel': 0.02998386151067814, 'depth': 1, 'iterations': 8269, 'learning_rate': 0.2409067898917259, 'l2_leaf_reg': 5.763993160514981, 'random_strength': 7.663723088366486, 'bagging_temperature': 2.8613693352834857}. Best is trial 6 with value: 0.7569041881127471.\u001b[0m\n",
      "\u001b[32m[I 2022-08-04 15:46:14,422]\u001b[0m Trial 7 finished with value: 0.8576917628466972 and parameters: {'colsample_bylevel': 0.01872572576981262, 'depth': 12, 'iterations': 4961, 'learning_rate': 0.01581958127150181, 'l2_leaf_reg': 1.5241172397727063, 'random_strength': 0.5391031604633925, 'bagging_temperature': 5.453561526132761}. Best is trial 6 with value: 0.7569041881127471.\u001b[0m\n",
      "\u001b[32m[I 2022-08-04 15:46:14,629]\u001b[0m Trial 8 finished with value: 1.0356212794772923 and parameters: {'colsample_bylevel': 0.010002093566695718, 'depth': 8, 'iterations': 1550, 'learning_rate': 0.0021765966925061946, 'l2_leaf_reg': 8.528826940776066, 'random_strength': 6.365089193406665, 'bagging_temperature': 9.91812889770032}. Best is trial 6 with value: 0.7569041881127471.\u001b[0m\n",
      "\u001b[32m[I 2022-08-04 15:46:20,200]\u001b[0m Trial 9 finished with value: 0.8104121015363085 and parameters: {'colsample_bylevel': 0.02374061165969068, 'depth': 8, 'iterations': 9745, 'learning_rate': 0.003891379413696543, 'l2_leaf_reg': 6.363189829939829, 'random_strength': 2.0818545961971044, 'bagging_temperature': 4.809911715706867}. Best is trial 6 with value: 0.7569041881127471.\u001b[0m\n",
      "2022-08-04 15:46:21.806 | DEBUG    | mofdscribe.bench.mofbench:_score:230 - K-fold round 2, 54 train points, 13 test points\n"
     ]
    },
    {
     "name": "stdout",
     "output_type": "stream",
     "text": [
      "[-4.05266121 -3.23464762 -2.70226256 -2.82330667 -3.97407216 -2.20919676\n",
      " -2.30515831 -2.84212156 -3.12909018 -3.95068338 -2.08661299 -3.80340152\n",
      " -4.47927697]\n"
     ]
    },
    {
     "name": "stderr",
     "output_type": "stream",
     "text": [
      "2022-08-04 15:46:22.720 | DEBUG    | mofdscribe.datasets.core_dataset:__init__:123 - Dropped 639 duplicate basenames. New length 8182\n",
      "2022-08-04 15:46:22.730 | DEBUG    | mofdscribe.datasets.core_dataset:__init__:129 - Dropped 1312 duplicate graphs. New length 6870\n",
      "2022-08-04 15:46:22.737 | DEBUG    | mofdscribe.splitters.splitters:__init__:116 - Splitter settings | shuffle True, random state None, sample frac 1.0, q (0, 0.25, 0.5, 0.75, 1)\n",
      "2022-08-04 15:46:22.738 | DEBUG    | mofdscribe.splitters.utils:check_fraction:429 - Using fractions: train: 0.7, valid: 0, test: 0.30000000000000004\n",
      "2022-08-04 15:46:22.738 | DEBUG    | mofdscribe.splitters.splitters:train_test_split:159 - Using grouped partition\n",
      "\u001b[32m[I 2022-08-04 15:46:22,740]\u001b[0m A new study created in memory with name: no-name-5261ed92-d040-4ec7-ba6d-2b8904f78c64\u001b[0m\n",
      "\u001b[32m[I 2022-08-04 15:46:23,175]\u001b[0m Trial 0 finished with value: 0.9654515919255807 and parameters: {'colsample_bylevel': 0.01997304386801485, 'depth': 4, 'iterations': 2265, 'learning_rate': 0.019711489130209654, 'l2_leaf_reg': 0.33367560723190093, 'random_strength': 1.1066431867219124, 'bagging_temperature': 0.5064248675214705}. Best is trial 0 with value: 0.9654515919255807.\u001b[0m\n",
      "\u001b[32m[I 2022-08-04 15:46:23,979]\u001b[0m Trial 1 finished with value: 0.9500328718675046 and parameters: {'colsample_bylevel': 0.010845920595722508, 'depth': 12, 'iterations': 4456, 'learning_rate': 0.25837361991733504, 'l2_leaf_reg': 7.113845719504071, 'random_strength': 6.900806211241621, 'bagging_temperature': 0.3759006898029646}. Best is trial 1 with value: 0.9500328718675046.\u001b[0m\n",
      "\u001b[32m[I 2022-08-04 15:46:25,632]\u001b[0m Trial 2 finished with value: 0.9643456329608984 and parameters: {'colsample_bylevel': 0.015864138814537722, 'depth': 13, 'iterations': 3664, 'learning_rate': 0.042874352015767433, 'l2_leaf_reg': 5.280823208804748, 'random_strength': 5.730174862215834, 'bagging_temperature': 5.251673976581214}. Best is trial 1 with value: 0.9500328718675046.\u001b[0m\n",
      "\u001b[32m[I 2022-08-04 15:46:25,802]\u001b[0m Trial 3 finished with value: 0.997573475614294 and parameters: {'colsample_bylevel': 0.0119272762029356, 'depth': 1, 'iterations': 2895, 'learning_rate': 0.034608221621405234, 'l2_leaf_reg': 7.517845762145334, 'random_strength': 8.376033647732376, 'bagging_temperature': 9.938578556837298}. Best is trial 1 with value: 0.9500328718675046.\u001b[0m\n",
      "\u001b[32m[I 2022-08-04 15:46:25,929]\u001b[0m Trial 4 finished with value: 0.9524774622236986 and parameters: {'colsample_bylevel': 0.018294560229909638, 'depth': 1, 'iterations': 1699, 'learning_rate': 0.0526758534379345, 'l2_leaf_reg': 8.203729674054612, 'random_strength': 2.4821203551869173, 'bagging_temperature': 7.942347775458628}. Best is trial 1 with value: 0.9500328718675046.\u001b[0m\n",
      "\u001b[32m[I 2022-08-04 15:46:28,416]\u001b[0m Trial 5 finished with value: 0.9273688605222673 and parameters: {'colsample_bylevel': 0.017490310726812775, 'depth': 5, 'iterations': 9777, 'learning_rate': 0.020914808267028767, 'l2_leaf_reg': 9.336802854443015, 'random_strength': 6.6811282399746945, 'bagging_temperature': 5.839695314174243}. Best is trial 5 with value: 0.9273688605222673.\u001b[0m\n",
      "\u001b[32m[I 2022-08-04 15:46:28,553]\u001b[0m Trial 6 finished with value: 0.8539803771610699 and parameters: {'colsample_bylevel': 0.012231779225055812, 'depth': 1, 'iterations': 2526, 'learning_rate': 0.15008706649300532, 'l2_leaf_reg': 0.1669071403390752, 'random_strength': 6.255722696778821, 'bagging_temperature': 1.2526509800022014}. Best is trial 6 with value: 0.8539803771610699.\u001b[0m\n",
      "\u001b[32m[I 2022-08-04 15:46:28,658]\u001b[0m Trial 7 finished with value: 1.0122761177777098 and parameters: {'colsample_bylevel': 0.013314248940287958, 'depth': 15, 'iterations': 364, 'learning_rate': 0.027370583235118526, 'l2_leaf_reg': 1.627644646630132, 'random_strength': 7.423630482141499, 'bagging_temperature': 5.912089169318216}. Best is trial 6 with value: 0.8539803771610699.\u001b[0m\n",
      "\u001b[32m[I 2022-08-04 15:46:31,485]\u001b[0m Trial 8 finished with value: 0.8884895123731138 and parameters: {'colsample_bylevel': 0.08745679173943505, 'depth': 7, 'iterations': 3471, 'learning_rate': 0.06378220455735514, 'l2_leaf_reg': 8.031465771938855, 'random_strength': 0.22235241272546147, 'bagging_temperature': 1.5746069933556734}. Best is trial 6 with value: 0.8539803771610699.\u001b[0m\n",
      "\u001b[32m[I 2022-08-04 15:46:32,101]\u001b[0m Trial 9 finished with value: 0.9098356548909992 and parameters: {'colsample_bylevel': 0.015630730708657586, 'depth': 1, 'iterations': 9127, 'learning_rate': 0.36458761434841713, 'l2_leaf_reg': 9.073445122995183, 'random_strength': 5.495639605039682, 'bagging_temperature': 4.639780114481511}. Best is trial 6 with value: 0.8539803771610699.\u001b[0m\n",
      "2022-08-04 15:46:32.456 | DEBUG    | mofdscribe.bench.mofbench:_score:230 - K-fold round 3, 54 train points, 13 test points\n"
     ]
    },
    {
     "name": "stdout",
     "output_type": "stream",
     "text": [
      "[-3.04296752 -2.89693127 -3.12098484 -3.84862189 -2.25986282 -2.54504573\n",
      " -3.65971382 -2.2243226  -2.46030072 -2.64395391 -2.86685446 -3.71098824\n",
      " -3.94197044]\n"
     ]
    },
    {
     "name": "stderr",
     "output_type": "stream",
     "text": [
      "2022-08-04 15:46:33.374 | DEBUG    | mofdscribe.datasets.core_dataset:__init__:123 - Dropped 639 duplicate basenames. New length 8182\n",
      "2022-08-04 15:46:33.385 | DEBUG    | mofdscribe.datasets.core_dataset:__init__:129 - Dropped 1312 duplicate graphs. New length 6870\n",
      "2022-08-04 15:46:33.391 | DEBUG    | mofdscribe.splitters.splitters:__init__:116 - Splitter settings | shuffle True, random state None, sample frac 1.0, q (0, 0.25, 0.5, 0.75, 1)\n",
      "2022-08-04 15:46:33.391 | DEBUG    | mofdscribe.splitters.utils:check_fraction:429 - Using fractions: train: 0.7, valid: 0, test: 0.30000000000000004\n",
      "2022-08-04 15:46:33.392 | DEBUG    | mofdscribe.splitters.splitters:train_test_split:159 - Using grouped partition\n",
      "\u001b[32m[I 2022-08-04 15:46:33,393]\u001b[0m A new study created in memory with name: no-name-12d0e11d-eb5a-41f0-b63e-2134eb4ae2cb\u001b[0m\n",
      "\u001b[32m[I 2022-08-04 15:46:41,254]\u001b[0m Trial 0 finished with value: 2.7885410941153683 and parameters: {'colsample_bylevel': 0.023727644142140212, 'depth': 15, 'iterations': 6849, 'learning_rate': 0.22713652762415637, 'l2_leaf_reg': 6.73765701485301, 'random_strength': 3.546079595448144, 'bagging_temperature': 2.8593923620972856}. Best is trial 0 with value: 2.7885410941153683.\u001b[0m\n",
      "\u001b[32m[I 2022-08-04 15:46:43,795]\u001b[0m Trial 1 finished with value: 2.7344972997780213 and parameters: {'colsample_bylevel': 0.0681422065128034, 'depth': 6, 'iterations': 3768, 'learning_rate': 0.17267298987551463, 'l2_leaf_reg': 9.710652744247202, 'random_strength': 8.597488022865853, 'bagging_temperature': 9.559338789999705}. Best is trial 1 with value: 2.7344972997780213.\u001b[0m\n",
      "\u001b[32m[I 2022-08-04 15:46:45,366]\u001b[0m Trial 2 finished with value: 3.11421963355869 and parameters: {'colsample_bylevel': 0.033798382079650344, 'depth': 8, 'iterations': 1778, 'learning_rate': 0.41346153463340013, 'l2_leaf_reg': 4.5486153347344045, 'random_strength': 4.004670285867252, 'bagging_temperature': 8.175178285778552}. Best is trial 1 with value: 2.7344972997780213.\u001b[0m\n",
      "\u001b[32m[I 2022-08-04 15:46:52,132]\u001b[0m Trial 3 finished with value: 2.6175407380486027 and parameters: {'colsample_bylevel': 0.07310603481694702, 'depth': 16, 'iterations': 2842, 'learning_rate': 0.11999889824684236, 'l2_leaf_reg': 8.410909641921506, 'random_strength': 9.537660780457498, 'bagging_temperature': 4.558943294048517}. Best is trial 3 with value: 2.6175407380486027.\u001b[0m\n",
      "\u001b[32m[I 2022-08-04 15:46:52,760]\u001b[0m Trial 4 finished with value: 2.5374540447889786 and parameters: {'colsample_bylevel': 0.013548655648172151, 'depth': 3, 'iterations': 5027, 'learning_rate': 0.0018726029133427533, 'l2_leaf_reg': 1.295218373653692, 'random_strength': 8.550422224268615, 'bagging_temperature': 3.7515168369647425}. Best is trial 4 with value: 2.5374540447889786.\u001b[0m\n",
      "\u001b[32m[I 2022-08-04 15:46:54,740]\u001b[0m Trial 5 finished with value: 2.5326987748872165 and parameters: {'colsample_bylevel': 0.013138958085785581, 'depth': 10, 'iterations': 7498, 'learning_rate': 0.08943173666805931, 'l2_leaf_reg': 5.810638761810259, 'random_strength': 7.200724247197088, 'bagging_temperature': 4.3961697806258915}. Best is trial 5 with value: 2.5326987748872165.\u001b[0m\n",
      "\u001b[32m[I 2022-08-04 15:46:55,071]\u001b[0m Trial 6 finished with value: 2.2634181583673847 and parameters: {'colsample_bylevel': 0.011530061298676451, 'depth': 1, 'iterations': 6369, 'learning_rate': 0.45385450591775756, 'l2_leaf_reg': 5.131186132432373, 'random_strength': 6.068886121940277, 'bagging_temperature': 1.850906612022182}. Best is trial 6 with value: 2.2634181583673847.\u001b[0m\n",
      "\u001b[32m[I 2022-08-04 15:46:55,279]\u001b[0m Trial 7 finished with value: 2.742704122641546 and parameters: {'colsample_bylevel': 0.011335325038578427, 'depth': 1, 'iterations': 3477, 'learning_rate': 0.010427542236823097, 'l2_leaf_reg': 0.17433393869198893, 'random_strength': 4.684471904184105, 'bagging_temperature': 2.3281280829340076}. Best is trial 6 with value: 2.2634181583673847.\u001b[0m\n",
      "\u001b[32m[I 2022-08-04 15:46:57,655]\u001b[0m Trial 8 finished with value: 2.5705278947085133 and parameters: {'colsample_bylevel': 0.014922895394485675, 'depth': 7, 'iterations': 9572, 'learning_rate': 0.0013262758267721397, 'l2_leaf_reg': 7.342043350147755, 'random_strength': 2.3741085604776058, 'bagging_temperature': 9.486559649310083}. Best is trial 6 with value: 2.2634181583673847.\u001b[0m\n",
      "\u001b[32m[I 2022-08-04 15:47:14,561]\u001b[0m Trial 9 finished with value: 2.6040529764733362 and parameters: {'colsample_bylevel': 0.04291352499402574, 'depth': 15, 'iterations': 9031, 'learning_rate': 0.010745205559311485, 'l2_leaf_reg': 6.941476632854383, 'random_strength': 1.3327775803178732, 'bagging_temperature': 1.5981463382150236}. Best is trial 6 with value: 2.2634181583673847.\u001b[0m\n",
      "2022-08-04 15:47:15.365 | DEBUG    | mofdscribe.bench.mofbench:_score:230 - K-fold round 4, 54 train points, 13 test points\n"
     ]
    },
    {
     "name": "stdout",
     "output_type": "stream",
     "text": [
      "[-2.85757107 -3.41350249 -3.2915807  -3.11396472 -3.07865049 -3.29083662\n",
      " -3.52789152 -3.88830457 -3.71440638 -2.7160054  -4.1858231  -3.63144649\n",
      " -4.22562457]\n"
     ]
    },
    {
     "name": "stderr",
     "output_type": "stream",
     "text": [
      "2022-08-04 15:47:16.250 | DEBUG    | mofdscribe.datasets.core_dataset:__init__:123 - Dropped 639 duplicate basenames. New length 8182\n",
      "2022-08-04 15:47:16.260 | DEBUG    | mofdscribe.datasets.core_dataset:__init__:129 - Dropped 1312 duplicate graphs. New length 6870\n",
      "2022-08-04 15:47:16.267 | DEBUG    | mofdscribe.splitters.splitters:__init__:116 - Splitter settings | shuffle True, random state None, sample frac 1.0, q (0, 0.25, 0.5, 0.75, 1)\n",
      "2022-08-04 15:47:16.267 | DEBUG    | mofdscribe.splitters.utils:check_fraction:429 - Using fractions: train: 0.7, valid: 0, test: 0.30000000000000004\n",
      "2022-08-04 15:47:16.267 | DEBUG    | mofdscribe.splitters.splitters:train_test_split:159 - Using grouped partition\n",
      "\u001b[32m[I 2022-08-04 15:47:16,269]\u001b[0m A new study created in memory with name: no-name-15d399fe-cf5d-49b7-a2c9-4b204cd9ea51\u001b[0m\n",
      "\u001b[32m[I 2022-08-04 15:47:16,514]\u001b[0m Trial 0 finished with value: 0.6991815496444341 and parameters: {'colsample_bylevel': 0.022695129195569888, 'depth': 1, 'iterations': 3102, 'learning_rate': 0.0020915831672356938, 'l2_leaf_reg': 7.245115242739913, 'random_strength': 1.9728367422668087, 'bagging_temperature': 0.07031088114108726}. Best is trial 0 with value: 0.6991815496444341.\u001b[0m\n",
      "\u001b[32m[I 2022-08-04 15:47:16,813]\u001b[0m Trial 1 finished with value: 0.732775721638444 and parameters: {'colsample_bylevel': 0.02112524074490076, 'depth': 5, 'iterations': 956, 'learning_rate': 0.06897663325448328, 'l2_leaf_reg': 9.329695478770715, 'random_strength': 5.888503225309878, 'bagging_temperature': 3.7379267378690915}. Best is trial 0 with value: 0.6991815496444341.\u001b[0m\n",
      "\u001b[32m[I 2022-08-04 15:47:19,075]\u001b[0m Trial 2 finished with value: 0.7168836567270155 and parameters: {'colsample_bylevel': 0.06472241229908897, 'depth': 8, 'iterations': 2077, 'learning_rate': 0.04325204315445497, 'l2_leaf_reg': 8.607061088530598, 'random_strength': 7.077255334643733, 'bagging_temperature': 3.4430420375928494}. Best is trial 0 with value: 0.6991815496444341.\u001b[0m\n",
      "\u001b[32m[I 2022-08-04 15:47:25,488]\u001b[0m Trial 3 finished with value: 0.7582000862002632 and parameters: {'colsample_bylevel': 0.04915284741306615, 'depth': 11, 'iterations': 3921, 'learning_rate': 0.06972747464439379, 'l2_leaf_reg': 5.642460811114918, 'random_strength': 6.334954843469647, 'bagging_temperature': 8.369824531730801}. Best is trial 0 with value: 0.6991815496444341.\u001b[0m\n",
      "\u001b[32m[I 2022-08-04 15:47:33,477]\u001b[0m Trial 4 finished with value: 0.69809870921599 and parameters: {'colsample_bylevel': 0.041989462879377236, 'depth': 15, 'iterations': 4906, 'learning_rate': 0.11047973127266177, 'l2_leaf_reg': 2.545984689857374, 'random_strength': 0.638896286688503, 'bagging_temperature': 8.822680766891079}. Best is trial 4 with value: 0.69809870921599.\u001b[0m\n",
      "\u001b[32m[I 2022-08-04 15:47:35,039]\u001b[0m Trial 5 finished with value: 0.7617950595171117 and parameters: {'colsample_bylevel': 0.012852265148377338, 'depth': 10, 'iterations': 6473, 'learning_rate': 0.048069431971000776, 'l2_leaf_reg': 6.040589023514179, 'random_strength': 7.254780197294346, 'bagging_temperature': 3.764158882800813}. Best is trial 4 with value: 0.69809870921599.\u001b[0m\n",
      "\u001b[32m[I 2022-08-04 15:47:36,783]\u001b[0m Trial 6 finished with value: 0.6950746773006375 and parameters: {'colsample_bylevel': 0.017959717080215758, 'depth': 4, 'iterations': 8825, 'learning_rate': 0.0019045960087600417, 'l2_leaf_reg': 0.7719303391727448, 'random_strength': 9.513958529311905, 'bagging_temperature': 5.42957852072627}. Best is trial 6 with value: 0.6950746773006375.\u001b[0m\n",
      "\u001b[32m[I 2022-08-04 15:47:37,877]\u001b[0m Trial 7 finished with value: 0.6475154414713136 and parameters: {'colsample_bylevel': 0.0187405678187496, 'depth': 11, 'iterations': 2001, 'learning_rate': 0.3673180109512132, 'l2_leaf_reg': 3.9083638194661225, 'random_strength': 9.104840695066846, 'bagging_temperature': 7.71222325549219}. Best is trial 7 with value: 0.6475154414713136.\u001b[0m\n",
      "\u001b[32m[I 2022-08-04 15:47:39,453]\u001b[0m Trial 8 finished with value: 0.6930983333080369 and parameters: {'colsample_bylevel': 0.012190382500924543, 'depth': 12, 'iterations': 5016, 'learning_rate': 0.0034702047890854634, 'l2_leaf_reg': 0.7999832742292209, 'random_strength': 6.842709434889837, 'bagging_temperature': 5.6299019741282965}. Best is trial 7 with value: 0.6475154414713136.\u001b[0m\n",
      "\u001b[32m[I 2022-08-04 15:47:39,735]\u001b[0m Trial 9 finished with value: 0.841320564878749 and parameters: {'colsample_bylevel': 0.036869896774690186, 'depth': 3, 'iterations': 1184, 'learning_rate': 0.12106723960147038, 'l2_leaf_reg': 0.642818056112463, 'random_strength': 0.746080486874999, 'bagging_temperature': 5.891844444970319}. Best is trial 7 with value: 0.6475154414713136.\u001b[0m\n"
     ]
    },
    {
     "name": "stdout",
     "output_type": "stream",
     "text": [
      "[-3.32927013 -3.23669601 -3.58300431 -3.47583225 -3.04673094 -2.84378802\n",
      " -3.32928865 -3.3407119  -2.39338696 -3.45640047 -3.45613196 -3.49974492\n",
      " -3.95592873]\n"
     ]
    }
   ],
   "source": [
    "result = bench.bench()\n"
   ]
  },
  {
   "cell_type": "code",
   "execution_count": 18,
   "metadata": {},
   "outputs": [
    {
     "data": {
      "text/plain": [
       "BenchResult(start_time=datetime.datetime(2022, 8, 4, 13, 44, 20, 126292, tzinfo=datetime.timezone.utc), end_time=datetime.datetime(2022, 8, 4, 13, 47, 42, 220544, tzinfo=datetime.timezone.utc), metrics=RegressionMetricCollection(regression_metrics=[RegressionMetrics(mean_squared_error=1.324773649885319, mean_absolute_error=0.8438648987836127, r2_score=0.11883897879823824, max_error=2.611841211766282, mean_absolute_percentage_error=0.40289237423713364, top_5_in_top_5=0, top_10_in_top_10=1, top_50_in_top_50=1, top_100_in_top_100=1, top_500_in_top_500=1), RegressionMetrics(mean_squared_error=1.1322879159369008, mean_absolute_error=0.8708695405334369, r2_score=-1.0910638475959717, max_error=2.054046702028823, mean_absolute_percentage_error=0.2462515188629681, top_5_in_top_5=0, top_10_in_top_10=0, top_50_in_top_50=1, top_100_in_top_100=1, top_500_in_top_500=1), RegressionMetrics(mean_squared_error=0.6836588649093175, mean_absolute_error=0.6745806377610815, r2_score=0.3266337006687946, max_error=1.8522609610315337, mean_absolute_percentage_error=0.2331800129001227, top_5_in_top_5=0, top_10_in_top_10=1, top_50_in_top_50=1, top_100_in_top_100=1, top_500_in_top_500=1), RegressionMetrics(mean_squared_error=0.419436529457117, mean_absolute_error=0.5324161111108172, r2_score=-0.26987068560205874, max_error=1.3145483982585398, mean_absolute_percentage_error=0.15880628767045823, top_5_in_top_5=1, top_10_in_top_10=1, top_50_in_top_50=1, top_100_in_top_100=1, top_500_in_top_500=1), RegressionMetrics(mean_squared_error=2.6641007376599695, mean_absolute_error=1.4820493501213614, r2_score=-0.11038064984790541, max_error=2.2857631978873774, mean_absolute_percentage_error=0.7923884952747992, top_5_in_top_5=1, top_10_in_top_10=1, top_50_in_top_50=1, top_100_in_top_100=1, top_500_in_top_500=1)], fit_timings=[81.2497627735138, 40.41386795043945, 10.644263982772827, 42.90207505226135, 26.847751140594482], inference_timings=[0.005924224853515625, 0.004528999328613281, 0.004127979278564453, 0.004592180252075195, 0.005810976028442383]), version='v0.0.1', features='total_POV_gravimetric ,mc_CRY-chi-0-all ,mc_CRY-chi-1-all ,mc_CRY-chi-2-all ,mc_CRY-chi-3-all ,mc_CRY-Z-0-all ,mc_CRY-Z-1-all ,mc_CRY-Z-2-all ,mc_CRY-Z-3-all ,mc_CRY-I-0-all ,mc_CRY-I-1-all ,mc_CRY-I-2-all ,mc_CRY-I-3-all ,mc_CRY-T-0-all ,mc_CRY-T-1-all ,mc_CRY-T-2-all ,mc_CRY-T-3-all ,mc_CRY-S-0-all ,mc_CRY-S-1-all ,mc_CRY-S-2-all ,mc_CRY-S-3-all ,D_mc_CRY-chi-0-all ,D_mc_CRY-chi-1-all ,D_mc_CRY-chi-2-all ,D_mc_CRY-chi-3-all ,D_mc_CRY-Z-0-all ,D_mc_CRY-Z-1-all ,D_mc_CRY-Z-2-all ,D_mc_CRY-Z-3-all ,D_mc_CRY-I-0-all ,D_mc_CRY-I-1-all ,D_mc_CRY-I-2-all ,D_mc_CRY-I-3-all ,D_mc_CRY-T-0-all ,D_mc_CRY-T-1-all ,D_mc_CRY-T-2-all ,D_mc_CRY-T-3-all ,D_mc_CRY-S-0-all ,D_mc_CRY-S-1-all ,D_mc_CRY-S-2-all ,D_mc_CRY-S-3-all ,sum-mc_CRY-chi-0-all ,sum-mc_CRY-chi-1-all ,sum-mc_CRY-chi-2-all ,sum-mc_CRY-chi-3-all ,sum-mc_CRY-Z-0-all ,sum-mc_CRY-Z-1-all ,sum-mc_CRY-Z-2-all ,sum-mc_CRY-Z-3-all ,sum-mc_CRY-I-0-all ,sum-mc_CRY-I-1-all ,sum-mc_CRY-I-2-all ,sum-mc_CRY-I-3-all ,sum-mc_CRY-T-0-all ,sum-mc_CRY-T-1-all ,sum-mc_CRY-T-2-all ,sum-mc_CRY-T-3-all ,sum-mc_CRY-S-0-all ,sum-mc_CRY-S-1-all ,sum-mc_CRY-S-2-all ,sum-mc_CRY-S-3-all ,sum-D_mc_CRY-chi-0-all ,sum-D_mc_CRY-chi-1-all ,sum-D_mc_CRY-chi-2-all ,sum-D_mc_CRY-chi-3-all ,sum-D_mc_CRY-Z-0-all ,sum-D_mc_CRY-Z-1-all ,sum-D_mc_CRY-Z-2-all ,sum-D_mc_CRY-Z-3-all ,sum-D_mc_CRY-I-0-all ,sum-D_mc_CRY-I-1-all ,sum-D_mc_CRY-I-2-all ,sum-D_mc_CRY-I-3-all ,sum-D_mc_CRY-T-0-all ,sum-D_mc_CRY-T-1-all ,sum-D_mc_CRY-T-2-all ,sum-D_mc_CRY-T-3-all ,sum-D_mc_CRY-S-0-all ,sum-D_mc_CRY-S-1-all ,sum-D_mc_CRY-S-2-all ,sum-D_mc_CRY-S-3-all ,D_lc-chi-0-all ,D_lc-chi-1-all ,D_lc-chi-2-all ,D_lc-chi-3-all ,D_lc-Z-0-all ,D_lc-Z-1-all ,D_lc-Z-2-all ,D_lc-Z-3-all ,D_lc-I-0-all ,D_lc-I-1-all ,D_lc-I-2-all ,D_lc-I-3-all ,D_lc-T-0-all ,D_lc-T-1-all ,D_lc-T-2-all ,D_lc-T-3-all ,D_lc-S-0-all ,D_lc-S-1-all ,D_lc-S-2-all ,D_lc-S-3-all ,D_lc-alpha-0-all ,D_lc-alpha-1-all ,D_lc-alpha-2-all ,D_lc-alpha-3-all ,D_func-chi-0-all ,D_func-chi-1-all ,D_func-chi-2-all ,D_func-chi-3-all ,D_func-Z-0-all ,D_func-Z-1-all ,D_func-Z-2-all ,D_func-Z-3-all ,D_func-I-0-all ,D_func-I-1-all ,D_func-I-2-all ,D_func-I-3-all ,D_func-T-0-all ,D_func-T-1-all ,D_func-T-2-all ,D_func-T-3-all ,D_func-S-0-all ,D_func-S-1-all ,D_func-S-2-all ,D_func-S-3-all ,D_func-alpha-0-all ,D_func-alpha-1-all ,D_func-alpha-2-all ,D_func-alpha-3-all ,sum-D_lc-chi-0-all ,sum-D_lc-chi-1-all ,sum-D_lc-chi-2-all ,sum-D_lc-chi-3-all ,sum-D_lc-Z-0-all ,sum-D_lc-Z-1-all ,sum-D_lc-Z-2-all ,sum-D_lc-Z-3-all ,sum-D_lc-I-0-all ,sum-D_lc-I-1-all ,sum-D_lc-I-2-all ,sum-D_lc-I-3-all ,sum-D_lc-T-0-all ,sum-D_lc-T-1-all ,sum-D_lc-T-2-all ,sum-D_lc-T-3-all ,sum-D_lc-S-0-all ,sum-D_lc-S-1-all ,sum-D_lc-S-2-all ,sum-D_lc-S-3-all ,sum-D_lc-alpha-0-all ,sum-D_lc-alpha-1-all ,sum-D_lc-alpha-2-all ,sum-D_lc-alpha-3-all ,sum-D_func-chi-0-all ,sum-D_func-chi-1-all ,sum-D_func-chi-2-all ,sum-D_func-chi-3-all ,sum-D_func-Z-0-all ,sum-D_func-Z-1-all ,sum-D_func-Z-2-all ,sum-D_func-Z-3-all ,sum-D_func-I-0-all ,sum-D_func-I-1-all ,sum-D_func-I-2-all ,sum-D_func-I-3-all ,sum-D_func-T-0-all ,sum-D_func-T-1-all ,sum-D_func-T-2-all ,sum-D_func-T-3-all ,sum-D_func-S-0-all ,sum-D_func-S-1-all ,sum-D_func-S-2-all ,sum-D_func-S-3-all ,sum-D_func-alpha-0-all ,sum-D_func-alpha-1-all ,sum-D_func-alpha-2-all ,sum-D_func-alpha-3-all', name='my model', task=<BenchTaskEnum.logKH_CO2_ext: 'logKH_CO2_ood'>, model_type=None, reference=None, implementation=None, mofdscribe_version='0.0.1-dev')"
      ]
     },
     "execution_count": 18,
     "metadata": {},
     "output_type": "execute_result"
    }
   ],
   "source": [
    "result\n"
   ]
  },
  {
   "cell_type": "markdown",
   "metadata": {},
   "source": [
    "Now, as it ran sucessfully using `debug=True`, we can try a full run.\n"
   ]
  },
  {
   "cell_type": "code",
   "execution_count": 28,
   "metadata": {},
   "outputs": [
    {
     "name": "stderr",
     "output_type": "stream",
     "text": [
      "2022-08-04 17:09:26.970 | DEBUG    | mofdscribe.datasets.core_dataset:__init__:123 - Dropped 639 duplicate basenames. New length 8182\n",
      "2022-08-04 17:09:26.981 | DEBUG    | mofdscribe.datasets.core_dataset:__init__:129 - Dropped 1312 duplicate graphs. New length 6870\n",
      "2022-08-04 17:09:27.934 | DEBUG    | mofdscribe.datasets.core_dataset:__init__:123 - Dropped 639 duplicate basenames. New length 8182\n",
      "2022-08-04 17:09:27.944 | DEBUG    | mofdscribe.datasets.core_dataset:__init__:129 - Dropped 1312 duplicate graphs. New length 6870\n",
      "2022-08-04 17:09:27.969 | DEBUG    | mofdscribe.splitters.splitters:__init__:116 - Splitter settings | shuffle True, random state None, sample frac 1.0, q (0, 0.25, 0.5, 0.75, 1)\n"
     ]
    }
   ],
   "source": [
    "bench = LogkHCO2OODBench(\n",
    "    MyCatBoostModel(num_trials=100),\n",
    "    name=\"my catboost model\",\n",
    "    features=\" ,\".join(FEATURES),\n",
    "    patch_in_ds=True,\n",
    "    debug=False,\n",
    ")\n"
   ]
  },
  {
   "cell_type": "code",
   "execution_count": 29,
   "metadata": {},
   "outputs": [
    {
     "name": "stderr",
     "output_type": "stream",
     "text": [
      "2022-08-04 17:09:28.017 | DEBUG    | mofdscribe.bench.mofbench:_score:230 - K-fold round 0, 5493 train points, 1377 test points\n",
      "2022-08-04 17:09:28.930 | DEBUG    | mofdscribe.datasets.core_dataset:__init__:123 - Dropped 639 duplicate basenames. New length 8182\n",
      "2022-08-04 17:09:28.940 | DEBUG    | mofdscribe.datasets.core_dataset:__init__:129 - Dropped 1312 duplicate graphs. New length 6870\n",
      "2022-08-04 17:09:28.969 | DEBUG    | mofdscribe.splitters.splitters:__init__:116 - Splitter settings | shuffle True, random state None, sample frac 1.0, q (0, 0.25, 0.5, 0.75, 1)\n",
      "2022-08-04 17:09:28.969 | DEBUG    | mofdscribe.splitters.utils:check_fraction:429 - Using fractions: train: 0.8, valid: 0, test: 0.19999999999999996\n",
      "2022-08-04 17:09:28.970 | DEBUG    | mofdscribe.splitters.splitters:train_test_split:159 - Using grouped partition\n",
      "\u001b[32m[I 2022-08-04 17:09:29,189]\u001b[0m A new study created in memory with name: no-name-03688dfa-0692-43c4-8003-429ceb10a523\u001b[0m\n",
      "\u001b[32m[I 2022-08-04 17:09:34,336]\u001b[0m Trial 0 finished with value: 0.6654870455680877 and parameters: {'colsample_bylevel': 0.017035991894751537, 'depth': 6, 'iterations': 4326, 'learning_rate': 0.05464177276867323, 'l2_leaf_reg': 1.3429719674678784, 'random_strength': 2.997136737405238, 'bagging_temperature': 6.828987205334825}. Best is trial 0 with value: 0.6654870455680877.\u001b[0m\n",
      "\u001b[32m[I 2022-08-04 17:10:02,451]\u001b[0m Trial 1 finished with value: 0.6456115459322036 and parameters: {'colsample_bylevel': 0.0444521130286078, 'depth': 8, 'iterations': 8183, 'learning_rate': 0.026714763581681487, 'l2_leaf_reg': 8.840818810449328, 'random_strength': 9.754864491466677, 'bagging_temperature': 5.994122933238751}. Best is trial 1 with value: 0.6456115459322036.\u001b[0m\n",
      "\u001b[32m[I 2022-08-04 17:10:10,863]\u001b[0m Trial 2 finished with value: 0.6767329872049789 and parameters: {'colsample_bylevel': 0.025963192848439252, 'depth': 7, 'iterations': 4480, 'learning_rate': 0.005800074056129871, 'l2_leaf_reg': 9.889695289911161, 'random_strength': 0.017856341379853993, 'bagging_temperature': 4.125289697363864}. Best is trial 1 with value: 0.6456115459322036.\u001b[0m\n",
      "\u001b[32m[I 2022-08-04 17:10:16,408]\u001b[0m Trial 3 finished with value: 0.7046446581160869 and parameters: {'colsample_bylevel': 0.043256855123464305, 'depth': 3, 'iterations': 6337, 'learning_rate': 0.2549464841110575, 'l2_leaf_reg': 3.5830043706901207, 'random_strength': 2.3526192438064393, 'bagging_temperature': 8.872849119783016}. Best is trial 1 with value: 0.6456115459322036.\u001b[0m\n",
      "\u001b[32m[I 2022-08-04 17:11:27,840]\u001b[0m Trial 4 finished with value: 0.8443067839615753 and parameters: {'colsample_bylevel': 0.014776870490819617, 'depth': 15, 'iterations': 9637, 'learning_rate': 0.4233392399940662, 'l2_leaf_reg': 0.3059250200324117, 'random_strength': 3.354813475277522, 'bagging_temperature': 1.0079283261471628}. Best is trial 1 with value: 0.6456115459322036.\u001b[0m\n",
      "\u001b[32m[I 2022-08-04 17:11:56,759]\u001b[0m Trial 5 finished with value: 0.6851069806485185 and parameters: {'colsample_bylevel': 0.018025021831469788, 'depth': 13, 'iterations': 6404, 'learning_rate': 0.007588587623503443, 'l2_leaf_reg': 7.691985045381954, 'random_strength': 5.593914112234477, 'bagging_temperature': 6.997500805433318}. Best is trial 1 with value: 0.6456115459322036.\u001b[0m\n",
      "\u001b[32m[I 2022-08-04 17:12:02,914]\u001b[0m Trial 6 finished with value: 0.689332494340975 and parameters: {'colsample_bylevel': 0.016521214525609503, 'depth': 6, 'iterations': 5908, 'learning_rate': 0.009895777369041802, 'l2_leaf_reg': 5.139647986062049, 'random_strength': 9.827972441817233, 'bagging_temperature': 7.8654945131771195}. Best is trial 1 with value: 0.6456115459322036.\u001b[0m\n",
      "\u001b[32m[I 2022-08-04 17:14:58,344]\u001b[0m Trial 7 finished with value: 0.7135200549679785 and parameters: {'colsample_bylevel': 0.017942393775683334, 'depth': 16, 'iterations': 5328, 'learning_rate': 0.3421914313002802, 'l2_leaf_reg': 5.571492436817194, 'random_strength': 0.14449090785664923, 'bagging_temperature': 0.10035931685046628}. Best is trial 1 with value: 0.6456115459322036.\u001b[0m\n",
      "\u001b[32m[I 2022-08-04 17:14:58,774]\u001b[0m Trial 8 finished with value: 1.0878957885191147 and parameters: {'colsample_bylevel': 0.03485303518066816, 'depth': 1, 'iterations': 930, 'learning_rate': 0.0013261836057474055, 'l2_leaf_reg': 1.7631593683170959, 'random_strength': 2.609662789111583, 'bagging_temperature': 8.168269432430073}. Best is trial 1 with value: 0.6456115459322036.\u001b[0m\n",
      "\u001b[32m[I 2022-08-04 17:15:04,212]\u001b[0m Trial 9 finished with value: 0.6850787201969623 and parameters: {'colsample_bylevel': 0.03610732550299442, 'depth': 2, 'iterations': 8484, 'learning_rate': 0.08680444863840607, 'l2_leaf_reg': 5.293262352349108, 'random_strength': 2.348436905894505, 'bagging_temperature': 3.5225552725601106}. Best is trial 1 with value: 0.6456115459322036.\u001b[0m\n",
      "\u001b[32m[I 2022-08-04 17:15:30,533]\u001b[0m Trial 10 finished with value: 0.6684202960137233 and parameters: {'colsample_bylevel': 0.08742959901920339, 'depth': 12, 'iterations': 1760, 'learning_rate': 0.032653556216605435, 'l2_leaf_reg': 9.99892121944229, 'random_strength': 9.877200596840979, 'bagging_temperature': 5.488777549069131}. Best is trial 1 with value: 0.6456115459322036.\u001b[0m\n",
      "\u001b[32m[I 2022-08-04 17:15:32,500]\u001b[0m Trial 11 finished with value: 0.6886645791938747 and parameters: {'colsample_bylevel': 0.010186648402152127, 'depth': 10, 'iterations': 3024, 'learning_rate': 0.04929846811107532, 'l2_leaf_reg': 7.433530810868199, 'random_strength': 7.365021119690194, 'bagging_temperature': 5.760803924467315}. Best is trial 1 with value: 0.6456115459322036.\u001b[0m\n",
      "\u001b[32m[I 2022-08-04 17:15:44,434]\u001b[0m Trial 12 finished with value: 0.6657386184554304 and parameters: {'colsample_bylevel': 0.057513265287908684, 'depth': 5, 'iterations': 8106, 'learning_rate': 0.10036193862252606, 'l2_leaf_reg': 2.8798885288842264, 'random_strength': 6.45657544125547, 'bagging_temperature': 9.687868470061877}. Best is trial 1 with value: 0.6456115459322036.\u001b[0m\n",
      "\u001b[32m[I 2022-08-04 17:15:52,895]\u001b[0m Trial 13 finished with value: 0.6573916168203421 and parameters: {'colsample_bylevel': 0.02493735299007075, 'depth': 8, 'iterations': 3712, 'learning_rate': 0.017381148181696986, 'l2_leaf_reg': 7.537837453678723, 'random_strength': 8.00546139374929, 'bagging_temperature': 6.603366052345109}. Best is trial 1 with value: 0.6456115459322036.\u001b[0m\n",
      "\u001b[32m[I 2022-08-04 17:16:08,755]\u001b[0m Trial 14 finished with value: 0.6569170718995976 and parameters: {'colsample_bylevel': 0.0553428575326928, 'depth': 9, 'iterations': 2775, 'learning_rate': 0.013687873630973344, 'l2_leaf_reg': 7.8803853259909165, 'random_strength': 8.206535730604166, 'bagging_temperature': 2.9016122910940956}. Best is trial 1 with value: 0.6456115459322036.\u001b[0m\n",
      "\u001b[32m[I 2022-08-04 17:16:19,829]\u001b[0m Trial 15 finished with value: 0.8092425225842703 and parameters: {'colsample_bylevel': 0.06264922922953257, 'depth': 10, 'iterations': 2395, 'learning_rate': 0.0035767397136836493, 'l2_leaf_reg': 8.705549648802155, 'random_strength': 8.543445507573114, 'bagging_temperature': 2.367796095298936}. Best is trial 1 with value: 0.6456115459322036.\u001b[0m\n",
      "\u001b[32m[I 2022-08-04 17:16:59,389]\u001b[0m Trial 16 finished with value: 0.6448072615822911 and parameters: {'colsample_bylevel': 0.09189038803730314, 'depth': 10, 'iterations': 7025, 'learning_rate': 0.02366806592825644, 'l2_leaf_reg': 6.563064972695383, 'random_strength': 8.846085821439061, 'bagging_temperature': 2.7830405028084466}. Best is trial 16 with value: 0.6448072615822911.\u001b[0m\n",
      "\u001b[32m[I 2022-08-04 17:18:49,080]\u001b[0m Trial 17 finished with value: 0.6736912546207012 and parameters: {'colsample_bylevel': 0.07989116589707897, 'depth': 12, 'iterations': 7417, 'learning_rate': 0.027477728482078075, 'l2_leaf_reg': 6.653109554595084, 'random_strength': 9.13459526474134, 'bagging_temperature': 4.440754877224128}. Best is trial 16 with value: 0.6448072615822911.\u001b[0m\n",
      "\u001b[32m[I 2022-08-04 17:18:59,931]\u001b[0m Trial 18 finished with value: 0.6699603975795667 and parameters: {'colsample_bylevel': 0.09954308711288094, 'depth': 4, 'iterations': 9191, 'learning_rate': 0.1409394928381283, 'l2_leaf_reg': 8.878144000743578, 'random_strength': 6.849016247222972, 'bagging_temperature': 1.822661993610522}. Best is trial 16 with value: 0.6448072615822911.\u001b[0m\n",
      "\u001b[32m[I 2022-08-04 17:20:34,785]\u001b[0m Trial 19 finished with value: 0.6778920178325164 and parameters: {'colsample_bylevel': 0.07205551134783114, 'depth': 11, 'iterations': 7298, 'learning_rate': 0.0027758673217816022, 'l2_leaf_reg': 6.3778193092315245, 'random_strength': 4.782046485001822, 'bagging_temperature': 4.900734932906913}. Best is trial 16 with value: 0.6448072615822911.\u001b[0m\n",
      "2022-08-04 17:22:08.514 | DEBUG    | mofdscribe.bench.mofbench:_score:230 - K-fold round 1, 5495 train points, 1375 test points\n",
      "2022-08-04 17:22:09.523 | DEBUG    | mofdscribe.datasets.core_dataset:__init__:123 - Dropped 639 duplicate basenames. New length 8182\n",
      "2022-08-04 17:22:09.535 | DEBUG    | mofdscribe.datasets.core_dataset:__init__:129 - Dropped 1312 duplicate graphs. New length 6870\n",
      "2022-08-04 17:22:09.706 | DEBUG    | mofdscribe.splitters.splitters:__init__:116 - Splitter settings | shuffle True, random state None, sample frac 1.0, q (0, 0.25, 0.5, 0.75, 1)\n",
      "2022-08-04 17:22:09.706 | DEBUG    | mofdscribe.splitters.utils:check_fraction:429 - Using fractions: train: 0.8, valid: 0, test: 0.19999999999999996\n",
      "2022-08-04 17:22:09.707 | DEBUG    | mofdscribe.splitters.splitters:train_test_split:159 - Using grouped partition\n",
      "\u001b[32m[I 2022-08-04 17:22:09,944]\u001b[0m A new study created in memory with name: no-name-8cd7efb5-3a1c-4360-97f7-9485903c230d\u001b[0m\n",
      "\u001b[32m[I 2022-08-04 17:22:11,301]\u001b[0m Trial 0 finished with value: 0.8762960867141434 and parameters: {'colsample_bylevel': 0.014538097244252963, 'depth': 2, 'iterations': 2813, 'learning_rate': 0.04574693509771242, 'l2_leaf_reg': 7.879191172897302, 'random_strength': 3.645637388496421, 'bagging_temperature': 9.440965687208637}. Best is trial 0 with value: 0.8762960867141434.\u001b[0m\n",
      "\u001b[32m[I 2022-08-04 17:22:20,318]\u001b[0m Trial 1 finished with value: 0.7977403916616793 and parameters: {'colsample_bylevel': 0.021553425816620213, 'depth': 12, 'iterations': 1903, 'learning_rate': 0.0547725324422337, 'l2_leaf_reg': 6.032183768345559, 'random_strength': 4.3180557589317035, 'bagging_temperature': 0.8154015422004923}. Best is trial 1 with value: 0.7977403916616793.\u001b[0m\n",
      "\u001b[32m[I 2022-08-04 17:22:29,197]\u001b[0m Trial 2 finished with value: 0.7354467244247443 and parameters: {'colsample_bylevel': 0.03239063610194858, 'depth': 5, 'iterations': 7226, 'learning_rate': 0.01993960494906993, 'l2_leaf_reg': 5.377727976245009, 'random_strength': 1.7296208980525696, 'bagging_temperature': 0.8702539475210126}. Best is trial 2 with value: 0.7354467244247443.\u001b[0m\n",
      "\u001b[32m[I 2022-08-04 17:22:55,380]\u001b[0m Trial 3 finished with value: 0.7817558334550065 and parameters: {'colsample_bylevel': 0.027353786629054633, 'depth': 10, 'iterations': 9266, 'learning_rate': 0.005998669602702784, 'l2_leaf_reg': 7.048010343733348, 'random_strength': 6.093828989633864, 'bagging_temperature': 6.295880808051528}. Best is trial 2 with value: 0.7354467244247443.\u001b[0m\n",
      "\u001b[32m[I 2022-08-04 17:23:13,213]\u001b[0m Trial 4 finished with value: 0.8726222525863614 and parameters: {'colsample_bylevel': 0.025766016547595392, 'depth': 10, 'iterations': 6422, 'learning_rate': 0.0030093554008558928, 'l2_leaf_reg': 7.750075846408155, 'random_strength': 8.949751542499758, 'bagging_temperature': 3.3531921097361037}. Best is trial 2 with value: 0.7354467244247443.\u001b[0m\n",
      "\u001b[32m[I 2022-08-04 17:23:27,038]\u001b[0m Trial 5 finished with value: 0.7862841913698391 and parameters: {'colsample_bylevel': 0.027885818573830726, 'depth': 10, 'iterations': 4729, 'learning_rate': 0.014727351455979034, 'l2_leaf_reg': 2.0960120017083894, 'random_strength': 8.644713701559496, 'bagging_temperature': 8.337292309491101}. Best is trial 2 with value: 0.7354467244247443.\u001b[0m\n",
      "\u001b[32m[I 2022-08-04 17:23:32,395]\u001b[0m Trial 6 finished with value: 0.9947854152831107 and parameters: {'colsample_bylevel': 0.01099520541740756, 'depth': 11, 'iterations': 6485, 'learning_rate': 0.0031084762343932958, 'l2_leaf_reg': 8.130887402630178, 'random_strength': 2.83302499936105, 'bagging_temperature': 1.522831475542591}. Best is trial 2 with value: 0.7354467244247443.\u001b[0m\n",
      "\u001b[32m[I 2022-08-04 17:24:40,899]\u001b[0m Trial 7 finished with value: 0.8099799761243993 and parameters: {'colsample_bylevel': 0.02885964080010983, 'depth': 12, 'iterations': 8661, 'learning_rate': 0.01110485286053538, 'l2_leaf_reg': 3.118535920890656, 'random_strength': 5.193314167890306, 'bagging_temperature': 5.020268608117821}. Best is trial 2 with value: 0.7354467244247443.\u001b[0m\n",
      "\u001b[32m[I 2022-08-04 17:24:45,538]\u001b[0m Trial 8 finished with value: 0.8808581878998241 and parameters: {'colsample_bylevel': 0.014319948893389823, 'depth': 14, 'iterations': 1137, 'learning_rate': 0.023692374491972385, 'l2_leaf_reg': 1.8768462495702676, 'random_strength': 9.84939257587683, 'bagging_temperature': 0.26052183727016553}. Best is trial 2 with value: 0.7354467244247443.\u001b[0m\n",
      "\u001b[32m[I 2022-08-04 17:24:48,213]\u001b[0m Trial 9 finished with value: 1.1985024020943347 and parameters: {'colsample_bylevel': 0.02137455489466341, 'depth': 10, 'iterations': 1230, 'learning_rate': 0.0015934061072742456, 'l2_leaf_reg': 5.233388558161457, 'random_strength': 5.972449881520438, 'bagging_temperature': 7.277739741270895}. Best is trial 2 with value: 0.7354467244247443.\u001b[0m\n",
      "\u001b[32m[I 2022-08-04 17:25:01,215]\u001b[0m Trial 10 finished with value: 0.7769648286025272 and parameters: {'colsample_bylevel': 0.06391203039878542, 'depth': 5, 'iterations': 7173, 'learning_rate': 0.22646762400483914, 'l2_leaf_reg': 9.803298901966844, 'random_strength': 0.6999588445501175, 'bagging_temperature': 2.92431106550661}. Best is trial 2 with value: 0.7354467244247443.\u001b[0m\n",
      "\u001b[32m[I 2022-08-04 17:25:14,148]\u001b[0m Trial 11 finished with value: 0.8471764506913417 and parameters: {'colsample_bylevel': 0.06601504463418548, 'depth': 5, 'iterations': 7466, 'learning_rate': 0.41927474453893787, 'l2_leaf_reg': 4.061588855687314, 'random_strength': 0.018984609525221963, 'bagging_temperature': 3.0130154440579}. Best is trial 2 with value: 0.7354467244247443.\u001b[0m\n",
      "\u001b[32m[I 2022-08-04 17:25:24,228]\u001b[0m Trial 12 finished with value: 0.7640547569157246 and parameters: {'colsample_bylevel': 0.053052843227619786, 'depth': 6, 'iterations': 4335, 'learning_rate': 0.2506300571563202, 'l2_leaf_reg': 9.389178631970829, 'random_strength': 0.21615062326806628, 'bagging_temperature': 2.5351473893407723}. Best is trial 2 with value: 0.7354467244247443.\u001b[0m\n",
      "\u001b[32m[I 2022-08-04 17:25:33,035]\u001b[0m Trial 13 finished with value: 0.7550928381530894 and parameters: {'colsample_bylevel': 0.04311358535345113, 'depth': 6, 'iterations': 4239, 'learning_rate': 0.12957907606395141, 'l2_leaf_reg': 9.90716992347411, 'random_strength': 1.7985088902926747, 'bagging_temperature': 1.7657712059264237}. Best is trial 2 with value: 0.7354467244247443.\u001b[0m\n",
      "\u001b[32m[I 2022-08-04 17:25:34,927]\u001b[0m Trial 14 finished with value: 0.8531175646226403 and parameters: {'colsample_bylevel': 0.04307572801079369, 'depth': 1, 'iterations': 3699, 'learning_rate': 0.08299967312503383, 'l2_leaf_reg': 0.5431453475561288, 'random_strength': 1.8472489768212492, 'bagging_temperature': 4.460164797058301}. Best is trial 2 with value: 0.7354467244247443.\u001b[0m\n",
      "\u001b[32m[I 2022-08-04 17:25:56,266]\u001b[0m Trial 15 finished with value: 0.7478266247147437 and parameters: {'colsample_bylevel': 0.08801316523387068, 'depth': 7, 'iterations': 5753, 'learning_rate': 0.09996299192850218, 'l2_leaf_reg': 6.031291864435843, 'random_strength': 2.0222313093998703, 'bagging_temperature': 1.6265065861554775}. Best is trial 2 with value: 0.7354467244247443.\u001b[0m\n",
      "\u001b[32m[I 2022-08-04 17:26:27,822]\u001b[0m Trial 16 finished with value: 0.732350625221795 and parameters: {'colsample_bylevel': 0.09998906889220874, 'depth': 8, 'iterations': 5915, 'learning_rate': 0.045397269298823595, 'l2_leaf_reg': 5.769972281994618, 'random_strength': 2.2031606355465265, 'bagging_temperature': 0.051149909264813}. Best is trial 16 with value: 0.732350625221795.\u001b[0m\n",
      "\u001b[32m[I 2022-08-04 17:26:35,908]\u001b[0m Trial 17 finished with value: 0.7326283296663765 and parameters: {'colsample_bylevel': 0.08540289542918915, 'depth': 3, 'iterations': 8340, 'learning_rate': 0.027275396570903443, 'l2_leaf_reg': 4.1637672131328, 'random_strength': 2.8698787295042836, 'bagging_temperature': 0.17121683607271898}. Best is trial 16 with value: 0.732350625221795.\u001b[0m\n",
      "\u001b[32m[I 2022-08-04 17:26:45,748]\u001b[0m Trial 18 finished with value: 0.7427373479475561 and parameters: {'colsample_bylevel': 0.09507621020488523, 'depth': 3, 'iterations': 9883, 'learning_rate': 0.04250275885893178, 'l2_leaf_reg': 3.9198100563730742, 'random_strength': 3.272176461441364, 'bagging_temperature': 0.24274363968149001}. Best is trial 16 with value: 0.732350625221795.\u001b[0m\n",
      "\u001b[32m[I 2022-08-04 17:48:49,221]\u001b[0m Trial 19 finished with value: 0.8657374769262228 and parameters: {'colsample_bylevel': 0.0780952381508928, 'depth': 15, 'iterations': 8292, 'learning_rate': 0.0072314190000565635, 'l2_leaf_reg': 4.219483341727536, 'random_strength': 4.633340376901654, 'bagging_temperature': 4.371178379014898}. Best is trial 16 with value: 0.732350625221795.\u001b[0m\n",
      "2022-08-04 17:50:28.475 | DEBUG    | mofdscribe.bench.mofbench:_score:230 - K-fold round 2, 5497 train points, 1373 test points\n",
      "2022-08-04 17:50:29.402 | DEBUG    | mofdscribe.datasets.core_dataset:__init__:123 - Dropped 639 duplicate basenames. New length 8182\n",
      "2022-08-04 17:50:29.413 | DEBUG    | mofdscribe.datasets.core_dataset:__init__:129 - Dropped 1312 duplicate graphs. New length 6870\n",
      "2022-08-04 17:50:29.567 | DEBUG    | mofdscribe.splitters.splitters:__init__:116 - Splitter settings | shuffle True, random state None, sample frac 1.0, q (0, 0.25, 0.5, 0.75, 1)\n",
      "2022-08-04 17:50:29.568 | DEBUG    | mofdscribe.splitters.utils:check_fraction:429 - Using fractions: train: 0.8, valid: 0, test: 0.19999999999999996\n",
      "2022-08-04 17:50:29.569 | DEBUG    | mofdscribe.splitters.splitters:train_test_split:159 - Using grouped partition\n",
      "\u001b[32m[I 2022-08-04 17:50:29,810]\u001b[0m A new study created in memory with name: no-name-84aa814a-5dbe-467e-9093-350bcb7225fa\u001b[0m\n",
      "\u001b[32m[I 2022-08-04 17:50:34,407]\u001b[0m Trial 0 finished with value: 0.6389149175290155 and parameters: {'colsample_bylevel': 0.010743676621161342, 'depth': 3, 'iterations': 9315, 'learning_rate': 0.04486595909430279, 'l2_leaf_reg': 6.217083824918366, 'random_strength': 4.339482575149072, 'bagging_temperature': 4.195732544801489}. Best is trial 0 with value: 0.6389149175290155.\u001b[0m\n",
      "\u001b[32m[I 2022-08-04 17:51:53,082]\u001b[0m Trial 1 finished with value: 0.5986665935395976 and parameters: {'colsample_bylevel': 0.043997754180372675, 'depth': 9, 'iterations': 6116, 'learning_rate': 0.06406454998872414, 'l2_leaf_reg': 5.070356175082898, 'random_strength': 5.969134850758032, 'bagging_temperature': 5.932737343794157}. Best is trial 1 with value: 0.5986665935395976.\u001b[0m\n",
      "\u001b[32m[I 2022-08-04 17:51:54,417]\u001b[0m Trial 2 finished with value: 0.6449751205511512 and parameters: {'colsample_bylevel': 0.04509401242166299, 'depth': 3, 'iterations': 822, 'learning_rate': 0.16122285597793592, 'l2_leaf_reg': 0.4230137466178346, 'random_strength': 2.5628270324080256, 'bagging_temperature': 2.949529911656398}. Best is trial 1 with value: 0.5986665935395976.\u001b[0m\n",
      "\u001b[32m[I 2022-08-04 17:53:41,012]\u001b[0m Trial 3 finished with value: 0.7278159557128523 and parameters: {'colsample_bylevel': 0.04895670224313372, 'depth': 12, 'iterations': 6304, 'learning_rate': 0.0012692073427645726, 'l2_leaf_reg': 5.039618434963762, 'random_strength': 3.5469553132053946, 'bagging_temperature': 3.2030929875861247}. Best is trial 1 with value: 0.5986665935395976.\u001b[0m\n",
      "\u001b[32m[I 2022-08-04 18:02:03,826]\u001b[0m Trial 4 finished with value: 0.6260202007683531 and parameters: {'colsample_bylevel': 0.0966147212376949, 'depth': 14, 'iterations': 5571, 'learning_rate': 0.018748539001507143, 'l2_leaf_reg': 2.8551051269518886, 'random_strength': 1.268773444212288, 'bagging_temperature': 8.413743978376662}. Best is trial 1 with value: 0.5986665935395976.\u001b[0m\n",
      "2022-08-04 18:03:59.193 | DEBUG    | mofdscribe.bench.mofbench:_score:230 - K-fold round 3, 5497 train points, 1373 test points\n",
      "2022-08-04 18:04:00.165 | DEBUG    | mofdscribe.datasets.core_dataset:__init__:123 - Dropped 639 duplicate basenames. New length 8182\n",
      "2022-08-04 18:04:00.176 | DEBUG    | mofdscribe.datasets.core_dataset:__init__:129 - Dropped 1312 duplicate graphs. New length 6870\n",
      "2022-08-04 18:04:00.338 | DEBUG    | mofdscribe.splitters.splitters:__init__:116 - Splitter settings | shuffle True, random state None, sample frac 1.0, q (0, 0.25, 0.5, 0.75, 1)\n",
      "2022-08-04 18:04:00.339 | DEBUG    | mofdscribe.splitters.utils:check_fraction:429 - Using fractions: train: 0.8, valid: 0, test: 0.19999999999999996\n",
      "2022-08-04 18:04:00.340 | DEBUG    | mofdscribe.splitters.splitters:train_test_split:159 - Using grouped partition\n",
      "\u001b[32m[I 2022-08-04 18:04:00,610]\u001b[0m A new study created in memory with name: no-name-19e1cdf1-ac95-45e0-9368-1a4044fb83ca\u001b[0m\n",
      "\u001b[32m[I 2022-08-04 18:04:04,296]\u001b[0m Trial 0 finished with value: 0.7450024771327168 and parameters: {'colsample_bylevel': 0.012878961956539849, 'depth': 9, 'iterations': 4059, 'learning_rate': 0.01388074412848261, 'l2_leaf_reg': 7.914369766530961, 'random_strength': 9.094016721512086, 'bagging_temperature': 5.360506793006302}. Best is trial 0 with value: 0.7450024771327168.\u001b[0m\n",
      "\u001b[32m[I 2022-08-04 18:04:06,575]\u001b[0m Trial 1 finished with value: 0.9889016518240021 and parameters: {'colsample_bylevel': 0.03419249939700903, 'depth': 7, 'iterations': 1122, 'learning_rate': 0.003278490619443966, 'l2_leaf_reg': 8.483447170941664, 'random_strength': 3.415017224763722, 'bagging_temperature': 8.674341948176817}. Best is trial 0 with value: 0.7450024771327168.\u001b[0m\n",
      "\u001b[32m[I 2022-08-04 18:18:23,965]\u001b[0m Trial 2 finished with value: 0.7766417681456451 and parameters: {'colsample_bylevel': 0.060706636261327655, 'depth': 16, 'iterations': 3217, 'learning_rate': 0.1109145232054582, 'l2_leaf_reg': 3.272379136411756, 'random_strength': 1.8927977033536376, 'bagging_temperature': 1.045644670831865}. Best is trial 0 with value: 0.7450024771327168.\u001b[0m\n",
      "2022-08-04 18:18:33.749 | DEBUG    | mofdscribe.bench.mofbench:_score:230 - K-fold round 4, 5498 train points, 1372 test points\n",
      "2022-08-04 18:18:34.767 | DEBUG    | mofdscribe.datasets.core_dataset:__init__:123 - Dropped 639 duplicate basenames. New length 8182\n",
      "2022-08-04 18:18:34.777 | DEBUG    | mofdscribe.datasets.core_dataset:__init__:129 - Dropped 1312 duplicate graphs. New length 6870\n",
      "2022-08-04 18:18:34.931 | DEBUG    | mofdscribe.splitters.splitters:__init__:116 - Splitter settings | shuffle True, random state None, sample frac 1.0, q (0, 0.25, 0.5, 0.75, 1)\n",
      "2022-08-04 18:18:34.932 | DEBUG    | mofdscribe.splitters.utils:check_fraction:429 - Using fractions: train: 0.8, valid: 0, test: 0.19999999999999996\n",
      "2022-08-04 18:18:34.933 | DEBUG    | mofdscribe.splitters.splitters:train_test_split:159 - Using grouped partition\n",
      "\u001b[32m[I 2022-08-04 18:18:35,201]\u001b[0m A new study created in memory with name: no-name-2192429b-8d5a-4d39-9d06-26b2dee053c9\u001b[0m\n",
      "\u001b[32m[I 2022-08-04 18:19:21,174]\u001b[0m Trial 0 finished with value: 0.5669592007854143 and parameters: {'colsample_bylevel': 0.046085597800698944, 'depth': 11, 'iterations': 6857, 'learning_rate': 0.00628526092528779, 'l2_leaf_reg': 1.3753226901971154, 'random_strength': 6.005412737470155, 'bagging_temperature': 4.764862093719496}. Best is trial 0 with value: 0.5669592007854143.\u001b[0m\n",
      "\u001b[32m[I 2022-08-04 18:19:31,488]\u001b[0m Trial 1 finished with value: 0.5218593901111682 and parameters: {'colsample_bylevel': 0.03184529804294788, 'depth': 4, 'iterations': 9216, 'learning_rate': 0.012225043645116064, 'l2_leaf_reg': 0.1697423493096857, 'random_strength': 3.1489206552983964, 'bagging_temperature': 0.19533231489916658}. Best is trial 1 with value: 0.5218593901111682.\u001b[0m\n",
      "\u001b[32m[I 2022-08-04 18:19:37,095]\u001b[0m Trial 2 finished with value: 0.5387784887152536 and parameters: {'colsample_bylevel': 0.0618388143851132, 'depth': 6, 'iterations': 2441, 'learning_rate': 0.013824024233335439, 'l2_leaf_reg': 8.029756370680596, 'random_strength': 1.7757575696025183, 'bagging_temperature': 3.2639360811524556}. Best is trial 1 with value: 0.5218593901111682.\u001b[0m\n",
      "\u001b[32m[I 2022-08-04 18:19:51,639]\u001b[0m Trial 3 finished with value: 0.5375236426342992 and parameters: {'colsample_bylevel': 0.04048782666518177, 'depth': 7, 'iterations': 5671, 'learning_rate': 0.007100768112636544, 'l2_leaf_reg': 2.196457591707757, 'random_strength': 9.21158036251788, 'bagging_temperature': 4.484675909358534}. Best is trial 1 with value: 0.5218593901111682.\u001b[0m\n",
      "\u001b[32m[I 2022-08-04 18:19:57,606]\u001b[0m Trial 4 finished with value: 0.6645773418550927 and parameters: {'colsample_bylevel': 0.046609806400143054, 'depth': 7, 'iterations': 1505, 'learning_rate': 0.007777590090053677, 'l2_leaf_reg': 7.627860443721159, 'random_strength': 6.1499337864300525, 'bagging_temperature': 5.440462590223951}. Best is trial 1 with value: 0.5218593901111682.\u001b[0m\n",
      "\u001b[32m[I 2022-08-04 18:20:09,845]\u001b[0m Trial 5 finished with value: 0.6481551829519128 and parameters: {'colsample_bylevel': 0.019415544217793138, 'depth': 11, 'iterations': 3898, 'learning_rate': 0.004189268755825677, 'l2_leaf_reg': 5.731799255861405, 'random_strength': 8.971387598861348, 'bagging_temperature': 4.3882092131316135}. Best is trial 1 with value: 0.5218593901111682.\u001b[0m\n",
      "\u001b[32m[I 2022-08-04 18:20:21,475]\u001b[0m Trial 6 finished with value: 0.5340601321894183 and parameters: {'colsample_bylevel': 0.018936316684002873, 'depth': 7, 'iterations': 6787, 'learning_rate': 0.017449414475636204, 'l2_leaf_reg': 1.0693356905735667, 'random_strength': 0.10531244174326168, 'bagging_temperature': 4.948521390082337}. Best is trial 1 with value: 0.5218593901111682.\u001b[0m\n",
      "\u001b[32m[I 2022-08-04 18:20:35,854]\u001b[0m Trial 7 finished with value: 0.6072919119008386 and parameters: {'colsample_bylevel': 0.06668821360432042, 'depth': 5, 'iterations': 8841, 'learning_rate': 0.4492951095751537, 'l2_leaf_reg': 1.5790863583736574, 'random_strength': 1.63408743962688, 'bagging_temperature': 1.451801601689522}. Best is trial 1 with value: 0.5218593901111682.\u001b[0m\n",
      "\u001b[32m[I 2022-08-04 18:20:49,028]\u001b[0m Trial 8 finished with value: 0.5546969303964644 and parameters: {'colsample_bylevel': 0.04321548481105887, 'depth': 6, 'iterations': 7165, 'learning_rate': 0.15343794599786276, 'l2_leaf_reg': 5.310354001044538, 'random_strength': 9.83692241210688, 'bagging_temperature': 6.430859492649258}. Best is trial 1 with value: 0.5218593901111682.\u001b[0m\n",
      "\u001b[32m[I 2022-08-04 18:20:55,283]\u001b[0m Trial 9 finished with value: 0.6407886090043137 and parameters: {'colsample_bylevel': 0.016745446569906747, 'depth': 12, 'iterations': 2235, 'learning_rate': 0.007705580794975855, 'l2_leaf_reg': 3.9471648809544297, 'random_strength': 3.609350827633784, 'bagging_temperature': 4.657854859548063}. Best is trial 1 with value: 0.5218593901111682.\u001b[0m\n",
      "\u001b[32m[I 2022-08-04 18:20:58,868]\u001b[0m Trial 10 finished with value: 0.9244874071300099 and parameters: {'colsample_bylevel': 0.010017076121274322, 'depth': 1, 'iterations': 9638, 'learning_rate': 0.001006828257926045, 'l2_leaf_reg': 9.879951812083698, 'random_strength': 4.158659639134777, 'bagging_temperature': 9.813098636253706}. Best is trial 1 with value: 0.5218593901111682.\u001b[0m\n",
      "\u001b[32m[I 2022-08-04 18:32:49,231]\u001b[0m Trial 11 finished with value: 0.6085046096679967 and parameters: {'colsample_bylevel': 0.02434930210084594, 'depth': 16, 'iterations': 8025, 'learning_rate': 0.047883524867335395, 'l2_leaf_reg': 0.6413904137519739, 'random_strength': 0.25597348183871294, 'bagging_temperature': 0.3312479892153075}. Best is trial 1 with value: 0.5218593901111682.\u001b[0m\n"
     ]
    }
   ],
   "source": [
    "result = bench.bench()\n"
   ]
  },
  {
   "cell_type": "code",
   "execution_count": 30,
   "metadata": {},
   "outputs": [
    {
     "data": {
      "text/plain": [
       "BenchResult(start_time=datetime.datetime(2022, 8, 4, 15, 9, 28, 14098, tzinfo=datetime.timezone.utc), end_time=datetime.datetime(2022, 8, 4, 16, 33, 10, 16847, tzinfo=datetime.timezone.utc), metrics=RegressionMetricCollection(regression_metrics=[RegressionMetrics(mean_squared_error=0.5207995001907892, mean_absolute_error=0.5522248220190105, r2_score=0.5313560475037885, max_error=3.7823977350284106, mean_absolute_percentage_error=0.2720004732376112, top_5_in_top_5=0, top_10_in_top_10=0, top_50_in_top_50=0, top_100_in_top_100=0, top_500_in_top_500=0), RegressionMetrics(mean_squared_error=0.33931323077304393, mean_absolute_error=0.42248206804102334, r2_score=0.4048151298146425, max_error=3.659926973316546, mean_absolute_percentage_error=0.13795236838609187, top_5_in_top_5=0, top_10_in_top_10=0, top_50_in_top_50=0, top_100_in_top_100=0, top_500_in_top_500=1), RegressionMetrics(mean_squared_error=0.8082637960081362, mean_absolute_error=0.6696999612360695, r2_score=0.5028078435972169, max_error=3.646561142695856, mean_absolute_percentage_error=0.6526851577676401, top_5_in_top_5=0, top_10_in_top_10=0, top_50_in_top_50=0, top_100_in_top_100=0, top_500_in_top_500=1), RegressionMetrics(mean_squared_error=0.40668895606049976, mean_absolute_error=0.46995788091716395, r2_score=0.4157174666173682, max_error=3.73554452821785, mean_absolute_percentage_error=0.24166069019608313, top_5_in_top_5=0, top_10_in_top_10=0, top_50_in_top_50=0, top_100_in_top_100=0, top_500_in_top_500=0), RegressionMetrics(mean_squared_error=1.3495299336053421, mean_absolute_error=0.9005317201782155, r2_score=0.29410762489618925, max_error=4.682230497505302, mean_absolute_percentage_error=0.9498078671682878, top_5_in_top_5=0, top_10_in_top_10=0, top_50_in_top_50=0, top_100_in_top_100=0, top_500_in_top_500=0)], fit_timings=[760.4768712520599, 1699.9380929470062, 810.6881029605865, 874.540472984314, 876.2545127868652], inference_timings=[0.014651775360107422, 0.02018880844116211, 0.026248931884765625, 0.009238004684448242, 0.010381221771240234]), version='v0.0.1', features='total_POV_gravimetric ,mc_CRY-chi-0-all ,mc_CRY-chi-1-all ,mc_CRY-chi-2-all ,mc_CRY-chi-3-all ,mc_CRY-Z-0-all ,mc_CRY-Z-1-all ,mc_CRY-Z-2-all ,mc_CRY-Z-3-all ,mc_CRY-I-0-all ,mc_CRY-I-1-all ,mc_CRY-I-2-all ,mc_CRY-I-3-all ,mc_CRY-T-0-all ,mc_CRY-T-1-all ,mc_CRY-T-2-all ,mc_CRY-T-3-all ,mc_CRY-S-0-all ,mc_CRY-S-1-all ,mc_CRY-S-2-all ,mc_CRY-S-3-all ,D_mc_CRY-chi-0-all ,D_mc_CRY-chi-1-all ,D_mc_CRY-chi-2-all ,D_mc_CRY-chi-3-all ,D_mc_CRY-Z-0-all ,D_mc_CRY-Z-1-all ,D_mc_CRY-Z-2-all ,D_mc_CRY-Z-3-all ,D_mc_CRY-I-0-all ,D_mc_CRY-I-1-all ,D_mc_CRY-I-2-all ,D_mc_CRY-I-3-all ,D_mc_CRY-T-0-all ,D_mc_CRY-T-1-all ,D_mc_CRY-T-2-all ,D_mc_CRY-T-3-all ,D_mc_CRY-S-0-all ,D_mc_CRY-S-1-all ,D_mc_CRY-S-2-all ,D_mc_CRY-S-3-all ,sum-mc_CRY-chi-0-all ,sum-mc_CRY-chi-1-all ,sum-mc_CRY-chi-2-all ,sum-mc_CRY-chi-3-all ,sum-mc_CRY-Z-0-all ,sum-mc_CRY-Z-1-all ,sum-mc_CRY-Z-2-all ,sum-mc_CRY-Z-3-all ,sum-mc_CRY-I-0-all ,sum-mc_CRY-I-1-all ,sum-mc_CRY-I-2-all ,sum-mc_CRY-I-3-all ,sum-mc_CRY-T-0-all ,sum-mc_CRY-T-1-all ,sum-mc_CRY-T-2-all ,sum-mc_CRY-T-3-all ,sum-mc_CRY-S-0-all ,sum-mc_CRY-S-1-all ,sum-mc_CRY-S-2-all ,sum-mc_CRY-S-3-all ,sum-D_mc_CRY-chi-0-all ,sum-D_mc_CRY-chi-1-all ,sum-D_mc_CRY-chi-2-all ,sum-D_mc_CRY-chi-3-all ,sum-D_mc_CRY-Z-0-all ,sum-D_mc_CRY-Z-1-all ,sum-D_mc_CRY-Z-2-all ,sum-D_mc_CRY-Z-3-all ,sum-D_mc_CRY-I-0-all ,sum-D_mc_CRY-I-1-all ,sum-D_mc_CRY-I-2-all ,sum-D_mc_CRY-I-3-all ,sum-D_mc_CRY-T-0-all ,sum-D_mc_CRY-T-1-all ,sum-D_mc_CRY-T-2-all ,sum-D_mc_CRY-T-3-all ,sum-D_mc_CRY-S-0-all ,sum-D_mc_CRY-S-1-all ,sum-D_mc_CRY-S-2-all ,sum-D_mc_CRY-S-3-all ,D_lc-chi-0-all ,D_lc-chi-1-all ,D_lc-chi-2-all ,D_lc-chi-3-all ,D_lc-Z-0-all ,D_lc-Z-1-all ,D_lc-Z-2-all ,D_lc-Z-3-all ,D_lc-I-0-all ,D_lc-I-1-all ,D_lc-I-2-all ,D_lc-I-3-all ,D_lc-T-0-all ,D_lc-T-1-all ,D_lc-T-2-all ,D_lc-T-3-all ,D_lc-S-0-all ,D_lc-S-1-all ,D_lc-S-2-all ,D_lc-S-3-all ,D_lc-alpha-0-all ,D_lc-alpha-1-all ,D_lc-alpha-2-all ,D_lc-alpha-3-all ,D_func-chi-0-all ,D_func-chi-1-all ,D_func-chi-2-all ,D_func-chi-3-all ,D_func-Z-0-all ,D_func-Z-1-all ,D_func-Z-2-all ,D_func-Z-3-all ,D_func-I-0-all ,D_func-I-1-all ,D_func-I-2-all ,D_func-I-3-all ,D_func-T-0-all ,D_func-T-1-all ,D_func-T-2-all ,D_func-T-3-all ,D_func-S-0-all ,D_func-S-1-all ,D_func-S-2-all ,D_func-S-3-all ,D_func-alpha-0-all ,D_func-alpha-1-all ,D_func-alpha-2-all ,D_func-alpha-3-all ,sum-D_lc-chi-0-all ,sum-D_lc-chi-1-all ,sum-D_lc-chi-2-all ,sum-D_lc-chi-3-all ,sum-D_lc-Z-0-all ,sum-D_lc-Z-1-all ,sum-D_lc-Z-2-all ,sum-D_lc-Z-3-all ,sum-D_lc-I-0-all ,sum-D_lc-I-1-all ,sum-D_lc-I-2-all ,sum-D_lc-I-3-all ,sum-D_lc-T-0-all ,sum-D_lc-T-1-all ,sum-D_lc-T-2-all ,sum-D_lc-T-3-all ,sum-D_lc-S-0-all ,sum-D_lc-S-1-all ,sum-D_lc-S-2-all ,sum-D_lc-S-3-all ,sum-D_lc-alpha-0-all ,sum-D_lc-alpha-1-all ,sum-D_lc-alpha-2-all ,sum-D_lc-alpha-3-all ,sum-D_func-chi-0-all ,sum-D_func-chi-1-all ,sum-D_func-chi-2-all ,sum-D_func-chi-3-all ,sum-D_func-Z-0-all ,sum-D_func-Z-1-all ,sum-D_func-Z-2-all ,sum-D_func-Z-3-all ,sum-D_func-I-0-all ,sum-D_func-I-1-all ,sum-D_func-I-2-all ,sum-D_func-I-3-all ,sum-D_func-T-0-all ,sum-D_func-T-1-all ,sum-D_func-T-2-all ,sum-D_func-T-3-all ,sum-D_func-S-0-all ,sum-D_func-S-1-all ,sum-D_func-S-2-all ,sum-D_func-S-3-all ,sum-D_func-alpha-0-all ,sum-D_func-alpha-1-all ,sum-D_func-alpha-2-all ,sum-D_func-alpha-3-all', name='my catboost model', task=<BenchTaskEnum.logKH_CO2_ext: 'logKH_CO2_ood'>, model_type=None, reference=None, implementation=None, mofdscribe_version='0.0.1-dev')"
      ]
     },
     "execution_count": 30,
     "metadata": {},
     "output_type": "execute_result"
    }
   ],
   "source": [
    "result"
   ]
  },
  {
   "cell_type": "code",
   "execution_count": null,
   "metadata": {},
   "outputs": [],
   "source": []
  }
 ],
 "metadata": {
  "kernelspec": {
   "display_name": "Python 3.8.13 ('mofdscribe')",
   "language": "python",
   "name": "python3"
  },
  "language_info": {
   "codemirror_mode": {
    "name": "ipython",
    "version": 3
   },
   "file_extension": ".py",
   "mimetype": "text/x-python",
   "name": "python",
   "nbconvert_exporter": "python",
   "pygments_lexer": "ipython3",
   "version": "3.8.13"
  },
  "orig_nbformat": 4,
  "vscode": {
   "interpreter": {
    "hash": "3ffc06f754d7c80b59e39914e7792f1f92938dc6ca13a8ff96847f8f4d27fee3"
   }
  }
 },
 "nbformat": 4,
 "nbformat_minor": 2
}

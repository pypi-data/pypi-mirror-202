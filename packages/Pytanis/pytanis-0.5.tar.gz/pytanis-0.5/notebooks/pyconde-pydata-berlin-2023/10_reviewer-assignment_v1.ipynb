{
 "cells": [
  {
   "cell_type": "code",
   "execution_count": 1,
   "metadata": {},
   "outputs": [],
   "source": [
    "import os\n",
    "import sys\n",
    "import math\n",
    "import logging\n",
    "import structlog\n",
    "from pathlib import Path\n",
    "import json\n",
    "\n",
    "import tomli\n",
    "import numpy as np\n",
    "\n",
    "%load_ext autoreload\n",
    "%autoreload 2\n",
    "\n",
    "import matplotlib as mpl\n",
    "import matplotlib.pyplot as plt\n",
    "%matplotlib inline\n",
    "%config InlineBackend.figure_format = 'retina'\n",
    "\n",
    "import seaborn as sns\n",
    "sns.set_context(\"poster\")\n",
    "sns.set(rc={\"figure.figsize\": (12, 6.)})\n",
    "sns.set_style(\"whitegrid\")\n",
    "\n",
    "import pandas as pd\n",
    "pd.set_option(\"display.max_rows\", 120)\n",
    "pd.set_option(\"display.max_columns\", 120)"
   ]
  },
  {
   "cell_type": "code",
   "execution_count": 2,
   "metadata": {},
   "outputs": [],
   "source": [
    "logging.basicConfig(level=logging.WARNING, stream=sys.stdout)"
   ]
  },
  {
   "cell_type": "code",
   "execution_count": 3,
   "metadata": {},
   "outputs": [],
   "source": [
    "import pytanis\n",
    "from pytanis import GSheetClient, PretalxClient\n",
    "from pytanis.pretalx import subs_as_df\n",
    "from pytanis.review import read_assignment_as_df, save_assignments_as_json, Col"
   ]
  },
  {
   "cell_type": "code",
   "execution_count": 4,
   "metadata": {},
   "outputs": [
    {
     "data": {
      "text/plain": [
       "'0.4'"
      ]
     },
     "execution_count": 4,
     "metadata": {},
     "output_type": "execute_result"
    }
   ],
   "source": [
    "# Be aware that this notebook might only run with the following version\n",
    "pytanis.__version__ "
   ]
  },
  {
   "cell_type": "code",
   "execution_count": 5,
   "metadata": {},
   "outputs": [],
   "source": [
    "# Import event-specific settings to don't have them here in the notebook\n",
    "with open('config.toml', 'rb') as fh:\n",
    "    cfg = tomli.load(fh)\n",
    "\n",
    "TARGET_REVIEWS = 3  # We want at least 3 reviews per proposal\n",
    "RND_STATE = 1729 # Random state or None for really random\n",
    "community_map = \"General: Community, Diversity, Career, Life and everything else\", \"General: Community\" # to make splitting easier in GSheet"
   ]
  },
  {
   "cell_type": "markdown",
   "metadata": {},
   "source": [
    "# Read Reviews and all Submissions"
   ]
  },
  {
   "cell_type": "code",
   "execution_count": null,
   "metadata": {},
   "outputs": [
    {
     "data": {
      "application/vnd.jupyter.widget-view+json": {
       "model_id": "ff056f83a6ac4670baea847a974c7920",
       "version_major": 2,
       "version_minor": 0
      },
      "text/plain": [
       "  0%|          | 0/422 [00:00<?, ?it/s]"
      ]
     },
     "metadata": {},
     "output_type": "display_data"
    },
    {
     "data": {
      "application/vnd.jupyter.widget-view+json": {
       "model_id": "1b8e4eaeeabb4044a67dfb33ded042c7",
       "version_major": 2,
       "version_minor": 0
      },
      "text/plain": [
       "  0%|          | 0/1390 [00:00<?, ?it/s]"
      ]
     },
     "metadata": {},
     "output_type": "display_data"
    }
   ],
   "source": [
    "pretalx_client = PretalxClient(blocking=True)\n",
    "subs_count, subs = pretalx_client.submissions(cfg['event_name'])\n",
    "revs_count, revs = pretalx_client.reviews(cfg['event_name'])\n",
    "subs, revs = list(subs), list(revs)"
   ]
  },
  {
   "cell_type": "code",
   "execution_count": null,
   "metadata": {},
   "outputs": [],
   "source": [
    "# count reviews that actually have scores\n",
    "revs_vcounts = pd.Series([r.submission for r in revs if r.score is not None]).value_counts()\n",
    "revs_vcounts = revs_vcounts.reset_index().rename(columns={\"index\": Col.submission, 0: Col.nreviews})\n",
    "# keep track of all reviews, i.e. proposals people interacted with\n",
    "revs_df_raw = pd.DataFrame([{\"created\": r.created, \"updated\": r.updated, Col.pretalx_user: r.user, \"score\": r.score, \"review\": r.submission} for r in revs])\n",
    "revs_df = revs_df_raw.groupby([Col.pretalx_user]).agg(lambda x: x.tolist()).reset_index()"
   ]
  },
  {
   "cell_type": "code",
   "execution_count": null,
   "metadata": {},
   "outputs": [],
   "source": [
    "subs_df = subs_as_df([sub for sub in subs if sub.state == \"submitted\"])  # Take only submitted ones\n",
    "subs_df[Col.track].replace(dict([community_map]), inplace=True)\n",
    "subs_df[Col.target_nreviews] = TARGET_REVIEWS  \n",
    "subs_df = pd.merge(subs_df, revs_vcounts, on=Col.submission, how='left')\n",
    "subs_df[Col.nreviews] = subs_df[Col.nreviews].fillna(0).astype(int)\n",
    "subs_df[Col.rem_nreviews] = (subs_df[Col.target_nreviews] - subs_df[Col.nreviews]).map(lambda x: max(0, x))"
   ]
  },
  {
   "cell_type": "code",
   "execution_count": null,
   "metadata": {},
   "outputs": [],
   "source": [
    "# save all submission codes for later\n",
    "all_sub_codes = list(subs_df[Col.submission])"
   ]
  },
  {
   "cell_type": "code",
   "execution_count": null,
   "metadata": {},
   "outputs": [],
   "source": [
    "bp = sns.barplot(subs_df[Col.nreviews].value_counts().reset_index().rename(columns={'index': '#Reviews/Proposal', Col.nreviews: \"#Proposals\"}), \n",
    "                 x='#Reviews/Proposal', y=\"#Proposals\")\n",
    "bp.set(ylim=(0, len(subs_df.index)));"
   ]
  },
  {
   "cell_type": "code",
   "execution_count": null,
   "metadata": {},
   "outputs": [],
   "source": [
    "progress_df = subs_df.copy()\n",
    "progress_df[Col.nreviews] = progress_df[Col.nreviews].map(lambda x: min(x, TARGET_REVIEWS)) # map more than 3 reviews to 3\n",
    "progress_df = progress_df[[Col.target_nreviews, Col.nreviews]].sum().to_frame().T\n",
    "f, ax = plt.subplots(figsize=(15, 1))\n",
    "sns.set_color_codes(\"pastel\")\n",
    "sns.barplot(data=subs_df[[Col.target_nreviews, Col.nreviews]].sum().to_frame().T, x=Col.target_nreviews, color='b')\n",
    "sns.set_color_codes(\"muted\")\n",
    "ax = sns.barplot(data=progress_df, x=Col.nreviews, color='b');\n",
    "ax.bar_label(ax.containers[1], labels=[\"{:.1%}\".format(progress_df.loc[0, Col.nreviews] / progress_df.loc[0, Col.target_nreviews])]);"
   ]
  },
  {
   "cell_type": "markdown",
   "metadata": {
    "tags": []
   },
   "source": [
    "# Get spreadsheat with reviewers and preferences"
   ]
  },
  {
   "cell_type": "code",
   "execution_count": null,
   "metadata": {},
   "outputs": [],
   "source": [
    "gsheet_client = GSheetClient()"
   ]
  },
  {
   "cell_type": "code",
   "execution_count": null,
   "metadata": {},
   "outputs": [],
   "source": [
    "gsheet_df = gsheet_client.gsheet_as_df(cfg['spreadsheet_id'], cfg['worksheet_name'])\n",
    "# rename columns to stick to our convention\n",
    "col_map = {\n",
    " \"Topics you want to review\": Col.track_prefs,\n",
    " \"Email address\": Col.email,\n",
    " \"Name\": Col.speaker_name,\n",
    " \"Affiliation\": Col.affiliation,\n",
    " \"Who do you know from the Committee?\": Col.committee_contact,\n",
    " \"Availability during the Review Period\": Col.availability,\n",
    " \"Additional comments regarding your availability during the review period.\": Col.availability_comment,\n",
    " \"Activated in Pretalx\": Col.pretalx_activated,\n",
    " \"Do you want your name to be listed as a reviewer on the conference website?\": Col.public,\n",
    " \"Wants all proposals\": Col.all_proposals,\n",
    " \"Any additional comments for the Program Committee\": Col.comment,\n",
    " \"Pretalx Name\": Col.pretalx_user,\n",
    "}\n",
    "gsheet_df.rename(columns=col_map, inplace=True)"
   ]
  },
  {
   "cell_type": "markdown",
   "metadata": {},
   "source": [
    "### Do some transformations to handle the GSheet"
   ]
  },
  {
   "cell_type": "code",
   "execution_count": null,
   "metadata": {},
   "outputs": [],
   "source": [
    "# parse preferences\n",
    "gsheet_df[Col.track_prefs] = gsheet_df[Col.track_prefs].apply(lambda x: x.replace(community_map[0], community_map[1]).split(', '))\n",
    "gsheet_df = gsheet_df.loc[~gsheet_df[Col.pretalx_activated].isna()]\n",
    "# save people that want all proposals for later\n",
    "assign_all_emails = gsheet_df[Col.email].loc[gsheet_df[Col.all_proposals] == 'x'].tolist()\n",
    "gsheet_df = gsheet_df.loc[gsheet_df[Col.all_proposals] != 'x']"
   ]
  },
  {
   "cell_type": "code",
   "execution_count": null,
   "metadata": {},
   "outputs": [],
   "source": [
    "assign_df = pd.merge(gsheet_df, revs_df, on=Col.pretalx_user, how='left')\n",
    "assign_df[\"review\"] = assign_df[\"review\"].apply(lambda x: x if isinstance(x, list) else [])\n",
    "assign_df[Col.curr_assignments] = assign_df[\"review\"].map(lambda x: x[:])"
   ]
  },
  {
   "cell_type": "code",
   "execution_count": null,
   "metadata": {},
   "outputs": [],
   "source": [
    "assign_df = assign_df.assign(**{Col.done_nreviews: assign_df[\"score\"].map(\n",
    "    lambda scores: 0 if not isinstance(scores, list) else len([s for s in scores if not np.isnan(s)]))}\n",
    ")"
   ]
  },
  {
   "cell_type": "code",
   "execution_count": null,
   "metadata": {},
   "outputs": [],
   "source": [
    "sns.barplot(assign_df[Col.done_nreviews].value_counts().reset_index().rename(\n",
    "    columns={'index': Col.done_nreviews, Col.done_nreviews: \"#Reviewers\"}), \n",
    "    x=Col.done_nreviews, \n",
    "    y=\"#Reviewers\");"
   ]
  },
  {
   "cell_type": "code",
   "execution_count": null,
   "metadata": {},
   "outputs": [],
   "source": [
    "active_rev = pd.DataFrame({\n",
    "    \"Active Reviewers\": [assign_df.assign(started=assign_df[Col.done_nreviews] > 0).groupby(\"started\").count()[Col.speaker_name].loc[True]],\n",
    "    \"all\": [len(assign_df)]\n",
    "})"
   ]
  },
  {
   "cell_type": "code",
   "execution_count": null,
   "metadata": {},
   "outputs": [],
   "source": [
    "f, ax = plt.subplots(figsize=(15, 1))\n",
    "sns.set_color_codes(\"pastel\")\n",
    "sns.barplot(data=active_rev, x=\"all\", color='g')\n",
    "sns.set_color_codes(\"muted\")\n",
    "ax = sns.barplot(data=active_rev, x=\"Active Reviewers\", color='g');\n",
    "ax.bar_label(ax.containers[1], labels=[\"{:.1%}\".format(active_rev.loc[0, \"Active Reviewers\"] / active_rev.loc[0, \"all\"])]);"
   ]
  },
  {
   "cell_type": "markdown",
   "metadata": {},
   "source": [
    "# Assign remaining proposals to reviewers\n",
    "\n",
    "The main idea is to assign each the number of needed reviews plus a buffer for a proposal/submission: \n",
    "* not a person having already assigned the review for a submission (no duplicates)\n",
    "* to a person having a preference for the track with the least amount of current work.\n",
    "* if no person has a preference for the track of the proposal, assign to someone with not much work.\n",
    "\n",
    "Since we will run this dynamically the moment the needed number is reached, the proposal will be deallocated from people that were assigned the buffer.\n",
    "\n",
    "(it might be that someone gets by accident assigned his/her own proposal but Pretalx takes care of that if the same user e-mail was used)"
   ]
  },
  {
   "cell_type": "code",
   "execution_count": null,
   "metadata": {},
   "outputs": [],
   "source": [
    "def find_user(df, is_preference, is_already_assigned):\n",
    "    mask = is_preference & ~is_already_assigned\n",
    "    if df.loc[mask].empty:\n",
    "        return df.loc[~is_already_assigned, \"New Assignments\"].idxmin()\n",
    "    else:\n",
    "        return df.loc[mask, \"New Assignments\"].idxmin()\n",
    "\n",
    "def assign_proposals(dist_df, curr_df, buffer=3):\n",
    "    dist_df = dist_df.sort_values(Col.rem_nreviews, ascending=False)\n",
    "    curr_df = curr_df.copy()\n",
    "    for _, row in dist_df.iterrows():\n",
    "        is_preference = curr_df[Col.track_prefs].map(lambda x: row[Col.track] in x)\n",
    "        is_already_assigned = curr_df[Col.curr_assignments].map(lambda x: row[Col.submission] in x)\n",
    "        if row[Col.rem_nreviews] < 1:\n",
    "            continue\n",
    "        for _ in range(row[Col.rem_nreviews] + buffer):\n",
    "            idx = find_user(curr_df, is_preference, is_already_assigned)\n",
    "            curr_df.loc[idx, Col.curr_assignments].append(row[Col.submission])\n",
    "            curr_df.loc[idx, \"New Assignments\"] += 1\n",
    "    return curr_df"
   ]
  },
  {
   "cell_type": "code",
   "execution_count": null,
   "metadata": {},
   "outputs": [],
   "source": [
    "#assign_df[\"New Assignments\"] = assign_df[Col.curr_assignments].map(len) # keep track of what was done so far\n",
    "#start giving everyone some more things to do\n",
    "assign_df[\"New Assignments\"] = 0\n",
    "\n",
    "assign_df = assign_df.sample(frac=1, random_state=RND_STATE).reset_index(drop=True)\n",
    "new_assign_df = assign_proposals(subs_df, assign_df)"
   ]
  },
  {
   "cell_type": "code",
   "execution_count": null,
   "metadata": {},
   "outputs": [],
   "source": [
    "# add people that want all proposals assigned again\n",
    "all_subs_df = pd.DataFrame({Col.email: assign_all_emails, Col.curr_assignments: [all_sub_codes] * len(assign_all_emails)})\n",
    "new_assign_df = pd.concat([new_assign_df, all_subs_df]).reset_index()"
   ]
  },
  {
   "cell_type": "markdown",
   "metadata": {},
   "source": [
    "# Save it as JSON"
   ]
  },
  {
   "cell_type": "code",
   "execution_count": null,
   "metadata": {},
   "outputs": [],
   "source": [
    "save_assignments_as_json(new_assign_df, \"assignments_20230131_1.json\")"
   ]
  },
  {
   "cell_type": "code",
   "execution_count": null,
   "metadata": {},
   "outputs": [],
   "source": []
  }
 ],
 "metadata": {
  "kernelspec": {
   "display_name": "Python 3 (ipykernel)",
   "language": "python",
   "name": "python3"
  },
  "language_info": {
   "codemirror_mode": {
    "name": "ipython",
    "version": 3
   },
   "file_extension": ".py",
   "mimetype": "text/x-python",
   "name": "python",
   "nbconvert_exporter": "python",
   "pygments_lexer": "ipython3",
   "version": "3.10.6"
  },
  "pycharm": {
   "stem_cell": {
    "cell_type": "raw",
    "metadata": {
     "collapsed": false
    },
    "source": []
   }
  }
 },
 "nbformat": 4,
 "nbformat_minor": 4
}

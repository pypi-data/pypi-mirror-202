{
 "cells": [
  {
   "cell_type": "code",
   "execution_count": 1,
   "metadata": {},
   "outputs": [],
   "source": [
    "import os\n",
    "import sys\n",
    "import math\n",
    "import logging\n",
    "import structlog\n",
    "from pathlib import Path\n",
    "import json\n",
    "import re\n",
    "from itertools import product, combinations\n",
    "\n",
    "import tomli\n",
    "import numpy as np\n",
    "\n",
    "%load_ext autoreload\n",
    "%autoreload 2\n",
    "\n",
    "import matplotlib as mpl\n",
    "import matplotlib.pyplot as plt\n",
    "%matplotlib inline\n",
    "%config InlineBackend.figure_format = 'retina'\n",
    "\n",
    "import seaborn as sns\n",
    "sns.set_context(\"poster\")\n",
    "sns.set(rc={\"figure.figsize\": (12, 6.)})\n",
    "sns.set_style(\"whitegrid\")\n",
    "\n",
    "import pandas as pd\n",
    "pd.set_option(\"display.max_rows\", 120)\n",
    "pd.set_option(\"display.max_columns\", 120)"
   ]
  },
  {
   "cell_type": "code",
   "execution_count": 2,
   "metadata": {},
   "outputs": [],
   "source": [
    "logging.basicConfig(level=logging.WARNING, stream=sys.stdout)"
   ]
  },
  {
   "cell_type": "code",
   "execution_count": 3,
   "metadata": {},
   "outputs": [],
   "source": [
    "import pytanis\n",
    "from pytanis import GSheetClient, PretalxClient\n",
    "from pytanis.google import Scope, gsheet_rows_for_fmt, worksheet_range\n",
    "from pytanis.review import read_assignment_as_df, save_assignments_as_json, Col\n",
    "from pytanis.pretalx import subs_as_df, reviews_as_df, speakers_as_df\n",
    "from pytanis.utils import implode\n",
    "from pytanis.highs import set_solution_from_file, read_sol_file"
   ]
  },
  {
   "cell_type": "code",
   "execution_count": 4,
   "metadata": {},
   "outputs": [
    {
     "data": {
      "text/plain": [
       "'0.4'"
      ]
     },
     "execution_count": 4,
     "metadata": {},
     "output_type": "execute_result"
    }
   ],
   "source": [
    "# Be aware that this notebook might only run with the following version\n",
    "pytanis.__version__ "
   ]
  },
  {
   "cell_type": "code",
   "execution_count": 5,
   "metadata": {},
   "outputs": [],
   "source": [
    "# Import event-specific settings to don't have them here in the notebook\n",
    "with open('config.toml', 'rb') as fh:\n",
    "    cfg = tomli.load(fh)\n"
   ]
  },
  {
   "cell_type": "markdown",
   "metadata": {
    "tags": []
   },
   "source": [
    "## Gather all Data, i.e. Submissions, Votes and Scheduling Data"
   ]
  },
  {
   "cell_type": "code",
   "execution_count": 6,
   "metadata": {},
   "outputs": [
    {
     "data": {
      "application/vnd.jupyter.widget-view+json": {
       "model_id": "5d4ededee5794a7b9a629021189943a4",
       "version_major": 2,
       "version_minor": 0
      },
      "text/plain": [
       "  0%|          | 0/114 [00:00<?, ?it/s]"
      ]
     },
     "metadata": {},
     "output_type": "display_data"
    },
    {
     "data": {
      "application/vnd.jupyter.widget-view+json": {
       "model_id": "b84f4b76c3bd4cb18f0c9cfe45061c8e",
       "version_major": 2,
       "version_minor": 0
      },
      "text/plain": [
       "  0%|          | 0/7 [00:00<?, ?it/s]"
      ]
     },
     "metadata": {},
     "output_type": "display_data"
    }
   ],
   "source": [
    "pretalx_client = PretalxClient(blocking=True)\n",
    "talks_count, talks = pretalx_client.submissions(cfg['event_name'], params={\"questions\": \"all\", \"state\": [\"confirmed\"]})\n",
    "talks = list(talks)\n",
    "rooms_count, rooms = pretalx_client.rooms(cfg['event_name'])\n",
    "rooms = list(rooms)"
   ]
  },
  {
   "cell_type": "code",
   "execution_count": 7,
   "metadata": {},
   "outputs": [],
   "source": [
    "talks_df = subs_as_df(talks, with_questions=True)\n",
    "# Ignore Keynotes when scheduling\n",
    "talks_df = talks_df.loc[~(talks_df[Col.submission_type] == \"Keynote\")]\n",
    "# Split track up in main/sub track\n",
    "talks_df.insert(2, 'Main track', talks_df[Col.track].map(lambda x: x.split(\":\")[0] if not pd.isna(x) else x))\n",
    "talks_df[Col.track] = talks_df[Col.track].map(lambda x: x.split(\":\")[-1] if not pd.isna(x) else x).map(lambda x: re.sub('[\\W_]+', '', x))"
   ]
  },
  {
   "cell_type": "code",
   "execution_count": 9,
   "metadata": {
    "tags": []
   },
   "outputs": [
    {
     "name": "stdout",
     "output_type": "stream",
     "text": [
      "Main tracks ['PyData', 'PyCon', 'General']\n",
      "Sub tracks ['DataHandling', 'MachineLearningStats', 'ProgrammingSoftwareEngineering', 'Testing', 'PyDataScientificLibrariesStack', 'Jupyter', 'Web', 'PythonPyDataFriends', 'DevOpsMLOps', 'Django', 'EthicsPrivacy', 'NaturalLanguageProcessing', 'Visualisation', 'Others', 'PythonLanguage', 'Libraries', 'ComputerVision', 'DeepLearning', 'InfrastructureHardwareCloud', 'CommunityDiversityCareerLifeandeverythingelse']\n"
     ]
    }
   ],
   "source": [
    "main_tracks = [mt for mt in talks_df[\"Main track\"].unique() if mt != 'Plenary']\n",
    "sub_tracks = [st for st in talks_df[Col.track].unique() if st != 'Plenary']\n",
    "print(\"Main tracks\", main_tracks)\n",
    "print(\"Sub tracks\", sub_tracks)"
   ]
  },
  {
   "cell_type": "code",
   "execution_count": 10,
   "metadata": {
    "tags": []
   },
   "outputs": [
    {
     "data": {
      "text/html": [
       "<div>\n",
       "<style scoped>\n",
       "    .dataframe tbody tr th:only-of-type {\n",
       "        vertical-align: middle;\n",
       "    }\n",
       "\n",
       "    .dataframe tbody tr th {\n",
       "        vertical-align: top;\n",
       "    }\n",
       "\n",
       "    .dataframe thead th {\n",
       "        text-align: right;\n",
       "    }\n",
       "</style>\n",
       "<table border=\"1\" class=\"dataframe\">\n",
       "  <thead>\n",
       "    <tr style=\"text-align: right;\">\n",
       "      <th></th>\n",
       "      <th>Submission</th>\n",
       "      <th>General</th>\n",
       "      <th>PyCon</th>\n",
       "      <th>PyData</th>\n",
       "    </tr>\n",
       "  </thead>\n",
       "  <tbody>\n",
       "    <tr>\n",
       "      <th>0</th>\n",
       "      <td>S79HEH</td>\n",
       "      <td>0</td>\n",
       "      <td>0</td>\n",
       "      <td>1</td>\n",
       "    </tr>\n",
       "    <tr>\n",
       "      <th>1</th>\n",
       "      <td>HNKMMP</td>\n",
       "      <td>0</td>\n",
       "      <td>0</td>\n",
       "      <td>1</td>\n",
       "    </tr>\n",
       "    <tr>\n",
       "      <th>2</th>\n",
       "      <td>VBP3PE</td>\n",
       "      <td>0</td>\n",
       "      <td>1</td>\n",
       "      <td>0</td>\n",
       "    </tr>\n",
       "    <tr>\n",
       "      <th>3</th>\n",
       "      <td>AQAJDH</td>\n",
       "      <td>0</td>\n",
       "      <td>1</td>\n",
       "      <td>0</td>\n",
       "    </tr>\n",
       "    <tr>\n",
       "      <th>4</th>\n",
       "      <td>G9TATQ</td>\n",
       "      <td>0</td>\n",
       "      <td>0</td>\n",
       "      <td>1</td>\n",
       "    </tr>\n",
       "  </tbody>\n",
       "</table>\n",
       "</div>"
      ],
      "text/plain": [
       "  Submission  General  PyCon  PyData\n",
       "0     S79HEH        0      0       1\n",
       "1     HNKMMP        0      0       1\n",
       "2     VBP3PE        0      1       0\n",
       "3     AQAJDH        0      1       0\n",
       "4     G9TATQ        0      0       1"
      ]
     },
     "execution_count": 10,
     "metadata": {},
     "output_type": "execute_result"
    }
   ],
   "source": [
    "talk2main_track = pd.concat([talks_df[Col.submission], pd.get_dummies(talks_df[\"Main track\"]).drop(columns=\"Plenary\")], axis=1)\n",
    "talk2main_track.head()"
   ]
  },
  {
   "cell_type": "code",
   "execution_count": 11,
   "metadata": {
    "tags": []
   },
   "outputs": [],
   "source": [
    "talk2main_track = talk2main_track.melt(id_vars=Col.submission, value_vars=talk2main_track.columns, var_name='Main track').sort_values([Col.submission, \"Main track\"]).set_index([Col.submission, \"Main track\"]).to_dict()['value']"
   ]
  },
  {
   "cell_type": "code",
   "execution_count": 12,
   "metadata": {
    "tags": []
   },
   "outputs": [
    {
     "data": {
      "text/html": [
       "<div>\n",
       "<style scoped>\n",
       "    .dataframe tbody tr th:only-of-type {\n",
       "        vertical-align: middle;\n",
       "    }\n",
       "\n",
       "    .dataframe tbody tr th {\n",
       "        vertical-align: top;\n",
       "    }\n",
       "\n",
       "    .dataframe thead th {\n",
       "        text-align: right;\n",
       "    }\n",
       "</style>\n",
       "<table border=\"1\" class=\"dataframe\">\n",
       "  <thead>\n",
       "    <tr style=\"text-align: right;\">\n",
       "      <th></th>\n",
       "      <th>Submission</th>\n",
       "      <th>CommunityDiversityCareerLifeandeverythingelse</th>\n",
       "      <th>ComputerVision</th>\n",
       "      <th>DataHandling</th>\n",
       "      <th>DeepLearning</th>\n",
       "      <th>DevOpsMLOps</th>\n",
       "      <th>Django</th>\n",
       "      <th>EthicsPrivacy</th>\n",
       "      <th>InfrastructureHardwareCloud</th>\n",
       "      <th>Jupyter</th>\n",
       "      <th>Libraries</th>\n",
       "      <th>MachineLearningStats</th>\n",
       "      <th>NaturalLanguageProcessing</th>\n",
       "      <th>Others</th>\n",
       "      <th>ProgrammingSoftwareEngineering</th>\n",
       "      <th>PyDataScientificLibrariesStack</th>\n",
       "      <th>PythonLanguage</th>\n",
       "      <th>PythonPyDataFriends</th>\n",
       "      <th>Testing</th>\n",
       "      <th>Visualisation</th>\n",
       "      <th>Web</th>\n",
       "    </tr>\n",
       "  </thead>\n",
       "  <tbody>\n",
       "    <tr>\n",
       "      <th>0</th>\n",
       "      <td>S79HEH</td>\n",
       "      <td>0</td>\n",
       "      <td>0</td>\n",
       "      <td>1</td>\n",
       "      <td>0</td>\n",
       "      <td>0</td>\n",
       "      <td>0</td>\n",
       "      <td>0</td>\n",
       "      <td>0</td>\n",
       "      <td>0</td>\n",
       "      <td>0</td>\n",
       "      <td>0</td>\n",
       "      <td>0</td>\n",
       "      <td>0</td>\n",
       "      <td>0</td>\n",
       "      <td>0</td>\n",
       "      <td>0</td>\n",
       "      <td>0</td>\n",
       "      <td>0</td>\n",
       "      <td>0</td>\n",
       "      <td>0</td>\n",
       "    </tr>\n",
       "    <tr>\n",
       "      <th>1</th>\n",
       "      <td>HNKMMP</td>\n",
       "      <td>0</td>\n",
       "      <td>0</td>\n",
       "      <td>0</td>\n",
       "      <td>0</td>\n",
       "      <td>0</td>\n",
       "      <td>0</td>\n",
       "      <td>0</td>\n",
       "      <td>0</td>\n",
       "      <td>0</td>\n",
       "      <td>0</td>\n",
       "      <td>1</td>\n",
       "      <td>0</td>\n",
       "      <td>0</td>\n",
       "      <td>0</td>\n",
       "      <td>0</td>\n",
       "      <td>0</td>\n",
       "      <td>0</td>\n",
       "      <td>0</td>\n",
       "      <td>0</td>\n",
       "      <td>0</td>\n",
       "    </tr>\n",
       "    <tr>\n",
       "      <th>2</th>\n",
       "      <td>VBP3PE</td>\n",
       "      <td>0</td>\n",
       "      <td>0</td>\n",
       "      <td>0</td>\n",
       "      <td>0</td>\n",
       "      <td>0</td>\n",
       "      <td>0</td>\n",
       "      <td>0</td>\n",
       "      <td>0</td>\n",
       "      <td>0</td>\n",
       "      <td>0</td>\n",
       "      <td>0</td>\n",
       "      <td>0</td>\n",
       "      <td>0</td>\n",
       "      <td>1</td>\n",
       "      <td>0</td>\n",
       "      <td>0</td>\n",
       "      <td>0</td>\n",
       "      <td>0</td>\n",
       "      <td>0</td>\n",
       "      <td>0</td>\n",
       "    </tr>\n",
       "    <tr>\n",
       "      <th>3</th>\n",
       "      <td>AQAJDH</td>\n",
       "      <td>0</td>\n",
       "      <td>0</td>\n",
       "      <td>0</td>\n",
       "      <td>0</td>\n",
       "      <td>0</td>\n",
       "      <td>0</td>\n",
       "      <td>0</td>\n",
       "      <td>0</td>\n",
       "      <td>0</td>\n",
       "      <td>0</td>\n",
       "      <td>0</td>\n",
       "      <td>0</td>\n",
       "      <td>0</td>\n",
       "      <td>0</td>\n",
       "      <td>0</td>\n",
       "      <td>0</td>\n",
       "      <td>0</td>\n",
       "      <td>1</td>\n",
       "      <td>0</td>\n",
       "      <td>0</td>\n",
       "    </tr>\n",
       "    <tr>\n",
       "      <th>4</th>\n",
       "      <td>G9TATQ</td>\n",
       "      <td>0</td>\n",
       "      <td>0</td>\n",
       "      <td>0</td>\n",
       "      <td>0</td>\n",
       "      <td>0</td>\n",
       "      <td>0</td>\n",
       "      <td>0</td>\n",
       "      <td>0</td>\n",
       "      <td>0</td>\n",
       "      <td>0</td>\n",
       "      <td>0</td>\n",
       "      <td>0</td>\n",
       "      <td>0</td>\n",
       "      <td>0</td>\n",
       "      <td>1</td>\n",
       "      <td>0</td>\n",
       "      <td>0</td>\n",
       "      <td>0</td>\n",
       "      <td>0</td>\n",
       "      <td>0</td>\n",
       "    </tr>\n",
       "  </tbody>\n",
       "</table>\n",
       "</div>"
      ],
      "text/plain": [
       "  Submission  CommunityDiversityCareerLifeandeverythingelse  ComputerVision  \\\n",
       "0     S79HEH                                              0               0   \n",
       "1     HNKMMP                                              0               0   \n",
       "2     VBP3PE                                              0               0   \n",
       "3     AQAJDH                                              0               0   \n",
       "4     G9TATQ                                              0               0   \n",
       "\n",
       "   DataHandling  DeepLearning  DevOpsMLOps  Django  EthicsPrivacy  \\\n",
       "0             1             0            0       0              0   \n",
       "1             0             0            0       0              0   \n",
       "2             0             0            0       0              0   \n",
       "3             0             0            0       0              0   \n",
       "4             0             0            0       0              0   \n",
       "\n",
       "   InfrastructureHardwareCloud  Jupyter  Libraries  MachineLearningStats  \\\n",
       "0                            0        0          0                     0   \n",
       "1                            0        0          0                     1   \n",
       "2                            0        0          0                     0   \n",
       "3                            0        0          0                     0   \n",
       "4                            0        0          0                     0   \n",
       "\n",
       "   NaturalLanguageProcessing  Others  ProgrammingSoftwareEngineering  \\\n",
       "0                          0       0                               0   \n",
       "1                          0       0                               0   \n",
       "2                          0       0                               1   \n",
       "3                          0       0                               0   \n",
       "4                          0       0                               0   \n",
       "\n",
       "   PyDataScientificLibrariesStack  PythonLanguage  PythonPyDataFriends  \\\n",
       "0                               0               0                    0   \n",
       "1                               0               0                    0   \n",
       "2                               0               0                    0   \n",
       "3                               0               0                    0   \n",
       "4                               1               0                    0   \n",
       "\n",
       "   Testing  Visualisation  Web  \n",
       "0        0              0    0  \n",
       "1        0              0    0  \n",
       "2        0              0    0  \n",
       "3        1              0    0  \n",
       "4        0              0    0  "
      ]
     },
     "execution_count": 12,
     "metadata": {},
     "output_type": "execute_result"
    }
   ],
   "source": [
    "talk2sub_track = pd.concat([talks_df[Col.submission], pd.get_dummies(talks_df[\"Track\"]).drop(columns=\"Plenary\")], axis=1)\n",
    "talk2sub_track.head()"
   ]
  },
  {
   "cell_type": "code",
   "execution_count": 13,
   "metadata": {
    "tags": []
   },
   "outputs": [],
   "source": [
    "talk2sub_track = talk2sub_track.melt(id_vars=Col.submission, value_vars=talk2sub_track.columns, var_name='Track').sort_values([Col.submission, \"Track\"]).set_index([Col.submission, \"Track\"]).to_dict()['value']"
   ]
  },
  {
   "cell_type": "code",
   "execution_count": 14,
   "metadata": {
    "tags": []
   },
   "outputs": [],
   "source": [
    "talk2idx = {v: k for k, v in enumerate(set(talks_df[Col.submission].to_list()))}\n",
    "idx2talk = {v: k for k, v in talk2idx.items()}"
   ]
  },
  {
   "cell_type": "code",
   "execution_count": 15,
   "metadata": {
    "tags": []
   },
   "outputs": [],
   "source": [
    "votes_df = pd.read_csv(\"./pyconde-pydata-berlin-2023-public-votes.csv\")\n",
    "votes_df = votes_df.rename(columns={'code': Col.submission, 'score': Col.vote_score})\n",
    "# Remove votes for submissions that wheren't accepted\n",
    "votes_df = votes_df.loc[votes_df[Col.submission].apply(lambda talk: talk in talk2idx.keys())].reset_index(drop=True)\n",
    "# Remove votes equal 1 as this meant \"being indifferent\"\n",
    "votes_df = votes_df.loc[votes_df[Col.vote_score] > 1]\n",
    "# Move a score of 2 to 1, so that \"must see\" counts tripple compared to \"want to see\"\n",
    "votes_df.loc[votes_df[Col.vote_score] == 2, Col.vote_score] = 1"
   ]
  },
  {
   "cell_type": "code",
   "execution_count": 16,
   "metadata": {
    "tags": []
   },
   "outputs": [
    {
     "name": "stdout",
     "output_type": "stream",
     "text": [
      "{'S79HEH': 30, 'HNKMMP': 30, 'VBP3PE': 45, 'AQAJDH': 30, 'G9TATQ': 30, 'WHACAT': 30, 'GYEZVW': 30, 'V9HBUU': 90, 'MTXCHH': 30, 'E77G9H': 30, 'KUKU9Z': 90, '9SENVW': 30, 'RDQH3W': 45, 'QLCNN9': 30, '8CVQDW': 30, 'KYLLZA': 30, 'MTRFT3': 30, 'DECAHT': 45, 'CBHYXG': 30, 'UECWHD': 30, 'J9KRKZ': 30, '7FTL7H': 30, 'DXMXZH': 30, 'TP7ABB': 30, 'NUF87W': 30, 'B7PCUR': 30, 'MLAGKM': 30, 'FVWF7R': 45, 'UQ3KXD': 90, 'LXBGZS': 45, 'PPXA79': 30, 'Z8PESY': 30, 'W9HLK3': 45, 'WAVRYZ': 45, 'U7WAQW': 30, 'S8GYFF': 90, 'AXMS87': 30, 'EAKYPL': 90, 'CTKC7B': 30, 'ZYB38R': 90, 'WLMDZ7': 30, 'LCCGTT': 30, 'PQZR3Q': 90, 'SVXFP8': 30, 'TCWCVV': 45, 'NWSLUH': 30, 'SJCEFG': 30, 'YTHXML': 30, 'M7XMFB': 90, '3TH9UC': 30, 'GXPWJ8': 30, 'RPMMKZ': 90, 'ENQBPJ': 30, 'JY3R3Z': 30, 'XDRNQC': 45, 'Y9TAMP': 30, 'RQ3MWN': 30, 'FZY9VV': 90, 'WMAXSV': 45, 'HMGCPL': 45, 'GCPNMT': 30, 'H8KMTT': 30, 'ZRAFKA': 30, '8VYHKG': 30, 'TWPBZF': 30, 'GXAKV8': 45, 'MBZJE9': 30, 'NFYQHB': 30, 'HLMGHX': 30, 'NLFFSE': 30, '7SYVML': 30, 'AKXXQD': 30, 'VXPFFP': 30, 'MJRFLC': 30, 'QUAXG3': 30, 'WMWZQC': 30, 'LMGF8V': 30, 'CHLT3D': 30, 'PEQZTC': 30, 'AUJYP7': 30, '7NW7JC': 45, 'XJSNBQ': 90, 'SSTCTS': 30, '9Q38VT': 30, 'MQHTHY': 30, '7EUPC3': 30, '77MWVW': 45, 'XEVGVJ': 30, 'H7ZCWK': 30, 'GLQH8X': 90, 'X89787': 45, 'DB3KC7': 45, 'B8FKHC': 45, 'Q9GVEK': 30, 'A7B8P8': 30, 'GBYWCY': 30, 'MYARJG': 30, 'DEQM3J': 90, 'VFZ3VT': 90, 'YWTRSG': 90, '8WXSR9': 30, 'ABNXHC': 30, 'TGZFSF': 30, 'UNA9AN': 30, 'DTBTVF': 45, 'KMGYZF': 45, 'Q7GS8Y': 45, 'VRGANP': 30, '33XCUR': 30, '3TYND7': 45}\n"
     ]
    }
   ],
   "source": [
    "talk_lengths = {s:d for _, (s, d) in talks_df[[Col.submission, Col.duration]].iterrows()}\n",
    "print(talk_lengths)\n",
    "# following tutorials build sequences and thus need to be in the same session and after one another\n",
    "consecutive_tutorials = [(\"VFZ3VT\", \"DEQM3J\"), (\"KUKU9Z\", \"YWTRSG\")]\n",
    "sponsored_talks = [t.code for t in talks if \"Sponsor\" in t.submission_type.en]"
   ]
  },
  {
   "cell_type": "code",
   "execution_count": 17,
   "metadata": {
    "tags": []
   },
   "outputs": [
    {
     "name": "stdout",
     "output_type": "stream",
     "text": [
      "{'3TH9UC': '0.204', '77MWVW': '0.0741', '7EUPC3': '0.241', '7FTL7H': '0.37', '7NW7JC': '0.0556', '7SYVML': '0.167', '8CVQDW': '0.556', '8VYHKG': '0.0741', '9Q38VT': '0.222', '9SENVW': '0.333', 'A7B8P8': '0.278', 'AKXXQD': '0.315', 'AQAJDH': '0.296', 'AUJYP7': '0.167', 'AXMS87': '0.037', 'B7PCUR': '0.111', 'B8FKHC': '0.407', 'CBHYXG': '0.352', 'CHLT3D': '0.241', 'CTKC7B': '0.037', 'DB3KC7': '1.0', 'DECAHT': '0.241', 'DXMXZH': '0.296', 'E77G9H': '0.185', 'EAKYPL': '0.148', 'ENQBPJ': '0.278', 'FVWF7R': '0.185', 'FZY9VV': '0.389', 'G9TATQ': '0.204', 'GBYWCY': '0.852', 'GCPNMT': '0.296', 'GLQH8X': '0.0741', 'GXAKV8': '0.407', 'GXPWJ8': '0.0926', 'GYEZVW': '0.333', 'H7ZCWK': '0.444', 'H8KMTT': '0.204', 'HLMGHX': '0.167', 'HMGCPL': '0.037', 'HNKMMP': '0.296', 'J9KRKZ': '0.796', 'JY3R3Z': '0.222', 'KUKU9Z': '0.5', 'KYLLZA': '0.0556', 'LCCGTT': '0.556', 'LMGF8V': '0.722', 'LXBGZS': '0.315', 'M7XMFB': '0.333', 'MBZJE9': '0.574', 'MJRFLC': '0.0741', 'MLAGKM': '0.333', 'MQHTHY': '0.37', 'MTRFT3': '0.0926', 'MTXCHH': '0.167', 'NFYQHB': '0.463', 'NLFFSE': '0.0741', 'NUF87W': '0.63', 'NWSLUH': '0.241', 'PEQZTC': '0.0556', 'PPXA79': '0.185', 'PQZR3Q': '0.352', 'Q9GVEK': '0.148', 'QLCNN9': '0.111', 'QUAXG3': '0.0', 'RDQH3W': '0.389', 'RPMMKZ': '0.315', 'RQ3MWN': '0.0556', 'S79HEH': '0.926', 'S8GYFF': '0.167', 'SJCEFG': '0.426', 'SSTCTS': '0.222', 'SVXFP8': '0.0', 'TCWCVV': '0.185', 'TP7ABB': '0.519', 'TWPBZF': '0.667', 'U7WAQW': '0.259', 'UECWHD': '0.0926', 'UQ3KXD': '0.13', 'V9HBUU': '0.167', 'VBP3PE': '0.704', 'VXPFFP': '0.352', 'W9HLK3': '0.333', 'WAVRYZ': '0.259', 'WHACAT': '0.185', 'WLMDZ7': '0.0556', 'WMAXSV': '0.278', 'WMWZQC': '0.111', 'X89787': '0.222', 'XDRNQC': '0.185', 'XEVGVJ': '0.556', 'XJSNBQ': '0.296', 'Y9TAMP': '0.278', 'YTHXML': '0.111', 'Z8PESY': '0.907', 'ZRAFKA': '0.648', 'ZYB38R': '0.185', 'ABNXHC': '0.241', '3TYND7': '0.241', '33XCUR': '0.241', 'KMGYZF': '0.241', 'Q7GS8Y': '0.241', 'UNA9AN': '0.241', 'DEQM3J': '0.241', 'DTBTVF': '0.241', 'TGZFSF': '0.241', 'VRGANP': '0.241', 'VFZ3VT': '0.241', '8WXSR9': '0.241', 'MYARJG': '0.241', 'YWTRSG': '0.241'}\n"
     ]
    }
   ],
   "source": [
    "pops_dict = votes_df.groupby(Col.submission)['Vote Score'].sum().to_dict()\n",
    "# give sponsored talks the median popularity\n",
    "for talk in set(talks_df[Col.submission].to_list()) - set(pops_dict.keys()):\n",
    "    pops_dict[talk] = np.median(list(pops_dict.values()))\n",
    "# normalize the popularities\n",
    "min_pop = np.min(list(pops_dict.values()))\n",
    "max_pop = np.max(list(pops_dict.values()))\n",
    "pops_dict = {k:(v - min_pop) / (max_pop - min_pop) for k, v in pops_dict.items()}\n",
    "print({k: f\"{v:.3}\" for k, v in pops_dict.items()})"
   ]
  },
  {
   "cell_type": "code",
   "execution_count": 18,
   "metadata": {
    "tags": []
   },
   "outputs": [
    {
     "name": "stdout",
     "output_type": "stream",
     "text": [
      "{'Kuppelsaal': 950, 'B09': 240, 'B07B08': 200, 'B05B06': 300, 'A1': 80, 'A03A04': 140, 'A05A06': 140}\n",
      "{'Kuppelsaal': 1.0, 'B09': 0.1839080459770115, 'B07B08': 0.13793103448275862, 'B05B06': 0.25287356321839083, 'A1': 0.0, 'A03A04': 0.06896551724137931, 'A05A06': 0.06896551724137931}\n"
     ]
    }
   ],
   "source": [
    "room_caps_dict = {room.name.en.replace('-', ''):room.capacity for room in rooms}\n",
    "print(room_caps_dict)\n",
    "# normalize room_caps like popularity by dividing by min\n",
    "min_room_cap = np.min(list(room_caps_dict.values()))\n",
    "max_room_cap = np.max(list(room_caps_dict.values()))\n",
    "room_caps_dict = {k: (v - min_room_cap) / (max_room_cap - min_room_cap) for k, v in room_caps_dict.items()}\n",
    "tutorial_rooms =  {'A03A04', 'A05A06'}\n",
    "talk_rooms = set(room_caps_dict.keys()) - tutorial_rooms\n",
    "print(room_caps_dict)"
   ]
  },
  {
   "cell_type": "code",
   "execution_count": 19,
   "metadata": {
    "tags": []
   },
   "outputs": [
    {
     "data": {
      "text/plain": [
       "(0.0, 1.0)"
      ]
     },
     "execution_count": 19,
     "metadata": {},
     "output_type": "execute_result"
    }
   ],
   "source": [
    "# generate penalty for a talk given its popularity in a certain room\n",
    "talk_room_penalty = {(talk, room): (pop - cap)**2 for (talk, pop), (room, cap) in product(pops_dict.items(), room_caps_dict.items())} \n",
    "min(talk_room_penalty.values()), max(talk_room_penalty.values())"
   ]
  },
  {
   "cell_type": "code",
   "execution_count": 20,
   "metadata": {
    "tags": []
   },
   "outputs": [],
   "source": [
    "# generate cooccurrence penalty for all talks scheduled at the same time-slot & room using Gram-matrix\n",
    "n_users = votes_df['voter'].nunique()\n",
    "n_talks = len(talks_df)\n",
    "\n",
    "def user_interaction(user_votes):\n",
    "    x = np.zeros(n_talks)\n",
    "    for _, (sub, vote_score) in user_votes[[Col.submission, Col.vote_score]].iterrows():\n",
    "        x[talk2idx[sub]] = vote_score\n",
    "    return x\n",
    "\n",
    "X = np.vstack(votes_df.groupby(\"voter\").apply(user_interaction))\n",
    "assert X.shape == (n_users, n_talks)\n",
    "\n",
    "cooccurance_penalty = X.T @ X\n",
    "\n",
    "# set diagonal to 0 since a talk is always parallel to itself.\n",
    "np.fill_diagonal(cooccurance_penalty, 0.)\n",
    "\n",
    "# normalize with max as sponsored talks will get the value 1.\n",
    "cooccurance_penalty /= cooccurance_penalty.max() "
   ]
  },
  {
   "cell_type": "code",
   "execution_count": 21,
   "metadata": {
    "tags": []
   },
   "outputs": [
    {
     "data": {
      "image/png": "[encoded data removed]",
      "text/plain": [
       "<Figure size 600x600 with 1 Axes>"
      ]
     },
     "metadata": {
      "image/png": {
       "height": 521,
       "width": 523
      }
     },
     "output_type": "display_data"
    }
   ],
   "source": [
    "# for sponsored talks set a high cooccurence penalty\n",
    "for t1, t2 in combinations(sponsored_talks, 2):\n",
    "    cooccurance_penalty[talk2idx[t1], talk2idx[t2]] = cooccurance_penalty[talk2idx[t2], talk2idx[t1]] = 1.\n",
    "    \n",
    "# set diagonal to 0 since a talk is always parallel to itself.\n",
    "np.fill_diagonal(cooccurance_penalty, 0.)\n",
    "\n",
    "talk_cooccurence_penalty = {(t1, t2): cooccurance_penalty[talk2idx[t1], talk2idx[t2]]**2 for t1, t2 in product(talk2idx.keys(), talk2idx.keys())}\n",
    "plt.matshow(cooccurance_penalty);"
   ]
  },
  {
   "cell_type": "markdown",
   "metadata": {},
   "source": [
    "## Time-Table Scheduling"
   ]
  },
  {
   "cell_type": "markdown",
   "metadata": {},
   "source": [
    "We consider following constraints:\n",
    "* each talk must be assigned once\n",
    "* each room/timeslot combination can only be occupied by one talk at most\n",
    "* the length of the timeslot must match the length of the talk\n",
    "* some tutorials have part 1 & 2,thus need to be consecutive\n",
    "\n",
    "We optimize an objective which considers:\n",
    "1. the preferences for day and time of the speakers are considered (if they provided some)\n",
    "2. the more popular a talk is, the more capacity the assigned room should have\n",
    "3. if many people are interested in seeing two talks (data from the votes) these talks should rather not be scheduled in parallel (sponsored talks should never be in parallel)\n",
    "4. if possible have in the same session (block of talks) the same main track, e.g. PyData, \n",
    "5. or even the same sub track, e.g.PyData: Data Handling, assuming that people have certain preferences regarding tracks.\n",
    "\n",
    "The importance is 1 > 2 > 3 > 4 > 5"
   ]
  },
  {
   "cell_type": "code",
   "execution_count": 22,
   "metadata": {
    "tags": []
   },
   "outputs": [],
   "source": [
    "import pyomo.environ as pyo\n",
    "import pyomo.gdp as pyogdp\n",
    "from pyomo.contrib.appsi.solvers import Highs\n",
    "from tqdm.auto import tqdm"
   ]
  },
  {
   "cell_type": "code",
   "execution_count": 23,
   "metadata": {
    "tags": []
   },
   "outputs": [],
   "source": [
    "model = pyo.ConcreteModel(name=\"PyConDE/PyData Schedule 2023\")\n",
    "\n",
    "##############\n",
    "# Index Sets #\n",
    "##############\n",
    "\n",
    "model.sTalks = pyo.Set(initialize=talks_df[Col.submission].values, ordered=True)\n",
    "model.sDays = pyo.Set(initialize=[\"Monday\", \"Tuesday\", \"Wednesday\"], ordered=True)\n",
    "model.sSessions = pyo.Set(initialize=[\"Morning1\", \"Morning2\", \"Afternoon1\", \"Afternoon2\"], ordered=True)\n",
    "model.sSlots = pyo.Set(initialize=[\"First\", \"Second\", \"Third\"], ordered=True)\n",
    "model.sRooms = pyo.Set(initialize=room_caps_dict.keys(), ordered=True)\n",
    "model.sMainTracks = pyo.Set(initialize=main_tracks, ordered=True)\n",
    "model.sSubTracks = pyo.Set(initialize=sub_tracks, ordered=True)\n",
    "\n",
    "##############\n",
    "# Parameters #\n",
    "##############\n",
    "\n",
    "def init_slot_preference(model, t, d, s, l, r):\n",
    "    if t in {\"WHACAT\", \"MYARJG\", \"E77G9H\", \"8WXSR9\", \"TP7ABB\"} and d == \"Monday\":\n",
    "        return 1\n",
    "    elif t in {\"VBP3PE\"} and d == \"Monday\" and s.startswith(\"Morning\"):\n",
    "        return 1\n",
    "    elif t in {\"KYLLZA\", \"TGZFSF\"} and d == \"Tuesday\":\n",
    "        return 1\n",
    "    elif t in {\"9Q38VT\"} and d in {\"Monday\", \"Tuesday\"}:\n",
    "        return 1\n",
    "    elif t in {\"GBYWCY\"} and d == \"Tuesday\" and s.startswith(\"Morning\"):\n",
    "        return 1\n",
    "    else:\n",
    "        return 0\n",
    "\n",
    "model.pPreferences = pyo.Param(model.sTalks, model.sDays, model.sSessions, model.sSlots, model.sRooms, initialize=init_slot_preference, mutable=False)\n",
    "model.pTalkRoomPenalty = pyo.Param(model.sTalks, model.sRooms, initialize=talk_room_penalty, mutable=False)\n",
    "model.pCoOccurencesPenalty = pyo.Param(model.sTalks, model.sTalks, initialize=talk_cooccurence_penalty, mutable=False)\n",
    "model.pTalk2MainTrack = pyo.Param(model.sTalks, model.sMainTracks, initialize=talk2main_track, mutable=False)\n",
    "model.pTalk2SubTrack = pyo.Param(model.sTalks, model.sSubTracks, initialize=talk2sub_track, mutable=False)\n",
    "\n",
    "def init_slot_length(model, d, s, l, r):\n",
    "    if d == \"Monday\":\n",
    "        if s == \"Morning1\":\n",
    "            if r in talk_rooms:\n",
    "                if l in {\"First\", \"Second\"}:\n",
    "                    return 45\n",
    "                else:\n",
    "                    return 0 # no Third slot\n",
    "            else:\n",
    "                return 90 if l == \"First\" else 0\n",
    "        elif s == \"Morning2\" or s == \"Afternoon1\":\n",
    "            return 0 # does not exist\n",
    "        else: # \"Afternoon 2\":\n",
    "            if r in talk_rooms:\n",
    "                if r == \"Kuppelsaal\":\n",
    "                    return 0\n",
    "                elif l in {\"First\", \"Second\"}:\n",
    "                    return 30\n",
    "                else:\n",
    "                    return 0 # no Third slot\n",
    "            elif r == 'A03A04':\n",
    "                if l == \"First\":\n",
    "                    return 30\n",
    "                elif l == \"Second\":\n",
    "                    return 45\n",
    "                else:\n",
    "                    return 0\n",
    "            else:\n",
    "                return 90 if l == \"First\" else 0\n",
    "    elif d == \"Tuesday\":\n",
    "        if s == \"Morning1\" or s == \"Afternoon2\":\n",
    "            if r in talk_rooms:\n",
    "                return 30\n",
    "            else:\n",
    "                return 90 if l == \"First\" else 0\n",
    "        elif s == \"Afternoon1\":\n",
    "            if r in talk_rooms:\n",
    "                if l == \"First\":\n",
    "                    return 30\n",
    "                elif l == \"Second\":\n",
    "                    return 45\n",
    "                else:\n",
    "                    return 0 # no Third slot\n",
    "            else:\n",
    "                return 90 if l == \"First\" else 0\n",
    "        else: # Morning 2\n",
    "            return 0\n",
    "    else: # Wednesday\n",
    "        if s == \"Morning1\":\n",
    "            if r in talk_rooms:\n",
    "                if l == \"First\":\n",
    "                    return 45\n",
    "                elif l == \"Second\":\n",
    "                    return 30\n",
    "                else:\n",
    "                    return 0 # no Third slot\n",
    "            else:\n",
    "                return 90 if l == \"First\" else 0\n",
    "        elif s == \"Morning2\":\n",
    "            if r in talk_rooms:\n",
    "                if l in {\"First\", \"Second\"}:\n",
    "                    return 30\n",
    "                else:\n",
    "                    return 0 # no Third slot\n",
    "            else:\n",
    "                return 90 if l == \"First\" else 0\n",
    "        elif s == \"Afternoon1\":\n",
    "            if r in talk_rooms:\n",
    "                return 30\n",
    "            else:\n",
    "                return 90 if l == \"First\" else 0\n",
    "        else: # Afternoon 2\n",
    "            return 0\n",
    "    raise RuntimeError(f\"Unhandled case {d}, {s}, {l}, {r}\")\n",
    "    \n",
    "model.pSlotLengths = pyo.Param(model.sDays, model.sSessions, model.sSlots, model.sRooms, initialize=init_slot_length, mutable=False)\n",
    "model.pTalkLengths = pyo.Param(model.sTalks, initialize=talk_lengths, mutable=False)\n",
    "\n",
    "#############\n",
    "# Variables #\n",
    "#############\n",
    "\n",
    "## Auxiliary variables\n",
    "# indicator if talk t is in room r\n",
    "model.vbTalkRoom = pyo.Var(model.sTalks, model.sRooms, domain=pyo.Binary) \n",
    "# indicator if talk t is in day/session/slot combination. Used later to calculate cooccurences.\n",
    "model.vbParallelTalk = pyo.Var(model.sTalks, model.sDays, model.sSessions, model.sSlots, domain=pyo.Binary) \n",
    "# indicator if two talks are in the same day/session/slot combination, thus are running in parallel and only one can be attended to.\n",
    "model.vbCoOccurences = pyo.Var(model.sTalks, model.sTalks, model.sDays, model.sSessions, model.sSlots, domain=pyo.Binary) \n",
    "# indicator if main track occures in day/session/room combination, i.e. occurs in the current session of a room\n",
    "model.vbMainTrackSessionRoom = pyo.Var(model.sDays, model.sSessions, model.sRooms, model.sMainTracks, domain=pyo.Binary) \n",
    "# indicator if sub track occures in day/session/room combination, i.e. occurs in the current session of a room\n",
    "model.vbSubTrackSessionRoom = pyo.Var(model.sDays, model.sSessions, model.sRooms, model.sSubTracks, domain=pyo.Binary)\n",
    "# indicator if talk t is in day/session/room combination, i.e. talk is in a session of a room.\n",
    "model.vbTalkSession = pyo.Var(model.sTalks, model.sDays, model.sSessions, model.sRooms, domain=pyo.Binary)\n",
    "\n",
    "## Decision variable\n",
    "model.vbSchedule = pyo.Var(model.sTalks, model.sDays, model.sSessions, model.sSlots, model.sRooms, domain=pyo.Binary)\n",
    "\n",
    "###############\n",
    "# Constraints #\n",
    "###############\n",
    "\n",
    "# Make sure talk lengths fits slot lengths\n",
    "model.ctTalkSlotFit = pyo.ConstraintList()\n",
    "for t in model.sTalks:\n",
    "    model.ctTalkSlotFit.add(sum(model.vbSchedule[t, d, s, l, r] * model.pSlotLengths[d, s, l, r] for d, s, l, r in product(model.sDays, model.sSessions, model.sSlots, model.sRooms)) == model.pTalkLengths[t])\n",
    "    \n",
    "# Make sure each room/timeslot-combination is occupied only with one talk at most\n",
    "model.ctTimeRoomOccup = pyo.ConstraintList()\n",
    "for d, s, l, r in product(model.sDays, model.sSessions, model.sSlots,  model.sRooms):\n",
    "    model.ctTimeRoomOccup.add(sum(model.vbSchedule[:, d, s, l, r]) <= 1)\n",
    "    \n",
    "# Set vbParallelTalk auxiliary variable\n",
    "model.ctParallelTalk = pyo.ConstraintList()\n",
    "for t, d, s, l in product(model.sTalks, model.sDays, model.sSessions, model.sSlots):\n",
    "    model.ctParallelTalk.add(model.vbParallelTalk[t, d, s, l] == sum(model.vbSchedule[t, d, s, l, :]))\n",
    "                               \n",
    "# Make sure each talk is assigned once\n",
    "model.ctTalkAssigned = pyo.ConstraintList()\n",
    "for t in model.sTalks:\n",
    "    model.ctTalkAssigned.add(sum(model.vbSchedule[t, :, :, :, :]) == 1)\n",
    "\n",
    "# Set vbCoOccurences auxiliary variable    \n",
    "model.ctCoOccurences = pyo.ConstraintList()\n",
    "for d, s, l in product(model.sDays, model.sSessions, model.sSlots):\n",
    "    for t1, t2 in combinations(model.sTalks, 2):\n",
    "        model.ctCoOccurences.add(model.vbCoOccurences[t1, t2, d, s, l] + 1 >= model.vbParallelTalk[t1, d, s, l] + model.vbParallelTalk[t2, d, s, l])\n",
    "\n",
    "# Set vbTalkRoom auxiliary variable\n",
    "model.ctTalkRoom = pyo.ConstraintList()\n",
    "for t, r in product(model.sTalks, model.sRooms):\n",
    "    model.ctTalkRoom.add(sum(model.vbSchedule[t, ..., r]) == model.vbTalkRoom[t, r])\n",
    "\n",
    "# Enforce that some talks need to be in consecutive order\n",
    "def ct_consecutive_slots(model, t1, t2):\n",
    "    possibilities = [((\"Tuesday\", \"Afternoon1\", \"First\", r), (\"Tuesday\", \"Afternoon2\", \"First\", r)) for r in tutorial_rooms]\n",
    "    possibilities.extend([((\"Wednesday\", \"Morning1\", \"First\", r), (\"Wednesday\", \"Morning2\", \"First\", r)) for r in tutorial_rooms])\n",
    "    return [[model.vbSchedule[t1, d1, s1, l1, r1] + model.vbSchedule[t2, d2, s2, l2, r2] == 2] for (d1, s1, l1, r1), (d2, s2, l2, r2) in possibilities]\n",
    "\n",
    "# Set disjunction constraint for consecutive tutorials\n",
    "for i, (t1, t2) in enumerate(consecutive_tutorials):\n",
    "    # there seems to be no List object for disjunctions, thus we use setattr\n",
    "    setattr(model, f'disjTutorial{i}', pyogdp.Disjunction(expr=ct_consecutive_slots(model, t1, t2)))\n",
    "    \n",
    "# Set vbTalkSession auxiliary variable\n",
    "model.ctTalkSession = pyo.ConstraintList()\n",
    "for t, d, s, r in product(model.sTalks, model.sDays, model.sSessions, model.sRooms):\n",
    "    model.ctTalkSession.add(model.vbTalkSession[t, d, s, r] == sum(model.vbSchedule[t, d, s, :, r]))\n",
    "    \n",
    "# Set vbMainTrackSessionRoom auxiliary variable\n",
    "model.ctMainTrackSessionRoom = pyo.ConstraintList()\n",
    "for d, s, r, mt in product(model.sDays, model.sSessions, model.sRooms, model.sMainTracks):\n",
    "    model.ctMainTrackSessionRoom.add(model.vbMainTrackSessionRoom[d, s, r, mt]*len(model.sSlots) >= sum(model.vbTalkSession[t, d, s, r]*model.pTalk2MainTrack[t, mt] for t in model.sTalks))\n",
    "    \n",
    "# Set vbSubTrackSessionRoom auxiliary variable\n",
    "model.ctSubTrackSessionRoom = pyo.ConstraintList()\n",
    "for d, s, r, st in product(model.sDays, model.sSessions, model.sRooms, model.sSubTracks):\n",
    "    model.ctSubTrackSessionRoom.add(model.vbSubTrackSessionRoom[d, s, r, st]*len(model.sSlots) >= sum(model.vbTalkSession[t, d, s, r]*model.pTalk2SubTrack[t, st] for t in model.sTalks))\n",
    "    \n",
    "#############\n",
    "# Objective #\n",
    "############# \n",
    "\n",
    "def objective(model):\n",
    "    preference_term = pyo.dot_product(model.pPreferences, model.vbSchedule)\n",
    "    pop_roomcap_term = pyo.dot_product(model.pTalkRoomPenalty, model.vbTalkRoom)\n",
    "    cooccurance_terms = []\n",
    "    for d, s, l in product(model.sDays, model.sSessions, model.sSlots):\n",
    "        cooccurance_terms.append(sum(model.vbCoOccurences[t1, t2, d, s, l] * model.pCoOccurencesPenalty[t1, t2] for t1, t2 in combinations(model.sTalks, 2)))\n",
    "    cooccurance_term = sum(cooccurance_terms) + sum(model.vbCoOccurences[...]) # last term forces vbCoOccurences to be 0 if possible\n",
    "    main_tack_term = sum(model.vbMainTrackSessionRoom[...])  # the higher this number the more different tracks we have in a session. We want the opposite.\n",
    "    sub_track_term = sum(model.vbSubTrackSessionRoom[...])  # see above\n",
    "    \n",
    "    return 100_000_000*preference_term - 1_000_000*pop_roomcap_term - 10_000*cooccurance_term - 100*main_tack_term - sub_track_term\n",
    "    \n",
    "model.obj = pyo.Objective(sense=pyo.maximize, rule=objective)\n",
    "pyo.TransformationFactory(\"gdp.bigm\").apply_to(model)\n"
   ]
  },
  {
   "cell_type": "code",
   "execution_count": 24,
   "metadata": {
    "tags": []
   },
   "outputs": [
    {
     "name": "stdout",
     "output_type": "stream",
     "text": [
      "Slots:\n",
      "0     142\n",
      "30     74\n",
      "45     21\n",
      "90     15\n",
      "dtype: int64\n",
      "\n",
      "Talks:\n",
      "30    74\n",
      "45    21\n",
      "90    15\n",
      "Name: Duration, dtype: int64\n"
     ]
    }
   ],
   "source": [
    "# consistency check: amount of lengths of talks/timeslots must match\n",
    "print(\"Slots:\\n\", pd.Series(model.pSlotLengths.values()).value_counts(), sep='')\n",
    "print(\"\\nTalks:\\n\", talks_df[Col.duration].value_counts(), sep='')"
   ]
  },
  {
   "cell_type": "code",
   "execution_count": 25,
   "metadata": {
    "tags": []
   },
   "outputs": [
    {
     "data": {
      "text/plain": [
       "('pyconde_pydata_schedule_20230306-final.mps', 4915968416)"
      ]
     },
     "execution_count": 25,
     "metadata": {},
     "output_type": "execute_result"
    }
   ],
   "source": [
    "# Optionally write out the model file to solve it on the CLI directly, which provides more info while running\n",
    "model.write(filename = \"pyconde_pydata_schedule_20230306-final.mps\", io_options = {\"symbolic_solver_labels\":True})"
   ]
  },
  {
   "cell_type": "code",
   "execution_count": null,
   "metadata": {
    "tags": []
   },
   "outputs": [],
   "source": [
    "# solve it here directly\n",
    "solver = Highs()\n",
    "solver.config.time_limit = 600. # 10 minutes, set to a number high enough to reach a feasible solution\n",
    "solver.config.load_solution = False\n",
    "sol = solver.solve(model)\n",
    "solver.load_vars() # only works if solution is valid/feasible"
   ]
  },
  {
   "cell_type": "code",
   "execution_count": null,
   "metadata": {
    "tags": []
   },
   "outputs": [],
   "source": [
    "# or better in the CLI \n",
    "!highs pyconde_pydata_schedule_20230306-final.mps --solution_file 20230306-final.sol --time_limit 36000 # 10 hours!"
   ]
  },
  {
   "cell_type": "code",
   "execution_count": 211,
   "metadata": {
    "tags": []
   },
   "outputs": [
    {
     "name": "stdout",
     "output_type": "stream",
     "text": [
      "Running HiGHS 1.5.1 [date: 2023-02-24, git hash: n/a]\n",
      "Copyright (c) 2023 HiGHS under MIT licence terms\n"
     ]
    }
   ],
   "source": [
    "set_solution_from_file(model, \"20230306-final.sol\")"
   ]
  },
  {
   "cell_type": "markdown",
   "metadata": {},
   "source": [
    "## Upload to GSheet"
   ]
  },
  {
   "cell_type": "code",
   "execution_count": 212,
   "metadata": {},
   "outputs": [],
   "source": [
    "schedule_df = pd.DataFrame([idx for idx, val in model.vbSchedule.items() if val() >= 0.5], columns=[Col.submission, \"Day\", \"Session\", \"Slot\", \"Room\"])\n",
    "schedule_df = schedule_df.loc[:, [\"Day\", \"Session\", \"Slot\", \"Room\", Col.submission]]\n",
    "schedule_df[\"Day\"] = pd.Categorical(schedule_df[\"Day\"], model.sDays.data())\n",
    "schedule_df[\"Session\"] = pd.Categorical(schedule_df[\"Session\"], model.sSessions.data())\n",
    "schedule_df[\"Slot\"] = pd.Categorical(schedule_df[\"Slot\"], model.sSlots.data())\n",
    "schedule_df[\"Room\"] = pd.Categorical(schedule_df[\"Room\"], model.sRooms.data())\n",
    "schedule_df.sort_values(list(schedule_df.columns[:-1]), inplace=True)\n",
    "schedule_df.reset_index(drop=True, inplace=True)\n",
    "timetable_df = schedule_df.pivot(index=[\"Day\", \"Session\", \"Slot\"], columns=\"Room\", values=Col.submission)"
   ]
  },
  {
   "cell_type": "code",
   "execution_count": 213,
   "metadata": {
    "tags": []
   },
   "outputs": [
    {
     "data": {
      "text/html": [
       "<div>\n",
       "<style scoped>\n",
       "    .dataframe tbody tr th:only-of-type {\n",
       "        vertical-align: middle;\n",
       "    }\n",
       "\n",
       "    .dataframe tbody tr th {\n",
       "        vertical-align: top;\n",
       "    }\n",
       "\n",
       "    .dataframe thead th {\n",
       "        text-align: right;\n",
       "    }\n",
       "</style>\n",
       "<table border=\"1\" class=\"dataframe\">\n",
       "  <thead>\n",
       "    <tr style=\"text-align: right;\">\n",
       "      <th></th>\n",
       "      <th></th>\n",
       "      <th>Room</th>\n",
       "      <th>Kuppelsaal</th>\n",
       "      <th>B09</th>\n",
       "      <th>B07B08</th>\n",
       "      <th>B05B06</th>\n",
       "      <th>A1</th>\n",
       "      <th>A03A04</th>\n",
       "      <th>A05A06</th>\n",
       "    </tr>\n",
       "    <tr>\n",
       "      <th>Day</th>\n",
       "      <th>Session</th>\n",
       "      <th>Slot</th>\n",
       "      <th></th>\n",
       "      <th></th>\n",
       "      <th></th>\n",
       "      <th></th>\n",
       "      <th></th>\n",
       "      <th></th>\n",
       "      <th></th>\n",
       "    </tr>\n",
       "  </thead>\n",
       "  <tbody>\n",
       "    <tr>\n",
       "      <th rowspan=\"4\" valign=\"top\">Monday</th>\n",
       "      <th rowspan=\"2\" valign=\"top\">Morning1</th>\n",
       "      <th>First</th>\n",
       "      <td>DB3KC7</td>\n",
       "      <td>DTBTVF</td>\n",
       "      <td>DECAHT</td>\n",
       "      <td>LXBGZS</td>\n",
       "      <td>XDRNQC</td>\n",
       "      <td>S8GYFF</td>\n",
       "      <td>UQ3KXD</td>\n",
       "    </tr>\n",
       "    <tr>\n",
       "      <th>Second</th>\n",
       "      <td>VBP3PE</td>\n",
       "      <td>WAVRYZ</td>\n",
       "      <td>3TYND7</td>\n",
       "      <td>WMAXSV</td>\n",
       "      <td>77MWVW</td>\n",
       "      <td>NaN</td>\n",
       "      <td>NaN</td>\n",
       "    </tr>\n",
       "    <tr>\n",
       "      <th rowspan=\"2\" valign=\"top\">Afternoon2</th>\n",
       "      <th>First</th>\n",
       "      <td>NaN</td>\n",
       "      <td>MYARJG</td>\n",
       "      <td>E77G9H</td>\n",
       "      <td>GCPNMT</td>\n",
       "      <td>AXMS87</td>\n",
       "      <td>B7PCUR</td>\n",
       "      <td>PQZR3Q</td>\n",
       "    </tr>\n",
       "    <tr>\n",
       "      <th>Second</th>\n",
       "      <td>NaN</td>\n",
       "      <td>8WXSR9</td>\n",
       "      <td>WHACAT</td>\n",
       "      <td>TP7ABB</td>\n",
       "      <td>GXPWJ8</td>\n",
       "      <td>FVWF7R</td>\n",
       "      <td>NaN</td>\n",
       "    </tr>\n",
       "    <tr>\n",
       "      <th rowspan=\"8\" valign=\"top\">Tuesday</th>\n",
       "      <th rowspan=\"3\" valign=\"top\">Morning1</th>\n",
       "      <th>First</th>\n",
       "      <td>XEVGVJ</td>\n",
       "      <td>ABNXHC</td>\n",
       "      <td>AUJYP7</td>\n",
       "      <td>MLAGKM</td>\n",
       "      <td>NLFFSE</td>\n",
       "      <td>RPMMKZ</td>\n",
       "      <td>V9HBUU</td>\n",
       "    </tr>\n",
       "    <tr>\n",
       "      <th>Second</th>\n",
       "      <td>LMGF8V</td>\n",
       "      <td>U7WAQW</td>\n",
       "      <td>9Q38VT</td>\n",
       "      <td>AKXXQD</td>\n",
       "      <td>WLMDZ7</td>\n",
       "      <td>NaN</td>\n",
       "      <td>NaN</td>\n",
       "    </tr>\n",
       "    <tr>\n",
       "      <th>Third</th>\n",
       "      <td>GBYWCY</td>\n",
       "      <td>VRGANP</td>\n",
       "      <td>SSTCTS</td>\n",
       "      <td>SJCEFG</td>\n",
       "      <td>KYLLZA</td>\n",
       "      <td>NaN</td>\n",
       "      <td>NaN</td>\n",
       "    </tr>\n",
       "    <tr>\n",
       "      <th rowspan=\"2\" valign=\"top\">Afternoon1</th>\n",
       "      <th>First</th>\n",
       "      <td>TWPBZF</td>\n",
       "      <td>NWSLUH</td>\n",
       "      <td>Q9GVEK</td>\n",
       "      <td>MQHTHY</td>\n",
       "      <td>UECWHD</td>\n",
       "      <td>VFZ3VT</td>\n",
       "      <td>FZY9VV</td>\n",
       "    </tr>\n",
       "    <tr>\n",
       "      <th>Second</th>\n",
       "      <td>B8FKHC</td>\n",
       "      <td>KMGYZF</td>\n",
       "      <td>X89787</td>\n",
       "      <td>RDQH3W</td>\n",
       "      <td>HMGCPL</td>\n",
       "      <td>NaN</td>\n",
       "      <td>NaN</td>\n",
       "    </tr>\n",
       "    <tr>\n",
       "      <th rowspan=\"3\" valign=\"top\">Afternoon2</th>\n",
       "      <th>First</th>\n",
       "      <td>NFYQHB</td>\n",
       "      <td>Y9TAMP</td>\n",
       "      <td>7SYVML</td>\n",
       "      <td>H7ZCWK</td>\n",
       "      <td>8VYHKG</td>\n",
       "      <td>DEQM3J</td>\n",
       "      <td>M7XMFB</td>\n",
       "    </tr>\n",
       "    <tr>\n",
       "      <th>Second</th>\n",
       "      <td>ZRAFKA</td>\n",
       "      <td>JY3R3Z</td>\n",
       "      <td>PPXA79</td>\n",
       "      <td>9SENVW</td>\n",
       "      <td>RQ3MWN</td>\n",
       "      <td>NaN</td>\n",
       "      <td>NaN</td>\n",
       "    </tr>\n",
       "    <tr>\n",
       "      <th>Third</th>\n",
       "      <td>8CVQDW</td>\n",
       "      <td>TGZFSF</td>\n",
       "      <td>WMWZQC</td>\n",
       "      <td>HNKMMP</td>\n",
       "      <td>MJRFLC</td>\n",
       "      <td>NaN</td>\n",
       "      <td>NaN</td>\n",
       "    </tr>\n",
       "    <tr>\n",
       "      <th rowspan=\"7\" valign=\"top\">Wednesday</th>\n",
       "      <th rowspan=\"2\" valign=\"top\">Morning1</th>\n",
       "      <th>First</th>\n",
       "      <td>GXAKV8</td>\n",
       "      <td>Q7GS8Y</td>\n",
       "      <td>TCWCVV</td>\n",
       "      <td>W9HLK3</td>\n",
       "      <td>7NW7JC</td>\n",
       "      <td>KUKU9Z</td>\n",
       "      <td>EAKYPL</td>\n",
       "    </tr>\n",
       "    <tr>\n",
       "      <th>Second</th>\n",
       "      <td>J9KRKZ</td>\n",
       "      <td>7EUPC3</td>\n",
       "      <td>3TH9UC</td>\n",
       "      <td>DXMXZH</td>\n",
       "      <td>SVXFP8</td>\n",
       "      <td>NaN</td>\n",
       "      <td>NaN</td>\n",
       "    </tr>\n",
       "    <tr>\n",
       "      <th rowspan=\"2\" valign=\"top\">Morning2</th>\n",
       "      <th>First</th>\n",
       "      <td>LCCGTT</td>\n",
       "      <td>ENQBPJ</td>\n",
       "      <td>YTHXML</td>\n",
       "      <td>VXPFFP</td>\n",
       "      <td>QUAXG3</td>\n",
       "      <td>YWTRSG</td>\n",
       "      <td>ZYB38R</td>\n",
       "    </tr>\n",
       "    <tr>\n",
       "      <th>Second</th>\n",
       "      <td>MBZJE9</td>\n",
       "      <td>33XCUR</td>\n",
       "      <td>G9TATQ</td>\n",
       "      <td>GYEZVW</td>\n",
       "      <td>CTKC7B</td>\n",
       "      <td>NaN</td>\n",
       "      <td>NaN</td>\n",
       "    </tr>\n",
       "    <tr>\n",
       "      <th rowspan=\"3\" valign=\"top\">Afternoon1</th>\n",
       "      <th>First</th>\n",
       "      <td>Z8PESY</td>\n",
       "      <td>CHLT3D</td>\n",
       "      <td>HLMGHX</td>\n",
       "      <td>7FTL7H</td>\n",
       "      <td>QLCNN9</td>\n",
       "      <td>XJSNBQ</td>\n",
       "      <td>GLQH8X</td>\n",
       "    </tr>\n",
       "    <tr>\n",
       "      <th>Second</th>\n",
       "      <td>S79HEH</td>\n",
       "      <td>UNA9AN</td>\n",
       "      <td>H8KMTT</td>\n",
       "      <td>CBHYXG</td>\n",
       "      <td>PEQZTC</td>\n",
       "      <td>NaN</td>\n",
       "      <td>NaN</td>\n",
       "    </tr>\n",
       "    <tr>\n",
       "      <th>Third</th>\n",
       "      <td>NUF87W</td>\n",
       "      <td>A7B8P8</td>\n",
       "      <td>MTXCHH</td>\n",
       "      <td>AQAJDH</td>\n",
       "      <td>MTRFT3</td>\n",
       "      <td>NaN</td>\n",
       "      <td>NaN</td>\n",
       "    </tr>\n",
       "  </tbody>\n",
       "</table>\n",
       "</div>"
      ],
      "text/plain": [
       "Room                        Kuppelsaal     B09  B07B08  B05B06      A1  \\\n",
       "Day       Session    Slot                                                \n",
       "Monday    Morning1   First      DB3KC7  DTBTVF  DECAHT  LXBGZS  XDRNQC   \n",
       "                     Second     VBP3PE  WAVRYZ  3TYND7  WMAXSV  77MWVW   \n",
       "          Afternoon2 First         NaN  MYARJG  E77G9H  GCPNMT  AXMS87   \n",
       "                     Second        NaN  8WXSR9  WHACAT  TP7ABB  GXPWJ8   \n",
       "Tuesday   Morning1   First      XEVGVJ  ABNXHC  AUJYP7  MLAGKM  NLFFSE   \n",
       "                     Second     LMGF8V  U7WAQW  9Q38VT  AKXXQD  WLMDZ7   \n",
       "                     Third      GBYWCY  VRGANP  SSTCTS  SJCEFG  KYLLZA   \n",
       "          Afternoon1 First      TWPBZF  NWSLUH  Q9GVEK  MQHTHY  UECWHD   \n",
       "                     Second     B8FKHC  KMGYZF  X89787  RDQH3W  HMGCPL   \n",
       "          Afternoon2 First      NFYQHB  Y9TAMP  7SYVML  H7ZCWK  8VYHKG   \n",
       "                     Second     ZRAFKA  JY3R3Z  PPXA79  9SENVW  RQ3MWN   \n",
       "                     Third      8CVQDW  TGZFSF  WMWZQC  HNKMMP  MJRFLC   \n",
       "Wednesday Morning1   First      GXAKV8  Q7GS8Y  TCWCVV  W9HLK3  7NW7JC   \n",
       "                     Second     J9KRKZ  7EUPC3  3TH9UC  DXMXZH  SVXFP8   \n",
       "          Morning2   First      LCCGTT  ENQBPJ  YTHXML  VXPFFP  QUAXG3   \n",
       "                     Second     MBZJE9  33XCUR  G9TATQ  GYEZVW  CTKC7B   \n",
       "          Afternoon1 First      Z8PESY  CHLT3D  HLMGHX  7FTL7H  QLCNN9   \n",
       "                     Second     S79HEH  UNA9AN  H8KMTT  CBHYXG  PEQZTC   \n",
       "                     Third      NUF87W  A7B8P8  MTXCHH  AQAJDH  MTRFT3   \n",
       "\n",
       "Room                         A03A04  A05A06  \n",
       "Day       Session    Slot                    \n",
       "Monday    Morning1   First   S8GYFF  UQ3KXD  \n",
       "                     Second     NaN     NaN  \n",
       "          Afternoon2 First   B7PCUR  PQZR3Q  \n",
       "                     Second  FVWF7R     NaN  \n",
       "Tuesday   Morning1   First   RPMMKZ  V9HBUU  \n",
       "                     Second     NaN     NaN  \n",
       "                     Third      NaN     NaN  \n",
       "          Afternoon1 First   VFZ3VT  FZY9VV  \n",
       "                     Second     NaN     NaN  \n",
       "          Afternoon2 First   DEQM3J  M7XMFB  \n",
       "                     Second     NaN     NaN  \n",
       "                     Third      NaN     NaN  \n",
       "Wednesday Morning1   First   KUKU9Z  EAKYPL  \n",
       "                     Second     NaN     NaN  \n",
       "          Morning2   First   YWTRSG  ZYB38R  \n",
       "                     Second     NaN     NaN  \n",
       "          Afternoon1 First   XJSNBQ  GLQH8X  \n",
       "                     Second     NaN     NaN  \n",
       "                     Third      NaN     NaN  "
      ]
     },
     "execution_count": 213,
     "metadata": {},
     "output_type": "execute_result"
    }
   ],
   "source": [
    "timetable_df"
   ]
  },
  {
   "cell_type": "code",
   "execution_count": 214,
   "metadata": {
    "tags": []
   },
   "outputs": [],
   "source": [
    "def cell_content(sub):\n",
    "    talks_df_idx = talks_df.set_index(Col.submission)\n",
    "    main_track = talks_df_idx.loc[sub, \"Main track\"]\n",
    "    sub_track = talks_df_idx.loc[sub, \"Track\"]\n",
    "    sub_track_max = 20\n",
    "    sub_track = sub_track if len(sub_track) < sub_track_max else sub_track[:sub_track_max-3] + \"...\"\n",
    "    sponsored = \"\\nSponsored\" if sub in sponsored_talks else \"\"\n",
    "    content = f\"{sub2title[sub]}\\n{main_track}: {sub_track}\\n{talk_lengths[sub]}min\\nPop: {pops_dict[sub]:.0%}{sponsored}\"\n",
    "    return f'=HYPERLINK(\"https://pretalx.com/orga/event/{cfg[\"event_name\"]}/submissions/{sub}\", \"{content}\")'\n",
    "\n",
    "# make submission code a hyperlink\n",
    "sub2title = {t.code: t.title.replace('\"', \"'\") for t in talks}\n",
    "schedule_df[Col.submission] = schedule_df[Col.submission].map(cell_content)\n",
    "schedule_df[\"Room\"] = schedule_df[\"Room\"].map(lambda room: f\"{room} Cap: {room_caps_dict[room]:.0%}\")\n",
    "timetable_df = schedule_df.pivot(index=[\"Day\", \"Session\", \"Slot\"], columns=\"Room\", values=Col.submission)"
   ]
  },
  {
   "cell_type": "code",
   "execution_count": 215,
   "metadata": {
    "tags": []
   },
   "outputs": [],
   "source": [
    "gsheet_client = GSheetClient(read_only=False)"
   ]
  },
  {
   "cell_type": "code",
   "execution_count": 216,
   "metadata": {
    "tags": []
   },
   "outputs": [],
   "source": [
    "gsheet_client.save_df_as_gsheet(timetable_df.reset_index(), cfg['schedule_spread_id'], cfg['schedule_work_name'])"
   ]
  },
  {
   "cell_type": "code",
   "execution_count": 217,
   "metadata": {
    "tags": []
   },
   "outputs": [
    {
     "data": {
      "text/plain": [
       "{'spreadsheetId': '1_ZZ6ybY2M6U5pfR34OyKgCmadWE5sX1eTVp2B_DLqmA',\n",
       " 'replies': [{}]}"
      ]
     },
     "execution_count": 217,
     "metadata": {},
     "output_type": "execute_result"
    }
   ],
   "source": [
    "from gspread_formatting import set_column_width, set_row_height, cellFormat, format_cell_range\n",
    "\n",
    "worksheet = gsheet_client.gsheet(cfg['schedule_spread_id'], cfg['schedule_work_name'])\n",
    "set_column_width(worksheet, 'D:J', 200)\n",
    "set_row_height(worksheet, f\"2:{len(timetable_df)+1}\", 130)\n",
    "\n",
    "fmt = cellFormat(wrapStrategy='WRAP')\n",
    "format_cell_range(worksheet, worksheet_range(worksheet), fmt)"
   ]
  },
  {
   "cell_type": "markdown",
   "metadata": {},
   "source": [
    "## References\n",
    "* https://fran-espiga.medium.com/mixed-integer-programming-for-time-table-scheduling-eee326deda75\n",
    "* https://towardsdatascience.com/schedule-optimisation-using-linear-programming-in-python-9b3e1bc241e1\n",
    "* https://math.stackexchange.com/questions/432003/converting-absolute-value-program-into-linear-program"
   ]
  }
 ],
 "metadata": {
  "kernelspec": {
   "display_name": "Python 3 (ipykernel)",
   "language": "python",
   "name": "python3"
  },
  "language_info": {
   "codemirror_mode": {
    "name": "ipython",
    "version": 3
   },
   "file_extension": ".py",
   "mimetype": "text/x-python",
   "name": "python",
   "nbconvert_exporter": "python",
   "pygments_lexer": "ipython3",
   "version": "3.10.9"
  },
  "pycharm": {
   "stem_cell": {
    "cell_type": "raw",
    "metadata": {
     "collapsed": false
    },
    "source": []
   }
  }
 },
 "nbformat": 4,
 "nbformat_minor": 4
}

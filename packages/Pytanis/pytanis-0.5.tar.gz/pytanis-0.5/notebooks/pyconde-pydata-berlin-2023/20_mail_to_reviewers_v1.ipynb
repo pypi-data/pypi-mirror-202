{
 "cells": [
  {
   "cell_type": "code",
   "execution_count": 1,
   "metadata": {
    "tags": []
   },
   "outputs": [],
   "source": [
    "import os\n",
    "import sys\n",
    "import math\n",
    "import logging\n",
    "import structlog\n",
    "from pathlib import Path\n",
    "import json\n",
    "\n",
    "import tomli\n",
    "import numpy as np\n",
    "\n",
    "%load_ext autoreload\n",
    "%autoreload 2\n",
    "\n",
    "import matplotlib as mpl\n",
    "import matplotlib.pyplot as plt\n",
    "%matplotlib inline\n",
    "%config InlineBackend.figure_format = 'retina'\n",
    "\n",
    "import seaborn as sns\n",
    "sns.set_context(\"poster\")\n",
    "sns.set(rc={\"figure.figsize\": (16, 9.)})\n",
    "sns.set_style(\"whitegrid\")\n",
    "\n",
    "import pandas as pd\n",
    "pd.set_option(\"display.max_rows\", 120)\n",
    "pd.set_option(\"display.max_columns\", 120)"
   ]
  },
  {
   "cell_type": "code",
   "execution_count": 2,
   "metadata": {},
   "outputs": [],
   "source": [
    "logging.basicConfig(level=logging.WARNING, stream=sys.stdout)"
   ]
  },
  {
   "cell_type": "code",
   "execution_count": 3,
   "metadata": {},
   "outputs": [],
   "source": [
    "import pytanis\n",
    "from pytanis import GSheetClient, PretalxClient, HelpDeskClient\n",
    "from pytanis.review import Col\n",
    "from pytanis.helpdesk import Mail, Recipient, MailClient"
   ]
  },
  {
   "cell_type": "code",
   "execution_count": 4,
   "metadata": {},
   "outputs": [
    {
     "data": {
      "text/plain": [
       "'0.4'"
      ]
     },
     "execution_count": 4,
     "metadata": {},
     "output_type": "execute_result"
    }
   ],
   "source": [
    "# Be aware that this notebook might only run with the following version\n",
    "pytanis.__version__ "
   ]
  },
  {
   "cell_type": "code",
   "execution_count": 5,
   "metadata": {},
   "outputs": [],
   "source": [
    "# Import event-specific settings to don't have them here in the notebook\n",
    "with open('config.toml', 'rb') as fh:\n",
    "    cfg = tomli.load(fh)\n",
    "    \n",
    "# CAREFUL: Setting this to false will send e-mails to a lot of people!\n",
    "DRY_RUN = True"
   ]
  },
  {
   "cell_type": "markdown",
   "metadata": {},
   "source": [
    "# Get all the Reviewers"
   ]
  },
  {
   "cell_type": "code",
   "execution_count": 6,
   "metadata": {},
   "outputs": [],
   "source": [
    "gsheet_client = GSheetClient()\n",
    "gsheet_df = gsheet_client.gsheet_as_df(cfg['spreadsheet_id'], cfg['worksheet_name'])\n",
    "# rename columns to stick to our convention\n",
    "col_map = {\n",
    " \"Topics you want to review\": Col.track_prefs,\n",
    " \"Email address\": Col.email,\n",
    " \"Name\": Col.speaker_name,\n",
    " \"Affiliation\": Col.affiliation,\n",
    " \"Who do you know from the Committee?\": Col.committee_contact,\n",
    " \"Availability during the Review Period\": Col.availability,\n",
    " \"Additional comments regarding your availability during the review period.\": Col.availability_comment,\n",
    " \"Activated in Pretalx\": Col.pretalx_activated,\n",
    " \"Do you want your name to be listed as a reviewer on the conference website?\": Col.public,\n",
    " \"Wants all proposals\": Col.all_proposals,\n",
    " \"Any additional comments for the Program Committee\": Col.comment,\n",
    "}\n",
    "gsheet_df.rename(columns=col_map, inplace=True)"
   ]
  },
  {
   "cell_type": "code",
   "execution_count": 7,
   "metadata": {},
   "outputs": [],
   "source": [
    "# add column to address people nicely\n",
    "gsheet_df[Col.address_as] = gsheet_df[Col.speaker_name].apply(lambda x: x.split()[0].title())"
   ]
  },
  {
   "cell_type": "code",
   "execution_count": 8,
   "metadata": {},
   "outputs": [],
   "source": [
    "# determine reviewers having not even activated the Pretalx Acccount and mark them as recipients\n",
    "reviewers_not_activated = gsheet_df.loc[gsheet_df[Col.pretalx_activated].isna(), [Col.speaker_name, Col.email, Col.address_as]]\n",
    "reviewers_not_activated = reviewers_not_activated.apply(lambda x: Recipient(name=x[Col.speaker_name], email=x[Col.email], address_as=x[Col.address_as]), axis=1).to_list()"
   ]
  },
  {
   "cell_type": "markdown",
   "metadata": {},
   "source": [
    "# Mail to Reviewers that haven't activated their account in Pretalx"
   ]
  },
  {
   "cell_type": "code",
   "execution_count": 10,
   "metadata": {},
   "outputs": [],
   "source": [
    "mail_body = \"\"\"\n",
    "Howdy {recipient.address_as}!\n",
    "\n",
    "The review of proposals for the PyConDE / PyData is already in full swing and we are missing you!\n",
    "\n",
    "It seems you haven't yet activated your Pretalx Account for reviewing. Please check you e-mails (and also spam)\n",
    "if you have received an invitation to a special reviewing team. Please click the link in the e-mail and hit also the \"accept\" button on the emerging page.\n",
    "We just sent out a new re-invitations e-mail to your e-mail address. If you need help with the activation, please contact program23@pycon.de, we are happy to help you.\n",
    "After you have activated, we will start assigning proposals to you, so please check back frequently.\n",
    "\n",
    "Information from our past e-mails:\n",
    "* Reviewer Guidelines (https://bit.ly/pyconde23-reviewer-guidelines)\n",
    "* [Nonobligatory] 2nd live “Meet and Greet” session: 17 January, 17:00 (CET) in Gather Town (https://bit.ly/pyconde23-meet-reviewers)\n",
    "* Review to be finished by: 31 January, 00:00 (CET)\n",
    "\n",
    "We are looking forward to see you {recipient.address_as} and thank you very much for your support!\n",
    "\n",
    "\n",
    "All the best,\n",
    "Program Committee\n",
    "PyCon DE & PyData Berlin 2023\n",
    "\"\"\""
   ]
  },
  {
   "cell_type": "code",
   "execution_count": 11,
   "metadata": {},
   "outputs": [],
   "source": [
    "mail = Mail(\n",
    "    subject=\"Please activate your Pretalx Account to review PyCon DE / PyData proposals\",\n",
    "    text=mail_body,\n",
    "    team_id=cfg[\"team_id\"],\n",
    "    agent_id=cfg[\"agent_id\"],\n",
    "    status=\"solved\",\n",
    "    recipients=reviewers_not_activated\n",
    ")"
   ]
  },
  {
   "cell_type": "code",
   "execution_count": null,
   "metadata": {},
   "outputs": [],
   "source": [
    "mail_client = MailClient()\n",
    "responses, errors = mail_client.send(mail, dry_run=DRY_RUN)\n",
    "assert not errors"
   ]
  },
  {
   "cell_type": "markdown",
   "metadata": {},
   "source": [
    "# Mail to Reviewers activated in Pretalx"
   ]
  },
  {
   "cell_type": "code",
   "execution_count": 13,
   "metadata": {},
   "outputs": [],
   "source": [
    "activated_reviewers = gsheet_df.loc[~gsheet_df[Col.pretalx_activated].isna()]"
   ]
  },
  {
   "cell_type": "markdown",
   "metadata": {},
   "source": [
    "### Analyse the current reviews and determine top X% reviewers"
   ]
  },
  {
   "cell_type": "code",
   "execution_count": 14,
   "metadata": {},
   "outputs": [],
   "source": [
    "pretalx_client = PretalxClient()\n",
    "n_reviews, reviews = pretalx_client.reviews(cfg['event_name'])\n",
    "reviews = list(reviews)"
   ]
  },
  {
   "cell_type": "code",
   "execution_count": 15,
   "metadata": {
    "tags": []
   },
   "outputs": [],
   "source": [
    "scored_reviews_df = pd.DataFrame([{\"user\": r.user, \"score\": r.score, \"n_reviews\": r.submission} for r in reviews if r.score is not None])\n",
    "scored_reviews_df = scored_reviews_df.groupby(\"user\").count()[[\"n_reviews\"]]\n",
    "scored_reviews_df['top_perc'] =  (1. - scored_reviews_df.rank(pct=True)[\"n_reviews\"])\n",
    "\n",
    "def top_perc_text(perc):\n",
    "    if perc <= 0.1:\n",
    "        return \"top 10%\"\n",
    "    elif perc <= 0.25: \n",
    "        return \"top 25%\"\n",
    "    elif perc <= 0.5: \n",
    "        return \"top 50%\"\n",
    "    elif perc <= 0.75: \n",
    "        return \"top 75%\"\n",
    "    elif perc <= 0.90: \n",
    "        return \"top 90%\"\n",
    "    else:\n",
    "        return \"top 100% ;-)\"\n",
    "\n",
    "scored_reviews_df['top_perc_text'] = scored_reviews_df['top_perc'].apply(top_perc_text)"
   ]
  },
  {
   "cell_type": "markdown",
   "metadata": {},
   "source": [
    "### Merge back with all reviewers and generate a nice feedback message"
   ]
  },
  {
   "cell_type": "code",
   "execution_count": 16,
   "metadata": {},
   "outputs": [],
   "source": [
    "activated_reviewers = pd.merge(activated_reviewers, scored_reviews_df, right_on='user', left_on='Pretalx Name', how='left')\n",
    "activated_reviewers[\"n_reviews\"].fillna(0., inplace=True)"
   ]
  },
  {
   "cell_type": "code",
   "execution_count": 17,
   "metadata": {},
   "outputs": [],
   "source": [
    "def get_feedback(x):\n",
    "    if x['n_reviews'] == 0.:\n",
    "        return \"So far you haven't reviewed any proposals, it's time to get started!\"\n",
    "    else:\n",
    "        return f\"Thanks for having already started to reviews! You are a champion and currently in the {x['top_perc_text']} of all reviewers!\"\n",
    "\n",
    "activated_reviewers[\"feedback\"] = activated_reviewers.apply(get_feedback, axis=1)"
   ]
  },
  {
   "cell_type": "markdown",
   "metadata": {},
   "source": [
    "### Create and send an individual e-mail to each active reviewer"
   ]
  },
  {
   "cell_type": "code",
   "execution_count": 18,
   "metadata": {},
   "outputs": [],
   "source": [
    "active_recipients = activated_reviewers.apply(lambda x: Recipient(name=x[Col.speaker_name], \n",
    "                                                                  email=x[Col.email], \n",
    "                                                                  address_as=x[Col.address_as], \n",
    "                                                                  data={\"feedback\": x[\"feedback\"]}),  axis=1).to_list()"
   ]
  },
  {
   "cell_type": "code",
   "execution_count": 19,
   "metadata": {},
   "outputs": [],
   "source": [
    "mail_body = \"\"\"\n",
    "Hi {recipient.address_as}!\n",
    "\n",
    "The review of proposals for the PyConDE / PyData is already in full swing and we are happy to have you on board!\n",
    "{recipient.data.feedback}\n",
    "\n",
    "Please check back frequently into Pretalx as we will soon assign proposals more dynamically. \n",
    "PyConDE / PyData is completely community driven by volunteers like you and we highly appreciate your support!\n",
    "We will keep you updated.\n",
    "\n",
    "Information from our past e-mails:\n",
    "* Reviewer Guidelines (https://bit.ly/pyconde23-reviewer-guidelines)\n",
    "* [Nonobligatory] 2nd live “Meet and Greet” session: 17 January, 17:00 (CET) in Gather Town (https://bit.ly/pyconde23-meet-reviewers)\n",
    "* Review to be finished by: 31 January, 00:00 (CET)\n",
    "* Contact program23@pycon.de for support if needed\n",
    "\n",
    "Thank you very much {recipient.address_as} for your support!\n",
    "\n",
    "\n",
    "All the best,\n",
    "Program Committee\n",
    "PyCon DE & PyData Berlin 2023\n",
    "\"\"\""
   ]
  },
  {
   "cell_type": "code",
   "execution_count": 20,
   "metadata": {},
   "outputs": [],
   "source": [
    "mail = Mail(\n",
    "    subject=\"Update for you on the review process for PyCon DE / PyData!\",\n",
    "    text=mail_body,\n",
    "    team_id=cfg[\"team_id\"],\n",
    "    agent_id=cfg[\"agent_id\"],\n",
    "    status=\"solved\",\n",
    "    recipients=active_recipients\n",
    ")"
   ]
  },
  {
   "cell_type": "code",
   "execution_count": null,
   "metadata": {},
   "outputs": [],
   "source": [
    "responses, errors = mail_client.send(mail, dry_run=DRY_RUN)\n",
    "assert not errors"
   ]
  },
  {
   "cell_type": "markdown",
   "metadata": {},
   "source": [
    "## Reminder e-mail to everyone activated"
   ]
  },
  {
   "cell_type": "code",
   "execution_count": 22,
   "metadata": {},
   "outputs": [],
   "source": [
    "def get_feedback(x):\n",
    "    if x['n_reviews'] == 0.:\n",
    "        return \"So far you haven't reviewed any proposals, it seems. Now it's really time to get started :-)\\nPlease let us know if you are not able to review for some reason. In this case, we must assign your proposals to others soon.\"\n",
    "    else:\n",
    "        return f\"Thanks that you already supported us so much! We are close to the finish line. Go for it, champion!\"\n",
    "\n",
    "activated_reviewers[\"feedback\"] = activated_reviewers.apply(get_feedback, axis=1)"
   ]
  },
  {
   "cell_type": "code",
   "execution_count": 23,
   "metadata": {},
   "outputs": [],
   "source": [
    "active_recipients = activated_reviewers.apply(lambda x: Recipient(name=x[Col.speaker_name], \n",
    "                                                                  email=x[Col.email], \n",
    "                                                                  address_as=x[Col.address_as], \n",
    "                                                                  data={\"feedback\": x[\"feedback\"]}),  axis=1).to_list()"
   ]
  },
  {
   "cell_type": "code",
   "execution_count": 24,
   "metadata": {},
   "outputs": [],
   "source": [
    "mail_body = \"\"\"\n",
    "Hi {recipient.address_as}!\n",
    "\n",
    "We hope you had a great start into the new week :-)\n",
    "There are only 8 days left until the deadline of our review process on 31 January, 00:00 (CET). \n",
    "We have reached now 70% of all the reviews we need, that's awesome! But still a few miles to go for us.\n",
    "{recipient.data.feedback}\n",
    "\n",
    "Please check back frequently into Pretalx as there might be only a few more proposals in case reviewers dropped out.\n",
    "PyConDE / PyData is completely community driven by volunteers like you and we highly appreciate your support!\n",
    "We will keep you updated.\n",
    "\n",
    "Information from our past e-mails:\n",
    "* Reviewer Guidelines (https://bit.ly/pyconde23-reviewer-guidelines)\n",
    "* Contact program23@pycon.de for support if needed\n",
    "\n",
    "Thank you very much {recipient.address_as} for your support!\n",
    "\n",
    "\n",
    "All the best,\n",
    "Program Committee\n",
    "PyCon DE & PyData Berlin 2023\n",
    "\"\"\""
   ]
  },
  {
   "cell_type": "code",
   "execution_count": 25,
   "metadata": {},
   "outputs": [],
   "source": [
    "mail = Mail(\n",
    "    subject=\"Reminder: deadline of the review process for PyCon DE / PyData is coming closer!\",\n",
    "    text=mail_body,\n",
    "    team_id=cfg[\"team_id\"],\n",
    "    agent_id=cfg[\"agent_id\"],\n",
    "    status=\"solved\",\n",
    "    recipients=active_recipients\n",
    ")"
   ]
  },
  {
   "cell_type": "code",
   "execution_count": null,
   "metadata": {},
   "outputs": [],
   "source": [
    "responses, errors = mail_client.send(mail, dry_run=DRY_RUN)\n",
    "assert not errors"
   ]
  }
 ],
 "metadata": {
  "kernelspec": {
   "display_name": "Python 3 (ipykernel)",
   "language": "python",
   "name": "python3"
  },
  "language_info": {
   "codemirror_mode": {
    "name": "ipython",
    "version": 3
   },
   "file_extension": ".py",
   "mimetype": "text/x-python",
   "name": "python",
   "nbconvert_exporter": "python",
   "pygments_lexer": "ipython3",
   "version": "3.10.6"
  },
  "pycharm": {
   "stem_cell": {
    "cell_type": "raw",
    "metadata": {
     "collapsed": false
    },
    "source": []
   }
  }
 },
 "nbformat": 4,
 "nbformat_minor": 4
}

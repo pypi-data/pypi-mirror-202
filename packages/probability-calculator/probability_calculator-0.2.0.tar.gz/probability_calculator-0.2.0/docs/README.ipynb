{
 "cells": [
  {
   "cell_type": "markdown",
   "id": "1ccd6464",
   "metadata": {},
   "source": [
    "# probability_calculator\n",
    "\n",
    "Calculate with and analyze probability densities.\n",
    "\n",
    "## Usage\n",
    "\n",
    "### Initialization and plotting\n",
    "\n",
    "The package provides simple ways to define discrete densities, for instance a dice:"
   ]
  },
  {
   "cell_type": "code",
   "execution_count": 4,
   "id": "e2c85266",
   "metadata": {},
   "outputs": [
    {
     "data": {
      "image/png": "[encoded data removed]",
      "text/plain": [
       "<Figure size 432x288 with 1 Axes>"
      ]
     },
     "metadata": {
      "needs_background": "light"
     },
     "output_type": "display_data"
    }
   ],
   "source": [
    "from probability_calculator.density import Dice\n",
    "\n",
    "density = Dice(6) # initialize a fair dice with 6 sides\n",
    "fig, ax = density.plot() # plot the density using matplotlib"
   ]
  },
  {
   "cell_type": "markdown",
   "id": "2b5c994e",
   "metadata": {},
   "source": [
    "For the general case, the class `DiscreteDensity` can be used:"
   ]
  },
  {
   "cell_type": "code",
   "execution_count": 5,
   "id": "217cc552",
   "metadata": {},
   "outputs": [
    {
     "data": {
      "image/png": "[encoded data removed]",
      "text/plain": [
       "<Figure size 432x288 with 1 Axes>"
      ]
     },
     "metadata": {
      "needs_background": "light"
     },
     "output_type": "display_data"
    }
   ],
   "source": [
    "from probability_calculator.density import DiscreteDensity\n",
    "\n",
    "density = DiscreteDensity(outcomes=[\n",
    "    { \"value\": 0, \"prob\": 0.2 },\n",
    "    { \"value\": 1, \"prob\": 0.3 },\n",
    "    { \"value\": 2.5, \"prob\": 0.1 },\n",
    "    { \"value\": 3, \"prob\": 0.4 },\n",
    "]) # initialize a discrete density with 4 different outcomes\n",
    "fig, ax = density.plot() # plot the density using matplotlib"
   ]
  },
  {
   "cell_type": "markdown",
   "id": "a4e8029b",
   "metadata": {},
   "source": [
    "### combine discrete densities\n",
    "\n",
    "The discrete density of throwing a dice two times can be modelled by multiplying the density with itself:"
   ]
  },
  {
   "cell_type": "code",
   "execution_count": 12,
   "id": "6bad80aa",
   "metadata": {},
   "outputs": [
    {
     "data": {
      "image/png": "[encoded data removed]",
      "text/plain": [
       "<Figure size 432x288 with 1 Axes>"
      ]
     },
     "metadata": {
      "needs_background": "light"
     },
     "output_type": "display_data"
    }
   ],
   "source": [
    "densityForOneThrow = Dice(6)\n",
    "densitySumOfTwoThrows = densityForOneThrow * densityForOneThrow # same as densityForOneThrow**2\n",
    "fig, ax = densitySumOfTwoThrows.plot()"
   ]
  },
  {
   "cell_type": "markdown",
   "id": "52980340",
   "metadata": {},
   "source": [
    "Note that the operations on densities are defined in a way to comply with operations of [probability-generating functions](https://en.wikipedia.org/wiki/Probability-generating_function).\n",
    "This means multiplication of densities return the density of the sum of the two underlying random variables"
   ]
  },
  {
   "cell_type": "markdown",
   "id": "4440b036",
   "metadata": {},
   "source": [
    "## Limitations\n",
    "\n",
    "Continuous densities are not supported at the moment.\n",
    "\n",
    "Multiplying a lot of densities might get stuck due to a lot of possible outcomes. In general, multiplying 10 densities with 10 outcomes each lead to $10^{10}$ outcomes. However, simple cases like the dice work, `Dice(10)**10` is no problem."
   ]
  },
  {
   "cell_type": "markdown",
   "id": "73370871",
   "metadata": {},
   "source": [
    "\n",
    "## Contributing\n",
    "We greatly appreciate fixes and new features for [probability_calculator](https://github.com/HendrikRoehm/probability_calculator). All contributions to this project should be sent as pull requests on github.\n",
    "\n",
    "## License\n",
    "\n",
    "[Apache License 2.0](LICENSE)"
   ]
  }
 ],
 "metadata": {
  "kernelspec": {
   "display_name": "Python 3 (ipykernel)",
   "language": "python",
   "name": "python3"
  },
  "language_info": {
   "codemirror_mode": {
    "name": "ipython",
    "version": 3
   },
   "file_extension": ".py",
   "mimetype": "text/x-python",
   "name": "python",
   "nbconvert_exporter": "python",
   "pygments_lexer": "ipython3",
   "version": "3.8.10"
  }
 },
 "nbformat": 4,
 "nbformat_minor": 5
}

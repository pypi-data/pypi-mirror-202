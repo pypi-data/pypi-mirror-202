{
 "cells": [
  {
   "attachments": {},
   "cell_type": "markdown",
   "metadata": {},
   "source": [
    "# Heat transfer in a fin with piecewise variation of some parameters\n"
   ]
  },
  {
   "attachments": {},
   "cell_type": "markdown",
   "metadata": {},
   "source": [
    "## Setup\n"
   ]
  },
  {
   "cell_type": "code",
   "execution_count": null,
   "metadata": {},
   "outputs": [],
   "source": [
    "# # * This check is flaky in notebooks\n",
    "# pyright: reportUnnecessaryTypeIgnoreComment=none\n",
    "\n",
    "import warnings\n",
    "from pathlib import Path\n",
    "\n",
    "import dill\n",
    "import numpy as np\n",
    "from matplotlib import pyplot as plt\n",
    "from sympy import (\n",
    "    Eq,\n",
    "    FiniteSet,\n",
    "    Function,\n",
    "    Piecewise,\n",
    "    Subs,\n",
    "    dsolve,\n",
    "    lambdify,\n",
    "    pi,\n",
    "    symbols,\n",
    ")\n",
    "from uncertainties import umath\n",
    "\n",
    "from boilerdata.models.project import Project\n",
    "from boilerdata.stages.notebooks.modelfun import disp, disp_free\n",
    "\n",
    "proj = Project.get_project()"
   ]
  },
  {
   "attachments": {},
   "cell_type": "markdown",
   "metadata": {},
   "source": [
    "## Assign dynamic symbols\n",
    "\n",
    "We want to use these symbols as individual variable assignments, but they must be in a particular order when we eventually wrap them up in a function for curve fitting. Since `scipy.curve_fit` can't pass keyword arguments, we need to make sure all of our free model parameters come first, then our fixed model parameters. The fixed ones will be handled by `functools.partial()`.\n"
   ]
  },
  {
   "cell_type": "code",
   "execution_count": null,
   "metadata": {},
   "outputs": [],
   "source": [
    "params = symbols([\"x\", *proj.params.free_params, *proj.params.fixed_params])"
   ]
  },
  {
   "cell_type": "code",
   "execution_count": null,
   "metadata": {},
   "outputs": [],
   "source": [
    "(\n",
    "    x,\n",
    "    T_s,\n",
    "    q_s,\n",
    "    h_a,\n",
    "    k,\n",
    "    h_w,\n",
    ") = params"
   ]
  },
  {
   "cell_type": "code",
   "execution_count": null,
   "metadata": {},
   "outputs": [],
   "source": [
    "previously_run_cell_input = _i  # type: ignore  # This is an ugly hack\n",
    "python_assignment_order = (\n",
    "    previously_run_cell_input.removeprefix(\"(\\n    \")\n",
    "    .removesuffix(\",\\n) = params\")\n",
    "    .split(\",\\n    \")\n",
    ")\n",
    "symbols_order = [p.name for p in params]\n",
    "print(f\"assn={python_assignment_order}\", f\"syms={symbols_order}\", sep=\"\\n\")\n",
    "assert (\n",
    "    python_assignment_order == symbols_order\n",
    "), \"Variables are NOT in the same order as the symbols to which they are assigned.\"\n",
    "print(\"Variables are in the same order as the symbols to which they are assigned.\")"
   ]
  },
  {
   "cell_type": "code",
   "execution_count": null,
   "metadata": {},
   "outputs": [],
   "source": [
    "inputs = symbols(list(proj.params.model_inputs.keys()))"
   ]
  },
  {
   "cell_type": "code",
   "execution_count": null,
   "metadata": {},
   "outputs": [],
   "source": [
    "(\n",
    "    r,\n",
    "    T_infa,\n",
    "    T_infw,\n",
    "    x_s,\n",
    "    x_wa,\n",
    ") = inputs"
   ]
  },
  {
   "cell_type": "code",
   "execution_count": null,
   "metadata": {},
   "outputs": [],
   "source": [
    "previously_run_cell_input = _i  # type: ignore  # This is an ugly hack\n",
    "python_assignment_order = (\n",
    "    previously_run_cell_input.removeprefix(\"(\\n    \")\n",
    "    .removesuffix(\",\\n) = inputs\")\n",
    "    .split(\",\\n    \")\n",
    ")\n",
    "symbols_order = [p.name for p in inputs]\n",
    "print(f\"assn={python_assignment_order}\", f\"syms={symbols_order}\", sep=\"\\n\")\n",
    "assert (\n",
    "    python_assignment_order == symbols_order\n",
    "), \"Variables are NOT in the same order as the symbols to which they are assigned.\"\n",
    "print(\"Variables are in the same order as the symbols to which they are assigned.\")"
   ]
  },
  {
   "attachments": {},
   "cell_type": "markdown",
   "metadata": {},
   "source": [
    "## Assign remaining symbols\n",
    "\n",
    "This symbols fluctuate less, so we can just manually ensure they are in the proper order."
   ]
  },
  {
   "cell_type": "code",
   "execution_count": null,
   "metadata": {},
   "outputs": [],
   "source": [
    "intermediate_vars = symbols(\n",
    "    \"\"\"\n",
    "    h,\n",
    "    q_0,\n",
    "    q_wa,\n",
    "    T_0,\n",
    "    T_inf,\n",
    "    T_wa,\n",
    "    x_0,\n",
    "    \"\"\"\n",
    ")\n",
    "(\n",
    "    h,  # (W/m^2-K) Convection heat transfer coefficient\n",
    "    q_0,  # (W/m^2) q at x_0, the LHS of a general domain\n",
    "    q_wa,  # (W/m^2) q at the domain interface\n",
    "    T_0,  # (C) T at x_0, the LHS of a general domain\n",
    "    T_inf,  # (C) Ambient temperature\n",
    "    T_wa,  # (C) T at the domain interface\n",
    "    x_0,  # (m) x at the LHS of a general domain\n",
    ") = intermediate_vars\n",
    "\n",
    "functions = symbols(\n",
    "    \"\"\"\n",
    "    T*,\n",
    "    T_a,\n",
    "    T_w,\n",
    "    T,\n",
    "    \"\"\",\n",
    "    cls=Function,  # type: ignore  # sympy\n",
    ")\n",
    "(\n",
    "    T_int,  # (T*, C) The general solution to the ODE\n",
    "    T_a,  # (C) Solution in air\n",
    "    T_w,  # (C) Solution in water\n",
    "    T,  # (C) The piecewise combination of the two above solutions\n",
    ") = functions\n",
    "\n",
    "for key, val in {\n",
    "    \"Model parameters\": params,\n",
    "    \"Model inputs\": inputs,\n",
    "    \"Intermediate variables\": intermediate_vars,\n",
    "}.items():\n",
    "    disp(key, FiniteSet(*val))\n",
    "\n",
    "disp(\"Functions\", FiniteSet(*(fun(x) for fun in functions)))"
   ]
  },
  {
   "attachments": {},
   "cell_type": "markdown",
   "metadata": {},
   "source": [
    "## General ODE and its solution\n"
   ]
  },
  {
   "cell_type": "code",
   "execution_count": null,
   "metadata": {},
   "outputs": [],
   "source": [
    "P = 2 * pi * r\n",
    "A_c = pi * r**2\n",
    "\n",
    "ode = Eq(\n",
    "    T(x).diff(x, 2) - h * P / k / A_c * (T(x) - T_inf),\n",
    "    0,\n",
    ")\n",
    "ics = {\n",
    "    T(x_0): T_0,\n",
    "    Subs(T(x).diff(x), x, x_0): q_0 / k,\n",
    "}\n",
    "disp(\"ODE\", ode)\n",
    "disp(\"Initial conditions\", *(Eq(lhs, rhs) for lhs, rhs in ics.items()))"
   ]
  },
  {
   "cell_type": "code",
   "execution_count": null,
   "metadata": {},
   "outputs": [],
   "source": [
    "T_int_expr = dsolve(\n",
    "    ode,\n",
    "    T(x),\n",
    "    ics=ics,\n",
    ").rhs  # type: ignore  # sympy\n",
    "disp_free(\"General solution to the ODE\", Eq(T_int(x), T_int_expr))"
   ]
  },
  {
   "cell_type": "code",
   "execution_count": null,
   "metadata": {},
   "outputs": [],
   "source": [
    "# Don't subs/simplify the lhs then try equating to zero. Doesn't work. \"Truth value of\n",
    "# relational\" issue. Here we subs/simplify the whole ODE equation.\n",
    "\n",
    "assert ode.subs(\n",
    "    T(x), T_int_expr\n",
    ").simplify(), \"The solution to the ODE is not verified by substitution.\"\n",
    "print(\"The solution to the ODE is verified by substitution.\")"
   ]
  },
  {
   "attachments": {},
   "cell_type": "markdown",
   "metadata": {},
   "source": [
    "## Solution in the water domain\n"
   ]
  },
  {
   "cell_type": "code",
   "execution_count": null,
   "metadata": {},
   "outputs": [],
   "source": [
    "T_w_expr = T_int_expr.subs(\n",
    "    {\n",
    "        h: h_w,\n",
    "        q_0: q_s,\n",
    "        T_0: T_s,\n",
    "        T_inf: T_infw,\n",
    "        x_0: x_s,\n",
    "    }\n",
    ")\n",
    "\n",
    "disp_free(\"Solution in the water domain\", Eq(T_w(x), T_w_expr))"
   ]
  },
  {
   "attachments": {},
   "cell_type": "markdown",
   "metadata": {},
   "source": [
    "## Values at the domain boundary\n"
   ]
  },
  {
   "cell_type": "code",
   "execution_count": null,
   "metadata": {},
   "outputs": [],
   "source": [
    "T_wa_expr_w = T_w_expr.subs(x, x_wa)\n",
    "q_wa_expr_w = (\n",
    "    T_w_expr.diff(x).subs(  # type: ignore  # sympy\n",
    "        x,\n",
    "        x_wa,\n",
    "    )\n",
    "    * k\n",
    ")\n",
    "\n",
    "disp_free(\"Temperature at the domain transition\", Eq(T_wa, T_wa_expr_w))\n",
    "disp_free(\"Heat flux at the domain transition\", Eq(q_wa, q_wa_expr_w))"
   ]
  },
  {
   "attachments": {},
   "cell_type": "markdown",
   "metadata": {},
   "source": [
    "## Solution in the air domain\n"
   ]
  },
  {
   "cell_type": "code",
   "execution_count": null,
   "metadata": {},
   "outputs": [],
   "source": [
    "T_a_int_expr = T_int_expr.subs(\n",
    "    {\n",
    "        h: h_a,\n",
    "        q_0: q_wa,\n",
    "        T_0: T_wa,\n",
    "        T_inf: T_infa,\n",
    "        x_0: x_wa,\n",
    "    }\n",
    ")\n",
    "T_a_expr = T_a_int_expr.subs(\n",
    "    {\n",
    "        q_wa: q_wa_expr_w,\n",
    "        T_wa: T_wa_expr_w,\n",
    "    }\n",
    ")\n",
    "\n",
    "T_wa_expr_a = T_a_expr.subs(x, x_wa)\n",
    "q_wa_expr_a = (\n",
    "    T_a_expr.diff(x).subs(  # type: ignore  # sympy\n",
    "        x,\n",
    "        x_wa,\n",
    "    )\n",
    "    * k\n",
    ")\n",
    "\n",
    "disp_free(\"Solution in the air domain\", Eq(T_a(x), T_a_int_expr))\n",
    "disp_free(\"Solution in the air domain, with substitutions\", Eq(T_a(x), T_a_expr))"
   ]
  },
  {
   "attachments": {},
   "cell_type": "markdown",
   "metadata": {},
   "source": [
    "## Check the solution\n"
   ]
  },
  {
   "cell_type": "code",
   "execution_count": null,
   "metadata": {},
   "outputs": [],
   "source": [
    "assert Eq(\n",
    "    T_wa_expr_w, T_wa_expr_a\n",
    ").simplify(), \"Temperature discontinuous at domain transition.\"\n",
    "assert Eq(\n",
    "    q_wa_expr_w, q_wa_expr_a\n",
    ").simplify(), \"Temperature gradient discontinuous at domain transition.\"\n",
    "print(\"Temperature and temperature gradient are continuous at the domain transition.\")"
   ]
  },
  {
   "attachments": {},
   "cell_type": "markdown",
   "metadata": {},
   "source": [
    "## Piecewise temperature distribution\n"
   ]
  },
  {
   "cell_type": "code",
   "execution_count": null,
   "metadata": {},
   "outputs": [],
   "source": [
    "T_expr = Piecewise(\n",
    "    (T_w_expr, x < x_wa),\n",
    "    (T_a_expr, True),\n",
    ")\n",
    "\n",
    "disp_free(\"Temperature distribution in the rod\", Eq(T(x), T_expr))"
   ]
  },
  {
   "attachments": {},
   "cell_type": "markdown",
   "metadata": {},
   "source": [
    "## Make the model function compatible with SciPy curve fitting\n"
   ]
  },
  {
   "cell_type": "code",
   "execution_count": null,
   "metadata": {},
   "outputs": [],
   "source": [
    "class Model:\n",
    "    cm2_p_m2 = 100**2  # ((cm/m)^2) Conversion factor\n",
    "\n",
    "    def __init__(self):\n",
    "        \"\"\"Model of the temperature distribution in a rod.\n",
    "\n",
    "        Consists of the lambdified model function and a method for generating a wrapped\n",
    "        model function that has more flexible input requirements.\n",
    "        \"\"\"\n",
    "\n",
    "        expr = T_expr.evalf(  # type: ignore  # sympy\n",
    "            subs=proj.params.model_inputs  # type: ignore  # sympy\n",
    "            | {q_s: q_s * self.cm2_p_m2}  # (W/m^2) = (W/cm^2 * cm^2/m^2)\n",
    "        )\n",
    "        disp_free(\"Temperature distribution after float evaluation\", Eq(T(x), expr))\n",
    "\n",
    "        overrides = {\n",
    "            ufun.name: np.vectorize(ufun)\n",
    "            for ufun in (\n",
    "                umath.exp,  # type: ignore  # uncertainties\n",
    "                umath.sqrt,  # type: ignore  # uncertainties\n",
    "            )\n",
    "        }\n",
    "\n",
    "        self.basic = lambdify(args=params, expr=expr, modules=np)\n",
    "        self.for_ufloat = lambdify(args=params, expr=expr, modules=[overrides, np])"
   ]
  },
  {
   "cell_type": "code",
   "execution_count": null,
   "metadata": {},
   "outputs": [],
   "source": [
    "model_for_pickling = Model()\n",
    "model = model_for_pickling.basic\n",
    "fig, ax = plt.subplots(layout=\"constrained\")\n",
    "x_smooth = np.linspace(0, 0.10)\n",
    "model_kwargs = dict(\n",
    "    x=x_smooth,\n",
    "    T_s=105,  # (C)\n",
    "    q_s=20,  # (W/cm^2)\n",
    "    h_a=100,  # (W/m^2-K)\n",
    "    h_w=np.finfo(float).eps,  # (W/m^2-K)\n",
    "    k=400,  # (W/m-K)\n",
    ")\n",
    "\n",
    "model_evaluated_at_x_smooth = model(**model_kwargs)\n",
    "\n",
    "_ = ax.plot(\n",
    "    x_smooth,\n",
    "    model_evaluated_at_x_smooth,\n",
    ")"
   ]
  },
  {
   "attachments": {},
   "cell_type": "markdown",
   "metadata": {},
   "source": [
    "## Serialize the model to a file\n"
   ]
  },
  {
   "cell_type": "code",
   "execution_count": null,
   "metadata": {},
   "outputs": [],
   "source": [
    "with warnings.catch_warnings():\n",
    "    warnings.simplefilter(\"ignore\", dill.PicklingWarning)\n",
    "    pickled_model = dill.dumps(model_for_pickling)\n",
    "\n",
    "Path(proj.dirs.file_model).write_bytes(pickled_model)\n",
    "\n",
    "with warnings.catch_warnings():\n",
    "    warnings.simplefilter(\"ignore\", dill.UnpicklingWarning)\n",
    "    unpickled_model = dill.loads(pickled_model)\n",
    "\n",
    "assert np.allclose(\n",
    "    model_evaluated_at_x_smooth, unpickled_model.basic(**model_kwargs)\n",
    "), \"The unpickled basic model differs from the original model.\"\n",
    "\n",
    "assert np.allclose(\n",
    "    model_evaluated_at_x_smooth, unpickled_model.for_ufloat(**model_kwargs)\n",
    "), \"The unpickled model for ufloats differs from the original model.\"\n",
    "\n",
    "print(\"The unpickled models are the same as the original model.\")"
   ]
  }
 ],
 "metadata": {
  "kernelspec": {
   "display_name": "Python 3.10.8 ('.venv': venv)",
   "language": "python",
   "name": "python3"
  },
  "language_info": {
   "codemirror_mode": {
    "name": "ipython",
    "version": 3
   },
   "file_extension": ".py",
   "mimetype": "text/x-python",
   "name": "python",
   "nbconvert_exporter": "python",
   "pygments_lexer": "ipython3"
  },
  "vscode": {
   "interpreter": {
    "hash": "b6aa036b71bee0863c84db770605bec9f16973f1b95b8b091417c7a1242fbf62"
   }
  }
 },
 "nbformat": 4,
 "nbformat_minor": 2
}

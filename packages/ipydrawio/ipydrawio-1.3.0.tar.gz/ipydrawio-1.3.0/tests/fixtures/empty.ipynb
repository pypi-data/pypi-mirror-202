{
 "cells": [
  {
   "cell_type": "code",
   "execution_count": 1,
   "id": "22d1ca78-669e-48dc-b127-7831c6e34b88",
   "metadata": {},
   "outputs": [
    {
     "name": "stdout",
     "output_type": "stream",
     "text": [
      "1\n"
     ]
    },
    {
    "data": {"application/x-drawio": "<mxfile host=\"127.0.0.1\" modified=\"2022-01-16T20:05:36.916Z\" agent=\"5.0 (X11; Linux x86_64) AppleWebKit/537.36 (KHTML, like Gecko) Chrome/97.0.4692.71 Safari/537.36\" version=\"16.2.4\" etag=\"Wb6LqSUFjjOSbcgso3p7\" type=\"embed\"><diagram id=\"7S0CfzpB6yNw2ciq7IUg\" name=\"Page-1\"><mxGraphModel dx=\"919\" dy=\"700\" grid=\"1\" gridSize=\"10\" guides=\"1\" tooltips=\"1\" connect=\"1\" arrows=\"1\" fold=\"1\" page=\"1\" pageScale=\"1\" pageWidth=\"850\" pageHeight=\"1100\" math=\"0\" shadow=\"0\"><root><mxCell id=\"0\"/><mxCell id=\"1\" parent=\"0\"/></root></mxGraphModel></diagram></mxfile>"},
     "metadata": {},
     "output_type": "display_data"
    }
   ],
   "source": [
    "print(\"1\")"
   ]
  }
 ],
 "metadata": {
  "@deathbeds/ipydrawio": {
   "xml": "<mxfile host=\"127.0.0.1\" modified=\"2022-01-16T20:05:36.916Z\" agent=\"5.0 (X11; Linux x86_64) AppleWebKit/537.36 (KHTML, like Gecko) Chrome/97.0.4692.71 Safari/537.36\" version=\"16.2.4\" etag=\"Wb6LqSUFjjOSbcgso3p7\" type=\"embed\"><diagram id=\"7S0CfzpB6yNw2ciq7IUg\" name=\"Page-1\"><mxGraphModel dx=\"919\" dy=\"700\" grid=\"1\" gridSize=\"10\" guides=\"1\" tooltips=\"1\" connect=\"1\" arrows=\"1\" fold=\"1\" page=\"1\" pageScale=\"1\" pageWidth=\"850\" pageHeight=\"1100\" math=\"0\" shadow=\"0\"><root><mxCell id=\"0\"/><mxCell id=\"1\" parent=\"0\"/></root></mxGraphModel></diagram></mxfile>"
  },
  "kernelspec": {
   "display_name": "Python 3 (ipykernel)",
   "language": "python",
   "name": "python3"
  },
  "language_info": {
   "codemirror_mode": {
    "name": "ipython",
    "version": 3
   },
   "file_extension": ".py",
   "mimetype": "text/x-python",
   "name": "python",
   "nbconvert_exporter": "python",
   "pygments_lexer": "ipython3",
   "version": "3.10.2"
  }
 },
 "nbformat": 4,
 "nbformat_minor": 5
}

{
 "cells": [
  {
   "cell_type": "raw",
   "metadata": {},
   "source": [
    "---\n",
    "title: \"Introduction to SPOT: Multi-dim Functions\"\n",
    "format: html\n",
    "---"
   ]
  },
  {
   "attachments": {},
   "cell_type": "markdown",
   "metadata": {},
   "source": [
    "# Introduction to Sequential Parameter Optimization\n",
    "## Multi-dimensional Functions"
   ]
  },
  {
   "attachments": {},
   "cell_type": "markdown",
   "metadata": {},
   "source": [
    "* This notebook illustrates how high-dimensional functions can be analyzed."
   ]
  },
  {
   "attachments": {},
   "cell_type": "markdown",
   "metadata": {},
   "source": [
    "## 1 Example: `Spot` and the 3-dim Sphere Function"
   ]
  },
  {
   "cell_type": "code",
   "execution_count": 1,
   "metadata": {},
   "outputs": [],
   "source": [
    "import numpy as np\n",
    "from math import inf\n",
    "from spotPython.fun.objectivefunctions import analytical\n",
    "from spotPython.spot import spot\n",
    "from scipy.optimize import shgo\n",
    "from scipy.optimize import direct\n",
    "from scipy.optimize import differential_evolution\n",
    "import matplotlib.pyplot as plt\n",
    "import pylab\n",
    "from numpy import append, ndarray, multiply, isinf, linspace, meshgrid, ravel\n",
    "from numpy import array"
   ]
  },
  {
   "attachments": {},
   "cell_type": "markdown",
   "metadata": {},
   "source": [
    "### The Objective Function: 3-dim Sphere\n",
    "\n",
    "* The `spotPython` package provides several classes of objective functions.\n",
    "* We will use an analytical objective function, i.e., a function that can be described by a (closed) formula:\n",
    "   $$f(x) = \\sum_i^n x_i^2 $$"
   ]
  },
  {
   "attachments": {},
   "cell_type": "markdown",
   "metadata": {},
   "source": [
    "* Here we will use $n=3$."
   ]
  },
  {
   "cell_type": "code",
   "execution_count": 2,
   "metadata": {},
   "outputs": [],
   "source": [
    "fun = analytical().fun_sphere\n"
   ]
  },
  {
   "attachments": {},
   "cell_type": "markdown",
   "metadata": {},
   "source": [
    "* The size of the `lower` bound vector determines the problem dimension.\n",
    "* Here we will use `np.array([-1, -1, -1])`, i.e., a three-dim function.\n",
    "* We will use three different `theta` values (one for each dimension), i.e., we set\n",
    "  \n",
    "  `surrogate_control={\"n_theta\": 3}`."
   ]
  },
  {
   "cell_type": "code",
   "execution_count": 3,
   "metadata": {},
   "outputs": [
    {
     "name": "stdout",
     "output_type": "stream",
     "text": [
      "spotPython tuning: [##########] 100.00% Done...\n",
      "\r"
     ]
    },
    {
     "data": {
      "text/plain": [
       "<spotPython.spot.spot.Spot at 0x16b8f3c70>"
      ]
     },
     "execution_count": 3,
     "metadata": {},
     "output_type": "execute_result"
    }
   ],
   "source": [
    "spot_3 = spot.Spot(fun=fun,\n",
    "                   lower = -1.0*np.ones(3),\n",
    "                   upper = np.ones(3),\n",
    "                   var_name=[\"Pressure\", \"Temp\", \"Lambda\"],\n",
    "                   show_progress=True,\n",
    "                   surrogate_control={\"n_theta\": 3})\n",
    "\n",
    "spot_3.run()"
   ]
  },
  {
   "attachments": {},
   "cell_type": "markdown",
   "metadata": {},
   "source": [
    "### Results"
   ]
  },
  {
   "cell_type": "code",
   "execution_count": 4,
   "metadata": {},
   "outputs": [
    {
     "name": "stdout",
     "output_type": "stream",
     "text": [
      "min y: 5.9908343748136085e-05\n",
      "Pressure: 0.005157864627379999\n",
      "Temp: 0.00195710957248863\n",
      "Lambda: 0.005429042121316765\n"
     ]
    },
    {
     "data": {
      "text/plain": [
       "[['Pressure', 0.005157864627379999],\n",
       " ['Temp', 0.00195710957248863],\n",
       " ['Lambda', 0.005429042121316765]]"
      ]
     },
     "execution_count": 4,
     "metadata": {},
     "output_type": "execute_result"
    }
   ],
   "source": [
    "spot_3.print_results()"
   ]
  },
  {
   "cell_type": "code",
   "execution_count": 5,
   "metadata": {},
   "outputs": [
    {
     "data": {
      "image/png": "[encoded data removed]",
      "text/plain": [
       "<Figure size 900x600 with 1 Axes>"
      ]
     },
     "metadata": {},
     "output_type": "display_data"
    }
   ],
   "source": [
    "spot_3.plot_progress()"
   ]
  },
  {
   "attachments": {},
   "cell_type": "markdown",
   "metadata": {},
   "source": [
    "### A Contour Plot\n",
    "\n",
    "* We can select two dimensions, say $i=0$ and $j=1$, and generate a contour plot as follows.\n",
    "  * Note: We have specified identical `min_z` and `max_z` values to generate comparable plots!\n"
   ]
  },
  {
   "cell_type": "code",
   "execution_count": 6,
   "metadata": {},
   "outputs": [
    {
     "ename": "TypeError",
     "evalue": "Spot.chg() takes 5 positional arguments but 6 were given",
     "output_type": "error",
     "traceback": [
      "\u001b[0;31m---------------------------------------------------------------------------\u001b[0m",
      "\u001b[0;31mTypeError\u001b[0m                                 Traceback (most recent call last)",
      "\u001b[1;32m/Users/bartz/workspace/spotPython/notebooks/02_spot_multidim.ipynb Cell 15\u001b[0m in \u001b[0;36m1\n\u001b[0;32m----> <a href='vscode-notebook-cell:/Users/bartz/workspace/spotPython/notebooks/02_spot_multidim.ipynb#X20sZmlsZQ%3D%3D?line=0'>1</a>\u001b[0m spot_3\u001b[39m.\u001b[39;49mplot_contour(i\u001b[39m=\u001b[39;49m\u001b[39m0\u001b[39;49m, j\u001b[39m=\u001b[39;49m\u001b[39m1\u001b[39;49m, min_z\u001b[39m=\u001b[39;49m\u001b[39m0\u001b[39;49m, max_z\u001b[39m=\u001b[39;49m\u001b[39m2.25\u001b[39;49m)\n",
      "File \u001b[0;32m~/miniforge3/envs/spotCondaEnv/lib/python3.10/site-packages/spotPython/spot/spot.py:638\u001b[0m, in \u001b[0;36mSpot.plot_contour\u001b[0;34m(self, i, j, min_z, max_z, show, filename, n_grid, contour_levels, dpi)\u001b[0m\n\u001b[1;32m    636\u001b[0m \u001b[39m# Predict based on the optimized results\u001b[39;00m\n\u001b[1;32m    637\u001b[0m z0 \u001b[39m=\u001b[39m np\u001b[39m.\u001b[39mmean(np\u001b[39m.\u001b[39marray([\u001b[39mself\u001b[39m\u001b[39m.\u001b[39mlower, \u001b[39mself\u001b[39m\u001b[39m.\u001b[39mupper]), axis\u001b[39m=\u001b[39m\u001b[39m0\u001b[39m)\n\u001b[0;32m--> 638\u001b[0m zz \u001b[39m=\u001b[39m array([\u001b[39mself\u001b[39m\u001b[39m.\u001b[39msurrogate\u001b[39m.\u001b[39mpredict(array([\u001b[39mself\u001b[39m\u001b[39m.\u001b[39mchg(x, y, z0, i, j)])) \u001b[39mfor\u001b[39;00m x, y \u001b[39min\u001b[39;00m \u001b[39mzip\u001b[39m(ravel(X), ravel(Y))])\n\u001b[1;32m    639\u001b[0m zs \u001b[39m=\u001b[39m zz[:, \u001b[39m0\u001b[39m]\n\u001b[1;32m    640\u001b[0m Z \u001b[39m=\u001b[39m zs\u001b[39m.\u001b[39mreshape(X\u001b[39m.\u001b[39mshape)\n",
      "File \u001b[0;32m~/miniforge3/envs/spotCondaEnv/lib/python3.10/site-packages/spotPython/spot/spot.py:638\u001b[0m, in \u001b[0;36m<listcomp>\u001b[0;34m(.0)\u001b[0m\n\u001b[1;32m    636\u001b[0m \u001b[39m# Predict based on the optimized results\u001b[39;00m\n\u001b[1;32m    637\u001b[0m z0 \u001b[39m=\u001b[39m np\u001b[39m.\u001b[39mmean(np\u001b[39m.\u001b[39marray([\u001b[39mself\u001b[39m\u001b[39m.\u001b[39mlower, \u001b[39mself\u001b[39m\u001b[39m.\u001b[39mupper]), axis\u001b[39m=\u001b[39m\u001b[39m0\u001b[39m)\n\u001b[0;32m--> 638\u001b[0m zz \u001b[39m=\u001b[39m array([\u001b[39mself\u001b[39m\u001b[39m.\u001b[39msurrogate\u001b[39m.\u001b[39mpredict(array([\u001b[39mself\u001b[39;49m\u001b[39m.\u001b[39;49mchg(x, y, z0, i, j)])) \u001b[39mfor\u001b[39;00m x, y \u001b[39min\u001b[39;00m \u001b[39mzip\u001b[39m(ravel(X), ravel(Y))])\n\u001b[1;32m    639\u001b[0m zs \u001b[39m=\u001b[39m zz[:, \u001b[39m0\u001b[39m]\n\u001b[1;32m    640\u001b[0m Z \u001b[39m=\u001b[39m zs\u001b[39m.\u001b[39mreshape(X\u001b[39m.\u001b[39mshape)\n",
      "\u001b[0;31mTypeError\u001b[0m: Spot.chg() takes 5 positional arguments but 6 were given"
     ]
    },
    {
     "data": {
      "text/plain": [
       "<Figure size 900x600 with 0 Axes>"
      ]
     },
     "metadata": {},
     "output_type": "display_data"
    }
   ],
   "source": [
    "spot_3.plot_contour(i=0, j=1, min_z=0, max_z=2.25)"
   ]
  },
  {
   "attachments": {},
   "cell_type": "markdown",
   "metadata": {},
   "source": [
    "* In a similar manner, we can plot dimension $i=0$ and $j=2$:"
   ]
  },
  {
   "cell_type": "code",
   "execution_count": null,
   "metadata": {},
   "outputs": [],
   "source": [
    "spot_3.plot_contour(i=0, j=2, min_z=0, max_z=2.25)"
   ]
  },
  {
   "attachments": {},
   "cell_type": "markdown",
   "metadata": {},
   "source": [
    "* The final combination is $i=1$ and $j=2$:"
   ]
  },
  {
   "cell_type": "code",
   "execution_count": null,
   "metadata": {},
   "outputs": [],
   "source": [
    "spot_3.plot_contour(i=1, j=2, min_z=0, max_z=2.25)"
   ]
  },
  {
   "attachments": {},
   "cell_type": "markdown",
   "metadata": {},
   "source": [
    "* The three plots look very similar, because the `fun_sphere` is symmetric.\n",
    "* This can also be seen from the variable importance:"
   ]
  },
  {
   "cell_type": "code",
   "execution_count": null,
   "metadata": {},
   "outputs": [],
   "source": [
    "spot_3.print_importance()"
   ]
  },
  {
   "attachments": {},
   "cell_type": "markdown",
   "metadata": {},
   "source": [
    "## Conclusion:\n",
    "\n",
    "* Based on this quick analysis, we can conclude that all three dimensions are equally important (as expected, because the analytical function is known)."
   ]
  },
  {
   "attachments": {},
   "cell_type": "markdown",
   "metadata": {},
   "source": [
    "# Exercises"
   ]
  },
  {
   "attachments": {},
   "cell_type": "markdown",
   "metadata": {},
   "source": [
    "* Important:\n",
    "    * Results from these exercises should be added to this document, i.e., you should submit an updated version of this notebook.\n",
    "    * Please combine your results using this notebook.\n",
    "    * Only one notebook from each group!\n",
    "    * Presentation is based on this notebook. No addtional slides are required!\n",
    "    * spotPython version `0.16.11` (or greater) is required (see http://www.gm.fh-koeln.de/~bartz/site/download/)"
   ]
  },
  {
   "attachments": {},
   "cell_type": "markdown",
   "metadata": {},
   "source": [
    "## Exercise 1\n",
    "\n",
    "* Each team member should choose one of the following objective functions.\n",
    "* Please add your name to the section title!"
   ]
  },
  {
   "attachments": {},
   "cell_type": "markdown",
   "metadata": {},
   "source": [
    "### 1. The Three Dimensional `fun_cubed`\n",
    "\n",
    "* The input dimension is `3`. The search range is  $-1 \\leq x \\leq 1$ for all dimensions.\n",
    "* Generate contour plots\n",
    "* Calculate the variable importance.\n",
    "* Discuss the variable importance: \n",
    "  * Are all variables equally important? \n",
    "  * If not: \n",
    "    * Which is the most important variable?\n",
    "    * Which is the least important variable?\n",
    "\n",
    "### 2. The Ten Dimensional `fun_wing_wt`\n",
    "\n",
    "* The input dimension is `10`. The search range is  $0 \\leq x \\leq 1$ for all dimensions.\n",
    "* Calculate the variable importance.\n",
    "* Discuss the variable importance: \n",
    "  * Are all variables equally important? \n",
    "  * If not: \n",
    "    * Which is the most important variable?\n",
    "    * Which is the least important variable?\n",
    "  * Generate contour plots for the three most important variables. Do they confirm your selection?\n",
    "\n",
    "### 3. The Three Dimensional `fun_runge`\n",
    "\n",
    "* The input dimension is `3`. The search range is  $-5 \\leq x \\leq 5$ for all dimensions.\n",
    "* Generate contour plots\n",
    "* Calculate the variable importance.\n",
    "* Discuss the variable importance: \n",
    "  * Are all variables equally important? \n",
    "  * If not: \n",
    "    * Which is the most important variable?\n",
    "    * Which is the least important variable?\n",
    "\n",
    "### 4. The Three Dimensional `fun_linear`\n",
    "\n",
    "* The input dimension is `3`. The search range is  $-5 \\leq x \\leq 5$ for all dimensions.\n",
    "* Generate contour plots\n",
    "* Calculate the variable importance.\n",
    "* Discuss the variable importance: \n",
    "  * Are all variables equally important? \n",
    "  * If not: \n",
    "    * Which is the most important variable?\n",
    "    * Which is the least important variable?"
   ]
  }
 ],
 "metadata": {
  "kernelspec": {
   "display_name": "spotCondaEnv",
   "language": "python",
   "name": "python3"
  },
  "language_info": {
   "codemirror_mode": {
    "name": "ipython",
    "version": 3
   },
   "file_extension": ".py",
   "mimetype": "text/x-python",
   "name": "python",
   "nbconvert_exporter": "python",
   "pygments_lexer": "ipython3",
   "version": "3.10.6"
  },
  "orig_nbformat": 4,
  "vscode": {
   "interpreter": {
    "hash": "81c77de872def749acd68d9955e19f0df6803301f4c1f66c3444af66334112ae"
   }
  }
 },
 "nbformat": 4,
 "nbformat_minor": 2
}

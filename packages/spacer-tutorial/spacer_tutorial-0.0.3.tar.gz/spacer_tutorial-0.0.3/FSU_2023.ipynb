{
  "cells": [
    {
      "attachments": {},
      "cell_type": "markdown",
      "metadata": {},
      "source": [
        "# Spacer on Jupyter\n",
        "\n",
        "This is an interactive document. You can follow along on the cloud, change, play, go deeper into the code.\n"
      ]
    },
    {
      "cell_type": "code",
      "execution_count": 10,
      "metadata": {
        "trusted": true
      },
      "outputs": [
        {
          "name": "stdout",
          "output_type": "stream",
          "text": [
            "Using local versionof spacer_tutorial package\n"
          ]
        }
      ],
      "source": [
        "import sys\n",
        "import os.path\n",
        "import importlib.util\n",
        "\n",
        "# insert path to the local version of spacer_tutorial package into pythonpath\n",
        "if os.path.exists(\"src/spacer_tutorial/\"):\n",
        "    sys.path.append(os.path.abspath(\"src\"))\n",
        "    print(\"Using local versionof spacer_tutorial package\")\n",
        "\n",
        "# install z3 if needed\n",
        "if importlib.util.find_spec('z3') is None:\n",
        "    !{sys.executable} -m pip install z3-solver\n",
        "# install spacer_tutorial if needed\n",
        "if importlib.util.find_spec('spacer_tutorial') is None:\n",
        "    !{sys.executable} -m pip install spacer-tutorial"
      ]
    },
    {
      "cell_type": "code",
      "execution_count": 11,
      "metadata": {
        "code_folding": [
          3,
          16,
          22,
          31
        ],
        "trusted": true
      },
      "outputs": [],
      "source": [
        "import sys\n",
        "import z3\n",
        "from spacer_tutorial import *\n",
        "\n",
        "# proof mode must be enabled before any expressions are created\n",
        "z3.set_param(proof=True)\n",
        "z3.set_param(model=True)\n",
        "# print expressions with HTML\n",
        "z3.set_html_mode(True)"
      ]
    },
    {
      "cell_type": "markdown",
      "metadata": {},
      "source": [
        "## Craig Interpolation\n",
        "\n",
        "Let $A$ and $B$ be two formulas such that $A \\wedge B$ is unsat. A __Craig Interpolant__ of $A$ and $B$ is a formula $Itp$ such that:\n",
        "\n",
        "  1. $A \\implies Itp$\n",
        "  2. $Itp \\wedge B \\implies False$\n",
        "  3. uninterpreted symbols of $Itp$ are those that are shared between $A$ and $B$\n",
        "  \n",
        "Craig Interpolation is at a core of many SMT- and SAT-based verification algorithms. \n",
        "Computing Craig Interpolants is one of the most requested (missing) features of Z3.\n",
        "__But__, Craig Interpolation is reducible to CHC satisfiability!\n",
        "\n",
        "$Itp$ is an interpolant of $A \\wedge B$ if and only if, $Itp$ is a satisfying assignment to the following CHC:\n",
        "\n",
        "  1. $\\forall a, c \\cdot A(a, c) \\implies Itp(c)$\n",
        "  2. $\\forall b, c \\cdot Itp(c) \\wedge B(b, c) \\implies False$\n",
        " \n",
        "where uninterpreted constants $c$ are shared between $A$ and $B$, and uninterpreted constants $a$ and $b$ are  local to $A$ and $B$, respectively."
      ]
    },
    {
      "cell_type": "code",
      "execution_count": 12,
      "metadata": {
        "trusted": true
      },
      "outputs": [],
      "source": [
        "# Binary Craig Interpolation by reduction to CHC\n",
        "def interpolate(A, B, verbosity=0):\n",
        "    '''Computes a Craig interpolant between A and B'''\n",
        "    As = free_arith_vars(A)\n",
        "    Bs = free_arith_vars(B)\n",
        "\n",
        "    shared = [s for s in As & Bs ]\n",
        "\n",
        "    Itp = z3.Function('Itp', [s.sort() for s in shared] + [z3.BoolSort()])\n",
        "    left = z3.ForAll([a for a in As], z3.Implies(A, Itp(shared)))\n",
        "    right = z3.ForAll([b for b in Bs], z3.Implies(Itp(shared), z3.Not(B)))\n",
        "\n",
        "    res, answer = solve_horn([left, right])\n",
        "\n",
        "    if res == z3.sat:\n",
        "        return answer.eval(Itp(shared))\n",
        "    return None "
      ]
    },
    {
      "cell_type": "code",
      "execution_count": 13,
      "metadata": {
        "trusted": true
      },
      "outputs": [],
      "source": [
        "a, b, x, y, z = z3.Ints('a b x y z')\n",
        "itp = interpolate(z3.And(a < x, x < b), b < a)"
      ]
    },
    {
      "cell_type": "code",
      "execution_count": 14,
      "metadata": {
        "trusted": true
      },
      "outputs": [
        {
          "data": {
            "text/html": [
              "&not;(b + -1&middot;a &le; 1)"
            ],
            "text/plain": [
              "&not;(b + -1&middot;a &le; 1)"
            ]
          },
          "execution_count": 14,
          "metadata": {},
          "output_type": "execute_result"
        }
      ],
      "source": [
        "itp"
      ]
    },
    {
      "attachments": {},
      "cell_type": "markdown",
      "metadata": {},
      "source": [
        "The expected interpolant above is one of:\n",
        "  1.  $\\neg (a - b \\geq -1)$\n",
        "  2.  $\\neg (b - a \\leq 1)$\n",
        "\n",
        "The two formulas are semantically equivalent, and both can be simplified into:\n",
        "  * $(a + 1) < b$\n",
        "\n",
        "That is, $A \\equiv (a < x < b)$ implies that there are at least 1 number between $a$ and $b$ (namely, $x$), and this is sufficient to conclude that $b$ is not less than $a$.\n"
      ]
    },
    {
      "attachments": {},
      "cell_type": "markdown",
      "metadata": {},
      "source": [
        "# Analyzing Neural Networks with Interpolation\n",
        "Contributed by Nham Le\n",
        "\n",
        "## XNET: approximating analog XOR function using Neural net\n",
        "### Why XOR?\n",
        "Before ChatGPT, Stable Diffusion, and AlphaGo, approximating XOR function was the holy grail of Machine Learning. In their book [Perceptron][1], the famous pioneers in AI Marvin Minsky and Seymour Papert claimed that the simple XOR cannot be resolved by two-layer of feedforward neural networks. This \"drove research away from neural networks in the 1970s, and contributed to the so-called AI winter\".\n",
        "\n",
        "[1]: https://en.wikipedia.org/wiki/Perceptrons_(book)\n",
        "\n",
        "Of course, nowaday this is considered a toy problem. If you are curious, what makes the whole thing possible was the introduction of non-linear activation functions, such as ReLU.\n",
        "\n",
        "#### XOR function: \n",
        "```\n",
        "XOR(True, True) = XOR(False, False) = False \n",
        "XOR(True, False) = XOR(False, True) = True\n",
        "```\n",
        "#### Analog XOR function that is approximated by XNET:\n",
        "A real-valued input signal $x$ is considered True if $0.7\\leq x \\leq 1$, and False if $0\\leq x \\leq 0.3$.\n",
        "```\n",
        "AXOR(True, True) = AXOR(False, False) = 0 \n",
        "AXOR(True, False) = AXOR(False, True) = 1\n",
        "```\n",
        "\n",
        "### XNET\n",
        "XNET is a two-layer feed forward neural network that approximates the Analog XOR function. The network takes in 2 inputs: $x_0$ and $x_1$, and produces two outputs: $y_0$ and  $y_1$. We say that $\\mathit{XNET}(x_0, x_1) = 0$ if $y_0>y_1$, and $XNET(x_0, x_1) = 1$ if $y_0<y_1$\n",
        "\n",
        "Here is a learned version of XNET"
      ]
    },
    {
      "cell_type": "code",
      "execution_count": 15,
      "metadata": {},
      "outputs": [
        {
          "data": {
            "image/svg+xml": [
              "<?xml version=\"1.0\" encoding=\"UTF-8\" standalone=\"no\"?>\n",
              "<!DOCTYPE svg PUBLIC \"-//W3C//DTD SVG 1.1//EN\"\n",
              " \"http://www.w3.org/Graphics/SVG/1.1/DTD/svg11.dtd\">\n",
              "<!-- Generated by graphviz version 7.1.0 (20230121.1956)\n",
              " -->\n",
              "<!-- Title: G Pages: 1 -->\n",
              "<svg width=\"245pt\" height=\"305pt\"\n",
              " viewBox=\"0.00 0.00 244.83 305.00\" xmlns=\"http://www.w3.org/2000/svg\" xmlns:xlink=\"http://www.w3.org/1999/xlink\">\n",
              "<g id=\"graph0\" class=\"graph\" transform=\"scale(1 1) rotate(0) translate(4 301)\">\n",
              "<title>G</title>\n",
              "<polygon fill=\"white\" stroke=\"none\" points=\"-4,4 -4,-301 240.83,-301 240.83,4 -4,4\"/>\n",
              "<!-- x0 -->\n",
              "<g id=\"node1\" class=\"node\">\n",
              "<title>x0</title>\n",
              "<ellipse fill=\"none\" stroke=\"black\" cx=\"41.83\" cy=\"-279\" rx=\"27\" ry=\"18\"/>\n",
              "<text text-anchor=\"middle\" x=\"41.83\" y=\"-275.3\" font-family=\"Times,serif\" font-size=\"14.00\">x0</text>\n",
              "</g>\n",
              "<!-- v0 -->\n",
              "<g id=\"node2\" class=\"node\">\n",
              "<title>v0</title>\n",
              "<ellipse fill=\"none\" stroke=\"black\" cx=\"34.83\" cy=\"-192\" rx=\"27\" ry=\"18\"/>\n",
              "<text text-anchor=\"middle\" x=\"34.83\" y=\"-188.3\" font-family=\"Times,serif\" font-size=\"14.00\">v0</text>\n",
              "</g>\n",
              "<!-- x0&#45;&gt;v0 -->\n",
              "<g id=\"edge1\" class=\"edge\">\n",
              "<title>x0&#45;&gt;v0</title>\n",
              "<path fill=\"none\" stroke=\"black\" d=\"M22.15,-266.17C14.29,-260.29 6.1,-252.41 1.83,-243 -2.75,-232.91 2.19,-222.57 9.52,-213.92\"/>\n",
              "<polygon fill=\"black\" stroke=\"black\" points=\"11.82,-216.58 16.33,-206.99 6.82,-211.67 11.82,-216.58\"/>\n",
              "<text text-anchor=\"middle\" x=\"10.83\" y=\"-231.8\" font-family=\"Times,serif\" font-size=\"14.00\">0.1</text>\n",
              "</g>\n",
              "<!-- v1 -->\n",
              "<g id=\"node3\" class=\"node\">\n",
              "<title>v1</title>\n",
              "<ellipse fill=\"none\" stroke=\"black\" cx=\"120.83\" cy=\"-192\" rx=\"27\" ry=\"18\"/>\n",
              "<text text-anchor=\"middle\" x=\"120.83\" y=\"-188.3\" font-family=\"Times,serif\" font-size=\"14.00\">v1</text>\n",
              "</g>\n",
              "<!-- x0&#45;&gt;v1 -->\n",
              "<g id=\"edge2\" class=\"edge\">\n",
              "<title>x0&#45;&gt;v1</title>\n",
              "<path fill=\"none\" stroke=\"black\" d=\"M37.85,-260.9C36.43,-250.55 36.5,-237.56 42.83,-228 48.11,-220.02 67.86,-211.2 86.17,-204.41\"/>\n",
              "<polygon fill=\"black\" stroke=\"black\" points=\"87.27,-207.73 95.52,-201.07 84.93,-201.13 87.27,-207.73\"/>\n",
              "<text text-anchor=\"middle\" x=\"53.83\" y=\"-231.8\" font-family=\"Times,serif\" font-size=\"14.00\">&#45;4.3</text>\n",
              "</g>\n",
              "<!-- v2 -->\n",
              "<g id=\"node4\" class=\"node\">\n",
              "<title>v2</title>\n",
              "<ellipse fill=\"none\" stroke=\"black\" cx=\"202.83\" cy=\"-192\" rx=\"27\" ry=\"18\"/>\n",
              "<text text-anchor=\"middle\" x=\"202.83\" y=\"-188.3\" font-family=\"Times,serif\" font-size=\"14.00\">v2</text>\n",
              "</g>\n",
              "<!-- x0&#45;&gt;v2 -->\n",
              "<g id=\"edge3\" class=\"edge\">\n",
              "<title>x0&#45;&gt;v2</title>\n",
              "<path fill=\"none\" stroke=\"black\" d=\"M63.86,-268C77.47,-261.49 95.09,-252.48 109.83,-243 118.87,-237.18 119.68,-233.67 128.83,-228 141.66,-220.04 156.59,-212.66 169.66,-206.75\"/>\n",
              "<polygon fill=\"black\" stroke=\"black\" points=\"170.99,-209.99 178.73,-202.76 168.17,-203.58 170.99,-209.99\"/>\n",
              "<text text-anchor=\"middle\" x=\"137.83\" y=\"-231.8\" font-family=\"Times,serif\" font-size=\"14.00\">4.2</text>\n",
              "</g>\n",
              "<!-- v3 -->\n",
              "<g id=\"node6\" class=\"node\">\n",
              "<title>v3</title>\n",
              "<ellipse fill=\"none\" stroke=\"black\" cx=\"34.83\" cy=\"-105\" rx=\"27\" ry=\"18\"/>\n",
              "<text text-anchor=\"middle\" x=\"34.83\" y=\"-101.3\" font-family=\"Times,serif\" font-size=\"14.00\">v3</text>\n",
              "</g>\n",
              "<!-- v0&#45;&gt;v3 -->\n",
              "<g id=\"edge7\" class=\"edge\">\n",
              "<title>v0&#45;&gt;v3</title>\n",
              "<path fill=\"none\" stroke=\"black\" d=\"M34.83,-173.8C34.83,-162.58 34.83,-147.67 34.83,-134.69\"/>\n",
              "<polygon fill=\"black\" stroke=\"black\" points=\"38.33,-134.98 34.83,-124.98 31.33,-134.98 38.33,-134.98\"/>\n",
              "<text text-anchor=\"middle\" x=\"51.83\" y=\"-144.8\" font-family=\"Times,serif\" font-size=\"14.00\">ReLU</text>\n",
              "</g>\n",
              "<!-- v4 -->\n",
              "<g id=\"node7\" class=\"node\">\n",
              "<title>v4</title>\n",
              "<ellipse fill=\"none\" stroke=\"black\" cx=\"120.83\" cy=\"-105\" rx=\"27\" ry=\"18\"/>\n",
              "<text text-anchor=\"middle\" x=\"120.83\" y=\"-101.3\" font-family=\"Times,serif\" font-size=\"14.00\">v4</text>\n",
              "</g>\n",
              "<!-- v1&#45;&gt;v4 -->\n",
              "<g id=\"edge8\" class=\"edge\">\n",
              "<title>v1&#45;&gt;v4</title>\n",
              "<path fill=\"none\" stroke=\"black\" d=\"M120.83,-173.8C120.83,-162.58 120.83,-147.67 120.83,-134.69\"/>\n",
              "<polygon fill=\"black\" stroke=\"black\" points=\"124.33,-134.98 120.83,-124.98 117.33,-134.98 124.33,-134.98\"/>\n",
              "<text text-anchor=\"middle\" x=\"137.83\" y=\"-144.8\" font-family=\"Times,serif\" font-size=\"14.00\">ReLU</text>\n",
              "</g>\n",
              "<!-- v5 -->\n",
              "<g id=\"node8\" class=\"node\">\n",
              "<title>v5</title>\n",
              "<ellipse fill=\"none\" stroke=\"black\" cx=\"202.83\" cy=\"-105\" rx=\"27\" ry=\"18\"/>\n",
              "<text text-anchor=\"middle\" x=\"202.83\" y=\"-101.3\" font-family=\"Times,serif\" font-size=\"14.00\">v5</text>\n",
              "</g>\n",
              "<!-- v2&#45;&gt;v5 -->\n",
              "<g id=\"edge9\" class=\"edge\">\n",
              "<title>v2&#45;&gt;v5</title>\n",
              "<path fill=\"none\" stroke=\"black\" d=\"M202.83,-173.8C202.83,-162.58 202.83,-147.67 202.83,-134.69\"/>\n",
              "<polygon fill=\"black\" stroke=\"black\" points=\"206.33,-134.98 202.83,-124.98 199.33,-134.98 206.33,-134.98\"/>\n",
              "<text text-anchor=\"middle\" x=\"219.83\" y=\"-144.8\" font-family=\"Times,serif\" font-size=\"14.00\">ReLU</text>\n",
              "</g>\n",
              "<!-- x1 -->\n",
              "<g id=\"node5\" class=\"node\">\n",
              "<title>x1</title>\n",
              "<ellipse fill=\"none\" stroke=\"black\" cx=\"172.83\" cy=\"-279\" rx=\"27\" ry=\"18\"/>\n",
              "<text text-anchor=\"middle\" x=\"172.83\" y=\"-275.3\" font-family=\"Times,serif\" font-size=\"14.00\">x1</text>\n",
              "</g>\n",
              "<!-- x1&#45;&gt;v0 -->\n",
              "<g id=\"edge4\" class=\"edge\">\n",
              "<title>x1&#45;&gt;v0</title>\n",
              "<path fill=\"none\" stroke=\"black\" d=\"M148.6,-270.67C130.93,-264.72 106.86,-255.29 87.83,-243 76.27,-235.54 64.97,-225.4 55.8,-216.2\"/>\n",
              "<polygon fill=\"black\" stroke=\"black\" points=\"58.52,-213.98 49.07,-209.21 53.48,-218.84 58.52,-213.98\"/>\n",
              "<text text-anchor=\"middle\" x=\"98.83\" y=\"-231.8\" font-family=\"Times,serif\" font-size=\"14.00\">&#45;0.6</text>\n",
              "</g>\n",
              "<!-- x1&#45;&gt;v1 -->\n",
              "<g id=\"edge5\" class=\"edge\">\n",
              "<title>x1&#45;&gt;v1</title>\n",
              "<path fill=\"none\" stroke=\"black\" d=\"M166.85,-261.17C162.96,-251.17 157.39,-238.44 150.83,-228 148.28,-223.96 145.3,-219.9 142.22,-216.06\"/>\n",
              "<polygon fill=\"black\" stroke=\"black\" points=\"145.12,-214.08 135.98,-208.72 139.79,-218.61 145.12,-214.08\"/>\n",
              "<text text-anchor=\"middle\" x=\"166.83\" y=\"-231.8\" font-family=\"Times,serif\" font-size=\"14.00\">4.4</text>\n",
              "</g>\n",
              "<!-- x1&#45;&gt;v2 -->\n",
              "<g id=\"edge6\" class=\"edge\">\n",
              "<title>x1&#45;&gt;v2</title>\n",
              "<path fill=\"none\" stroke=\"black\" d=\"M182.7,-262.07C185.98,-256.24 189.41,-249.48 191.83,-243 194.4,-236.09 196.47,-228.4 198.08,-221.17\"/>\n",
              "<polygon fill=\"black\" stroke=\"black\" points=\"201.48,-221.98 200.01,-211.49 194.62,-220.61 201.48,-221.98\"/>\n",
              "<text text-anchor=\"middle\" x=\"206.83\" y=\"-231.8\" font-family=\"Times,serif\" font-size=\"14.00\">&#45;4.2</text>\n",
              "</g>\n",
              "<!-- y0 -->\n",
              "<g id=\"node9\" class=\"node\">\n",
              "<title>y0</title>\n",
              "<ellipse fill=\"none\" stroke=\"black\" cx=\"56.83\" cy=\"-18\" rx=\"27\" ry=\"18\"/>\n",
              "<text text-anchor=\"middle\" x=\"56.83\" y=\"-14.3\" font-family=\"Times,serif\" font-size=\"14.00\">y0</text>\n",
              "</g>\n",
              "<!-- v3&#45;&gt;y0 -->\n",
              "<g id=\"edge10\" class=\"edge\">\n",
              "<title>v3&#45;&gt;y0</title>\n",
              "<path fill=\"none\" stroke=\"black\" d=\"M22.98,-88.43C16.89,-78.43 11.72,-65.26 16.83,-54 19.49,-48.12 23.69,-42.84 28.39,-38.27\"/>\n",
              "<polygon fill=\"black\" stroke=\"black\" points=\"30.63,-40.95 35.99,-31.81 26.11,-35.61 30.63,-40.95\"/>\n",
              "<text text-anchor=\"middle\" x=\"25.83\" y=\"-57.8\" font-family=\"Times,serif\" font-size=\"14.00\">0.4</text>\n",
              "</g>\n",
              "<!-- y1 -->\n",
              "<g id=\"node10\" class=\"node\">\n",
              "<title>y1</title>\n",
              "<ellipse fill=\"none\" stroke=\"black\" cx=\"146.83\" cy=\"-18\" rx=\"27\" ry=\"18\"/>\n",
              "<text text-anchor=\"middle\" x=\"146.83\" y=\"-14.3\" font-family=\"Times,serif\" font-size=\"14.00\">y1</text>\n",
              "</g>\n",
              "<!-- v3&#45;&gt;y1 -->\n",
              "<g id=\"edge11\" class=\"edge\">\n",
              "<title>v3&#45;&gt;y1</title>\n",
              "<path fill=\"none\" stroke=\"black\" d=\"M51.84,-91.09C70.09,-77.24 99.32,-55.05 120.54,-38.95\"/>\n",
              "<polygon fill=\"black\" stroke=\"black\" points=\"122.6,-41.78 128.45,-32.95 118.37,-36.2 122.6,-41.78\"/>\n",
              "<text text-anchor=\"middle\" x=\"107.83\" y=\"-57.8\" font-family=\"Times,serif\" font-size=\"14.00\">&#45;0.4</text>\n",
              "</g>\n",
              "<!-- v4&#45;&gt;y0 -->\n",
              "<g id=\"edge12\" class=\"edge\">\n",
              "<title>v4&#45;&gt;y0</title>\n",
              "<path fill=\"none\" stroke=\"black\" d=\"M96.16,-97.04C82.33,-91.74 66.21,-82.94 57.83,-69 53.95,-62.56 52.58,-54.75 52.47,-47.24\"/>\n",
              "<polygon fill=\"black\" stroke=\"black\" points=\"55.95,-47.62 53.05,-37.43 48.96,-47.2 55.95,-47.62\"/>\n",
              "<text text-anchor=\"middle\" x=\"68.83\" y=\"-57.8\" font-family=\"Times,serif\" font-size=\"14.00\">&#45;4.9</text>\n",
              "</g>\n",
              "<!-- v4&#45;&gt;y1 -->\n",
              "<g id=\"edge13\" class=\"edge\">\n",
              "<title>v4&#45;&gt;y1</title>\n",
              "<path fill=\"none\" stroke=\"black\" d=\"M125.96,-87.21C129.46,-75.76 134.19,-60.32 138.25,-47.02\"/>\n",
              "<polygon fill=\"black\" stroke=\"black\" points=\"141.59,-48.08 141.17,-37.5 134.9,-46.04 141.59,-48.08\"/>\n",
              "<text text-anchor=\"middle\" x=\"143.83\" y=\"-57.8\" font-family=\"Times,serif\" font-size=\"14.00\">3.9</text>\n",
              "</g>\n",
              "<!-- v5&#45;&gt;y0 -->\n",
              "<g id=\"edge14\" class=\"edge\">\n",
              "<title>v5&#45;&gt;y0</title>\n",
              "<path fill=\"none\" stroke=\"black\" d=\"M191.91,-88.56C183.44,-77.58 170.82,-63.21 156.83,-54 151.11,-50.24 118.27,-39.03 91.76,-30.3\"/>\n",
              "<polygon fill=\"black\" stroke=\"black\" points=\"92.92,-27 82.33,-27.21 90.74,-33.65 92.92,-27\"/>\n",
              "<text text-anchor=\"middle\" x=\"182.83\" y=\"-57.8\" font-family=\"Times,serif\" font-size=\"14.00\">3.9</text>\n",
              "</g>\n",
              "<!-- v5&#45;&gt;y1 -->\n",
              "<g id=\"edge15\" class=\"edge\">\n",
              "<title>v5&#45;&gt;y1</title>\n",
              "<path fill=\"none\" stroke=\"black\" d=\"M208.76,-87.19C211.31,-76.95 212.55,-63.97 206.83,-54 201.12,-44.07 191.39,-36.68 181.4,-31.33\"/>\n",
              "<polygon fill=\"black\" stroke=\"black\" points=\"182.97,-28.2 172.43,-27.11 179.98,-34.53 182.97,-28.2\"/>\n",
              "<text text-anchor=\"middle\" x=\"218.83\" y=\"-57.8\" font-family=\"Times,serif\" font-size=\"14.00\">4.6</text>\n",
              "</g>\n",
              "</g>\n",
              "</svg>\n"
            ],
            "text/plain": [
              "<graphviz.sources.Source at 0x10d5bffa0>"
            ]
          },
          "execution_count": 15,
          "metadata": {},
          "output_type": "execute_result"
        }
      ],
      "source": [
        "xnet_graph()"
      ]
    },
    {
      "attachments": {},
      "cell_type": "markdown",
      "metadata": {},
      "source": [
        "## Analyzing XNET with Interpolants\n",
        "\n",
        "An interesting question for the above network is how it behaves for given restrictions on input and/or output. We can answer this question using interpolants!"
      ]
    },
    {
      "cell_type": "code",
      "execution_count": 16,
      "metadata": {},
      "outputs": [],
      "source": [
        "def mkReLU(n):\n",
        "    \"\"\"Create ReLU constraint using ITE logical construct\"\"\"\n",
        "    return z3.If(n > 0, n, 0)\n",
        "\n",
        "# inputs\n",
        "x0, x1 = z3.Reals(\"x0 x1\")\n",
        "# outputs\n",
        "y0, y1 = z3.Reals(\"y0 y1\")\n",
        "# hidden \n",
        "v0, v1, v2, v3, v4, v5 = z3.Reals('v0 v1 v2 v3 v4 v5')\n",
        "\n",
        "init = z3.And(0<x0, x0<0.3, \n",
        "              0<x1, x1<0.3)\n",
        "layer1 = z3.And(v0 ==  0.1*x0 -  0.6*x1,\n",
        "                v1 == -4.3*x0 +  4.4*x1,\n",
        "                v2 ==  4.2*x0 -  4.2*x1) \n",
        "relu_layer = z3.And(v3 == mkReLU(v0), \n",
        "                    v4 == mkReLU(v1), \n",
        "                    v5 == mkReLU(v2)) \n",
        "layer2 = z3.And(y0 ==  0.4*v3 - 4.9*v4 + 3.9*v5 + 6.7,\n",
        "                y1 == -0.4*v3 + 3.9*v4 + 4.6*v5 - 7.4)\n",
        "network = z3.And(layer1, relu_layer, layer2)\n",
        "A = z3.And(init, network)\n",
        "# claim that in the given init region, the output is always y0 >= y1\n",
        "B = z3.Not(y0 >= y1)\n",
        "itp = interpolate(A, B)"
      ]
    },
    {
      "cell_type": "code",
      "execution_count": 17,
      "metadata": {},
      "outputs": [
        {
          "data": {
            "text/html": [
              "&not;(25/946&middot;y1 + -25/946&middot;y0 &ge; -621/9460)"
            ],
            "text/plain": [
              "&not;(25/946&middot;y1 + -25/946&middot;y0 &ge; -621/9460)"
            ]
          },
          "execution_count": 17,
          "metadata": {},
          "output_type": "execute_result"
        }
      ],
      "source": [
        "itp"
      ]
    },
    {
      "attachments": {},
      "cell_type": "markdown",
      "metadata": {},
      "source": [
        "First of all, note that there is an interpolant. This means, that our property is correct. In the given input region, $x_0,x_1 \\in (0.0,0.3)$, the output satsifies $y_0 \\geq y_1$. The interpolant tells us a little more about the output. Simplifying, we get:\n",
        "  * $\\frac{2}{2}$\n",
        "\n",
        "It is also possible to interpolate `init` to see what are the restrictions needed on the input to maintain the property."
      ]
    },
    {
      "cell_type": "code",
      "execution_count": 18,
      "metadata": {},
      "outputs": [
        {
          "data": {
            "text/html": [
              "&not;(x1 + -143/123&middot;x0 &le; -143/410) &and; &not;(x1 + -43/44&middot;x0 &ge; 3/10)"
            ],
            "text/plain": [
              "&not;(x1 + -143/123&middot;x0 &le; -143/410) &and; &not;(x1 + -43/44&middot;x0 &ge; 3/10)"
            ]
          },
          "execution_count": 18,
          "metadata": {},
          "output_type": "execute_result"
        }
      ],
      "source": [
        "A = init\n",
        "# claim that in the given init region, the output is always y0 >= y1\n",
        "B = z3.And(network, z3.Not(y0 >= y1))\n",
        "itp = interpolate(A, B)\n",
        "itp"
      ]
    },
    {
      "attachments": {},
      "cell_type": "markdown",
      "metadata": {},
      "source": [
        "The above interpolant shows that the property is true in almost all of the input region. This is easiest to see by graphing the interpolant in 2D, as shown below:"
      ]
    },
    {
      "cell_type": "code",
      "execution_count": 19,
      "metadata": {},
      "outputs": [
        {
          "data": {
            "text/html": [
              "\n",
              "        <iframe\n",
              "            width=\"720\"\n",
              "            height=\"480\"\n",
              "            src=\"https://www.geogebra.org/classic/qhtrrkrp\"\n",
              "            frameborder=\"0\"\n",
              "            allowfullscreen\n",
              "            \n",
              "        ></iframe>\n",
              "        "
            ],
            "text/plain": [
              "<IPython.lib.display.IFrame at 0x10d338820>"
            ]
          },
          "execution_count": 19,
          "metadata": {},
          "output_type": "execute_result"
        }
      ],
      "source": [
        "from IPython.display import IFrame\n",
        "IFrame(\"https://www.geogebra.org/classic/qhtrrkrp\",720,480)"
      ]
    },
    {
      "cell_type": "markdown",
      "metadata": {},
      "source": [
        "## Principle of Induction\n",
        "\n",
        "Symbolic reachability problem $P$ is a tuple $(v, Init, Tr, Bad)$, where \n",
        "   1. $V$ is a set of state variables\n",
        "   2. $Init$ is a formula over $v$ describing the set of initial states\n",
        "   3. $Tr$ is a formula $v$ and $v'$ describing the transition relation\n",
        "   4. $Bad$ is a formula over $v$ describing the set of bad (or error) states\n",
        "   \n",
        "**Principle of Induction**: $P$ is **SAFE** if and only if there exists a formula $Inv(v)$ such that\n",
        "   1. (Initiation) $Init \\implies Inv$\n",
        "   2. (Induction) $Inv \\wedge Tr \\implies Inv'$\n",
        "   3. (Safety) $Inv \\wedge Bad \\implies False$\n",
        "   \n",
        "The formula $Inv$ is called an **inductive hypothesis**. Finding the right inductive hypothesis is reducible to deciding satifiability of the CHC that follow directly from the definition of principle of induction."
      ]
    },
    {
      "cell_type": "markdown",
      "metadata": {},
      "source": [
        "We begin by definition a class `Ts` to represent a transition system. It has three fields, `Init`, `Tr`, and `Bad` to represent the three corresponding components, and lots of additional code to manage state and input variables"
      ]
    },
    {
      "cell_type": "markdown",
      "metadata": {},
      "source": [
        "We now define a transition system that counts. The definition is wrapped in a method since we will use it multiple times. We create two versions, one safe and one unsafe:"
      ]
    },
    {
      "cell_type": "code",
      "execution_count": 24,
      "metadata": {
        "trusted": true
      },
      "outputs": [],
      "source": [
        "def mk_ts0(safe=True):\n",
        "    T = Ts('Ts0')\n",
        "    x, x_out = T.add_var(z3.IntSort(), name='x')\n",
        "    T.Init = x <= 0\n",
        "    T.Tr = z3.And(x < 5, x_out == x + 1)\n",
        "    if safe:\n",
        "        T.Bad = x >= 10\n",
        "    else:\n",
        "        T.Bad = x >= 4\n",
        "    return T"
      ]
    },
    {
      "cell_type": "code",
      "execution_count": 25,
      "metadata": {
        "trusted": true
      },
      "outputs": [
        {
          "data": {
            "text/html": [
              "Transition System: Ts0<br/>\tInit: x &le; 0<br/>\tBad: x &ge; 10<br/>\tTr: x &lt; 5 &and; x' = x + 1"
            ],
            "text/plain": [
              "\"Transition System: Ts0<br/>\\tInit: x &le; 0<br/>\\tBad: x &ge; 10<br/>\\tTr: x &lt; 5 &and; x' = x + 1\""
            ]
          },
          "execution_count": 25,
          "metadata": {},
          "output_type": "execute_result"
        }
      ],
      "source": [
        "ts0 = mk_ts0(safe=True)\n",
        "HtmlStr(ts0)"
      ]
    },
    {
      "cell_type": "markdown",
      "metadata": {},
      "source": [
        "We define a function `vc_gen` that generates **verification conditions** using the principle of induction:"
      ]
    },
    {
      "cell_type": "code",
      "execution_count": 26,
      "metadata": {
        "trusted": true
      },
      "outputs": [],
      "source": [
        "def vc_gen(T):\n",
        "    '''Verification Condition (VC) for an Inductive Invariant'''\n",
        "    Inv = z3.Function('Inv', *(T.sig() + [z3.BoolSort()]))\n",
        "\n",
        "    InvPre = Inv(*T.pre_vars())\n",
        "    InvPost = Inv(*T.post_vars())\n",
        "\n",
        "    all_vars = T.all()\n",
        "    vc_init = z3.ForAll(all_vars, z3.Implies(T.Init, InvPre))\n",
        "    vc_ind = z3.ForAll(all_vars, z3.Implies(z3.And(InvPre, T.Tr), InvPost))\n",
        "    vc_bad = z3.ForAll(all_vars, z3.Implies(z3.And(InvPre, T.Bad), z3.BoolVal(False)))\n",
        "    return [vc_init, vc_ind, vc_bad], InvPre"
      ]
    },
    {
      "cell_type": "code",
      "execution_count": 27,
      "metadata": {
        "trusted": true
      },
      "outputs": [],
      "source": [
        "vc, inv = vc_gen(ts0)"
      ]
    },
    {
      "cell_type": "code",
      "execution_count": 28,
      "metadata": {
        "trusted": true
      },
      "outputs": [
        {
          "data": {
            "text/html": [
              "&forall;x, x' : x &le; 0 &rArr; Inv(x) <br/><br/>&forall;x, x' : Inv(x) &and; x &lt; 5 &and; x' = x + 1 &rArr; Inv(x') <br/><br/>&forall;x, x' : Inv(x) &and; x &ge; 10 &rArr; False <br/><br/>"
            ],
            "text/plain": [
              "\"&forall;x, x' : x &le; 0 &rArr; Inv(x) <br/><br/>&forall;x, x' : Inv(x) &and; x &lt; 5 &and; x' = x + 1 &rArr; Inv(x') <br/><br/>&forall;x, x' : Inv(x) &and; x &ge; 10 &rArr; False <br/><br/>\""
            ]
          },
          "execution_count": 28,
          "metadata": {},
          "output_type": "execute_result"
        }
      ],
      "source": [
        "chc_to_str(vc)"
      ]
    },
    {
      "cell_type": "code",
      "execution_count": 29,
      "metadata": {
        "trusted": true
      },
      "outputs": [
        {
          "data": {
            "text/html": [
              "Inv(x)"
            ],
            "text/plain": [
              "'Inv(x)'"
            ]
          },
          "execution_count": 29,
          "metadata": {},
          "output_type": "execute_result"
        }
      ],
      "source": [
        "HtmlStr(inv)"
      ]
    },
    {
      "cell_type": "code",
      "execution_count": 30,
      "metadata": {
        "trusted": true
      },
      "outputs": [],
      "source": [
        "res, answer = solve_horn(vc)"
      ]
    },
    {
      "cell_type": "code",
      "execution_count": 31,
      "metadata": {
        "trusted": true
      },
      "outputs": [
        {
          "data": {
            "text/html": [
              "<b>sat</b>"
            ],
            "text/plain": [
              "<b>sat</b>"
            ]
          },
          "execution_count": 31,
          "metadata": {},
          "output_type": "execute_result"
        }
      ],
      "source": [
        "res"
      ]
    },
    {
      "cell_type": "code",
      "execution_count": 32,
      "metadata": {
        "trusted": true
      },
      "outputs": [
        {
          "data": {
            "text/html": [
              "[Inv = [else &rarr; &not;(&#957;<sub>0</sub> &ge; 6)]]"
            ],
            "text/plain": [
              "[Inv = [else &rarr; &not;(&#957;<sub>0</sub> &ge; 6)]]"
            ]
          },
          "execution_count": 32,
          "metadata": {},
          "output_type": "execute_result"
        }
      ],
      "source": [
        "answer"
      ]
    },
    {
      "cell_type": "code",
      "execution_count": 33,
      "metadata": {
        "trusted": true
      },
      "outputs": [
        {
          "data": {
            "text/html": [
              "&not;(x &ge; 6)"
            ],
            "text/plain": [
              "&not;(x &ge; 6)"
            ]
          },
          "execution_count": 33,
          "metadata": {},
          "output_type": "execute_result"
        }
      ],
      "source": [
        "answer.eval(inv)"
      ]
    },
    {
      "cell_type": "code",
      "execution_count": 34,
      "metadata": {
        "trusted": true
      },
      "outputs": [
        {
          "data": {
            "text/html": [
              "Transition System: Ts0<br/>\tInit: x &le; 0<br/>\tBad: x &ge; 4<br/>\tTr: x &lt; 5 &and; x' = x + 1"
            ],
            "text/plain": [
              "\"Transition System: Ts0<br/>\\tInit: x &le; 0<br/>\\tBad: x &ge; 4<br/>\\tTr: x &lt; 5 &and; x' = x + 1\""
            ]
          },
          "execution_count": 34,
          "metadata": {},
          "output_type": "execute_result"
        }
      ],
      "source": [
        "ts0 = mk_ts0(safe=False)\n",
        "HtmlStr(ts0)"
      ]
    },
    {
      "cell_type": "code",
      "execution_count": 35,
      "metadata": {
        "trusted": true
      },
      "outputs": [
        {
          "data": {
            "text/html": [
              "<b>unsat</b>"
            ],
            "text/plain": [
              "'<b>unsat</b>'"
            ]
          },
          "execution_count": 35,
          "metadata": {},
          "output_type": "execute_result"
        }
      ],
      "source": [
        "vc, inv = vc_gen(ts0)\n",
        "res, answer = solve_horn(vc)\n",
        "HtmlStr(res)"
      ]
    },
    {
      "cell_type": "code",
      "execution_count": 36,
      "metadata": {
        "trusted": true
      },
      "outputs": [
        {
          "data": {
            "text/html": [
              "mp(hyper-res(asserted(&forall;A : Inv(A) &and; A &ge; 4 &rArr; query!74(A)),\n",
              "             hyper-res(asserted(&forall;A, B :\n",
              "                                 Inv(A) &and;\n",
              "                                 &not;(5 &le; A) &and;\n",
              "                                 B = 1 + A &rArr;\n",
              "                                 Inv(B)),\n",
              "                       hyper-res(asserted(&forall;A, B :\n",
              "                                        Inv(A) &and;\n",
              "                                        &not;(5 &le; A) &and;\n",
              "                                        B = 1 + A &rArr;\n",
              "                                        Inv(B)),\n",
              "                                 hyper-res(asserted(&forall;A, B :\n",
              "                                        Inv(A) &and;\n",
              "                                        &not;(5 &le; A) &and;\n",
              "                                        B = 1 + A &rArr;\n",
              "                                        Inv(B)),\n",
              "                                        hyper-res(asserted(&forall;A,\n",
              "                                        B :\n",
              "                                        Inv(A) &and;\n",
              "                                        &not;(5 &le; A) &and;\n",
              "                                        B = 1 + A &rArr;\n",
              "                                        Inv(B)),\n",
              "                                        hyper-res(asserted(&forall;A :\n",
              "                                        A &le; 0 &rArr; Inv(A)),\n",
              "                                        Inv(0)),\n",
              "                                        Inv(1)),\n",
              "                                        Inv(2)),\n",
              "                                 Inv(3)),\n",
              "                       Inv(4)),\n",
              "             query!74(4)),\n",
              "   asserted(query!74(4) &rArr; False),\n",
              "   False)"
            ],
            "text/plain": [
              "mp(hyper-res(asserted(&forall;A : Inv(A) &and; A &ge; 4 &rArr; query!74(A)),\n",
              "             hyper-res(asserted(&forall;A, B :\n",
              "                                 Inv(A) &and;\n",
              "                                 &not;(5 &le; A) &and;\n",
              "                                 B = 1 + A &rArr;\n",
              "                                 Inv(B)),\n",
              "                       hyper-res(asserted(&forall;A, B :\n",
              "                                        Inv(A) &and;\n",
              "                                        &not;(5 &le; A) &and;\n",
              "                                        B = 1 + A &rArr;\n",
              "                                        Inv(B)),\n",
              "                                 hyper-res(asserted(&forall;A, B :\n",
              "                                        Inv(A) &and;\n",
              "                                        &not;(5 &le; A) &and;\n",
              "                                        B = 1 + A &rArr;\n",
              "                                        Inv(B)),\n",
              "                                        hyper-res(asserted(&forall;A,\n",
              "                                        B :\n",
              "                                        Inv(A) &and;\n",
              "                                        &not;(5 &le; A) &and;\n",
              "                                        B = 1 + A &rArr;\n",
              "                                        Inv(B)),\n",
              "                                        hyper-res(asserted(&forall;A :\n",
              "                                        A &le; 0 &rArr; Inv(A)),\n",
              "                                        Inv(0)),\n",
              "                                        Inv(1)),\n",
              "                                        Inv(2)),\n",
              "                                 Inv(3)),\n",
              "                       Inv(4)),\n",
              "             query!74(4)),\n",
              "   asserted(query!74(4) &rArr; False),\n",
              "   False)"
            ]
          },
          "execution_count": 36,
          "metadata": {},
          "output_type": "execute_result"
        }
      ],
      "source": [
        "answer"
      ]
    },
    {
      "cell_type": "markdown",
      "metadata": {},
      "source": [
        "The result is **unsat** and the certificate is a resolution proof. Since the proof is not easy to read, we abstract it by a graph, preserving only the instances of CHC predicates that are used in resolution steps:"
      ]
    },
    {
      "cell_type": "code",
      "execution_count": 37,
      "metadata": {
        "trusted": true
      },
      "outputs": [
        {
          "data": {
            "image/svg+xml": [
              "<?xml version=\"1.0\" encoding=\"UTF-8\" standalone=\"no\"?>\n",
              "<!DOCTYPE svg PUBLIC \"-//W3C//DTD SVG 1.1//EN\"\n",
              " \"http://www.w3.org/Graphics/SVG/1.1/DTD/svg11.dtd\">\n",
              "<!-- Generated by graphviz version 7.1.0 (20230121.1956)\n",
              " -->\n",
              "<!-- Pages: 1 -->\n",
              "<svg width=\"113pt\" height=\"404pt\"\n",
              " viewBox=\"0.00 0.00 113.29 404.00\" xmlns=\"http://www.w3.org/2000/svg\" xmlns:xlink=\"http://www.w3.org/1999/xlink\">\n",
              "<g id=\"graph0\" class=\"graph\" transform=\"scale(1 1) rotate(0) translate(4 400)\">\n",
              "<polygon fill=\"white\" stroke=\"none\" points=\"-4,4 -4,-400 109.29,-400 109.29,4 -4,4\"/>\n",
              "<!-- 1638 -->\n",
              "<g id=\"node1\" class=\"node\">\n",
              "<title>1638</title>\n",
              "<ellipse fill=\"none\" stroke=\"black\" cx=\"52.65\" cy=\"-18\" rx=\"52.79\" ry=\"18\"/>\n",
              "<text text-anchor=\"middle\" x=\"52.65\" y=\"-14.3\" font-family=\"Times,serif\" font-size=\"14.00\">query!74(4)</text>\n",
              "</g>\n",
              "<!-- 1679 -->\n",
              "<g id=\"node2\" class=\"node\">\n",
              "<title>1679</title>\n",
              "<ellipse fill=\"none\" stroke=\"black\" cx=\"52.65\" cy=\"-90\" rx=\"32.49\" ry=\"18\"/>\n",
              "<text text-anchor=\"middle\" x=\"52.65\" y=\"-86.3\" font-family=\"Times,serif\" font-size=\"14.00\">Inv(4)</text>\n",
              "</g>\n",
              "<!-- 1679&#45;&gt;1638 -->\n",
              "<g id=\"edge5\" class=\"edge\">\n",
              "<title>1679&#45;&gt;1638</title>\n",
              "<path fill=\"none\" stroke=\"black\" d=\"M52.65,-71.7C52.65,-64.41 52.65,-55.73 52.65,-47.54\"/>\n",
              "<polygon fill=\"black\" stroke=\"black\" points=\"56.15,-47.62 52.65,-37.62 49.15,-47.62 56.15,-47.62\"/>\n",
              "</g>\n",
              "<!-- 1686 -->\n",
              "<g id=\"node3\" class=\"node\">\n",
              "<title>1686</title>\n",
              "<ellipse fill=\"none\" stroke=\"black\" cx=\"52.65\" cy=\"-162\" rx=\"32.49\" ry=\"18\"/>\n",
              "<text text-anchor=\"middle\" x=\"52.65\" y=\"-158.3\" font-family=\"Times,serif\" font-size=\"14.00\">Inv(3)</text>\n",
              "</g>\n",
              "<!-- 1686&#45;&gt;1679 -->\n",
              "<g id=\"edge4\" class=\"edge\">\n",
              "<title>1686&#45;&gt;1679</title>\n",
              "<path fill=\"none\" stroke=\"black\" d=\"M52.65,-143.7C52.65,-136.41 52.65,-127.73 52.65,-119.54\"/>\n",
              "<polygon fill=\"black\" stroke=\"black\" points=\"56.15,-119.62 52.65,-109.62 49.15,-119.62 56.15,-119.62\"/>\n",
              "</g>\n",
              "<!-- 1658 -->\n",
              "<g id=\"node4\" class=\"node\">\n",
              "<title>1658</title>\n",
              "<ellipse fill=\"none\" stroke=\"black\" cx=\"52.65\" cy=\"-234\" rx=\"32.49\" ry=\"18\"/>\n",
              "<text text-anchor=\"middle\" x=\"52.65\" y=\"-230.3\" font-family=\"Times,serif\" font-size=\"14.00\">Inv(2)</text>\n",
              "</g>\n",
              "<!-- 1658&#45;&gt;1686 -->\n",
              "<g id=\"edge3\" class=\"edge\">\n",
              "<title>1658&#45;&gt;1686</title>\n",
              "<path fill=\"none\" stroke=\"black\" d=\"M52.65,-215.7C52.65,-208.41 52.65,-199.73 52.65,-191.54\"/>\n",
              "<polygon fill=\"black\" stroke=\"black\" points=\"56.15,-191.62 52.65,-181.62 49.15,-191.62 56.15,-191.62\"/>\n",
              "</g>\n",
              "<!-- 1682 -->\n",
              "<g id=\"node5\" class=\"node\">\n",
              "<title>1682</title>\n",
              "<ellipse fill=\"none\" stroke=\"black\" cx=\"52.65\" cy=\"-306\" rx=\"32.49\" ry=\"18\"/>\n",
              "<text text-anchor=\"middle\" x=\"52.65\" y=\"-302.3\" font-family=\"Times,serif\" font-size=\"14.00\">Inv(1)</text>\n",
              "</g>\n",
              "<!-- 1682&#45;&gt;1658 -->\n",
              "<g id=\"edge2\" class=\"edge\">\n",
              "<title>1682&#45;&gt;1658</title>\n",
              "<path fill=\"none\" stroke=\"black\" d=\"M52.65,-287.7C52.65,-280.41 52.65,-271.73 52.65,-263.54\"/>\n",
              "<polygon fill=\"black\" stroke=\"black\" points=\"56.15,-263.62 52.65,-253.62 49.15,-263.62 56.15,-263.62\"/>\n",
              "</g>\n",
              "<!-- 1634 -->\n",
              "<g id=\"node6\" class=\"node\">\n",
              "<title>1634</title>\n",
              "<ellipse fill=\"none\" stroke=\"black\" cx=\"52.65\" cy=\"-378\" rx=\"32.49\" ry=\"18\"/>\n",
              "<text text-anchor=\"middle\" x=\"52.65\" y=\"-374.3\" font-family=\"Times,serif\" font-size=\"14.00\">Inv(0)</text>\n",
              "</g>\n",
              "<!-- 1634&#45;&gt;1682 -->\n",
              "<g id=\"edge1\" class=\"edge\">\n",
              "<title>1634&#45;&gt;1682</title>\n",
              "<path fill=\"none\" stroke=\"black\" d=\"M52.65,-359.7C52.65,-352.41 52.65,-343.73 52.65,-335.54\"/>\n",
              "<polygon fill=\"black\" stroke=\"black\" points=\"56.15,-335.62 52.65,-325.62 49.15,-335.62 56.15,-335.62\"/>\n",
              "</g>\n",
              "</g>\n",
              "</svg>\n"
            ],
            "text/plain": [
              "<spacer_tutorial.proof.SpacerProof at 0x109e32e80>"
            ]
          },
          "execution_count": 37,
          "metadata": {},
          "output_type": "execute_result"
        }
      ],
      "source": [
        "sp = SpacerProof(answer)\n",
        "sp"
      ]
    },
    {
      "cell_type": "markdown",
      "metadata": {},
      "source": [
        "The shortest counter-example is to start the counter at `0` and count until `4`, at which point the bad state is reached."
      ]
    },
    {
      "cell_type": "markdown",
      "metadata": {},
      "source": [
        "## Principle of Backward Induction\n",
        "\n",
        "Sometimes forward induction is not effective. One alternative is to run the analysis backwards.\n",
        "A counter-example starts from a bad state and goes towards initial state. There is no need to change the\n",
        "underlying sat algorithm for that. We simply change the encoding!\n",
        "\n",
        "A **backward inductive invariant** for $P = (V, Init, Tr, Bad)$ is a formula $BInv$ such that \n",
        "   \n",
        "  1. $Bad \\implies BInv$\n",
        "  2. $BInv' \\wedge Tr \\implies Binv$\n",
        "  3. $BInv \\wedge Init \\implies False$\n",
        "    \n",
        "**Fact**: If $BInv$ is a backward inductive invariant for $P$, then $\\neg BInv$ is an inductive invariant for $P$."
      ]
    },
    {
      "cell_type": "code",
      "execution_count": 20,
      "metadata": {
        "trusted": true
      },
      "outputs": [],
      "source": [
        "def vc_gen_bwd(T):\n",
        "    '''Verification Condition (VC) for Backward Inductive Invariant'''\n",
        "\n",
        "    Inv = z3.Function('BwdInv', *(T.sig() + [z3.BoolSort()]))\n",
        "\n",
        "    InvPre = Inv(*T.pre_vars())\n",
        "    InvPost = Inv(*T.post_vars())\n",
        "\n",
        "    all_vars = T.all()\n",
        "    vc_init = z3.ForAll(all_vars, z3.Implies(T.Bad, InvPre))\n",
        "    vc_ind = z3.ForAll(all_vars, z3.Implies(z3.And(InvPost, T.Tr), InvPre))\n",
        "    vc_bad = z3.ForAll(all_vars, z3.Implies(z3.And(InvPre, T.Init), z3.BoolVal(False)))\n",
        "\n",
        "    return [vc_init, vc_ind, vc_bad], InvPre"
      ]
    },
    {
      "cell_type": "code",
      "execution_count": 21,
      "metadata": {
        "trusted": true
      },
      "outputs": [
        {
          "data": {
            "text/html": [
              "&forall;x, x' : x &ge; 10 &rArr; BwdInv(x) <br/><br/>&forall;x, x' : BwdInv(x') &and; x &lt; 5 &and; x' = x + 1 &rArr; BwdInv(x) <br/><br/>&forall;x, x' : BwdInv(x) &and; x &le; 0 &rArr; False <br/><br/>"
            ],
            "text/plain": [
              "\"&forall;x, x' : x &ge; 10 &rArr; BwdInv(x) <br/><br/>&forall;x, x' : BwdInv(x') &and; x &lt; 5 &and; x' = x + 1 &rArr; BwdInv(x) <br/><br/>&forall;x, x' : BwdInv(x) &and; x &le; 0 &rArr; False <br/><br/>\""
            ]
          },
          "execution_count": 21,
          "metadata": {},
          "output_type": "execute_result"
        }
      ],
      "source": [
        "ts0 = mk_ts0(safe=True)\n",
        "vc, inv = vc_gen_bwd(ts0)\n",
        "chc_to_str(vc)"
      ]
    },
    {
      "cell_type": "code",
      "execution_count": 22,
      "metadata": {
        "trusted": true
      },
      "outputs": [
        {
          "data": {
            "text/html": [
              "&not;(x &le; 9)"
            ],
            "text/plain": [
              "&not;(x &le; 9)"
            ]
          },
          "execution_count": 22,
          "metadata": {},
          "output_type": "execute_result"
        }
      ],
      "source": [
        "res, answer = solve_horn(vc)\n",
        "answer.eval(inv)"
      ]
    },
    {
      "cell_type": "code",
      "execution_count": 23,
      "metadata": {
        "trusted": true
      },
      "outputs": [
        {
          "data": {
            "image/svg+xml": [
              "<?xml version=\"1.0\" encoding=\"UTF-8\" standalone=\"no\"?>\n",
              "<!DOCTYPE svg PUBLIC \"-//W3C//DTD SVG 1.1//EN\"\n",
              " \"http://www.w3.org/Graphics/SVG/1.1/DTD/svg11.dtd\">\n",
              "<!-- Generated by graphviz version 7.1.0 (20230121.1956)\n",
              " -->\n",
              "<!-- Pages: 1 -->\n",
              "<svg width=\"122pt\" height=\"404pt\"\n",
              " viewBox=\"0.00 0.00 122.39 404.00\" xmlns=\"http://www.w3.org/2000/svg\" xmlns:xlink=\"http://www.w3.org/1999/xlink\">\n",
              "<g id=\"graph0\" class=\"graph\" transform=\"scale(1 1) rotate(0) translate(4 400)\">\n",
              "<polygon fill=\"white\" stroke=\"none\" points=\"-4,4 -4,-400 118.39,-400 118.39,4 -4,4\"/>\n",
              "<!-- 1404 -->\n",
              "<g id=\"node1\" class=\"node\">\n",
              "<title>1404</title>\n",
              "<ellipse fill=\"none\" stroke=\"black\" cx=\"57.19\" cy=\"-18\" rx=\"57.39\" ry=\"18\"/>\n",
              "<text text-anchor=\"middle\" x=\"57.19\" y=\"-14.3\" font-family=\"Times,serif\" font-size=\"14.00\">query!110(0)</text>\n",
              "</g>\n",
              "<!-- 880 -->\n",
              "<g id=\"node2\" class=\"node\">\n",
              "<title>880</title>\n",
              "<ellipse fill=\"none\" stroke=\"black\" cx=\"57.19\" cy=\"-90\" rx=\"49.29\" ry=\"18\"/>\n",
              "<text text-anchor=\"middle\" x=\"57.19\" y=\"-86.3\" font-family=\"Times,serif\" font-size=\"14.00\">BwdInv(0)</text>\n",
              "</g>\n",
              "<!-- 880&#45;&gt;1404 -->\n",
              "<g id=\"edge5\" class=\"edge\">\n",
              "<title>880&#45;&gt;1404</title>\n",
              "<path fill=\"none\" stroke=\"black\" d=\"M57.19,-71.7C57.19,-64.41 57.19,-55.73 57.19,-47.54\"/>\n",
              "<polygon fill=\"black\" stroke=\"black\" points=\"60.7,-47.62 57.19,-37.62 53.7,-47.62 60.7,-47.62\"/>\n",
              "</g>\n",
              "<!-- 795 -->\n",
              "<g id=\"node3\" class=\"node\">\n",
              "<title>795</title>\n",
              "<ellipse fill=\"none\" stroke=\"black\" cx=\"57.19\" cy=\"-162\" rx=\"49.29\" ry=\"18\"/>\n",
              "<text text-anchor=\"middle\" x=\"57.19\" y=\"-158.3\" font-family=\"Times,serif\" font-size=\"14.00\">BwdInv(1)</text>\n",
              "</g>\n",
              "<!-- 795&#45;&gt;880 -->\n",
              "<g id=\"edge4\" class=\"edge\">\n",
              "<title>795&#45;&gt;880</title>\n",
              "<path fill=\"none\" stroke=\"black\" d=\"M57.19,-143.7C57.19,-136.41 57.19,-127.73 57.19,-119.54\"/>\n",
              "<polygon fill=\"black\" stroke=\"black\" points=\"60.7,-119.62 57.19,-109.62 53.7,-119.62 60.7,-119.62\"/>\n",
              "</g>\n",
              "<!-- 1037 -->\n",
              "<g id=\"node4\" class=\"node\">\n",
              "<title>1037</title>\n",
              "<ellipse fill=\"none\" stroke=\"black\" cx=\"57.19\" cy=\"-234\" rx=\"49.29\" ry=\"18\"/>\n",
              "<text text-anchor=\"middle\" x=\"57.19\" y=\"-230.3\" font-family=\"Times,serif\" font-size=\"14.00\">BwdInv(2)</text>\n",
              "</g>\n",
              "<!-- 1037&#45;&gt;795 -->\n",
              "<g id=\"edge3\" class=\"edge\">\n",
              "<title>1037&#45;&gt;795</title>\n",
              "<path fill=\"none\" stroke=\"black\" d=\"M57.19,-215.7C57.19,-208.41 57.19,-199.73 57.19,-191.54\"/>\n",
              "<polygon fill=\"black\" stroke=\"black\" points=\"60.7,-191.62 57.19,-181.62 53.7,-191.62 60.7,-191.62\"/>\n",
              "</g>\n",
              "<!-- 1066 -->\n",
              "<g id=\"node5\" class=\"node\">\n",
              "<title>1066</title>\n",
              "<ellipse fill=\"none\" stroke=\"black\" cx=\"57.19\" cy=\"-306\" rx=\"49.29\" ry=\"18\"/>\n",
              "<text text-anchor=\"middle\" x=\"57.19\" y=\"-302.3\" font-family=\"Times,serif\" font-size=\"14.00\">BwdInv(3)</text>\n",
              "</g>\n",
              "<!-- 1066&#45;&gt;1037 -->\n",
              "<g id=\"edge2\" class=\"edge\">\n",
              "<title>1066&#45;&gt;1037</title>\n",
              "<path fill=\"none\" stroke=\"black\" d=\"M57.19,-287.7C57.19,-280.41 57.19,-271.73 57.19,-263.54\"/>\n",
              "<polygon fill=\"black\" stroke=\"black\" points=\"60.7,-263.62 57.19,-253.62 53.7,-263.62 60.7,-263.62\"/>\n",
              "</g>\n",
              "<!-- 1671 -->\n",
              "<g id=\"node6\" class=\"node\">\n",
              "<title>1671</title>\n",
              "<ellipse fill=\"none\" stroke=\"black\" cx=\"57.19\" cy=\"-378\" rx=\"49.29\" ry=\"18\"/>\n",
              "<text text-anchor=\"middle\" x=\"57.19\" y=\"-374.3\" font-family=\"Times,serif\" font-size=\"14.00\">BwdInv(4)</text>\n",
              "</g>\n",
              "<!-- 1671&#45;&gt;1066 -->\n",
              "<g id=\"edge1\" class=\"edge\">\n",
              "<title>1671&#45;&gt;1066</title>\n",
              "<path fill=\"none\" stroke=\"black\" d=\"M57.19,-359.7C57.19,-352.41 57.19,-343.73 57.19,-335.54\"/>\n",
              "<polygon fill=\"black\" stroke=\"black\" points=\"60.7,-335.62 57.19,-325.62 53.7,-335.62 60.7,-335.62\"/>\n",
              "</g>\n",
              "</g>\n",
              "</svg>\n"
            ],
            "text/plain": [
              "<spacer_tutorial.proof.SpacerProof at 0x10e634f70>"
            ]
          },
          "execution_count": 23,
          "metadata": {},
          "output_type": "execute_result"
        }
      ],
      "source": [
        "ts0 = mk_ts0(safe=False)\n",
        "vc, inv = vc_gen_bwd(ts0)\n",
        "res, answer = solve_horn(vc)\n",
        "SpacerProof(answer)"
      ]
    },
    {
      "cell_type": "markdown",
      "metadata": {},
      "source": [
        "As expected, the counter-example runs backward. Starting fromt the bad state and evolving to the initial state."
      ]
    },
    {
      "cell_type": "markdown",
      "metadata": {},
      "source": [
        "## The principle of 2-induction\n",
        "\n",
        "2-induction, or more generally, $k$-induction is a strengthening of the principle of induction. It allows assuming inductive hypothesis for multiple steps of the transtion relation.\n",
        "\n",
        "A **2-inductive invariant** for a system $P = (V, Init, Tr, Bad)$ is a formula $2Inv$ such that\n",
        "\n",
        "   1. (initiataion 1) $Init \\implies 2Inv$\n",
        "   2. (initiation 2)  $Init \\wedge Tr \\implies 2Inv'$\n",
        "   3. (2-induction)   $2Inv \\wedge Tr \\wedge 2Inv' \\wedge Tr' \\implies 2Inv''$\n",
        "   4. (safety)        $2Inv \\wedge Bad \\implies False$\n",
        "   \n",
        "Fromt the above definition, it is obvious that discovering a 2-inductive hypothesis is reducible to satisfiablity of *non-linear* CHC."
      ]
    },
    {
      "cell_type": "code",
      "execution_count": 24,
      "metadata": {
        "code_folding": [
          1
        ],
        "trusted": true
      },
      "outputs": [],
      "source": [
        "def vc_gen_2ind(T):\n",
        "    \"\"\"Verification condition for 2-inductive invariant\"\"\"\n",
        "    Inv = z3.Function('2Inv', *(T.sig() + [z3.BoolSort()]))\n",
        "\n",
        "    InvPre = Inv(*T.pre_vars())\n",
        "    InvPost = Inv(*T.post_vars())\n",
        "\n",
        "    all_vars = T.all()\n",
        "    # Inv contains initial states\n",
        "    vc_init1 = z3.ForAll(all_vars, z3.Implies(T.Init, InvPre))\n",
        "    # Inv contains states reachable in one step\n",
        "    vc_init2 = z3.ForAll(all_vars, z3.Implies(z3.And(T.Init, T.Tr), InvPost))\n",
        "\n",
        "    # Inv is stable under two steps of Tr , assuming Inv holds after first step\n",
        "    TSeq = mk_seq(T, T, constraint = InvPre)\n",
        "    InvPost = Inv(*TSeq.post_vars())\n",
        "    all_vars = TSeq.all()\n",
        "    vc_ind = z3.ForAll(all_vars, z3.Implies(z3.And(InvPre, TSeq.Tr), InvPost))\n",
        "\n",
        "    # Inv does not satisfy Bad\n",
        "    vc_bad = z3.ForAll(all_vars, z3.Implies(z3.And(InvPre, T.Bad), z3.BoolVal(False)))\n",
        "\n",
        "    return [vc_init1, vc_init2, vc_ind, vc_bad], InvPre"
      ]
    },
    {
      "cell_type": "code",
      "execution_count": 25,
      "metadata": {
        "trusted": true
      },
      "outputs": [
        {
          "data": {
            "text/html": [
              "&forall;x, x' : x &le; 0 &rArr; 2Inv(x) <br/><br/>&forall;x, x' : x &le; 0 &and; x &lt; 5 &and; x' = x + 1 &rArr; 2Inv(x') <br/><br/>&forall;x, x', i_0 :<br/> 2Inv(x) &and;<br/> &not;(5 &le; x) &and;<br/> i_0 = 1 + x &and;<br/> &not;(5 &le; i_0) &and;<br/> x' = 1 + i_0 &and;<br/> 2Inv(i_0) &rArr;<br/> 2Inv(x') <br/><br/>&forall;x, x', i_0 : 2Inv(x) &and; x &ge; 10 &rArr; False <br/><br/>"
            ],
            "text/plain": [
              "\"&forall;x, x' : x &le; 0 &rArr; 2Inv(x) <br/><br/>&forall;x, x' : x &le; 0 &and; x &lt; 5 &and; x' = x + 1 &rArr; 2Inv(x') <br/><br/>&forall;x, x', i_0 :<br/> 2Inv(x) &and;<br/> &not;(5 &le; x) &and;<br/> i_0 = 1 + x &and;<br/> &not;(5 &le; i_0) &and;<br/> x' = 1 + i_0 &and;<br/> 2Inv(i_0) &rArr;<br/> 2Inv(x') <br/><br/>&forall;x, x', i_0 : 2Inv(x) &and; x &ge; 10 &rArr; False <br/><br/>\""
            ]
          },
          "execution_count": 25,
          "metadata": {},
          "output_type": "execute_result"
        }
      ],
      "source": [
        "ts0 = mk_ts0(safe=True)\n",
        "vc, inv = vc_gen_2ind(ts0)\n",
        "chc_to_str(vc)"
      ]
    },
    {
      "cell_type": "code",
      "execution_count": 26,
      "metadata": {
        "trusted": true
      },
      "outputs": [
        {
          "data": {
            "text/html": [
              "&not;(x &ge; 6)"
            ],
            "text/plain": [
              "&not;(x &ge; 6)"
            ]
          },
          "execution_count": 26,
          "metadata": {},
          "output_type": "execute_result"
        }
      ],
      "source": [
        "res, answer = solve_horn(vc)\n",
        "answer.eval(inv)"
      ]
    },
    {
      "cell_type": "code",
      "execution_count": 27,
      "metadata": {
        "trusted": true
      },
      "outputs": [
        {
          "data": {
            "image/svg+xml": [
              "<?xml version=\"1.0\" encoding=\"UTF-8\" standalone=\"no\"?>\n",
              "<!DOCTYPE svg PUBLIC \"-//W3C//DTD SVG 1.1//EN\"\n",
              " \"http://www.w3.org/Graphics/SVG/1.1/DTD/svg11.dtd\">\n",
              "<!-- Generated by graphviz version 7.1.0 (20230121.1956)\n",
              " -->\n",
              "<!-- Pages: 1 -->\n",
              "<svg width=\"188pt\" height=\"476pt\"\n",
              " viewBox=\"0.00 0.00 187.59 476.00\" xmlns=\"http://www.w3.org/2000/svg\" xmlns:xlink=\"http://www.w3.org/1999/xlink\">\n",
              "<g id=\"graph0\" class=\"graph\" transform=\"scale(1 1) rotate(0) translate(4 472)\">\n",
              "<polygon fill=\"white\" stroke=\"none\" points=\"-4,4 -4,-472 183.59,-472 183.59,4 -4,4\"/>\n",
              "<!-- 2394 -->\n",
              "<g id=\"node1\" class=\"node\">\n",
              "<title>2394</title>\n",
              "<ellipse fill=\"none\" stroke=\"black\" cx=\"72.3\" cy=\"-18\" rx=\"57.39\" ry=\"18\"/>\n",
              "<text text-anchor=\"middle\" x=\"72.3\" y=\"-14.3\" font-family=\"Times,serif\" font-size=\"14.00\">query!147(4)</text>\n",
              "</g>\n",
              "<!-- 2460 -->\n",
              "<g id=\"node2\" class=\"node\">\n",
              "<title>2460</title>\n",
              "<ellipse fill=\"none\" stroke=\"black\" cx=\"72.3\" cy=\"-90\" rx=\"37.09\" ry=\"18\"/>\n",
              "<text text-anchor=\"middle\" x=\"72.3\" y=\"-86.3\" font-family=\"Times,serif\" font-size=\"14.00\">2Inv(4)</text>\n",
              "</g>\n",
              "<!-- 2460&#45;&gt;2394 -->\n",
              "<g id=\"edge11\" class=\"edge\">\n",
              "<title>2460&#45;&gt;2394</title>\n",
              "<path fill=\"none\" stroke=\"black\" d=\"M72.3,-71.7C72.3,-64.41 72.3,-55.73 72.3,-47.54\"/>\n",
              "<polygon fill=\"black\" stroke=\"black\" points=\"75.8,-47.62 72.3,-37.62 68.8,-47.62 75.8,-47.62\"/>\n",
              "</g>\n",
              "<!-- 2540 -->\n",
              "<g id=\"node3\" class=\"node\">\n",
              "<title>2540</title>\n",
              "<ellipse fill=\"none\" stroke=\"black\" cx=\"40.3\" cy=\"-162\" rx=\"37.09\" ry=\"18\"/>\n",
              "<text text-anchor=\"middle\" x=\"40.3\" y=\"-158.3\" font-family=\"Times,serif\" font-size=\"14.00\">2Inv(3)</text>\n",
              "</g>\n",
              "<!-- 2540&#45;&gt;2460 -->\n",
              "<g id=\"edge9\" class=\"edge\">\n",
              "<title>2540&#45;&gt;2460</title>\n",
              "<path fill=\"none\" stroke=\"black\" d=\"M48.04,-144.05C51.62,-136.23 55.95,-126.75 59.96,-117.98\"/>\n",
              "<polygon fill=\"black\" stroke=\"black\" points=\"63.02,-119.72 63.99,-109.17 56.65,-116.81 63.02,-119.72\"/>\n",
              "</g>\n",
              "<!-- 2542 -->\n",
              "<g id=\"node4\" class=\"node\">\n",
              "<title>2542</title>\n",
              "<ellipse fill=\"none\" stroke=\"black\" cx=\"105.3\" cy=\"-234\" rx=\"37.09\" ry=\"18\"/>\n",
              "<text text-anchor=\"middle\" x=\"105.3\" y=\"-230.3\" font-family=\"Times,serif\" font-size=\"14.00\">2Inv(2)</text>\n",
              "</g>\n",
              "<!-- 2542&#45;&gt;2460 -->\n",
              "<g id=\"edge10\" class=\"edge\">\n",
              "<title>2542&#45;&gt;2460</title>\n",
              "<path fill=\"none\" stroke=\"black\" d=\"M101.9,-215.88C98.27,-197.92 92.24,-168.9 86.3,-144 84.37,-135.91 82.12,-127.18 80.01,-119.17\"/>\n",
              "<polygon fill=\"black\" stroke=\"black\" points=\"83.41,-118.35 77.44,-109.6 76.65,-120.16 83.41,-118.35\"/>\n",
              "</g>\n",
              "<!-- 2542&#45;&gt;2540 -->\n",
              "<g id=\"edge7\" class=\"edge\">\n",
              "<title>2542&#45;&gt;2540</title>\n",
              "<path fill=\"none\" stroke=\"black\" d=\"M90.55,-217.12C82.32,-208.26 71.9,-197.04 62.69,-187.12\"/>\n",
              "<polygon fill=\"black\" stroke=\"black\" points=\"65.39,-184.88 56.02,-179.93 60.26,-189.64 65.39,-184.88\"/>\n",
              "</g>\n",
              "<!-- 2532 -->\n",
              "<g id=\"node5\" class=\"node\">\n",
              "<title>2532</title>\n",
              "<ellipse fill=\"none\" stroke=\"black\" cx=\"40.3\" cy=\"-306\" rx=\"37.09\" ry=\"18\"/>\n",
              "<text text-anchor=\"middle\" x=\"40.3\" y=\"-302.3\" font-family=\"Times,serif\" font-size=\"14.00\">2Inv(1)</text>\n",
              "</g>\n",
              "<!-- 2532&#45;&gt;2540 -->\n",
              "<g id=\"edge8\" class=\"edge\">\n",
              "<title>2532&#45;&gt;2540</title>\n",
              "<path fill=\"none\" stroke=\"black\" d=\"M40.3,-287.59C40.3,-263.61 40.3,-220.14 40.3,-191.42\"/>\n",
              "<polygon fill=\"black\" stroke=\"black\" points=\"43.8,-191.62 40.3,-181.62 36.8,-191.62 43.8,-191.62\"/>\n",
              "</g>\n",
              "<!-- 2532&#45;&gt;2542 -->\n",
              "<g id=\"edge5\" class=\"edge\">\n",
              "<title>2532&#45;&gt;2542</title>\n",
              "<path fill=\"none\" stroke=\"black\" d=\"M55.05,-289.12C63.27,-280.26 73.69,-269.04 82.9,-259.12\"/>\n",
              "<polygon fill=\"black\" stroke=\"black\" points=\"85.34,-261.64 89.58,-251.93 80.21,-256.88 85.34,-261.64\"/>\n",
              "</g>\n",
              "<!-- 2527 -->\n",
              "<g id=\"node6\" class=\"node\">\n",
              "<title>2527</title>\n",
              "<ellipse fill=\"none\" stroke=\"black\" cx=\"105.3\" cy=\"-378\" rx=\"37.09\" ry=\"18\"/>\n",
              "<text text-anchor=\"middle\" x=\"105.3\" y=\"-374.3\" font-family=\"Times,serif\" font-size=\"14.00\">2Inv(0)</text>\n",
              "</g>\n",
              "<!-- 2527&#45;&gt;2542 -->\n",
              "<g id=\"edge6\" class=\"edge\">\n",
              "<title>2527&#45;&gt;2542</title>\n",
              "<path fill=\"none\" stroke=\"black\" d=\"M105.3,-359.59C105.3,-335.61 105.3,-292.14 105.3,-263.42\"/>\n",
              "<polygon fill=\"black\" stroke=\"black\" points=\"108.8,-263.62 105.3,-253.62 101.8,-263.62 108.8,-263.62\"/>\n",
              "</g>\n",
              "<!-- 2527&#45;&gt;2532 -->\n",
              "<g id=\"edge3\" class=\"edge\">\n",
              "<title>2527&#45;&gt;2532</title>\n",
              "<path fill=\"none\" stroke=\"black\" d=\"M90.55,-361.12C82.32,-352.26 71.9,-341.04 62.69,-331.12\"/>\n",
              "<polygon fill=\"black\" stroke=\"black\" points=\"65.39,-328.88 56.02,-323.93 60.26,-333.64 65.39,-328.88\"/>\n",
              "</g>\n",
              "<!-- 2434 -->\n",
              "<g id=\"node7\" class=\"node\">\n",
              "<title>2434</title>\n",
              "<ellipse fill=\"none\" stroke=\"black\" cx=\"40.3\" cy=\"-450\" rx=\"40.09\" ry=\"18\"/>\n",
              "<text text-anchor=\"middle\" x=\"40.3\" y=\"-446.3\" font-family=\"Times,serif\" font-size=\"14.00\">2Inv(&#45;1)</text>\n",
              "</g>\n",
              "<!-- 2434&#45;&gt;2532 -->\n",
              "<g id=\"edge4\" class=\"edge\">\n",
              "<title>2434&#45;&gt;2532</title>\n",
              "<path fill=\"none\" stroke=\"black\" d=\"M40.3,-431.59C40.3,-407.61 40.3,-364.14 40.3,-335.42\"/>\n",
              "<polygon fill=\"black\" stroke=\"black\" points=\"43.8,-335.62 40.3,-325.62 36.8,-335.62 43.8,-335.62\"/>\n",
              "</g>\n",
              "<!-- 2434&#45;&gt;2527 -->\n",
              "<g id=\"edge1\" class=\"edge\">\n",
              "<title>2434&#45;&gt;2527</title>\n",
              "<path fill=\"none\" stroke=\"black\" d=\"M55.05,-433.12C63.27,-424.26 73.69,-413.04 82.9,-403.12\"/>\n",
              "<polygon fill=\"black\" stroke=\"black\" points=\"85.34,-405.64 89.58,-395.93 80.21,-400.88 85.34,-405.64\"/>\n",
              "</g>\n",
              "<!-- 2449 -->\n",
              "<g id=\"node8\" class=\"node\">\n",
              "<title>2449</title>\n",
              "<ellipse fill=\"none\" stroke=\"black\" cx=\"139.3\" cy=\"-450\" rx=\"40.09\" ry=\"18\"/>\n",
              "<text text-anchor=\"middle\" x=\"139.3\" y=\"-446.3\" font-family=\"Times,serif\" font-size=\"14.00\">2Inv(&#45;2)</text>\n",
              "</g>\n",
              "<!-- 2449&#45;&gt;2527 -->\n",
              "<g id=\"edge2\" class=\"edge\">\n",
              "<title>2449&#45;&gt;2527</title>\n",
              "<path fill=\"none\" stroke=\"black\" d=\"M131.07,-432.05C127.27,-424.23 122.66,-414.75 118.4,-405.98\"/>\n",
              "<polygon fill=\"black\" stroke=\"black\" points=\"121.63,-404.62 114.11,-397.15 115.33,-407.67 121.63,-404.62\"/>\n",
              "</g>\n",
              "</g>\n",
              "</svg>\n"
            ],
            "text/plain": [
              "<spacer_tutorial.proof.SpacerProof at 0x1128dca30>"
            ]
          },
          "execution_count": 27,
          "metadata": {},
          "output_type": "execute_result"
        }
      ],
      "source": [
        "ts0 = mk_ts0(safe=False)\n",
        "vc, inv = vc_gen_2ind(ts0)\n",
        "res, answer = solve_horn(vc)\n",
        "SpacerProof(answer)"
      ]
    },
    {
      "cell_type": "markdown",
      "metadata": {},
      "source": [
        "Spacer often finds the shortest counterexample. The counterexample above is short (4 transitions), but maybe not the most obvious one."
      ]
    },
    {
      "cell_type": "markdown",
      "metadata": {},
      "source": [
        "## Control Flow Automaton (CFA)\n",
        "\n",
        "It is often desired to extend a transition system with control locations. \n",
        "A **Control Flow Automaton (CFA)** is a graph \n",
        "$G = (V, E, entry, exit, \\tau)$, where\n",
        "\n",
        "  1. $V$ is a set of control locations\n",
        "  2. $E \\subseteq V \\times V$ is a set of control flow edges\n",
        "  3. $entry \\in V$, $exit \\in V$ are designated *entry* and *exit* locations\n",
        "  4. $\\tau : E \\to Tr$ maps each edge in $E$ to a transition relation\n",
        "  \n",
        "A CFA $A$ is **SAFE** if there is no path $\\pi$ from $entry$ to $exit$ that each edge on $\\pi$ satisfies the corresponding transition relation.\n",
        "\n",
        "A CFA $A$ is **SAFE** if and only iff there exists an **inductive invariant map** $\\sigma : V \\to Fml$ such that \n",
        "\n",
        "   1. (initiation) $\\sigma(entry) = True$\n",
        "   2. (safety) $\\sigma(exit) = False$\n",
        "   3. (induction) for every edge $(u, v) \\in E$, $\\sigma(u) \\wedge \\tau(u, v) \\implies \\sigma(v)'$"
      ]
    },
    {
      "attachments": {},
      "cell_type": "markdown",
      "metadata": {},
      "source": [
        "Convert our running example to a CFA:"
      ]
    },
    {
      "cell_type": "code",
      "execution_count": 38,
      "metadata": {
        "trusted": true
      },
      "outputs": [
        {
          "data": {
            "image/svg+xml": [
              "<?xml version=\"1.0\" encoding=\"UTF-8\" standalone=\"no\"?>\n",
              "<!DOCTYPE svg PUBLIC \"-//W3C//DTD SVG 1.1//EN\"\n",
              " \"http://www.w3.org/Graphics/SVG/1.1/DTD/svg11.dtd\">\n",
              "<!-- Generated by graphviz version 7.1.0 (20230121.1956)\n",
              " -->\n",
              "<!-- Pages: 1 -->\n",
              "<svg width=\"179pt\" height=\"218pt\"\n",
              " viewBox=\"0.00 0.00 179.00 218.00\" xmlns=\"http://www.w3.org/2000/svg\" xmlns:xlink=\"http://www.w3.org/1999/xlink\">\n",
              "<g id=\"graph0\" class=\"graph\" transform=\"scale(1 1) rotate(0) translate(4 214)\">\n",
              "<polygon fill=\"white\" stroke=\"none\" points=\"-4,4 -4,-214 175,-214 175,4 -4,4\"/>\n",
              "<!-- L0 -->\n",
              "<g id=\"node1\" class=\"node\">\n",
              "<title>L0</title>\n",
              "<ellipse fill=\"none\" stroke=\"black\" cx=\"27\" cy=\"-192\" rx=\"27\" ry=\"18\"/>\n",
              "<text text-anchor=\"middle\" x=\"27\" y=\"-188.3\" font-family=\"Times,serif\" font-size=\"14.00\">L0</text>\n",
              "</g>\n",
              "<!-- L1 -->\n",
              "<g id=\"node2\" class=\"node\">\n",
              "<title>L1</title>\n",
              "<ellipse fill=\"none\" stroke=\"black\" cx=\"27\" cy=\"-105\" rx=\"27\" ry=\"18\"/>\n",
              "<text text-anchor=\"middle\" x=\"27\" y=\"-101.3\" font-family=\"Times,serif\" font-size=\"14.00\">L1</text>\n",
              "</g>\n",
              "<!-- L0&#45;&gt;L1 -->\n",
              "<g id=\"edge1\" class=\"edge\">\n",
              "<title>L0&#45;&gt;L1</title>\n",
              "<path fill=\"none\" stroke=\"black\" d=\"M27,-173.8C27,-162.58 27,-147.67 27,-134.69\"/>\n",
              "<polygon fill=\"black\" stroke=\"black\" points=\"30.5,-134.98 27,-124.98 23.5,-134.98 30.5,-134.98\"/>\n",
              "<text text-anchor=\"middle\" x=\"43\" y=\"-144.8\" font-family=\"Times,serif\" font-size=\"14.00\">x&#39; = 0</text>\n",
              "</g>\n",
              "<!-- L1&#45;&gt;L1 -->\n",
              "<g id=\"edge2\" class=\"edge\">\n",
              "<title>L1&#45;&gt;L1</title>\n",
              "<path fill=\"none\" stroke=\"black\" d=\"M51.53,-113.03C62.51,-113.79 72,-111.12 72,-105 72,-101.18 68.29,-98.7 62.83,-97.56\"/>\n",
              "<polygon fill=\"black\" stroke=\"black\" points=\"63.21,-94.08 53.04,-97.05 62.85,-101.07 63.21,-94.08\"/>\n",
              "<text text-anchor=\"middle\" x=\"121.5\" y=\"-101.3\" font-family=\"Times,serif\" font-size=\"14.00\">x ≤ 5 ∧ x&#39; = x + 1</text>\n",
              "</g>\n",
              "<!-- L2 -->\n",
              "<g id=\"node3\" class=\"node\">\n",
              "<title>L2</title>\n",
              "<ellipse fill=\"none\" stroke=\"black\" cx=\"27\" cy=\"-18\" rx=\"27\" ry=\"18\"/>\n",
              "<text text-anchor=\"middle\" x=\"27\" y=\"-14.3\" font-family=\"Times,serif\" font-size=\"14.00\">L2</text>\n",
              "</g>\n",
              "<!-- L1&#45;&gt;L2 -->\n",
              "<g id=\"edge3\" class=\"edge\">\n",
              "<title>L1&#45;&gt;L2</title>\n",
              "<path fill=\"none\" stroke=\"black\" d=\"M27,-86.8C27,-75.58 27,-60.67 27,-47.69\"/>\n",
              "<polygon fill=\"black\" stroke=\"black\" points=\"30.5,-47.98 27,-37.98 23.5,-47.98 30.5,-47.98\"/>\n",
              "<text text-anchor=\"middle\" x=\"45\" y=\"-57.8\" font-family=\"Times,serif\" font-size=\"14.00\">x ≥ 10</text>\n",
              "</g>\n",
              "</g>\n",
              "</svg>\n"
            ],
            "text/plain": [
              "<graphviz.graphs.Digraph at 0x108aea4f0>"
            ]
          },
          "execution_count": 38,
          "metadata": {},
          "output_type": "execute_result"
        }
      ],
      "source": [
        "def mk_cfa0(safe=True):\n",
        "    A = CFA('prog')\n",
        "    x, x_out = A.add_var(z3.IntSort(), name='x')\n",
        "\n",
        "    A.add_edge('L0', 'L1', x_out == 0)\n",
        "    A.add_edge('L1', 'L1', z3.And(x <= 5, x_out == x + 1))\n",
        "    if safe:\n",
        "        A.add_edge('L1', 'L2', x >= 10)\n",
        "    else:\n",
        "        A.add_edge('L1', 'L2', x >= 4)\n",
        "\n",
        "    A.set_entry_node('L0')\n",
        "    A.set_exit_node('L2')\n",
        "    return A\n",
        "cfa0 = mk_cfa0(safe=True)\n",
        "cfa0.to_dot()"
      ]
    },
    {
      "cell_type": "markdown",
      "metadata": {},
      "source": [
        "To compute an inductive map, we define a CHC system with one uninterpreted predicate per control location. In our running example above, we will have 3 predicates representing invariants at location $L_0$, $L_1$, and $L_2$, respectively:"
      ]
    },
    {
      "cell_type": "code",
      "execution_count": 39,
      "metadata": {
        "trusted": true
      },
      "outputs": [],
      "source": [
        "def cfa_vc_gen(A):\n",
        "    '''Verification Condition (VC) for a Control Flow Automaton'''\n",
        "    all_vars = A.all()\n",
        "    sig = A.sig() + [z3.BoolSort()]\n",
        "\n",
        "    Invs = dict()\n",
        "    for n in A.nodes:\n",
        "        inv = z3.Function(str(n), *sig)\n",
        "        Invs[n] = inv\n",
        "\n",
        "    Entry = Invs[A.entry]\n",
        "    Exit = Invs[A.exit]\n",
        "\n",
        "    vc = list()\n",
        "    vc.append(z3.ForAll(all_vars, Entry(*A.pre_vars())))\n",
        "\n",
        "    for (k, v) in A.edges.items():\n",
        "        src, dst = k\n",
        "        srcP, dstP = Invs[src], Invs[dst]\n",
        "\n",
        "        head = dstP(*A.post_vars())\n",
        "        sPred = srcP(*A.pre_vars())\n",
        "        vc.append(z3.ForAll(all_vars, z3.Implies(z3.And(sPred, v), head)))\n",
        "    vc.append(z3.ForAll(all_vars,\n",
        "                        z3.Implies(Exit(*A.pre_vars()), z3.BoolVal(False))))\n",
        "    return vc, {n : Invs[n](A.pre_vars()) for n in A.nodes}"
      ]
    },
    {
      "cell_type": "code",
      "execution_count": 40,
      "metadata": {
        "trusted": true
      },
      "outputs": [
        {
          "data": {
            "text/html": [
              "&forall;x, x' : L0(x) <br/><br/>&forall;x, x' : L0(x) &and; x' = 0 &rArr; L1(x') <br/><br/>&forall;x, x' : L1(x) &and; x &le; 5 &and; x' = x + 1 &rArr; L1(x') <br/><br/>&forall;x, x' : L1(x) &and; x &ge; 10 &rArr; L2(x') <br/><br/>&forall;x, x' : L2(x) &rArr; False <br/><br/>"
            ],
            "text/plain": [
              "\"&forall;x, x' : L0(x) <br/><br/>&forall;x, x' : L0(x) &and; x' = 0 &rArr; L1(x') <br/><br/>&forall;x, x' : L1(x) &and; x &le; 5 &and; x' = x + 1 &rArr; L1(x') <br/><br/>&forall;x, x' : L1(x) &and; x &ge; 10 &rArr; L2(x') <br/><br/>&forall;x, x' : L2(x) &rArr; False <br/><br/>\""
            ]
          },
          "execution_count": 40,
          "metadata": {},
          "output_type": "execute_result"
        }
      ],
      "source": [
        "chc, invs = cfa_vc_gen(cfa0)\n",
        "chc_to_str(chc)"
      ]
    },
    {
      "cell_type": "code",
      "execution_count": 41,
      "metadata": {
        "trusted": true
      },
      "outputs": [
        {
          "data": {
            "text/html": [
              "<b>sat</b>"
            ],
            "text/plain": [
              "<b>sat</b>"
            ]
          },
          "execution_count": 41,
          "metadata": {},
          "output_type": "execute_result"
        }
      ],
      "source": [
        "res, answer = solve_horn(chc)\n",
        "res"
      ]
    },
    {
      "cell_type": "code",
      "execution_count": 42,
      "metadata": {
        "trusted": true
      },
      "outputs": [
        {
          "data": {
            "text/plain": [
              "{'L0': L0(x), 'L1': L1(x), 'L2': L2(x)}"
            ]
          },
          "execution_count": 42,
          "metadata": {},
          "output_type": "execute_result"
        }
      ],
      "source": [
        "invs"
      ]
    },
    {
      "cell_type": "code",
      "execution_count": 43,
      "metadata": {
        "trusted": true
      },
      "outputs": [
        {
          "data": {
            "text/html": [
              "True"
            ],
            "text/plain": [
              "True"
            ]
          },
          "execution_count": 43,
          "metadata": {},
          "output_type": "execute_result"
        }
      ],
      "source": [
        "answer.eval(invs['L0'])"
      ]
    },
    {
      "cell_type": "code",
      "execution_count": 44,
      "metadata": {
        "trusted": true
      },
      "outputs": [
        {
          "data": {
            "text/html": [
              "&not;(x &ge; 7)"
            ],
            "text/plain": [
              "&not;(x &ge; 7)"
            ]
          },
          "execution_count": 44,
          "metadata": {},
          "output_type": "execute_result"
        }
      ],
      "source": [
        "answer.eval(invs['L1'])"
      ]
    },
    {
      "cell_type": "code",
      "execution_count": 45,
      "metadata": {
        "trusted": true
      },
      "outputs": [
        {
          "data": {
            "text/html": [
              "False"
            ],
            "text/plain": [
              "False"
            ]
          },
          "execution_count": 45,
          "metadata": {},
          "output_type": "execute_result"
        }
      ],
      "source": [
        "answer.eval(invs['L2'])"
      ]
    },
    {
      "cell_type": "code",
      "execution_count": 36,
      "metadata": {
        "trusted": true
      },
      "outputs": [
        {
          "data": {
            "image/svg+xml": [
              "<?xml version=\"1.0\" encoding=\"UTF-8\" standalone=\"no\"?>\n",
              "<!DOCTYPE svg PUBLIC \"-//W3C//DTD SVG 1.1//EN\"\n",
              " \"http://www.w3.org/Graphics/SVG/1.1/DTD/svg11.dtd\">\n",
              "<!-- Generated by graphviz version 7.1.0 (20230121.1956)\n",
              " -->\n",
              "<!-- Pages: 1 -->\n",
              "<svg width=\"122pt\" height=\"476pt\"\n",
              " viewBox=\"0.00 0.00 122.39 476.00\" xmlns=\"http://www.w3.org/2000/svg\" xmlns:xlink=\"http://www.w3.org/1999/xlink\">\n",
              "<g id=\"graph0\" class=\"graph\" transform=\"scale(1 1) rotate(0) translate(4 472)\">\n",
              "<polygon fill=\"white\" stroke=\"none\" points=\"-4,4 -4,-472 118.39,-472 118.39,4 -4,4\"/>\n",
              "<!-- 847 -->\n",
              "<g id=\"node1\" class=\"node\">\n",
              "<title>847</title>\n",
              "<ellipse fill=\"none\" stroke=\"black\" cx=\"57.19\" cy=\"-18\" rx=\"57.39\" ry=\"18\"/>\n",
              "<text text-anchor=\"middle\" x=\"57.19\" y=\"-14.3\" font-family=\"Times,serif\" font-size=\"14.00\">query!195(0)</text>\n",
              "</g>\n",
              "<!-- 2130 -->\n",
              "<g id=\"node2\" class=\"node\">\n",
              "<title>2130</title>\n",
              "<ellipse fill=\"none\" stroke=\"black\" cx=\"57.19\" cy=\"-90\" rx=\"30.59\" ry=\"18\"/>\n",
              "<text text-anchor=\"middle\" x=\"57.19\" y=\"-86.3\" font-family=\"Times,serif\" font-size=\"14.00\">L2(0)</text>\n",
              "</g>\n",
              "<!-- 2130&#45;&gt;847 -->\n",
              "<g id=\"edge6\" class=\"edge\">\n",
              "<title>2130&#45;&gt;847</title>\n",
              "<path fill=\"none\" stroke=\"black\" d=\"M57.19,-71.7C57.19,-64.41 57.19,-55.73 57.19,-47.54\"/>\n",
              "<polygon fill=\"black\" stroke=\"black\" points=\"60.7,-47.62 57.19,-37.62 53.7,-47.62 60.7,-47.62\"/>\n",
              "</g>\n",
              "<!-- 2132 -->\n",
              "<g id=\"node3\" class=\"node\">\n",
              "<title>2132</title>\n",
              "<ellipse fill=\"none\" stroke=\"black\" cx=\"57.19\" cy=\"-162\" rx=\"30.59\" ry=\"18\"/>\n",
              "<text text-anchor=\"middle\" x=\"57.19\" y=\"-158.3\" font-family=\"Times,serif\" font-size=\"14.00\">L1(4)</text>\n",
              "</g>\n",
              "<!-- 2132&#45;&gt;2130 -->\n",
              "<g id=\"edge5\" class=\"edge\">\n",
              "<title>2132&#45;&gt;2130</title>\n",
              "<path fill=\"none\" stroke=\"black\" d=\"M57.19,-143.7C57.19,-136.41 57.19,-127.73 57.19,-119.54\"/>\n",
              "<polygon fill=\"black\" stroke=\"black\" points=\"60.7,-119.62 57.19,-109.62 53.7,-119.62 60.7,-119.62\"/>\n",
              "</g>\n",
              "<!-- 2148 -->\n",
              "<g id=\"node4\" class=\"node\">\n",
              "<title>2148</title>\n",
              "<ellipse fill=\"none\" stroke=\"black\" cx=\"57.19\" cy=\"-234\" rx=\"30.59\" ry=\"18\"/>\n",
              "<text text-anchor=\"middle\" x=\"57.19\" y=\"-230.3\" font-family=\"Times,serif\" font-size=\"14.00\">L1(3)</text>\n",
              "</g>\n",
              "<!-- 2148&#45;&gt;2132 -->\n",
              "<g id=\"edge4\" class=\"edge\">\n",
              "<title>2148&#45;&gt;2132</title>\n",
              "<path fill=\"none\" stroke=\"black\" d=\"M57.19,-215.7C57.19,-208.41 57.19,-199.73 57.19,-191.54\"/>\n",
              "<polygon fill=\"black\" stroke=\"black\" points=\"60.7,-191.62 57.19,-181.62 53.7,-191.62 60.7,-191.62\"/>\n",
              "</g>\n",
              "<!-- 1655 -->\n",
              "<g id=\"node5\" class=\"node\">\n",
              "<title>1655</title>\n",
              "<ellipse fill=\"none\" stroke=\"black\" cx=\"57.19\" cy=\"-306\" rx=\"30.59\" ry=\"18\"/>\n",
              "<text text-anchor=\"middle\" x=\"57.19\" y=\"-302.3\" font-family=\"Times,serif\" font-size=\"14.00\">L1(2)</text>\n",
              "</g>\n",
              "<!-- 1655&#45;&gt;2148 -->\n",
              "<g id=\"edge3\" class=\"edge\">\n",
              "<title>1655&#45;&gt;2148</title>\n",
              "<path fill=\"none\" stroke=\"black\" d=\"M57.19,-287.7C57.19,-280.41 57.19,-271.73 57.19,-263.54\"/>\n",
              "<polygon fill=\"black\" stroke=\"black\" points=\"60.7,-263.62 57.19,-253.62 53.7,-263.62 60.7,-263.62\"/>\n",
              "</g>\n",
              "<!-- 1673 -->\n",
              "<g id=\"node6\" class=\"node\">\n",
              "<title>1673</title>\n",
              "<ellipse fill=\"none\" stroke=\"black\" cx=\"57.19\" cy=\"-378\" rx=\"30.59\" ry=\"18\"/>\n",
              "<text text-anchor=\"middle\" x=\"57.19\" y=\"-374.3\" font-family=\"Times,serif\" font-size=\"14.00\">L1(1)</text>\n",
              "</g>\n",
              "<!-- 1673&#45;&gt;1655 -->\n",
              "<g id=\"edge2\" class=\"edge\">\n",
              "<title>1673&#45;&gt;1655</title>\n",
              "<path fill=\"none\" stroke=\"black\" d=\"M57.19,-359.7C57.19,-352.41 57.19,-343.73 57.19,-335.54\"/>\n",
              "<polygon fill=\"black\" stroke=\"black\" points=\"60.7,-335.62 57.19,-325.62 53.7,-335.62 60.7,-335.62\"/>\n",
              "</g>\n",
              "<!-- 486 -->\n",
              "<g id=\"node7\" class=\"node\">\n",
              "<title>486</title>\n",
              "<ellipse fill=\"none\" stroke=\"black\" cx=\"57.19\" cy=\"-450\" rx=\"30.59\" ry=\"18\"/>\n",
              "<text text-anchor=\"middle\" x=\"57.19\" y=\"-446.3\" font-family=\"Times,serif\" font-size=\"14.00\">L1(0)</text>\n",
              "</g>\n",
              "<!-- 486&#45;&gt;1673 -->\n",
              "<g id=\"edge1\" class=\"edge\">\n",
              "<title>486&#45;&gt;1673</title>\n",
              "<path fill=\"none\" stroke=\"black\" d=\"M57.19,-431.7C57.19,-424.41 57.19,-415.73 57.19,-407.54\"/>\n",
              "<polygon fill=\"black\" stroke=\"black\" points=\"60.7,-407.62 57.19,-397.62 53.7,-407.62 60.7,-407.62\"/>\n",
              "</g>\n",
              "</g>\n",
              "</svg>\n"
            ],
            "text/plain": [
              "<spacer_tutorial.proof.SpacerProof at 0x112928e50>"
            ]
          },
          "execution_count": 36,
          "metadata": {},
          "output_type": "execute_result"
        }
      ],
      "source": [
        "cfa0 = mk_cfa0(safe=False)\n",
        "vc, invs = cfa_vc_gen(cfa0)\n",
        "res, answer = solve_horn(vc)\n",
        "SpacerProof(answer)"
      ]
    },
    {
      "cell_type": "markdown",
      "metadata": {},
      "source": [
        "## Arrays and Quantifiers\n",
        "\n",
        "So far, we have only used integer valued state variables. Other sorts and theories are supported as well. For example, we can use array-valued state variables to represent a state of computer memory:"
      ]
    },
    {
      "cell_type": "code",
      "execution_count": 37,
      "metadata": {
        "trusted": true
      },
      "outputs": [
        {
          "data": {
            "image/svg+xml": [
              "<?xml version=\"1.0\" encoding=\"UTF-8\" standalone=\"no\"?>\n",
              "<!DOCTYPE svg PUBLIC \"-//W3C//DTD SVG 1.1//EN\"\n",
              " \"http://www.w3.org/Graphics/SVG/1.1/DTD/svg11.dtd\">\n",
              "<!-- Generated by graphviz version 7.1.0 (20230121.1956)\n",
              " -->\n",
              "<!-- Pages: 1 -->\n",
              "<svg width=\"391pt\" height=\"218pt\"\n",
              " viewBox=\"0.00 0.00 390.60 218.00\" xmlns=\"http://www.w3.org/2000/svg\" xmlns:xlink=\"http://www.w3.org/1999/xlink\">\n",
              "<g id=\"graph0\" class=\"graph\" transform=\"scale(1 1) rotate(0) translate(4 214)\">\n",
              "<polygon fill=\"white\" stroke=\"none\" points=\"-4,4 -4,-214 386.6,-214 386.6,4 -4,4\"/>\n",
              "<!-- exit -->\n",
              "<g id=\"node1\" class=\"node\">\n",
              "<title>exit</title>\n",
              "<ellipse fill=\"none\" stroke=\"black\" cx=\"28.6\" cy=\"-18\" rx=\"27\" ry=\"18\"/>\n",
              "<text text-anchor=\"middle\" x=\"28.6\" y=\"-14.3\" font-family=\"Times,serif\" font-size=\"14.00\">exit</text>\n",
              "</g>\n",
              "<!-- entry -->\n",
              "<g id=\"node2\" class=\"node\">\n",
              "<title>entry</title>\n",
              "<ellipse fill=\"none\" stroke=\"black\" cx=\"28.6\" cy=\"-192\" rx=\"28.7\" ry=\"18\"/>\n",
              "<text text-anchor=\"middle\" x=\"28.6\" y=\"-188.3\" font-family=\"Times,serif\" font-size=\"14.00\">entry</text>\n",
              "</g>\n",
              "<!-- L0 -->\n",
              "<g id=\"node3\" class=\"node\">\n",
              "<title>L0</title>\n",
              "<ellipse fill=\"none\" stroke=\"black\" cx=\"28.6\" cy=\"-105\" rx=\"27\" ry=\"18\"/>\n",
              "<text text-anchor=\"middle\" x=\"28.6\" y=\"-101.3\" font-family=\"Times,serif\" font-size=\"14.00\">L0</text>\n",
              "</g>\n",
              "<!-- entry&#45;&gt;L0 -->\n",
              "<g id=\"edge1\" class=\"edge\">\n",
              "<title>entry&#45;&gt;L0</title>\n",
              "<path fill=\"none\" stroke=\"black\" d=\"M28.6,-173.8C28.6,-162.58 28.6,-147.67 28.6,-134.69\"/>\n",
              "<polygon fill=\"black\" stroke=\"black\" points=\"32.1,-134.98 28.6,-124.98 25.1,-134.98 32.1,-134.98\"/>\n",
              "<text text-anchor=\"middle\" x=\"74.6\" y=\"-144.8\" font-family=\"Times,serif\" font-size=\"14.00\">cnt&#39; = 0 ∧ N&#39; &gt; 0</text>\n",
              "</g>\n",
              "<!-- L0&#45;&gt;exit -->\n",
              "<g id=\"edge3\" class=\"edge\">\n",
              "<title>L0&#45;&gt;exit</title>\n",
              "<path fill=\"none\" stroke=\"black\" d=\"M28.6,-86.8C28.6,-75.58 28.6,-60.67 28.6,-47.69\"/>\n",
              "<polygon fill=\"black\" stroke=\"black\" points=\"32.1,-47.98 28.6,-37.98 25.1,-47.98 32.1,-47.98\"/>\n",
              "<text text-anchor=\"middle\" x=\"109.6\" y=\"-57.8\" font-family=\"Times,serif\" font-size=\"14.00\">j ≥ 0 ∧ j &lt; cnt ∧ MEM[j] ≠ 0</text>\n",
              "</g>\n",
              "<!-- L0&#45;&gt;L0 -->\n",
              "<g id=\"edge2\" class=\"edge\">\n",
              "<title>L0&#45;&gt;L0</title>\n",
              "<path fill=\"none\" stroke=\"black\" d=\"M53.13,-113.03C64.11,-113.79 73.6,-111.12 73.6,-105 73.6,-101.18 69.89,-98.7 64.43,-97.56\"/>\n",
              "<polygon fill=\"black\" stroke=\"black\" points=\"64.81,-94.08 54.64,-97.05 64.44,-101.07 64.81,-94.08\"/>\n",
              "<text text-anchor=\"middle\" x=\"228.1\" y=\"-101.3\" font-family=\"Times,serif\" font-size=\"14.00\">cnt &lt; N ∧ cnt&#39; = cnt + 1 ∧ MEM&#39; = Store(MEM, cnt, 0)</text>\n",
              "</g>\n",
              "</g>\n",
              "</svg>\n"
            ],
            "text/plain": [
              "<graphviz.graphs.Digraph at 0x112931160>"
            ]
          },
          "execution_count": 37,
          "metadata": {},
          "output_type": "execute_result"
        }
      ],
      "source": [
        "def mk_cfa1():\n",
        "    A = CFA('prog2')\n",
        "    ZZ = z3.IntSort()\n",
        "    Mem, Mem_out = A.add_var(z3.ArraySort(ZZ, ZZ), name='MEM')\n",
        "    N, N_out = A.add_var(ZZ, name='N')\n",
        "    cnt, cnt_out = A.add_var(ZZ, name='cnt')\n",
        "    # local variable\n",
        "    j = A.add_input(ZZ, name='j')\n",
        "\n",
        "    # initially counter is 0, N is positive\n",
        "    init_tr = z3.And(cnt_out == 0, N_out > 0)\n",
        "    A.add_edge('entry', 'L0', init_tr)\n",
        "\n",
        "    # if cnt < N then Mem[cnt++] := 0\n",
        "    loop_tr = z3.And(cnt < N,\n",
        "                     cnt_out == cnt + 1,\n",
        "                     Mem_out == z3.Update(Mem, cnt,  0))\n",
        "    A.add_edge('L0', 'L0', loop_tr)\n",
        "\n",
        "    # if 0 <= j < cnt then assert(Mem[j] == 0)\n",
        "    bad_tr = z3.And(0 <= j, j < cnt, Mem[j] != 0)\n",
        "    A.add_edge('L0', 'exit', bad_tr)\n",
        "\n",
        "    A.set_entry_node('entry')\n",
        "    A.set_exit_node('exit')\n",
        "    return A\n",
        "cfa1 = mk_cfa1()\n",
        "cfa1.to_dot()"
      ]
    },
    {
      "cell_type": "code",
      "execution_count": 38,
      "metadata": {
        "trusted": true
      },
      "outputs": [
        {
          "data": {
            "text/html": [
              "<b>unknown</b>"
            ],
            "text/plain": [
              "<b>unknown</b>"
            ]
          },
          "execution_count": 38,
          "metadata": {},
          "output_type": "execute_result"
        }
      ],
      "source": [
        "vc, invs = cfa_vc_gen(cfa1)\n",
        "res, answer = solve_horn(vc)\n",
        "res"
      ]
    },
    {
      "cell_type": "markdown",
      "metadata": {},
      "source": [
        "No solution is found (with out search limit). The underlying reason is that so far we have been restricted to quantifier free solutions. Yet, no QF solution exists for this problem."
      ]
    },
    {
      "cell_type": "code",
      "execution_count": 39,
      "metadata": {
        "trusted": true
      },
      "outputs": [
        {
          "data": {
            "text/html": [
              "<b>sat</b>"
            ],
            "text/plain": [
              "<b>sat</b>"
            ]
          },
          "execution_count": 39,
          "metadata": {},
          "output_type": "execute_result"
        }
      ],
      "source": [
        "res, answer = solve_horn(vc, q3=True)\n",
        "res"
      ]
    },
    {
      "cell_type": "code",
      "execution_count": 40,
      "metadata": {
        "trusted": true
      },
      "outputs": [
        {
          "data": {
            "text/html": [
              "(&forall;sk!0 :\n",
              "  &not;(MEM[sk!0] &le; -1) &or; &not;(sk!0 + -1&middot;cnt &le; -1) &or; &not;(sk!0 &ge; 0)) &and;\n",
              "(&forall;sk!0 :\n",
              "  &not;(sk!0 &ge; 0) &or; &not;(MEM[sk!0] &ge; 1) &or; &not;(sk!0 + -1&middot;cnt &le; -1))"
            ],
            "text/plain": [
              "(&forall;sk!0 :\n",
              "  &not;(MEM[sk!0] &le; -1) &or; &not;(sk!0 + -1&middot;cnt &le; -1) &or; &not;(sk!0 &ge; 0)) &and;\n",
              "(&forall;sk!0 :\n",
              "  &not;(sk!0 &ge; 0) &or; &not;(MEM[sk!0] &ge; 1) &or; &not;(sk!0 + -1&middot;cnt &le; -1))"
            ]
          },
          "execution_count": 40,
          "metadata": {},
          "output_type": "execute_result"
        }
      ],
      "source": [
        "answer.eval(invs['L0'])"
      ]
    },
    {
      "cell_type": "markdown",
      "metadata": {},
      "source": [
        "The solution above is a little hard to read, but it is equivalent to the expected result:\n",
        "\n",
        "$\\forall sk \\cdot 0 \\leq sk < cnt \\implies MEM[sk] \\leq 0$ <br/>\n",
        "$\\forall sk \\cdot 0 \\leq sk < cnt \\implies MEM[sk] \\geq 0$"
      ]
    },
    {
      "cell_type": "markdown",
      "metadata": {},
      "source": [
        "## Lamport's Bakery Algorithm\n",
        "\n",
        "It is common for multiple processes to share the same resources in concurrent systems. Lamport's Bakery Algorithm facilitates this sharing and seeks to prevent multiple processes from accessing the critical sections of code at the same time.\n",
        "\n",
        "We can encode a transition system for Bakery, where\n",
        "\n",
        "1. *Issue* is the next priority to be issued\n",
        "2. *Serve* is the process currently being served\n",
        "3. *State* is an array of the state for each process, where *0* is idle, *1* is waiting to be served, and *2* is being served\n",
        "4. *Num* is an array of the priority for each process\n",
        "\n",
        "Here we have restricted the implementation to 3 processes: 1, 2, and 3."
      ]
    },
    {
      "cell_type": "code",
      "execution_count": 41,
      "metadata": {},
      "outputs": [
        {
          "data": {
            "text/html": [
              "Transition System: Bakery<br/>\tInit: Issue = 0 &and;<br/>Serve = 0 &and;<br/>State[1] = 0 &and;<br/>State[2] = 0 &and;<br/>State[3] = 0 &and;<br/>Num[1] = -1 &and;<br/>Num[2] = -1 &and;<br/>Num[3] = -1<br/>\tBad: State[i] = 2 &and;<br/>State[j] = 2 &and;<br/>i &ne; j &and;<br/>i &ge; 1 &and;<br/>i &le; 3 &and;<br/>j &ge; 1 &and;<br/>j &le; 3<br/>\tTr: State[i] = 0 &and;<br/>i &ge; 1 &and;<br/>i &le; 3 &and;<br/>Serve' = Serve &and;<br/>Issue' = Issue + 1 &and;<br/>State' = Store(State, i, 1) &and;<br/>Num' = Store(Num, i, Issue) &or;<br/>State[i] = 1 &and;<br/>i &ge; 1 &and;<br/>i &le; 3 &and;<br/>Num[i] = Serve &and;<br/>Serve' = Serve &and;<br/>Issue' = Issue &and;<br/>Num' = Num &and;<br/>State' = Store(State, i, 2) &or;<br/>State[i] = 2 &and;<br/>i &ge; 1 &and;<br/>i &le; 3 &and;<br/>Issue' = Issue &and;<br/>Serve' = Serve + 1 &and;<br/>Num' = Store(Num, i, -1) &and;<br/>State' = Store(State, i, 0)"
            ],
            "text/plain": [
              "\"Transition System: Bakery<br/>\\tInit: Issue = 0 &and;<br/>Serve = 0 &and;<br/>State[1] = 0 &and;<br/>State[2] = 0 &and;<br/>State[3] = 0 &and;<br/>Num[1] = -1 &and;<br/>Num[2] = -1 &and;<br/>Num[3] = -1<br/>\\tBad: State[i] = 2 &and;<br/>State[j] = 2 &and;<br/>i &ne; j &and;<br/>i &ge; 1 &and;<br/>i &le; 3 &and;<br/>j &ge; 1 &and;<br/>j &le; 3<br/>\\tTr: State[i] = 0 &and;<br/>i &ge; 1 &and;<br/>i &le; 3 &and;<br/>Serve' = Serve &and;<br/>Issue' = Issue + 1 &and;<br/>State' = Store(State, i, 1) &and;<br/>Num' = Store(Num, i, Issue) &or;<br/>State[i] = 1 &and;<br/>i &ge; 1 &and;<br/>i &le; 3 &and;<br/>Num[i] = Serve &and;<br/>Serve' = Serve &and;<br/>Issue' = Issue &and;<br/>Num' = Num &and;<br/>State' = Store(State, i, 2) &or;<br/>State[i] = 2 &and;<br/>i &ge; 1 &and;<br/>i &le; 3 &and;<br/>Issue' = Issue &and;<br/>Serve' = Serve + 1 &and;<br/>Num' = Store(Num, i, -1) &and;<br/>State' = Store(State, i, 0)\""
            ]
          },
          "execution_count": 41,
          "metadata": {},
          "output_type": "execute_result"
        }
      ],
      "source": [
        "bakery = mk_bakery()\n",
        "HtmlStr(bakery)"
      ]
    },
    {
      "cell_type": "code",
      "execution_count": 42,
      "metadata": {},
      "outputs": [
        {
          "data": {
            "text/html": [
              "&forall;State,<br/> Num,<br/> Issue,<br/> Serve,<br/> State',<br/> Num',<br/> Issue',<br/> Serve',<br/> i,<br/> j :<br/> Issue = 0 &and;<br/> Serve = 0 &and;<br/> State[1] = 0 &and;<br/> State[2] = 0 &and;<br/> State[3] = 0 &and;<br/> Num[1] = -1 &and;<br/> Num[2] = -1 &and;<br/> Num[3] = -1 &rArr;<br/> Inv(State, Num, Issue, Serve) <br/><br/>&forall;State,<br/> Num,<br/> Issue,<br/> Serve,<br/> State',<br/> Num',<br/> Issue',<br/> Serve',<br/> i,<br/> j :<br/> Inv(State, Num, Issue, Serve) &and;<br/> (State[i] = 0 &and;<br/>  i &ge; 1 &and;<br/>  i &le; 3 &and;<br/>  Serve' = Serve &and;<br/>  Issue' = Issue + 1 &and;<br/>  State' = Store(State, i, 1) &and;<br/>  Num' = Store(Num, i, Issue) &or;<br/>  State[i] = 1 &and;<br/>  i &ge; 1 &and;<br/>  i &le; 3 &and;<br/>  Num[i] = Serve &and;<br/>  Serve' = Serve &and;<br/>  Issue' = Issue &and;<br/>  Num' = Num &and;<br/>  State' = Store(State, i, 2) &or;<br/>  State[i] = 2 &and;<br/>  i &ge; 1 &and;<br/>  i &le; 3 &and;<br/>  Issue' = Issue &and;<br/>  Serve' = Serve + 1 &and;<br/>  Num' = Store(Num, i, -1) &and;<br/>  State' = Store(State, i, 0)) &rArr;<br/> Inv(State', Num', Issue', Serve') <br/><br/>&forall;State,<br/> Num,<br/> Issue,<br/> Serve,<br/> State',<br/> Num',<br/> Issue',<br/> Serve',<br/> i,<br/> j :<br/> Inv(State, Num, Issue, Serve) &and;<br/> State[i] = 2 &and;<br/> State[j] = 2 &and;<br/> i &ne; j &and;<br/> i &ge; 1 &and;<br/> i &le; 3 &and;<br/> j &ge; 1 &and;<br/> j &le; 3 &rArr;<br/> False <br/><br/>"
            ],
            "text/plain": [
              "\"&forall;State,<br/> Num,<br/> Issue,<br/> Serve,<br/> State',<br/> Num',<br/> Issue',<br/> Serve',<br/> i,<br/> j :<br/> Issue = 0 &and;<br/> Serve = 0 &and;<br/> State[1] = 0 &and;<br/> State[2] = 0 &and;<br/> State[3] = 0 &and;<br/> Num[1] = -1 &and;<br/> Num[2] = -1 &and;<br/> Num[3] = -1 &rArr;<br/> Inv(State, Num, Issue, Serve) <br/><br/>&forall;State,<br/> Num,<br/> Issue,<br/> Serve,<br/> State',<br/> Num',<br/> Issue',<br/> Serve',<br/> i,<br/> j :<br/> Inv(State, Num, Issue, Serve) &and;<br/> (State[i] = 0 &and;<br/>  i &ge; 1 &and;<br/>  i &le; 3 &and;<br/>  Serve' = Serve &and;<br/>  Issue' = Issue + 1 &and;<br/>  State' = Store(State, i, 1) &and;<br/>  Num' = Store(Num, i, Issue) &or;<br/>  State[i] = 1 &and;<br/>  i &ge; 1 &and;<br/>  i &le; 3 &and;<br/>  Num[i] = Serve &and;<br/>  Serve' = Serve &and;<br/>  Issue' = Issue &and;<br/>  Num' = Num &and;<br/>  State' = Store(State, i, 2) &or;<br/>  State[i] = 2 &and;<br/>  i &ge; 1 &and;<br/>  i &le; 3 &and;<br/>  Issue' = Issue &and;<br/>  Serve' = Serve + 1 &and;<br/>  Num' = Store(Num, i, -1) &and;<br/>  State' = Store(State, i, 0)) &rArr;<br/> Inv(State', Num', Issue', Serve') <br/><br/>&forall;State,<br/> Num,<br/> Issue,<br/> Serve,<br/> State',<br/> Num',<br/> Issue',<br/> Serve',<br/> i,<br/> j :<br/> Inv(State, Num, Issue, Serve) &and;<br/> State[i] = 2 &and;<br/> State[j] = 2 &and;<br/> i &ne; j &and;<br/> i &ge; 1 &and;<br/> i &le; 3 &and;<br/> j &ge; 1 &and;<br/> j &le; 3 &rArr;<br/> False <br/><br/>\""
            ]
          },
          "execution_count": 42,
          "metadata": {},
          "output_type": "execute_result"
        }
      ],
      "source": [
        "vc, inv = vc_gen(bakery)\n",
        "chc_to_str(vc)"
      ]
    },
    {
      "cell_type": "code",
      "execution_count": 43,
      "metadata": {},
      "outputs": [
        {
          "data": {
            "text/html": [
              "<b>sat</b>"
            ],
            "text/plain": [
              "'<b>sat</b>'"
            ]
          },
          "execution_count": 43,
          "metadata": {},
          "output_type": "execute_result"
        }
      ],
      "source": [
        "res, answer = solve_horn(vc, q3=False, max_unfold=100)\n",
        "HtmlStr(res)"
      ]
    },
    {
      "cell_type": "code",
      "execution_count": 44,
      "metadata": {},
      "outputs": [
        {
          "data": {
            "text/html": [
              "&not;(Serve + -1&middot;Issue &ge; -2) &or;\n",
              "&not;(State[1] + State[3] &ge; 3) &or;\n",
              "&not;(Serve + -1&middot;Num[2] &le; -2) &or;\n",
              "&not;(State[2] &ge; 1)"
            ],
            "text/plain": [
              "&not;(Serve + -1&middot;Issue &ge; -2) &or;\n",
              "&not;(State[1] + State[3] &ge; 3) &or;\n",
              "&not;(Serve + -1&middot;Num[2] &le; -2) &or;\n",
              "&not;(State[2] &ge; 1)"
            ]
          },
          "metadata": {},
          "output_type": "display_data"
        },
        {
          "data": {
            "text/html": [
              "&not;(State[1] &ge; 2) &or; &not;(State[3] &ge; 2)"
            ],
            "text/plain": [
              "&not;(State[1] &ge; 2) &or; &not;(State[3] &ge; 2)"
            ]
          },
          "metadata": {},
          "output_type": "display_data"
        },
        {
          "data": {
            "text/html": [
              "&not;(State[2] &ge; 2) &or; &not;(Serve + -1&middot;Issue &ge; 0)"
            ],
            "text/plain": [
              "&not;(State[2] &ge; 2) &or; &not;(Serve + -1&middot;Issue &ge; 0)"
            ]
          },
          "metadata": {},
          "output_type": "display_data"
        },
        {
          "data": {
            "text/html": [
              "&not;(State[2] &ge; 2) &or; &not;(State[3] &ge; 2)"
            ],
            "text/plain": [
              "&not;(State[2] &ge; 2) &or; &not;(State[3] &ge; 2)"
            ]
          },
          "metadata": {},
          "output_type": "display_data"
        },
        {
          "data": {
            "text/html": [
              "&not;(State[1] &ge; 2) &or; &not;(Serve + -1&middot;Issue &ge; 0)"
            ],
            "text/plain": [
              "&not;(State[1] &ge; 2) &or; &not;(Serve + -1&middot;Issue &ge; 0)"
            ]
          },
          "metadata": {},
          "output_type": "display_data"
        },
        {
          "data": {
            "text/html": [
              "&not;(State[1] &ge; 2) &or; &not;(State[2] &ge; 2)"
            ],
            "text/plain": [
              "&not;(State[1] &ge; 2) &or; &not;(State[2] &ge; 2)"
            ]
          },
          "metadata": {},
          "output_type": "display_data"
        },
        {
          "data": {
            "text/html": [
              "&not;(State[3] &ge; 2) &or; &not;(Serve + -1&middot;Issue &ge; 0)"
            ],
            "text/plain": [
              "&not;(State[3] &ge; 2) &or; &not;(Serve + -1&middot;Issue &ge; 0)"
            ]
          },
          "metadata": {},
          "output_type": "display_data"
        },
        {
          "data": {
            "text/html": [
              "&not;(State[2] &ge; 1) &or;\n",
              "&not;(Serve + -1&middot;Issue &ge; 0) &or;\n",
              "&not;(Serve + -1&middot;Num[2] &le; 0)"
            ],
            "text/plain": [
              "&not;(State[2] &ge; 1) &or;\n",
              "&not;(Serve + -1&middot;Issue &ge; 0) &or;\n",
              "&not;(Serve + -1&middot;Num[2] &le; 0)"
            ]
          },
          "metadata": {},
          "output_type": "display_data"
        },
        {
          "data": {
            "text/html": [
              "&not;(Serve + -1&middot;Num[1] &le; 0) &or;\n",
              "&not;(State[1] &ge; 1) &or;\n",
              "&not;(Serve + -1&middot;Issue &ge; 0)"
            ],
            "text/plain": [
              "&not;(Serve + -1&middot;Num[1] &le; 0) &or;\n",
              "&not;(State[1] &ge; 1) &or;\n",
              "&not;(Serve + -1&middot;Issue &ge; 0)"
            ]
          },
          "metadata": {},
          "output_type": "display_data"
        },
        {
          "data": {
            "text/html": [
              "&not;(Num[1] = Serve) &or; &not;(State[1] &ge; 1) &or; &not;(State[2] &ge; 2)"
            ],
            "text/plain": [
              "&not;(Num[1] = Serve) &or; &not;(State[1] &ge; 1) &or; &not;(State[2] &ge; 2)"
            ]
          },
          "metadata": {},
          "output_type": "display_data"
        },
        {
          "data": {
            "text/html": [
              "&not;(Num[2] = Serve) &or; &not;(State[1] &ge; 2) &or; &not;(State[2] &ge; 1)"
            ],
            "text/plain": [
              "&not;(Num[2] = Serve) &or; &not;(State[1] &ge; 2) &or; &not;(State[2] &ge; 1)"
            ]
          },
          "metadata": {},
          "output_type": "display_data"
        },
        {
          "data": {
            "text/html": [
              "&not;(State[3] &ge; 1) &or;\n",
              "&not;(Serve + -1&middot;Num[2] = -1) &or;\n",
              "&not;(Serve + -1&middot;Num[3] = -1) &or;\n",
              "&not;(State[2] &ge; 1) &or;\n",
              "&not;(State[1] &ge; 2)"
            ],
            "text/plain": [
              "&not;(State[3] &ge; 1) &or;\n",
              "&not;(Serve + -1&middot;Num[2] = -1) &or;\n",
              "&not;(Serve + -1&middot;Num[3] = -1) &or;\n",
              "&not;(State[2] &ge; 1) &or;\n",
              "&not;(State[1] &ge; 2)"
            ]
          },
          "metadata": {},
          "output_type": "display_data"
        },
        {
          "data": {
            "text/html": [
              "&not;(Num[2] = Serve) &or;\n",
              "&not;(Num[3] = Serve) &or;\n",
              "&not;(State[2] &ge; 1) &or;\n",
              "&not;(State[3] &ge; 1)"
            ],
            "text/plain": [
              "&not;(Num[2] = Serve) &or;\n",
              "&not;(Num[3] = Serve) &or;\n",
              "&not;(State[2] &ge; 1) &or;\n",
              "&not;(State[3] &ge; 1)"
            ]
          },
          "metadata": {},
          "output_type": "display_data"
        },
        {
          "data": {
            "text/html": [
              "&not;(Serve = Num[2]) &or; &not;(State[2] &ge; 1) &or; &not;(State[3] &ge; 2)"
            ],
            "text/plain": [
              "&not;(Serve = Num[2]) &or; &not;(State[2] &ge; 1) &or; &not;(State[3] &ge; 2)"
            ]
          },
          "metadata": {},
          "output_type": "display_data"
        },
        {
          "data": {
            "text/html": [
              "&not;(Num[1] = Serve) &or;\n",
              "&not;(Num[2] = Serve) &or;\n",
              "&not;(State[1] &ge; 1) &or;\n",
              "&not;(State[2] &ge; 1)"
            ],
            "text/plain": [
              "&not;(Num[1] = Serve) &or;\n",
              "&not;(Num[2] = Serve) &or;\n",
              "&not;(State[1] &ge; 1) &or;\n",
              "&not;(State[2] &ge; 1)"
            ]
          },
          "metadata": {},
          "output_type": "display_data"
        },
        {
          "data": {
            "text/html": [
              "&not;(State[1] &ge; 1) &or; &not;(Serve = Num[1]) &or; &not;(State[3] &ge; 2)"
            ],
            "text/plain": [
              "&not;(State[1] &ge; 1) &or; &not;(Serve = Num[1]) &or; &not;(State[3] &ge; 2)"
            ]
          },
          "metadata": {},
          "output_type": "display_data"
        },
        {
          "data": {
            "text/html": [
              "&not;(State[3] &ge; 1) &or;\n",
              "&not;(State[2] &ge; 1) &or;\n",
              "&not;(Serve + -1&middot;Issue &ge; -1) &or;\n",
              "&not;(Serve + -1&middot;Num[2] &le; -1)"
            ],
            "text/plain": [
              "&not;(State[3] &ge; 1) &or;\n",
              "&not;(State[2] &ge; 1) &or;\n",
              "&not;(Serve + -1&middot;Issue &ge; -1) &or;\n",
              "&not;(Serve + -1&middot;Num[2] &le; -1)"
            ]
          },
          "metadata": {},
          "output_type": "display_data"
        },
        {
          "data": {
            "text/html": [
              "&not;(State[1] &ge; 1) &or;\n",
              "&not;(State[3] &ge; 1) &or;\n",
              "&not;(Serve + -1&middot;Issue &ge; -1) &or;\n",
              "&not;(Serve + -1&middot;Num[1] &le; -1)"
            ],
            "text/plain": [
              "&not;(State[1] &ge; 1) &or;\n",
              "&not;(State[3] &ge; 1) &or;\n",
              "&not;(Serve + -1&middot;Issue &ge; -1) &or;\n",
              "&not;(Serve + -1&middot;Num[1] &le; -1)"
            ]
          },
          "metadata": {},
          "output_type": "display_data"
        },
        {
          "data": {
            "text/html": [
              "&not;(Serve + -1&middot;Num[3] &ge; 0) &or;\n",
              "&not;(State[3] &ge; 1) &or;\n",
              "&not;(Serve + -1&middot;Num[2] = -1) &or;\n",
              "&not;(State[1] &ge; 1) &or;\n",
              "&not;(State[2] &ge; 1) &or;\n",
              "&not;(Serve + -1&middot;Num[1] = -1)"
            ],
            "text/plain": [
              "&not;(Serve + -1&middot;Num[3] &ge; 0) &or;\n",
              "&not;(State[3] &ge; 1) &or;\n",
              "&not;(Serve + -1&middot;Num[2] = -1) &or;\n",
              "&not;(State[1] &ge; 1) &or;\n",
              "&not;(State[2] &ge; 1) &or;\n",
              "&not;(Serve + -1&middot;Num[1] = -1)"
            ]
          },
          "metadata": {},
          "output_type": "display_data"
        },
        {
          "data": {
            "text/html": [
              "&not;(Serve + -1&middot;Num[2] = -1) &or;\n",
              "&not;(State[1] &ge; 1) &or;\n",
              "&not;(State[2] &ge; 1) &or;\n",
              "&not;(Serve + -1&middot;Num[1] = -1) &or;\n",
              "&not;(State[3] &ge; 2)"
            ],
            "text/plain": [
              "&not;(Serve + -1&middot;Num[2] = -1) &or;\n",
              "&not;(State[1] &ge; 1) &or;\n",
              "&not;(State[2] &ge; 1) &or;\n",
              "&not;(Serve + -1&middot;Num[1] = -1) &or;\n",
              "&not;(State[3] &ge; 2)"
            ]
          },
          "metadata": {},
          "output_type": "display_data"
        },
        {
          "data": {
            "text/html": [
              "&not;(State[1] &ge; 1) &or;\n",
              "&not;(State[2] &ge; 1) &or;\n",
              "&not;(Serve + -1&middot;Issue &ge; -1) &or;\n",
              "&not;(Serve + -1&middot;Num[2] &le; -1)"
            ],
            "text/plain": [
              "&not;(State[1] &ge; 1) &or;\n",
              "&not;(State[2] &ge; 1) &or;\n",
              "&not;(Serve + -1&middot;Issue &ge; -1) &or;\n",
              "&not;(Serve + -1&middot;Num[2] &le; -1)"
            ]
          },
          "metadata": {},
          "output_type": "display_data"
        },
        {
          "data": {
            "text/html": [
              "&not;(State[1] &ge; 1) &or;\n",
              "&not;(State[2] &ge; 1) &or;\n",
              "&not;(Serve + -1&middot;Issue &ge; -1) &or;\n",
              "&not;(Serve + -1&middot;Num[1] &le; -1)"
            ],
            "text/plain": [
              "&not;(State[1] &ge; 1) &or;\n",
              "&not;(State[2] &ge; 1) &or;\n",
              "&not;(Serve + -1&middot;Issue &ge; -1) &or;\n",
              "&not;(Serve + -1&middot;Num[1] &le; -1)"
            ]
          },
          "metadata": {},
          "output_type": "display_data"
        },
        {
          "data": {
            "text/html": [
              "&not;(State[3] &ge; 1) &or; &not;(Issue + -1&middot;Num[3] &le; 0)"
            ],
            "text/plain": [
              "&not;(State[3] &ge; 1) &or; &not;(Issue + -1&middot;Num[3] &le; 0)"
            ]
          },
          "metadata": {},
          "output_type": "display_data"
        },
        {
          "data": {
            "text/html": [
              "&not;(State[3] &ge; 1) &or;\n",
              "&not;(Serve + -1&middot;Num[2] &ge; 0) &or;\n",
              "&not;(Serve + -1&middot;Num[3] = -1) &or;\n",
              "&not;(State[1] &ge; 1) &or;\n",
              "&not;(State[2] &ge; 1) &or;\n",
              "&not;(Serve + -1&middot;Num[1] = -1)"
            ],
            "text/plain": [
              "&not;(State[3] &ge; 1) &or;\n",
              "&not;(Serve + -1&middot;Num[2] &ge; 0) &or;\n",
              "&not;(Serve + -1&middot;Num[3] = -1) &or;\n",
              "&not;(State[1] &ge; 1) &or;\n",
              "&not;(State[2] &ge; 1) &or;\n",
              "&not;(Serve + -1&middot;Num[1] = -1)"
            ]
          },
          "metadata": {},
          "output_type": "display_data"
        },
        {
          "data": {
            "text/html": [
              "&not;(State[3] &ge; 1) &or;\n",
              "&not;(Serve + -1&middot;Num[3] = -1) &or;\n",
              "&not;(State[1] &ge; 1) &or;\n",
              "&not;(Serve + -1&middot;Num[1] = -1) &or;\n",
              "&not;(State[2] &ge; 2)"
            ],
            "text/plain": [
              "&not;(State[3] &ge; 1) &or;\n",
              "&not;(Serve + -1&middot;Num[3] = -1) &or;\n",
              "&not;(State[1] &ge; 1) &or;\n",
              "&not;(Serve + -1&middot;Num[1] = -1) &or;\n",
              "&not;(State[2] &ge; 2)"
            ]
          },
          "metadata": {},
          "output_type": "display_data"
        },
        {
          "data": {
            "text/html": [
              "&not;(State[3] &ge; 1) &or;\n",
              "&not;(Serve + -1&middot;Num[1] &ge; 0) &or;\n",
              "&not;(Serve + -1&middot;Num[2] = -1) &or;\n",
              "&not;(Serve + -1&middot;Num[3] = -1) &or;\n",
              "&not;(State[1] &ge; 1) &or;\n",
              "&not;(State[2] &ge; 1)"
            ],
            "text/plain": [
              "&not;(State[3] &ge; 1) &or;\n",
              "&not;(Serve + -1&middot;Num[1] &ge; 0) &or;\n",
              "&not;(Serve + -1&middot;Num[2] = -1) &or;\n",
              "&not;(Serve + -1&middot;Num[3] = -1) &or;\n",
              "&not;(State[1] &ge; 1) &or;\n",
              "&not;(State[2] &ge; 1)"
            ]
          },
          "metadata": {},
          "output_type": "display_data"
        },
        {
          "data": {
            "text/html": [
              "&not;(State[3] &ge; 1) &or;\n",
              "&not;(Num[1] = Serve) &or;\n",
              "&not;(Serve = Num[3]) &or;\n",
              "&not;(State[1] &ge; 1)"
            ],
            "text/plain": [
              "&not;(State[3] &ge; 1) &or;\n",
              "&not;(Num[1] = Serve) &or;\n",
              "&not;(Serve = Num[3]) &or;\n",
              "&not;(State[1] &ge; 1)"
            ]
          },
          "metadata": {},
          "output_type": "display_data"
        },
        {
          "data": {
            "text/html": [
              "&not;(Num[3] = Serve) &or; &not;(State[3] &ge; 1) &or; &not;(State[1] &ge; 2)"
            ],
            "text/plain": [
              "&not;(Num[3] = Serve) &or; &not;(State[3] &ge; 1) &or; &not;(State[1] &ge; 2)"
            ]
          },
          "metadata": {},
          "output_type": "display_data"
        },
        {
          "data": {
            "text/html": [
              "&not;(State[2] &ge; 2) &or;\n",
              "&not;(State[3] &ge; 1) &or;\n",
              "&not;(Serve + -1&middot;Num[3] &le; 0) &or;\n",
              "&not;(Serve + -1&middot;Num[3] &ge; 0)"
            ],
            "text/plain": [
              "&not;(State[2] &ge; 2) &or;\n",
              "&not;(State[3] &ge; 1) &or;\n",
              "&not;(Serve + -1&middot;Num[3] &le; 0) &or;\n",
              "&not;(Serve + -1&middot;Num[3] &ge; 0)"
            ]
          },
          "metadata": {},
          "output_type": "display_data"
        },
        {
          "data": {
            "text/html": [
              "&not;(State[3] &ge; 1) &or;\n",
              "&not;(State[1] &ge; 1) &or;\n",
              "&not;(Serve + -1&middot;Issue &ge; -2) &or;\n",
              "&not;(Serve + -1&middot;Num[2] &le; -2) &or;\n",
              "&not;(State[2] &ge; 1)"
            ],
            "text/plain": [
              "&not;(State[3] &ge; 1) &or;\n",
              "&not;(State[1] &ge; 1) &or;\n",
              "&not;(Serve + -1&middot;Issue &ge; -2) &or;\n",
              "&not;(Serve + -1&middot;Num[2] &le; -2) &or;\n",
              "&not;(State[2] &ge; 1)"
            ]
          },
          "metadata": {},
          "output_type": "display_data"
        },
        {
          "data": {
            "text/html": [
              "&not;(State[3] &ge; 1) &or;\n",
              "&not;(State[1] &ge; 1) &or;\n",
              "&not;(Serve + -1&middot;Issue &ge; -2) &or;\n",
              "&not;(Serve + -1&middot;Num[1] &le; -2) &or;\n",
              "&not;(State[2] &ge; 1)"
            ],
            "text/plain": [
              "&not;(State[3] &ge; 1) &or;\n",
              "&not;(State[1] &ge; 1) &or;\n",
              "&not;(Serve + -1&middot;Issue &ge; -2) &or;\n",
              "&not;(Serve + -1&middot;Num[1] &le; -2) &or;\n",
              "&not;(State[2] &ge; 1)"
            ]
          },
          "metadata": {},
          "output_type": "display_data"
        }
      ],
      "source": [
        "horn_inv = answer.eval(inv)\n",
        "for f in horn_inv.children():\n",
        "    display(f)"
      ]
    },
    {
      "cell_type": "markdown",
      "metadata": {},
      "source": [
        "We can condense and display this in SMT-LIB format."
      ]
    },
    {
      "cell_type": "code",
      "execution_count": 45,
      "metadata": {},
      "outputs": [
        {
          "name": "stdout",
          "output_type": "stream",
          "text": [
            "(set-logic HORN)\n",
            "(declare-fun Inv ((Array Int Int) (Array Int Int) Int Int) Bool)\n",
            "(assert (forall ((State (Array Int Int))\n",
            "         (Num (Array Int Int))\n",
            "         (Issue Int)\n",
            "         (Serve Int)\n",
            "         (|State'| (Array Int Int))\n",
            "         (|Num'| (Array Int Int))\n",
            "         (|Issue'| Int)\n",
            "         (|Serve'| Int)\n",
            "         (i Int)\n",
            "         (j Int))\n",
            "  (=> (and (= Issue 0)\n",
            "           (= Serve 0)\n",
            "           (= (select State 1) 0)\n",
            "           (= (select State 2) 0)\n",
            "           (= (select State 3) 0)\n",
            "           (= (select Num 1) (- 1))\n",
            "           (= (select Num 2) (- 1))\n",
            "           (= (select Num 3) (- 1)))\n",
            "      (Inv State Num Issue Serve))))\n",
            "(assert (forall ((State (Array Int Int))\n",
            "         (Num (Array Int Int))\n",
            "         (Issue Int)\n",
            "         (Serve Int)\n",
            "         (|State'| (Array Int Int))\n",
            "         (|Num'| (Array Int Int))\n",
            "         (|Issue'| Int)\n",
            "         (|Serve'| Int)\n",
            "         (i Int)\n",
            "         (j Int))\n",
            "  (let ((a!1 (or (and (= (select State i) 0)\n",
            "                      (>= i 1)\n",
            "                      (<= i 3)\n",
            "                      (= |Serve'| Serve)\n",
            "                      (= |Issue'| (+ Issue 1))\n",
            "                      (= |State'| (store State i 1))\n",
            "                      (= |Num'| (store Num i Issue)))\n",
            "                 (and (= (select State i) 1)\n",
            "                      (>= i 1)\n",
            "                      (<= i 3)\n",
            "                      (= (select Num i) Serve)\n",
            "                      (= |Serve'| Serve)\n",
            "                      (= |Issue'| Issue)\n",
            "                      (= |Num'| Num)\n",
            "                      (= |State'| (store State i 2)))\n",
            "                 (and (= (select State i) 2)\n",
            "                      (>= i 1)\n",
            "                      (<= i 3)\n",
            "                      (= |Issue'| Issue)\n",
            "                      (= |Serve'| (+ Serve 1))\n",
            "                      (= |Num'| (store Num i (- 1)))\n",
            "                      (= |State'| (store State i 0))))))\n",
            "    (=> (and (Inv State Num Issue Serve) a!1)\n",
            "        (Inv |State'| |Num'| |Issue'| |Serve'|)))))\n",
            "(assert (forall ((State (Array Int Int))\n",
            "         (Num (Array Int Int))\n",
            "         (Issue Int)\n",
            "         (Serve Int)\n",
            "         (|State'| (Array Int Int))\n",
            "         (|Num'| (Array Int Int))\n",
            "         (|Issue'| Int)\n",
            "         (|Serve'| Int)\n",
            "         (i Int)\n",
            "         (j Int))\n",
            "  (=> (and (Inv State Num Issue Serve)\n",
            "           (= (select State i) 2)\n",
            "           (= (select State j) 2)\n",
            "           (distinct i j)\n",
            "           (>= i 1)\n",
            "           (<= i 3)\n",
            "           (>= j 1)\n",
            "           (<= j 3))\n",
            "      false)))\n",
            "\n",
            "(check-sat)\n"
          ]
        }
      ],
      "source": [
        "s = z3.SolverFor('HORN')\n",
        "s.add(vc)\n",
        "print('(set-logic HORN)')\n",
        "print(s.sexpr())\n",
        "print('(check-sat)')"
      ]
    },
    {
      "cell_type": "markdown",
      "metadata": {},
      "source": [
        "## Back to basics\n",
        "\n",
        "CHC Satisfiability over Linear Integer Arithmetic is undecidable. Thus, there are always \"simple looking\" instances that are difficult to solve with any current algorithm. In this part of the tutorial, we will look at how different encoding techniques are used to guide the search."
      ]
    },
    {
      "cell_type": "markdown",
      "metadata": {},
      "source": [
        "## Predicate Abstraction\n",
        "\n",
        "(Implicit) Predicate Abstraction is an abstraction (or search guidance) technique that restricts the search to a solution that is expressed by a Boolean combination of a user-defined set of predicates.\n",
        "\n",
        "Given a set of predicates $Pred$ (i.e., formulas in the underlying theory), a predicate abstraction of an inductive invariant for a transition system $P$ is a formula $InvPred$ such that\n",
        "  1. $InvPred$ is a Boolean combination of predicates from $Pred$\n",
        "  2. $InvPred$ is an inductive invariant of $P$\n",
        "  \n",
        "Note that deciding whether there exists an $InvPred$ is **decidable**! There are finitely many distinct Boolean combinations of a given finite set of predicates.\n",
        "\n",
        "[CGMT14] A. Cimatti, A. Griggio, S. Mover, S. Tonetta:\n",
        "_IC3 Modulo Theories via Implicit Predicate Abstraction_. TACAS 2014: 46-61\n"
      ]
    },
    {
      "cell_type": "code",
      "execution_count": 46,
      "metadata": {
        "trusted": true
      },
      "outputs": [
        {
          "data": {
            "text/html": [
              "Transition System: Ts1<br/>\tInit: a = 0 &and; c &gt; 0 &and; c &lt; 5 &and; b = 3&middot;c<br/>\tBad: &not;(b &ge; 3 &and; b &le; 212)<br/>\tTr: a &lt; 200 &and; a' = a + 1 &and; b' = b + 1"
            ],
            "text/plain": [
              "\"Transition System: Ts1<br/>\\tInit: a = 0 &and; c &gt; 0 &and; c &lt; 5 &and; b = 3&middot;c<br/>\\tBad: &not;(b &ge; 3 &and; b &le; 212)<br/>\\tTr: a &lt; 200 &and; a' = a + 1 &and; b' = b + 1\""
            ]
          },
          "execution_count": 46,
          "metadata": {},
          "output_type": "execute_result"
        }
      ],
      "source": [
        "def mk_ts1(safe=True):\n",
        "    T = Ts('Ts1')\n",
        "    a, a_out = T.add_var(z3.IntSort(), name='a')\n",
        "    b, b_out = T.add_var(z3.IntSort(), name='b')\n",
        "    c, c_out = T.add_var(z3.IntSort(), name='c')\n",
        "    T.Init = z3.And(a == 0, 0 < c, c < 5, b == 3 * c)\n",
        "    T.Tr = z3.And(a < 200, a_out == a + 1, b_out == b + 1)\n",
        "    if safe:\n",
        "        T.Bad = z3.Not(z3.And(3 <= b, b <= 200 + 12))\n",
        "    else:\n",
        "        T.Bad = z3.Not(z3.And(3 <= b, b <= 200 + 2))\n",
        "    return T\n",
        "ts1 = mk_ts1(safe=True)\n",
        "HtmlStr(ts1)"
      ]
    },
    {
      "cell_type": "code",
      "execution_count": 47,
      "metadata": {
        "trusted": true
      },
      "outputs": [
        {
          "data": {
            "text/html": [
              "<b>unknown</b>"
            ],
            "text/plain": [
              "<b>unknown</b>"
            ]
          },
          "execution_count": 47,
          "metadata": {},
          "output_type": "execute_result"
        }
      ],
      "source": [
        "vc, inv = vc_gen(ts1)\n",
        "res, answer = solve_horn(vc)\n",
        "res"
      ]
    },
    {
      "cell_type": "markdown",
      "metadata": {},
      "source": [
        "We define `vc_gen_pa` that generates verification condition for predicate abstraction given a set of predicates. The basic structure is the same as `vc_gen`, except, the uninterpreted predicate `InvPredAbs` only takes Boolean arguments. The predicates are evaluated in the pre-state and post-state of the transition relation, and are then passed to `InvPredAbs`."
      ]
    },
    {
      "cell_type": "code",
      "execution_count": 48,
      "metadata": {
        "trusted": true
      },
      "outputs": [],
      "source": [
        "def vc_gen_pa(T, preds):\n",
        "    '''Verification Condition for Predicate Abstraction'''\n",
        "\n",
        "    post_preds = [T.to_post(p) for p in preds]\n",
        "\n",
        "    # create predicate Inv\n",
        "    sig = [z3.BoolSort()] * (len(preds) + 1)\n",
        "    Inv = z3.Function('InvPredAbs', *sig)\n",
        "\n",
        "    all_vars = T.all()\n",
        "\n",
        "    InvPre = Inv(*preds)\n",
        "    InvPost = Inv(*post_preds)\n",
        "    vc_init = z3.ForAll(all_vars, z3.Implies(T.Init, InvPre))\n",
        "    vc_ind = z3.ForAll(all_vars, z3.Implies(z3.And(InvPre, T.Tr), InvPost))\n",
        "    vc_bad = z3.ForAll(all_vars,\n",
        "                       z3.Implies(z3.And(InvPre, T.Bad), z3.BoolVal(False)))\n",
        "\n",
        "    return [vc_init, vc_ind, vc_bad], InvPre"
      ]
    },
    {
      "cell_type": "code",
      "execution_count": 49,
      "metadata": {
        "trusted": true
      },
      "outputs": [],
      "source": [
        "a = ts1.get_pre_var('a')\n",
        "b = ts1.get_pre_var('b')\n",
        "vc, inv = vc_gen_pa(ts1, [b - a >= 13, a >= 0, b <= 2, b >= 213])"
      ]
    },
    {
      "cell_type": "code",
      "execution_count": 50,
      "metadata": {
        "trusted": true
      },
      "outputs": [
        {
          "data": {
            "text/html": [
              "&forall;a, b, c, a', b', c' :<br/> a = 0 &and; c &gt; 0 &and; c &lt; 5 &and; b = 3&middot;c &rArr;<br/> InvPredAbs(b - a &ge; 13, a &ge; 0, b &le; 2, b &ge; 213) <br/><br/>&forall;a, b, c, a', b', c' :<br/> InvPredAbs(b - a &ge; 13, a &ge; 0, b &le; 2, b &ge; 213) &and;<br/> a &lt; 200 &and;<br/> a' = a + 1 &and;<br/> b' = b + 1 &rArr;<br/> InvPredAbs(b' - a' &ge; 13, a' &ge; 0, b' &le; 2, b' &ge; 213) <br/><br/>&forall;a, b, c, a', b', c' :<br/> InvPredAbs(b - a &ge; 13, a &ge; 0, b &le; 2, b &ge; 213) &and;<br/> &not;(b &ge; 3 &and; b &le; 212) &rArr;<br/> False <br/><br/>"
            ],
            "text/plain": [
              "\"&forall;a, b, c, a', b', c' :<br/> a = 0 &and; c &gt; 0 &and; c &lt; 5 &and; b = 3&middot;c &rArr;<br/> InvPredAbs(b - a &ge; 13, a &ge; 0, b &le; 2, b &ge; 213) <br/><br/>&forall;a, b, c, a', b', c' :<br/> InvPredAbs(b - a &ge; 13, a &ge; 0, b &le; 2, b &ge; 213) &and;<br/> a &lt; 200 &and;<br/> a' = a + 1 &and;<br/> b' = b + 1 &rArr;<br/> InvPredAbs(b' - a' &ge; 13, a' &ge; 0, b' &le; 2, b' &ge; 213) <br/><br/>&forall;a, b, c, a', b', c' :<br/> InvPredAbs(b - a &ge; 13, a &ge; 0, b &le; 2, b &ge; 213) &and;<br/> &not;(b &ge; 3 &and; b &le; 212) &rArr;<br/> False <br/><br/>\""
            ]
          },
          "execution_count": 50,
          "metadata": {},
          "output_type": "execute_result"
        }
      ],
      "source": [
        "chc_to_str(vc)"
      ]
    },
    {
      "cell_type": "code",
      "execution_count": 51,
      "metadata": {
        "trusted": true
      },
      "outputs": [
        {
          "data": {
            "text/html": [
              "<b>sat</b>"
            ],
            "text/plain": [
              "<b>sat</b>"
            ]
          },
          "execution_count": 51,
          "metadata": {},
          "output_type": "execute_result"
        }
      ],
      "source": [
        "res, answer = solve_horn(vc)\n",
        "res"
      ]
    },
    {
      "cell_type": "code",
      "execution_count": 52,
      "metadata": {
        "trusted": true
      },
      "outputs": [
        {
          "data": {
            "text/html": [
              "&not;(b &ge; 213) &and; &not;(b + -1&middot;a &ge; 13) &and; &not;(b &le; 2) &and; a &ge; 0"
            ],
            "text/plain": [
              "&not;(b &ge; 213) &and; &not;(b + -1&middot;a &ge; 13) &and; &not;(b &le; 2) &and; a &ge; 0"
            ]
          },
          "execution_count": 52,
          "metadata": {},
          "output_type": "execute_result"
        }
      ],
      "source": [
        "answer.eval(inv)"
      ]
    },
    {
      "cell_type": "markdown",
      "metadata": {},
      "source": [
        "## Term Abstraction\n",
        "\n",
        "Predicate abstraction requires the user to specify the exact predicates to be used in the solution.\n",
        "We can relax this by requiring the user to only specify the terms that are allowed in the solution.\n",
        "\n",
        "Predicate Abstraction is a special case of Term Abstraction where user provided terms are Boolean.\n",
        "\n",
        "[LRS16] J. Leroux, P. Rümmer, P. Subotic:\n",
        "_Guiding Craig interpolation with domain-specific abstractions_. Acta Inf. 53(4): 387-424 (2016)\n"
      ]
    },
    {
      "cell_type": "code",
      "execution_count": 53,
      "metadata": {
        "trusted": true
      },
      "outputs": [],
      "source": [
        "def vc_gen_ta(T, terms):\n",
        "    '''Verification Condition for Term Abstraction'''\n",
        "\n",
        "    post_terms = [T.to_post(p) for p in terms]\n",
        "\n",
        "    # create term Inv\n",
        "    sig = [t.sort() for t in terms] + [z3.BoolSort()]\n",
        "    Inv = z3.Function('InvTermAbs', *sig)\n",
        "    all_vars = T.all()\n",
        "\n",
        "    InvPre = Inv(*terms)\n",
        "    InvPost = Inv(*post_terms)\n",
        "\n",
        "    vc_init = z3.ForAll(all_vars, z3.Implies(T.Init, InvPre))\n",
        "    vc_ind = z3.ForAll(all_vars, z3.Implies(z3.And(InvPre, T.Tr), InvPost))\n",
        "    vc_bad = z3.ForAll(all_vars,\n",
        "                       z3.Implies(z3.And(InvPre, T.Bad), z3.BoolVal(False)))\n",
        "\n",
        "    return [vc_init, vc_ind, vc_bad], InvPre"
      ]
    },
    {
      "cell_type": "code",
      "execution_count": 54,
      "metadata": {
        "trusted": true
      },
      "outputs": [
        {
          "data": {
            "text/html": [
              "<b>sat</b>"
            ],
            "text/plain": [
              "<b>sat</b>"
            ]
          },
          "execution_count": 54,
          "metadata": {},
          "output_type": "execute_result"
        }
      ],
      "source": [
        "a, b, c = ts1.get_pre_vars('a b c')\n",
        "vc, inv = vc_gen_ta(ts1, [b-a, b])\n",
        "res, answer = solve_horn(vc, max_unfold=400)\n",
        "res"
      ]
    },
    {
      "cell_type": "code",
      "execution_count": 55,
      "metadata": {
        "trusted": true
      },
      "outputs": [
        {
          "data": {
            "text/html": [
              "&not;(b &ge; 213) &and; &not;(b + -1&middot;a &ge; 13) &and; &not;(b &le; 2) &and; &not;(a &le; -1)"
            ],
            "text/plain": [
              "&not;(b &ge; 213) &and; &not;(b + -1&middot;a &ge; 13) &and; &not;(b &le; 2) &and; &not;(a &le; -1)"
            ]
          },
          "execution_count": 55,
          "metadata": {},
          "output_type": "execute_result"
        }
      ],
      "source": [
        "answer.eval(inv)"
      ]
    },
    {
      "cell_type": "markdown",
      "metadata": {},
      "source": [
        "## Invariant Partitioning\n",
        "\n",
        "Another way to guide the search is to look for modular invariants. The state variables are partitioned into groups $G_1$, $G_2$, ..., The invariant is partitioned into a conjunction of formulas $Inv_1$, $Inv_2$, ... such that $Inv_i$ is a formula over state variables in group $G_i$. Note that the groups $G_i$ do not have to be disjoint."
      ]
    },
    {
      "cell_type": "code",
      "execution_count": 56,
      "metadata": {
        "code_folding": [
          0
        ],
        "trusted": true
      },
      "outputs": [],
      "source": [
        "def vc_gen_part(T, partitions):\n",
        "    '''Partitioned abstraction'''\n",
        "\n",
        "    def _mk_inv_pred(name, vars):\n",
        "        sig = [v.sort() for v in vars] + [z3.BoolSort()]\n",
        "        inv = z3.Function(name, *sig)\n",
        "        return inv(vars)\n",
        "\n",
        "    part_inv = [_mk_inv_pred('PartInv_' + str(pname), vars)\n",
        "                for pname, vars in partitions.items()]\n",
        "\n",
        "\n",
        "    vc = list()\n",
        "    all_vars = T.all()\n",
        "    for inv in part_inv:\n",
        "        vc.append(z3.ForAll(all_vars, z3.Implies(T.Init, inv)))\n",
        "\n",
        "    preInvs = z3.And(part_inv)\n",
        "    for inv in part_inv:\n",
        "        postInv = T.to_post(inv)\n",
        "        vc.append(z3.ForAll(all_vars,\n",
        "                            z3.Implies(z3.And(preInvs, T.Tr),\n",
        "                                       postInv)))\n",
        "    vc.append(z3.ForAll(all_vars,\n",
        "                        z3.Implies(z3.And(preInvs, T.Bad),\n",
        "                                   z3.BoolVal(False))))\n",
        "    return vc, preInvs"
      ]
    },
    {
      "cell_type": "code",
      "execution_count": 57,
      "metadata": {
        "trusted": true
      },
      "outputs": [
        {
          "data": {
            "text/html": [
              "Transition System: Ts2<br/>\tInit: a = 0 &and; b = 0 &and; c = 0 &and; d = 0<br/>\tBad: &not;(d &ge; 0)<br/>\tTr: a' = a + 1 &and;<br/>b' = b + a + 1 &and;<br/>c' = c + b + a + 1 &and;<br/>d' = d + c + b + a + 1"
            ],
            "text/plain": [
              "\"Transition System: Ts2<br/>\\tInit: a = 0 &and; b = 0 &and; c = 0 &and; d = 0<br/>\\tBad: &not;(d &ge; 0)<br/>\\tTr: a' = a + 1 &and;<br/>b' = b + a + 1 &and;<br/>c' = c + b + a + 1 &and;<br/>d' = d + c + b + a + 1\""
            ]
          },
          "execution_count": 57,
          "metadata": {},
          "output_type": "execute_result"
        }
      ],
      "source": [
        "def mk_ts2():\n",
        "    T = Ts('Ts2')\n",
        "    a, a_out = T.add_var(z3.IntSort(), name='a')\n",
        "    b, b_out = T.add_var(z3.IntSort(), name='b')\n",
        "    c, c_out = T.add_var(z3.IntSort(), name='c')\n",
        "    d, d_out = T.add_var(z3.IntSort(), name='d')\n",
        "    T.Init = z3.And(a == 0, b == 0, c == 0, d == 0)\n",
        "    T.Tr = z3.And(a_out == a + 1,\n",
        "                  b_out == b + a + 1,\n",
        "                  c_out == c + b + a + 1,\n",
        "                  d_out == d + c + b + a + 1)\n",
        "    T.Bad = z3.Not(d >= 0)\n",
        "    return T\n",
        "ts2 = mk_ts2()\n",
        "HtmlStr(ts2)"
      ]
    },
    {
      "cell_type": "code",
      "execution_count": 58,
      "metadata": {
        "trusted": true
      },
      "outputs": [
        {
          "data": {
            "text/html": [
              "<b>unknown</b>"
            ],
            "text/plain": [
              "'<b>unknown</b>'"
            ]
          },
          "execution_count": 58,
          "metadata": {},
          "output_type": "execute_result"
        }
      ],
      "source": [
        "vc, inv = vc_gen(ts2)\n",
        "res, answer = solve_horn(vc)\n",
        "HtmlStr(res)"
      ]
    },
    {
      "cell_type": "code",
      "execution_count": 59,
      "metadata": {
        "code_folding": [
          0
        ],
        "trusted": true
      },
      "outputs": [
        {
          "data": {
            "text/html": [
              "<b>sat</b>"
            ],
            "text/plain": [
              "<b>sat</b>"
            ]
          },
          "execution_count": 59,
          "metadata": {},
          "output_type": "execute_result"
        }
      ],
      "source": [
        "def mk_bnd(T, N):\n",
        "    \"\"\"\n",
        "    Bound a given transition system by to at most N iterations\n",
        "\n",
        "    Transforms a given transition system T into a transition system T_N\n",
        "    that executes for at most N steps\n",
        "    \"\"\"\n",
        "\n",
        "    import copy\n",
        "    TN = copy.deepcopy(T)\n",
        "    TN.name += '_bnd_' + str(N)\n",
        "    bnd, bnd_out = TN.add_var(z3.IntSort(), \"bnd\")\n",
        "    TN.Init = z3.simplify(z3.And(T.Init, bnd == N))\n",
        "    TN.Tr = z3.simplify(z3.And(T.Tr, bnd_out < bnd, bnd_out >= 0))\n",
        "    TN.Bad = T.Bad\n",
        "\n",
        "    return TN\n",
        "ts2_bnd = mk_bnd(ts2, N=4)\n",
        "vc, inv = vc_gen(ts2_bnd)\n",
        "res, answer = solve_horn(vc)\n",
        "res"
      ]
    },
    {
      "cell_type": "code",
      "execution_count": 60,
      "metadata": {
        "trusted": true
      },
      "outputs": [
        {
          "data": {
            "text/html": [
              "&not;(bnd &ge; 5) &and;<br/>(&not;(bnd &ge; 4) &or; &not;(10&middot;b + d + 4&middot;c + 20&middot;a &le; -21)) &and;<br/>(&not;(bnd &ge; 2) &or; &not;(3&middot;b + d + 2&middot;c + 4&middot;a &le; -3)) &and;<br/>(&not;(bnd &ge; 3) &or; &not;(6&middot;b + d + 3&middot;c + 10&middot;a &le; -8)) &and;<br/>&not;(d &le; -1) &and;<br/>(&not;(bnd &ge; 1) &or; &not;(b + d + c + a &le; -1))"
            ],
            "text/plain": [
              "'&not;(bnd &ge; 5) &and;<br/>(&not;(bnd &ge; 4) &or; &not;(10&middot;b + d + 4&middot;c + 20&middot;a &le; -21)) &and;<br/>(&not;(bnd &ge; 2) &or; &not;(3&middot;b + d + 2&middot;c + 4&middot;a &le; -3)) &and;<br/>(&not;(bnd &ge; 3) &or; &not;(6&middot;b + d + 3&middot;c + 10&middot;a &le; -8)) &and;<br/>&not;(d &le; -1) &and;<br/>(&not;(bnd &ge; 1) &or; &not;(b + d + c + a &le; -1))'"
            ]
          },
          "execution_count": 60,
          "metadata": {},
          "output_type": "execute_result"
        }
      ],
      "source": [
        "HtmlStr(answer.eval(inv))"
      ]
    },
    {
      "cell_type": "markdown",
      "metadata": {},
      "source": [
        "The solver is stuck trying to find a monolithic solution that converges to an invariant in non-linear arithmetic!\n",
        "We can guide it by partitioning the invariants to individual state variables:"
      ]
    },
    {
      "cell_type": "code",
      "execution_count": 61,
      "metadata": {
        "code_folding": [
          0
        ],
        "trusted": true
      },
      "outputs": [
        {
          "data": {
            "text/html": [
              "<b>sat</b>"
            ],
            "text/plain": [
              "<b>sat</b>"
            ]
          },
          "execution_count": 61,
          "metadata": {},
          "output_type": "execute_result"
        }
      ],
      "source": [
        "def vc_gen_part(T, partitions):\n",
        "    '''Partitioned abstraction'''\n",
        "\n",
        "    def _mk_inv_pred(name, vars):\n",
        "        sig = [v.sort() for v in vars] + [z3.BoolSort()]\n",
        "        inv = z3.Function(name, *sig)\n",
        "        return inv(vars)\n",
        "\n",
        "    part_inv = [_mk_inv_pred('PartInv_' + str(pname), vars)\n",
        "                for pname, vars in partitions.items()]\n",
        "\n",
        "\n",
        "    vc = list()\n",
        "    all_vars = T.all()\n",
        "    for inv in part_inv:\n",
        "        vc.append(z3.ForAll(all_vars, z3.Implies(T.Init, inv)))\n",
        "\n",
        "    preInvs = z3.And(part_inv)\n",
        "    for inv in part_inv:\n",
        "        postInv = T.to_post(inv)\n",
        "        vc.append(z3.ForAll(all_vars,\n",
        "                            z3.Implies(z3.And(preInvs, T.Tr),\n",
        "                                       postInv)))\n",
        "    vc.append(z3.ForAll(all_vars,\n",
        "                        z3.Implies(z3.And(preInvs, T.Bad),\n",
        "                                   z3.BoolVal(False))))\n",
        "    return vc, preInvs\n",
        "\n",
        "a, b, c, d = ts2.get_pre_vars('a b c d')\n",
        "vc, inv = vc_gen_part(ts2, { \"a\":[a], \"b\":[b], \"c\":[c], \"d\":[d] })\n",
        "res, answer = solve_horn(vc)\n",
        "res"
      ]
    },
    {
      "cell_type": "code",
      "execution_count": 62,
      "metadata": {
        "trusted": true
      },
      "outputs": [
        {
          "data": {
            "text/html": [
              "PartInv_a(a) &and; PartInv_b(b) &and; PartInv_c(c) &and; PartInv_d(d)"
            ],
            "text/plain": [
              "PartInv_a(a) &and; PartInv_b(b) &and; PartInv_c(c) &and; PartInv_d(d)"
            ]
          },
          "execution_count": 62,
          "metadata": {},
          "output_type": "execute_result"
        }
      ],
      "source": [
        "inv"
      ]
    },
    {
      "cell_type": "code",
      "execution_count": 63,
      "metadata": {
        "trusted": true
      },
      "outputs": [
        {
          "data": {
            "text/html": [
              "&not;(a &le; -1) &and; &not;(b &le; -1) &and; &not;(c &le; -1) &and; &not;(d &le; -1)"
            ],
            "text/plain": [
              "&not;(a &le; -1) &and; &not;(b &le; -1) &and; &not;(c &le; -1) &and; &not;(d &le; -1)"
            ]
          },
          "execution_count": 63,
          "metadata": {},
          "output_type": "execute_result"
        }
      ],
      "source": [
        "answer.eval(inv)"
      ]
    },
    {
      "cell_type": "code",
      "execution_count": 64,
      "metadata": {
        "trusted": true
      },
      "outputs": [
        {
          "data": {
            "text/html": [
              "&not;(a + c &le; -2) &and; &not;(a &le; -1) &and; &not;(b &le; -1) &and; &not;(d &le; -1)"
            ],
            "text/plain": [
              "&not;(a + c &le; -2) &and; &not;(a &le; -1) &and; &not;(b &le; -1) &and; &not;(d &le; -1)"
            ]
          },
          "execution_count": 64,
          "metadata": {},
          "output_type": "execute_result"
        }
      ],
      "source": [
        "vc, inv = vc_gen_part(ts2, { \"ac\":[a, c], \"bc\":[b, c], \"d\":[d] })\n",
        "res, answer = solve_horn(vc)\n",
        "answer.eval(inv)"
      ]
    },
    {
      "cell_type": "code",
      "execution_count": 65,
      "metadata": {
        "trusted": true
      },
      "outputs": [
        {
          "data": {
            "text/html": [
              "&forall;a, b, c, d, a', b', c', d' :<br/> a = 0 &and; b = 0 &and; c = 0 &and; d = 0 &rArr; PartInv_ac(a, c) <br/><br/>&forall;a, b, c, d, a', b', c', d' :<br/> a = 0 &and; b = 0 &and; c = 0 &and; d = 0 &rArr; PartInv_bc(b, c) <br/><br/>&forall;a, b, c, d, a', b', c', d' :<br/> a = 0 &and; b = 0 &and; c = 0 &and; d = 0 &rArr; PartInv_d(d) <br/><br/>&forall;a, b, c, d, a', b', c', d' :<br/> PartInv_ac(a, c) &and;<br/> PartInv_bc(b, c) &and;<br/> PartInv_d(d) &and;<br/> a' = a + 1 &and;<br/> b' = b + a + 1 &and;<br/> c' = c + b + a + 1 &and;<br/> d' = d + c + b + a + 1 &rArr;<br/> PartInv_ac(a', c') <br/><br/>&forall;a, b, c, d, a', b', c', d' :<br/> PartInv_ac(a, c) &and;<br/> PartInv_bc(b, c) &and;<br/> PartInv_d(d) &and;<br/> a' = a + 1 &and;<br/> b' = b + a + 1 &and;<br/> c' = c + b + a + 1 &and;<br/> d' = d + c + b + a + 1 &rArr;<br/> PartInv_bc(b', c') <br/><br/>&forall;a, b, c, d, a', b', c', d' :<br/> PartInv_ac(a, c) &and;<br/> PartInv_bc(b, c) &and;<br/> PartInv_d(d) &and;<br/> a' = a + 1 &and;<br/> b' = b + a + 1 &and;<br/> c' = c + b + a + 1 &and;<br/> d' = d + c + b + a + 1 &rArr;<br/> PartInv_d(d') <br/><br/>&forall;a, b, c, d, a', b', c', d' :<br/> PartInv_ac(a, c) &and;<br/> PartInv_bc(b, c) &and;<br/> PartInv_d(d) &and;<br/> &not;(d &ge; 0) &rArr;<br/> False <br/><br/>"
            ],
            "text/plain": [
              "\"&forall;a, b, c, d, a', b', c', d' :<br/> a = 0 &and; b = 0 &and; c = 0 &and; d = 0 &rArr; PartInv_ac(a, c) <br/><br/>&forall;a, b, c, d, a', b', c', d' :<br/> a = 0 &and; b = 0 &and; c = 0 &and; d = 0 &rArr; PartInv_bc(b, c) <br/><br/>&forall;a, b, c, d, a', b', c', d' :<br/> a = 0 &and; b = 0 &and; c = 0 &and; d = 0 &rArr; PartInv_d(d) <br/><br/>&forall;a, b, c, d, a', b', c', d' :<br/> PartInv_ac(a, c) &and;<br/> PartInv_bc(b, c) &and;<br/> PartInv_d(d) &and;<br/> a' = a + 1 &and;<br/> b' = b + a + 1 &and;<br/> c' = c + b + a + 1 &and;<br/> d' = d + c + b + a + 1 &rArr;<br/> PartInv_ac(a', c') <br/><br/>&forall;a, b, c, d, a', b', c', d' :<br/> PartInv_ac(a, c) &and;<br/> PartInv_bc(b, c) &and;<br/> PartInv_d(d) &and;<br/> a' = a + 1 &and;<br/> b' = b + a + 1 &and;<br/> c' = c + b + a + 1 &and;<br/> d' = d + c + b + a + 1 &rArr;<br/> PartInv_bc(b', c') <br/><br/>&forall;a, b, c, d, a', b', c', d' :<br/> PartInv_ac(a, c) &and;<br/> PartInv_bc(b, c) &and;<br/> PartInv_d(d) &and;<br/> a' = a + 1 &and;<br/> b' = b + a + 1 &and;<br/> c' = c + b + a + 1 &and;<br/> d' = d + c + b + a + 1 &rArr;<br/> PartInv_d(d') <br/><br/>&forall;a, b, c, d, a', b', c', d' :<br/> PartInv_ac(a, c) &and;<br/> PartInv_bc(b, c) &and;<br/> PartInv_d(d) &and;<br/> &not;(d &ge; 0) &rArr;<br/> False <br/><br/>\""
            ]
          },
          "execution_count": 65,
          "metadata": {},
          "output_type": "execute_result"
        }
      ],
      "source": [
        "chc_to_str(vc)"
      ]
    },
    {
      "cell_type": "markdown",
      "metadata": {},
      "source": [
        "## Combining Data Flow and Control Flow\n",
        "\n",
        "Our examples so far modeled the control flow of the transition system. Alternatively,\n",
        "we can model the data flow, and even combine the two together.\n",
        "\n",
        "To model data flow, we extend our CFA with a block of _packed_ registers $p$ and two instructions:\n",
        "\n",
        "  1. $pack (p := v)$ that stores the values of registers $v$ into the pack\n",
        "  2. $unpack (v := p)$ that unpackes the values stored in $p$ into state registers $v$\n",
        "  \n",
        "Using $pack$ and $unpack$ we can model data flow (or, even weak memory updates)"
      ]
    },
    {
      "cell_type": "code",
      "execution_count": 66,
      "metadata": {
        "trusted": true
      },
      "outputs": [],
      "source": [
        "def mk_dcfa0():\n",
        "    A = DCFA('prog3')\n",
        "    ZZ = z3.IntSort()\n",
        "    x, x_out = A.add_var(ZZ, 'x')\n",
        "    y, y_out = A.add_var(ZZ, 'y')\n",
        "    p = A.add_pack_var(ZZ, 'p')\n",
        "\n",
        "    A.add_edge('entry', 'L0', x_out == 10)\n",
        "    A.add_edge('L0', 'L1', z3.And( y_out == 0, x_out == x ))\n",
        "    A.add_edge('L1', 'L1', z3.And( y < 2019, y_out == y + 1, x_out == x ) )\n",
        "    A.add_edge('L1', 'L2', z3.And(y >= 2019, x_out == x))\n",
        "    A.add_edge('L2', 'exit', x > 10)\n",
        "    A.set_entry_node('entry')\n",
        "    A.set_exit_node('exit')\n",
        "    return A"
      ]
    },
    {
      "cell_type": "markdown",
      "metadata": {
        "slideshow": {
          "slide_type": "slide"
        }
      },
      "source": [
        "In `dcfa0`, the loop at `L1` hides the dataflow of variable `x` from `L0` to `L2`"
      ]
    },
    {
      "cell_type": "code",
      "execution_count": 67,
      "metadata": {
        "trusted": true
      },
      "outputs": [
        {
          "data": {
            "image/svg+xml": [
              "<?xml version=\"1.0\" encoding=\"UTF-8\" standalone=\"no\"?>\n",
              "<!DOCTYPE svg PUBLIC \"-//W3C//DTD SVG 1.1//EN\"\n",
              " \"http://www.w3.org/Graphics/SVG/1.1/DTD/svg11.dtd\">\n",
              "<!-- Generated by graphviz version 7.1.0 (20230121.1956)\n",
              " -->\n",
              "<!-- Pages: 1 -->\n",
              "<svg width=\"249pt\" height=\"392pt\"\n",
              " viewBox=\"0.00 0.00 248.60 392.00\" xmlns=\"http://www.w3.org/2000/svg\" xmlns:xlink=\"http://www.w3.org/1999/xlink\">\n",
              "<g id=\"graph0\" class=\"graph\" transform=\"scale(1 1) rotate(0) translate(4 388)\">\n",
              "<polygon fill=\"white\" stroke=\"none\" points=\"-4,4 -4,-388 244.6,-388 244.6,4 -4,4\"/>\n",
              "<!-- entry -->\n",
              "<g id=\"node1\" class=\"node\">\n",
              "<title>entry</title>\n",
              "<ellipse fill=\"none\" stroke=\"black\" cx=\"28.6\" cy=\"-366\" rx=\"28.7\" ry=\"18\"/>\n",
              "<text text-anchor=\"middle\" x=\"28.6\" y=\"-362.3\" font-family=\"Times,serif\" font-size=\"14.00\">entry</text>\n",
              "</g>\n",
              "<!-- L0 -->\n",
              "<g id=\"node2\" class=\"node\">\n",
              "<title>L0</title>\n",
              "<ellipse fill=\"none\" stroke=\"black\" cx=\"28.6\" cy=\"-279\" rx=\"27\" ry=\"18\"/>\n",
              "<text text-anchor=\"middle\" x=\"28.6\" y=\"-275.3\" font-family=\"Times,serif\" font-size=\"14.00\">L0</text>\n",
              "</g>\n",
              "<!-- entry&#45;&gt;L0 -->\n",
              "<g id=\"edge1\" class=\"edge\">\n",
              "<title>entry&#45;&gt;L0</title>\n",
              "<path fill=\"none\" stroke=\"black\" d=\"M28.6,-347.8C28.6,-336.58 28.6,-321.67 28.6,-308.69\"/>\n",
              "<polygon fill=\"black\" stroke=\"black\" points=\"32.1,-308.98 28.6,-298.98 25.1,-308.98 32.1,-308.98\"/>\n",
              "<text text-anchor=\"middle\" x=\"48.1\" y=\"-318.8\" font-family=\"Times,serif\" font-size=\"14.00\">x&#39; = 10</text>\n",
              "</g>\n",
              "<!-- L1 -->\n",
              "<g id=\"node3\" class=\"node\">\n",
              "<title>L1</title>\n",
              "<ellipse fill=\"none\" stroke=\"black\" cx=\"28.6\" cy=\"-192\" rx=\"27\" ry=\"18\"/>\n",
              "<text text-anchor=\"middle\" x=\"28.6\" y=\"-188.3\" font-family=\"Times,serif\" font-size=\"14.00\">L1</text>\n",
              "</g>\n",
              "<!-- L0&#45;&gt;L1 -->\n",
              "<g id=\"edge2\" class=\"edge\">\n",
              "<title>L0&#45;&gt;L1</title>\n",
              "<path fill=\"none\" stroke=\"black\" d=\"M28.6,-260.8C28.6,-249.58 28.6,-234.67 28.6,-221.69\"/>\n",
              "<polygon fill=\"black\" stroke=\"black\" points=\"32.1,-221.98 28.6,-211.98 25.1,-221.98 32.1,-221.98\"/>\n",
              "<text text-anchor=\"middle\" x=\"68.1\" y=\"-231.8\" font-family=\"Times,serif\" font-size=\"14.00\">y&#39; = 0 ∧ x&#39; = x</text>\n",
              "</g>\n",
              "<!-- L1&#45;&gt;L1 -->\n",
              "<g id=\"edge3\" class=\"edge\">\n",
              "<title>L1&#45;&gt;L1</title>\n",
              "<path fill=\"none\" stroke=\"black\" d=\"M53.13,-200.03C64.11,-200.79 73.6,-198.12 73.6,-192 73.6,-188.18 69.89,-185.7 64.43,-184.56\"/>\n",
              "<polygon fill=\"black\" stroke=\"black\" points=\"64.81,-181.08 54.64,-184.05 64.44,-188.07 64.81,-181.08\"/>\n",
              "<text text-anchor=\"middle\" x=\"157.1\" y=\"-188.3\" font-family=\"Times,serif\" font-size=\"14.00\">y &lt; 2019 ∧ y&#39; = y + 1 ∧ x&#39; = x</text>\n",
              "</g>\n",
              "<!-- L2 -->\n",
              "<g id=\"node5\" class=\"node\">\n",
              "<title>L2</title>\n",
              "<ellipse fill=\"none\" stroke=\"black\" cx=\"28.6\" cy=\"-105\" rx=\"27\" ry=\"18\"/>\n",
              "<text text-anchor=\"middle\" x=\"28.6\" y=\"-101.3\" font-family=\"Times,serif\" font-size=\"14.00\">L2</text>\n",
              "</g>\n",
              "<!-- L1&#45;&gt;L2 -->\n",
              "<g id=\"edge4\" class=\"edge\">\n",
              "<title>L1&#45;&gt;L2</title>\n",
              "<path fill=\"none\" stroke=\"black\" d=\"M28.6,-173.8C28.6,-162.58 28.6,-147.67 28.6,-134.69\"/>\n",
              "<polygon fill=\"black\" stroke=\"black\" points=\"32.1,-134.98 28.6,-124.98 25.1,-134.98 32.1,-134.98\"/>\n",
              "<text text-anchor=\"middle\" x=\"77.1\" y=\"-144.8\" font-family=\"Times,serif\" font-size=\"14.00\">y ≥ 2019 ∧ x&#39; = x</text>\n",
              "</g>\n",
              "<!-- exit -->\n",
              "<g id=\"node4\" class=\"node\">\n",
              "<title>exit</title>\n",
              "<ellipse fill=\"none\" stroke=\"black\" cx=\"28.6\" cy=\"-18\" rx=\"27\" ry=\"18\"/>\n",
              "<text text-anchor=\"middle\" x=\"28.6\" y=\"-14.3\" font-family=\"Times,serif\" font-size=\"14.00\">exit</text>\n",
              "</g>\n",
              "<!-- L2&#45;&gt;exit -->\n",
              "<g id=\"edge5\" class=\"edge\">\n",
              "<title>L2&#45;&gt;exit</title>\n",
              "<path fill=\"none\" stroke=\"black\" d=\"M28.6,-86.8C28.6,-75.58 28.6,-60.67 28.6,-47.69\"/>\n",
              "<polygon fill=\"black\" stroke=\"black\" points=\"32.1,-47.98 28.6,-37.98 25.1,-47.98 32.1,-47.98\"/>\n",
              "<text text-anchor=\"middle\" x=\"47.1\" y=\"-57.8\" font-family=\"Times,serif\" font-size=\"14.00\">x &gt; 10</text>\n",
              "</g>\n",
              "</g>\n",
              "</svg>\n"
            ],
            "text/plain": [
              "<graphviz.graphs.Digraph at 0x1129354f0>"
            ]
          },
          "execution_count": 67,
          "metadata": {},
          "output_type": "execute_result"
        }
      ],
      "source": [
        "dcfa0 = mk_dcfa0()\n",
        "dcfa0.to_dot()"
      ]
    },
    {
      "cell_type": "code",
      "execution_count": 68,
      "metadata": {
        "trusted": true
      },
      "outputs": [
        {
          "data": {
            "image/svg+xml": [
              "<?xml version=\"1.0\" encoding=\"UTF-8\" standalone=\"no\"?>\n",
              "<!DOCTYPE svg PUBLIC \"-//W3C//DTD SVG 1.1//EN\"\n",
              " \"http://www.w3.org/Graphics/SVG/1.1/DTD/svg11.dtd\">\n",
              "<!-- Generated by graphviz version 7.1.0 (20230121.1956)\n",
              " -->\n",
              "<!-- Pages: 1 -->\n",
              "<svg width=\"249pt\" height=\"566pt\"\n",
              " viewBox=\"0.00 0.00 248.60 566.00\" xmlns=\"http://www.w3.org/2000/svg\" xmlns:xlink=\"http://www.w3.org/1999/xlink\">\n",
              "<g id=\"graph0\" class=\"graph\" transform=\"scale(1 1) rotate(0) translate(4 562)\">\n",
              "<polygon fill=\"white\" stroke=\"none\" points=\"-4,4 -4,-562 244.6,-562 244.6,4 -4,4\"/>\n",
              "<!-- entry -->\n",
              "<g id=\"node1\" class=\"node\">\n",
              "<title>entry</title>\n",
              "<ellipse fill=\"none\" stroke=\"black\" cx=\"28.6\" cy=\"-540\" rx=\"28.7\" ry=\"18\"/>\n",
              "<text text-anchor=\"middle\" x=\"28.6\" y=\"-536.3\" font-family=\"Times,serif\" font-size=\"14.00\">entry</text>\n",
              "</g>\n",
              "<!-- L0 -->\n",
              "<g id=\"node2\" class=\"node\">\n",
              "<title>L0</title>\n",
              "<ellipse fill=\"none\" stroke=\"black\" cx=\"28.6\" cy=\"-453\" rx=\"27\" ry=\"18\"/>\n",
              "<text text-anchor=\"middle\" x=\"28.6\" y=\"-449.3\" font-family=\"Times,serif\" font-size=\"14.00\">L0</text>\n",
              "</g>\n",
              "<!-- entry&#45;&gt;L0 -->\n",
              "<g id=\"edge1\" class=\"edge\">\n",
              "<title>entry&#45;&gt;L0</title>\n",
              "<path fill=\"none\" stroke=\"black\" d=\"M28.6,-521.8C28.6,-510.58 28.6,-495.67 28.6,-482.69\"/>\n",
              "<polygon fill=\"black\" stroke=\"black\" points=\"32.1,-482.98 28.6,-472.98 25.1,-482.98 32.1,-482.98\"/>\n",
              "<text text-anchor=\"middle\" x=\"48.1\" y=\"-492.8\" font-family=\"Times,serif\" font-size=\"14.00\">x&#39; = 10</text>\n",
              "</g>\n",
              "<!-- P -->\n",
              "<g id=\"node5\" class=\"node\">\n",
              "<title>P</title>\n",
              "<ellipse fill=\"none\" stroke=\"black\" cx=\"28.6\" cy=\"-366\" rx=\"27\" ry=\"18\"/>\n",
              "<text text-anchor=\"middle\" x=\"28.6\" y=\"-362.3\" font-family=\"Times,serif\" font-size=\"14.00\">P</text>\n",
              "</g>\n",
              "<!-- L0&#45;&gt;P -->\n",
              "<g id=\"edge2\" class=\"edge\">\n",
              "<title>L0&#45;&gt;P</title>\n",
              "<path fill=\"none\" stroke=\"black\" d=\"M28.6,-434.8C28.6,-423.58 28.6,-408.67 28.6,-395.69\"/>\n",
              "<polygon fill=\"black\" stroke=\"black\" points=\"32.1,-395.98 28.6,-385.98 25.1,-395.98 32.1,-395.98\"/>\n",
              "<text text-anchor=\"middle\" x=\"59.1\" y=\"-405.8\" font-family=\"Times,serif\" font-size=\"14.00\">pack(p:=x)</text>\n",
              "</g>\n",
              "<!-- L1 -->\n",
              "<g id=\"node3\" class=\"node\">\n",
              "<title>L1</title>\n",
              "<ellipse fill=\"none\" stroke=\"black\" cx=\"28.6\" cy=\"-279\" rx=\"27\" ry=\"18\"/>\n",
              "<text text-anchor=\"middle\" x=\"28.6\" y=\"-275.3\" font-family=\"Times,serif\" font-size=\"14.00\">L1</text>\n",
              "</g>\n",
              "<!-- L1&#45;&gt;L1 -->\n",
              "<g id=\"edge4\" class=\"edge\">\n",
              "<title>L1&#45;&gt;L1</title>\n",
              "<path fill=\"none\" stroke=\"black\" d=\"M53.13,-287.03C64.11,-287.79 73.6,-285.12 73.6,-279 73.6,-275.18 69.89,-272.7 64.43,-271.56\"/>\n",
              "<polygon fill=\"black\" stroke=\"black\" points=\"64.81,-268.08 54.64,-271.05 64.44,-275.07 64.81,-268.08\"/>\n",
              "<text text-anchor=\"middle\" x=\"157.1\" y=\"-275.3\" font-family=\"Times,serif\" font-size=\"14.00\">y &lt; 2019 ∧ y&#39; = y + 1 ∧ x&#39; = x</text>\n",
              "</g>\n",
              "<!-- L2 -->\n",
              "<g id=\"node6\" class=\"node\">\n",
              "<title>L2</title>\n",
              "<ellipse fill=\"none\" stroke=\"black\" cx=\"28.6\" cy=\"-192\" rx=\"27\" ry=\"18\"/>\n",
              "<text text-anchor=\"middle\" x=\"28.6\" y=\"-188.3\" font-family=\"Times,serif\" font-size=\"14.00\">L2</text>\n",
              "</g>\n",
              "<!-- L1&#45;&gt;L2 -->\n",
              "<g id=\"edge5\" class=\"edge\">\n",
              "<title>L1&#45;&gt;L2</title>\n",
              "<path fill=\"none\" stroke=\"black\" d=\"M28.6,-260.8C28.6,-249.58 28.6,-234.67 28.6,-221.69\"/>\n",
              "<polygon fill=\"black\" stroke=\"black\" points=\"32.1,-221.98 28.6,-211.98 25.1,-221.98 32.1,-221.98\"/>\n",
              "<text text-anchor=\"middle\" x=\"77.1\" y=\"-231.8\" font-family=\"Times,serif\" font-size=\"14.00\">y ≥ 2019 ∧ x&#39; = x</text>\n",
              "</g>\n",
              "<!-- exit -->\n",
              "<g id=\"node4\" class=\"node\">\n",
              "<title>exit</title>\n",
              "<ellipse fill=\"none\" stroke=\"black\" cx=\"28.6\" cy=\"-18\" rx=\"27\" ry=\"18\"/>\n",
              "<text text-anchor=\"middle\" x=\"28.6\" y=\"-14.3\" font-family=\"Times,serif\" font-size=\"14.00\">exit</text>\n",
              "</g>\n",
              "<!-- P&#45;&gt;L1 -->\n",
              "<g id=\"edge3\" class=\"edge\">\n",
              "<title>P&#45;&gt;L1</title>\n",
              "<path fill=\"none\" stroke=\"black\" d=\"M28.6,-347.8C28.6,-336.58 28.6,-321.67 28.6,-308.69\"/>\n",
              "<polygon fill=\"black\" stroke=\"black\" points=\"32.1,-308.98 28.6,-298.98 25.1,-308.98 32.1,-308.98\"/>\n",
              "<text text-anchor=\"middle\" x=\"68.1\" y=\"-318.8\" font-family=\"Times,serif\" font-size=\"14.00\">y&#39; = 0 ∧ x&#39; = x</text>\n",
              "</g>\n",
              "<!-- UP -->\n",
              "<g id=\"node7\" class=\"node\">\n",
              "<title>UP</title>\n",
              "<ellipse fill=\"none\" stroke=\"black\" cx=\"28.6\" cy=\"-105\" rx=\"27\" ry=\"18\"/>\n",
              "<text text-anchor=\"middle\" x=\"28.6\" y=\"-101.3\" font-family=\"Times,serif\" font-size=\"14.00\">UP</text>\n",
              "</g>\n",
              "<!-- L2&#45;&gt;UP -->\n",
              "<g id=\"edge6\" class=\"edge\">\n",
              "<title>L2&#45;&gt;UP</title>\n",
              "<path fill=\"none\" stroke=\"black\" d=\"M28.6,-173.8C28.6,-162.58 28.6,-147.67 28.6,-134.69\"/>\n",
              "<polygon fill=\"black\" stroke=\"black\" points=\"32.1,-134.98 28.6,-124.98 25.1,-134.98 32.1,-134.98\"/>\n",
              "<text text-anchor=\"middle\" x=\"65.6\" y=\"-144.8\" font-family=\"Times,serif\" font-size=\"14.00\">unpack(x:=p)</text>\n",
              "</g>\n",
              "<!-- UP&#45;&gt;exit -->\n",
              "<g id=\"edge7\" class=\"edge\">\n",
              "<title>UP&#45;&gt;exit</title>\n",
              "<path fill=\"none\" stroke=\"black\" d=\"M28.6,-86.8C28.6,-75.58 28.6,-60.67 28.6,-47.69\"/>\n",
              "<polygon fill=\"black\" stroke=\"black\" points=\"32.1,-47.98 28.6,-37.98 25.1,-47.98 32.1,-47.98\"/>\n",
              "<text text-anchor=\"middle\" x=\"47.1\" y=\"-57.8\" font-family=\"Times,serif\" font-size=\"14.00\">x &gt; 10</text>\n",
              "</g>\n",
              "</g>\n",
              "</svg>\n"
            ],
            "text/plain": [
              "<graphviz.graphs.Digraph at 0x1129b3a90>"
            ]
          },
          "execution_count": 68,
          "metadata": {},
          "output_type": "execute_result"
        }
      ],
      "source": [
        "def mk_dcfa1():\n",
        "    A = DCFA('prog4')\n",
        "    ZZ = z3.IntSort()\n",
        "    x, x_out = A.add_var(ZZ, 'x')\n",
        "    y, y_out = A.add_var(ZZ, 'y')\n",
        "    p = A.add_pack_var(ZZ, 'p')\n",
        "\n",
        "    A.add_edge('entry', 'L0', x_out == 10)\n",
        "    A.add_edge('L0', 'P', PackTr((p, x)))\n",
        "    A.add_edge('P', 'L1', z3.And( y_out == 0, x_out == x ))\n",
        "    A.add_edge('L1', 'L1', z3.And( y < 2019, y_out == y + 1, x_out == x ) )\n",
        "    A.add_edge('L1', 'L2', z3.And(y >= 2019, x_out == x))\n",
        "    A.add_edge('L2', 'UP', UnpackTr((x, p)))\n",
        "    A.add_edge('UP', 'exit', x > 10)\n",
        "    A.set_entry_node('entry')\n",
        "    A.set_exit_node('exit')\n",
        "    return A\n",
        "\n",
        "dcfa1 = mk_dcfa1()\n",
        "dcfa1.to_dot()"
      ]
    },
    {
      "cell_type": "code",
      "execution_count": 69,
      "metadata": {
        "code_folding": [
          0
        ],
        "trusted": true
      },
      "outputs": [],
      "source": [
        "def dcfa_vc_gen(A):\n",
        "    '''Verification Condition (VC) for a Data-Flow and Control Flow Automaton'''\n",
        "    all_vars = A.all()\n",
        "    sig = A.sig() + [z3.BoolSort()]\n",
        "\n",
        "    Invs = dict()\n",
        "    for n in A.nodes:\n",
        "        inv = z3.Function(str(n), *sig)\n",
        "        Invs[n] = inv\n",
        "\n",
        "    Entry = Invs[A.entry]\n",
        "    Exit = Invs[A.exit]\n",
        "\n",
        "    # predicate for packed variables\n",
        "    Pack = z3.Function('Pack', *(A.packed_sig() + [z3.BoolSort()]))\n",
        "    # applied predicate\n",
        "    Packed = Pack(A.pack_vars())\n",
        "\n",
        "\n",
        "    vc = list()\n",
        "    vc.append(z3.ForAll(all_vars, Entry(*A.pre_vars())))\n",
        "\n",
        "    for (k, tr) in A.edges.items():\n",
        "        src, dst = k\n",
        "        srcP, dstP = Invs[src], Invs[dst]\n",
        "\n",
        "        sPred = z3.BoolVal(True)\n",
        "        if isinstance(tr, PackTr):\n",
        "            # add clause defining Packed\n",
        "            body = [srcP(*A.pre_vars())] + [p == x for (p, x) in tr.sub]\n",
        "            vc.append(z3.ForAll(all_vars, z3.Implies(z3.And(*body), Packed)))\n",
        "\n",
        "            # no-op for control-flow transition\n",
        "            tr = z3.And(*[v == v_out for (v, v_out) in A.pre_post_vars()]) \n",
        "        elif isinstance(tr, UnpackTr):\n",
        "            # body depends on the packed predicate\n",
        "            body = [Packed]\n",
        "            unpacked = set()\n",
        "            # generate equalities for unpacked variables\n",
        "            for x, p in tr.sub:\n",
        "                unpacked.add(id(x))\n",
        "                x_out = A.to_post(x)\n",
        "                body.append(x_out == p)\n",
        "            # all other variables are preserved over the transition\n",
        "            for v, v_out in A.pre_post_vars():\n",
        "                if id(v) not in unpacked:\n",
        "                    body.append(v_out == v)\n",
        "            tr = z3.And(*body)\n",
        "\n",
        "        head = dstP(*A.post_vars())\n",
        "        loc = srcP(*A.pre_vars())\n",
        "        vc.append(z3.ForAll(all_vars, z3.Implies(z3.And(loc, tr), head)))\n",
        "\n",
        "\n",
        "    vc.append(z3.ForAll(all_vars,\n",
        "                        z3.Implies(Exit(*A.pre_vars()), z3.BoolVal(False))))\n",
        "    return vc, {n : Invs[n](A.pre_vars()) for n in A.nodes}, Packed"
      ]
    },
    {
      "cell_type": "code",
      "execution_count": 70,
      "metadata": {
        "trusted": true
      },
      "outputs": [
        {
          "data": {
            "text/html": [
              "<b>sat</b>"
            ],
            "text/plain": [
              "<b>sat</b>"
            ]
          },
          "execution_count": 70,
          "metadata": {},
          "output_type": "execute_result"
        }
      ],
      "source": [
        "vc, invs, pack = dcfa_vc_gen(dcfa1)\n",
        "res, answer = solve_horn(vc, max_unfold=40)\n",
        "res"
      ]
    },
    {
      "cell_type": "code",
      "execution_count": 71,
      "metadata": {
        "trusted": true
      },
      "outputs": [
        {
          "data": {
            "text/html": [
              "&forall;x, y, x', y', p : entry(x, y) <br/><br/>&forall;x, y, x', y', p : entry(x, y) &and; x' = 10 &rArr; L0(x', y') <br/><br/>&forall;x, y, x', y', p : L0(x, y) &and; p = x &rArr; Pack(p) <br/><br/>&forall;x, y, x', y', p : L0(x, y) &and; x = x' &and; y = y' &rArr; P(x', y') <br/><br/>&forall;x, y, x', y', p : P(x, y) &and; y' = 0 &and; x' = x &rArr; L1(x', y') <br/><br/>&forall;x, y, x', y', p :<br/> L1(x, y) &and; y &lt; 2019 &and; y' = y + 1 &and; x' = x &rArr; L1(x', y') <br/><br/>&forall;x, y, x', y', p : L1(x, y) &and; y &ge; 2019 &and; x' = x &rArr; L2(x', y') <br/><br/>&forall;x, y, x', y', p :<br/> L2(x, y) &and; Pack(p) &and; x' = p &and; y' = y &rArr; UP(x', y') <br/><br/>&forall;x, y, x', y', p : UP(x, y) &and; x &gt; 10 &rArr; exit(x', y') <br/><br/>&forall;x, y, x', y', p : exit(x, y) &rArr; False <br/><br/>"
            ],
            "text/plain": [
              "\"&forall;x, y, x', y', p : entry(x, y) <br/><br/>&forall;x, y, x', y', p : entry(x, y) &and; x' = 10 &rArr; L0(x', y') <br/><br/>&forall;x, y, x', y', p : L0(x, y) &and; p = x &rArr; Pack(p) <br/><br/>&forall;x, y, x', y', p : L0(x, y) &and; x = x' &and; y = y' &rArr; P(x', y') <br/><br/>&forall;x, y, x', y', p : P(x, y) &and; y' = 0 &and; x' = x &rArr; L1(x', y') <br/><br/>&forall;x, y, x', y', p :<br/> L1(x, y) &and; y &lt; 2019 &and; y' = y + 1 &and; x' = x &rArr; L1(x', y') <br/><br/>&forall;x, y, x', y', p : L1(x, y) &and; y &ge; 2019 &and; x' = x &rArr; L2(x', y') <br/><br/>&forall;x, y, x', y', p :<br/> L2(x, y) &and; Pack(p) &and; x' = p &and; y' = y &rArr; UP(x', y') <br/><br/>&forall;x, y, x', y', p : UP(x, y) &and; x &gt; 10 &rArr; exit(x', y') <br/><br/>&forall;x, y, x', y', p : exit(x, y) &rArr; False <br/><br/>\""
            ]
          },
          "execution_count": 71,
          "metadata": {},
          "output_type": "execute_result"
        }
      ],
      "source": [
        "chc_to_str(vc)"
      ]
    },
    {
      "cell_type": "code",
      "execution_count": 72,
      "metadata": {
        "trusted": true
      },
      "outputs": [
        {
          "data": {
            "text/html": [
              "&not;(p &ge; 11)"
            ],
            "text/plain": [
              "&not;(p &ge; 11)"
            ]
          },
          "execution_count": 72,
          "metadata": {},
          "output_type": "execute_result"
        }
      ],
      "source": [
        "answer.eval(pack)"
      ]
    },
    {
      "cell_type": "code",
      "execution_count": 73,
      "metadata": {
        "trusted": true
      },
      "outputs": [
        {
          "data": {
            "text/html": [
              "[L0 = [else &rarr; &not;(&#957;<sub>0</sub> &ge; 11)],\n",
              " UP = [else &rarr; &not;(&#957;<sub>0</sub> &ge; 11)],\n",
              " L2 = [else &rarr; True],\n",
              " exit = [else &rarr; False],\n",
              " P = [else &rarr; True],\n",
              " Pack = [else &rarr; &not;(&#957;<sub>0</sub> &ge; 11)],\n",
              " L1 = [else &rarr; True],\n",
              " entry = [else &rarr; True]]"
            ],
            "text/plain": [
              "[L0 = [else &rarr; &not;(&#957;<sub>0</sub> &ge; 11)],\n",
              " UP = [else &rarr; &not;(&#957;<sub>0</sub> &ge; 11)],\n",
              " L2 = [else &rarr; True],\n",
              " exit = [else &rarr; False],\n",
              " P = [else &rarr; True],\n",
              " Pack = [else &rarr; &not;(&#957;<sub>0</sub> &ge; 11)],\n",
              " L1 = [else &rarr; True],\n",
              " entry = [else &rarr; True]]"
            ]
          },
          "execution_count": 73,
          "metadata": {},
          "output_type": "execute_result"
        }
      ],
      "source": [
        "answer"
      ]
    },
    {
      "cell_type": "code",
      "execution_count": 74,
      "metadata": {
        "trusted": true
      },
      "outputs": [
        {
          "data": {
            "image/svg+xml": [
              "<?xml version=\"1.0\" encoding=\"UTF-8\" standalone=\"no\"?>\n",
              "<!DOCTYPE svg PUBLIC \"-//W3C//DTD SVG 1.1//EN\"\n",
              " \"http://www.w3.org/Graphics/SVG/1.1/DTD/svg11.dtd\">\n",
              "<!-- Generated by graphviz version 7.1.0 (20230121.1956)\n",
              " -->\n",
              "<!-- Pages: 1 -->\n",
              "<svg width=\"225pt\" height=\"566pt\"\n",
              " viewBox=\"0.00 0.00 224.60 566.00\" xmlns=\"http://www.w3.org/2000/svg\" xmlns:xlink=\"http://www.w3.org/1999/xlink\">\n",
              "<g id=\"graph0\" class=\"graph\" transform=\"scale(1 1) rotate(0) translate(4 562)\">\n",
              "<polygon fill=\"white\" stroke=\"none\" points=\"-4,4 -4,-562 220.6,-562 220.6,4 -4,4\"/>\n",
              "<!-- entry -->\n",
              "<g id=\"node1\" class=\"node\">\n",
              "<title>entry</title>\n",
              "<ellipse fill=\"none\" stroke=\"black\" cx=\"28.6\" cy=\"-540\" rx=\"28.7\" ry=\"18\"/>\n",
              "<text text-anchor=\"middle\" x=\"28.6\" y=\"-536.3\" font-family=\"Times,serif\" font-size=\"14.00\">entry</text>\n",
              "</g>\n",
              "<!-- L0 -->\n",
              "<g id=\"node2\" class=\"node\">\n",
              "<title>L0</title>\n",
              "<ellipse fill=\"none\" stroke=\"black\" cx=\"28.6\" cy=\"-453\" rx=\"27\" ry=\"18\"/>\n",
              "<text text-anchor=\"middle\" x=\"28.6\" y=\"-449.3\" font-family=\"Times,serif\" font-size=\"14.00\">L0</text>\n",
              "</g>\n",
              "<!-- entry&#45;&gt;L0 -->\n",
              "<g id=\"edge1\" class=\"edge\">\n",
              "<title>entry&#45;&gt;L0</title>\n",
              "<path fill=\"none\" stroke=\"black\" d=\"M28.6,-521.8C28.6,-510.58 28.6,-495.67 28.6,-482.69\"/>\n",
              "<polygon fill=\"black\" stroke=\"black\" points=\"32.1,-482.98 28.6,-472.98 25.1,-482.98 32.1,-482.98\"/>\n",
              "<text text-anchor=\"middle\" x=\"48.1\" y=\"-492.8\" font-family=\"Times,serif\" font-size=\"14.00\">x&#39; = 11</text>\n",
              "</g>\n",
              "<!-- P -->\n",
              "<g id=\"node5\" class=\"node\">\n",
              "<title>P</title>\n",
              "<ellipse fill=\"none\" stroke=\"black\" cx=\"28.6\" cy=\"-366\" rx=\"27\" ry=\"18\"/>\n",
              "<text text-anchor=\"middle\" x=\"28.6\" y=\"-362.3\" font-family=\"Times,serif\" font-size=\"14.00\">P</text>\n",
              "</g>\n",
              "<!-- L0&#45;&gt;P -->\n",
              "<g id=\"edge2\" class=\"edge\">\n",
              "<title>L0&#45;&gt;P</title>\n",
              "<path fill=\"none\" stroke=\"black\" d=\"M28.6,-434.8C28.6,-423.58 28.6,-408.67 28.6,-395.69\"/>\n",
              "<polygon fill=\"black\" stroke=\"black\" points=\"32.1,-395.98 28.6,-385.98 25.1,-395.98 32.1,-395.98\"/>\n",
              "<text text-anchor=\"middle\" x=\"59.1\" y=\"-405.8\" font-family=\"Times,serif\" font-size=\"14.00\">pack(p:=x)</text>\n",
              "</g>\n",
              "<!-- L1 -->\n",
              "<g id=\"node3\" class=\"node\">\n",
              "<title>L1</title>\n",
              "<ellipse fill=\"none\" stroke=\"black\" cx=\"28.6\" cy=\"-279\" rx=\"27\" ry=\"18\"/>\n",
              "<text text-anchor=\"middle\" x=\"28.6\" y=\"-275.3\" font-family=\"Times,serif\" font-size=\"14.00\">L1</text>\n",
              "</g>\n",
              "<!-- L1&#45;&gt;L1 -->\n",
              "<g id=\"edge4\" class=\"edge\">\n",
              "<title>L1&#45;&gt;L1</title>\n",
              "<path fill=\"none\" stroke=\"black\" d=\"M53.13,-287.03C64.11,-287.79 73.6,-285.12 73.6,-279 73.6,-275.18 69.89,-272.7 64.43,-271.56\"/>\n",
              "<polygon fill=\"black\" stroke=\"black\" points=\"64.81,-268.08 54.64,-271.05 64.44,-275.07 64.81,-268.08\"/>\n",
              "<text text-anchor=\"middle\" x=\"145.1\" y=\"-275.3\" font-family=\"Times,serif\" font-size=\"14.00\">True ∧ y&#39; = y + 1 ∧ x&#39; = x</text>\n",
              "</g>\n",
              "<!-- L2 -->\n",
              "<g id=\"node6\" class=\"node\">\n",
              "<title>L2</title>\n",
              "<ellipse fill=\"none\" stroke=\"black\" cx=\"28.6\" cy=\"-192\" rx=\"27\" ry=\"18\"/>\n",
              "<text text-anchor=\"middle\" x=\"28.6\" y=\"-188.3\" font-family=\"Times,serif\" font-size=\"14.00\">L2</text>\n",
              "</g>\n",
              "<!-- L1&#45;&gt;L2 -->\n",
              "<g id=\"edge5\" class=\"edge\">\n",
              "<title>L1&#45;&gt;L2</title>\n",
              "<path fill=\"none\" stroke=\"black\" d=\"M28.6,-260.8C28.6,-249.58 28.6,-234.67 28.6,-221.69\"/>\n",
              "<polygon fill=\"black\" stroke=\"black\" points=\"32.1,-221.98 28.6,-211.98 25.1,-221.98 32.1,-221.98\"/>\n",
              "<text text-anchor=\"middle\" x=\"66.6\" y=\"-231.8\" font-family=\"Times,serif\" font-size=\"14.00\">False ∧ x&#39; = x</text>\n",
              "</g>\n",
              "<!-- exit -->\n",
              "<g id=\"node4\" class=\"node\">\n",
              "<title>exit</title>\n",
              "<ellipse fill=\"none\" stroke=\"black\" cx=\"28.6\" cy=\"-18\" rx=\"27\" ry=\"18\"/>\n",
              "<text text-anchor=\"middle\" x=\"28.6\" y=\"-14.3\" font-family=\"Times,serif\" font-size=\"14.00\">exit</text>\n",
              "</g>\n",
              "<!-- P&#45;&gt;L1 -->\n",
              "<g id=\"edge3\" class=\"edge\">\n",
              "<title>P&#45;&gt;L1</title>\n",
              "<path fill=\"none\" stroke=\"black\" d=\"M28.6,-347.8C28.6,-336.58 28.6,-321.67 28.6,-308.69\"/>\n",
              "<polygon fill=\"black\" stroke=\"black\" points=\"32.1,-308.98 28.6,-298.98 25.1,-308.98 32.1,-308.98\"/>\n",
              "<text text-anchor=\"middle\" x=\"68.1\" y=\"-318.8\" font-family=\"Times,serif\" font-size=\"14.00\">y&#39; = 0 ∧ x&#39; = x</text>\n",
              "</g>\n",
              "<!-- UP -->\n",
              "<g id=\"node7\" class=\"node\">\n",
              "<title>UP</title>\n",
              "<ellipse fill=\"none\" stroke=\"black\" cx=\"28.6\" cy=\"-105\" rx=\"27\" ry=\"18\"/>\n",
              "<text text-anchor=\"middle\" x=\"28.6\" y=\"-101.3\" font-family=\"Times,serif\" font-size=\"14.00\">UP</text>\n",
              "</g>\n",
              "<!-- L2&#45;&gt;UP -->\n",
              "<g id=\"edge6\" class=\"edge\">\n",
              "<title>L2&#45;&gt;UP</title>\n",
              "<path fill=\"none\" stroke=\"black\" d=\"M28.6,-173.8C28.6,-162.58 28.6,-147.67 28.6,-134.69\"/>\n",
              "<polygon fill=\"black\" stroke=\"black\" points=\"32.1,-134.98 28.6,-124.98 25.1,-134.98 32.1,-134.98\"/>\n",
              "<text text-anchor=\"middle\" x=\"65.6\" y=\"-144.8\" font-family=\"Times,serif\" font-size=\"14.00\">unpack(x:=p)</text>\n",
              "</g>\n",
              "<!-- UP&#45;&gt;exit -->\n",
              "<g id=\"edge7\" class=\"edge\">\n",
              "<title>UP&#45;&gt;exit</title>\n",
              "<path fill=\"none\" stroke=\"black\" d=\"M28.6,-86.8C28.6,-75.58 28.6,-60.67 28.6,-47.69\"/>\n",
              "<polygon fill=\"black\" stroke=\"black\" points=\"32.1,-47.98 28.6,-37.98 25.1,-47.98 32.1,-47.98\"/>\n",
              "<text text-anchor=\"middle\" x=\"47.1\" y=\"-57.8\" font-family=\"Times,serif\" font-size=\"14.00\">x &gt; 10</text>\n",
              "</g>\n",
              "</g>\n",
              "</svg>\n"
            ],
            "text/plain": [
              "<graphviz.graphs.Digraph at 0x1129b02e0>"
            ]
          },
          "execution_count": 74,
          "metadata": {},
          "output_type": "execute_result"
        }
      ],
      "source": [
        "def mk_dcfa2():\n",
        "    A = DCFA('dcfa2')\n",
        "    ZZ = z3.IntSort()\n",
        "    x, x_out = A.add_var(ZZ, 'x')\n",
        "    y, y_out = A.add_var(ZZ, 'y')\n",
        "    p = A.add_pack_var(ZZ, 'p')\n",
        "\n",
        "    A.add_edge('entry', 'L0', x_out == 11)\n",
        "    A.add_edge('L0', 'P', PackTr((p, x)))\n",
        "    A.add_edge('P', 'L1', z3.And( y_out == 0, x_out == x ))\n",
        "    A.add_edge('L1', 'L1', z3.And( z3.BoolVal(True), y_out == y + 1, x_out == x ) )\n",
        "    A.add_edge('L1', 'L2', z3.And(z3.BoolVal(False), x_out == x))\n",
        "    A.add_edge('L2', 'UP', UnpackTr((x, p)))\n",
        "    A.add_edge('UP', 'exit', x > 10)\n",
        "    A.set_entry_node('entry')\n",
        "    A.set_exit_node('exit')\n",
        "    return A\n",
        "\n",
        "dcfa2 = mk_dcfa2()\n",
        "dcfa2.to_dot()"
      ]
    },
    {
      "cell_type": "code",
      "execution_count": 75,
      "metadata": {
        "trusted": true
      },
      "outputs": [
        {
          "data": {
            "text/html": [
              "<b>sat</b>"
            ],
            "text/plain": [
              "<b>sat</b>"
            ]
          },
          "execution_count": 75,
          "metadata": {},
          "output_type": "execute_result"
        }
      ],
      "source": [
        "vc, invs, pack = dcfa_vc_gen(dcfa2)\n",
        "res, answer = solve_horn(vc, max_unfold=40)\n",
        "res"
      ]
    },
    {
      "cell_type": "code",
      "execution_count": 76,
      "metadata": {
        "trusted": true
      },
      "outputs": [
        {
          "data": {
            "text/html": [
              "[L0 = [else &rarr; True],\n",
              " UP = [else &rarr; False],\n",
              " exit = [else &rarr; False],\n",
              " L2 = [else &rarr; False],\n",
              " P = [else &rarr; True],\n",
              " Pack = [else &rarr; True],\n",
              " L1 = [else &rarr; True],\n",
              " entry = [else &rarr; True]]"
            ],
            "text/plain": [
              "[L0 = [else &rarr; True],\n",
              " UP = [else &rarr; False],\n",
              " exit = [else &rarr; False],\n",
              " L2 = [else &rarr; False],\n",
              " P = [else &rarr; True],\n",
              " Pack = [else &rarr; True],\n",
              " L1 = [else &rarr; True],\n",
              " entry = [else &rarr; True]]"
            ]
          },
          "execution_count": 76,
          "metadata": {},
          "output_type": "execute_result"
        }
      ],
      "source": [
        "answer"
      ]
    },
    {
      "cell_type": "markdown",
      "metadata": {},
      "source": [
        "## Conclusion\n",
        "\n",
        "This is the end of the interactive portion of the tutorial"
      ]
    },
    {
      "cell_type": "code",
      "execution_count": 9,
      "metadata": {},
      "outputs": [
        {
          "data": {
            "text/html": [
              "\n",
              "        <iframe\n",
              "            width=\"720\"\n",
              "            height=\"480\"\n",
              "            src=\"https://www.geogebra.org/classic/qhtrrkrp\"\n",
              "            frameborder=\"0\"\n",
              "            allowfullscreen\n",
              "            \n",
              "        ></iframe>\n",
              "        "
            ],
            "text/plain": [
              "<IPython.lib.display.IFrame at 0x10d5bf730>"
            ]
          },
          "execution_count": 9,
          "metadata": {},
          "output_type": "execute_result"
        }
      ],
      "source": [
        "from IPython.display import IFrame\n",
        "IFrame(\"https://www.geogebra.org/classic/qhtrrkrp\",720,480)"
      ]
    }
  ],
  "metadata": {
    "kernelspec": {
      "display_name": "venv",
      "language": "python",
      "name": "python3"
    },
    "language_info": {
      "codemirror_mode": {
        "name": "ipython",
        "version": 3
      },
      "file_extension": ".py",
      "mimetype": "text/x-python",
      "name": "python",
      "nbconvert_exporter": "python",
      "pygments_lexer": "ipython3",
      "version": "3.9.16"
    }
  },
  "nbformat": 4,
  "nbformat_minor": 2
}

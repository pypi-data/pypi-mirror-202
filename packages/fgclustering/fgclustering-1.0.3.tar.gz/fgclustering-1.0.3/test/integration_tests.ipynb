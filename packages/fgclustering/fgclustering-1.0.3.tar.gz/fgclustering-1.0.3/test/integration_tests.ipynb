{
 "cells": [
  {
   "cell_type": "markdown",
   "metadata": {},
   "source": [
    "# Integration Tests "
   ]
  },
  {
   "cell_type": "code",
   "execution_count": null,
   "metadata": {
    "vscode": {
     "languageId": "python"
    }
   },
   "outputs": [],
   "source": [
    "## Import the Forest-Guided Clustering package\n",
    "from fgclustering import FgClustering\n",
    "\n",
    "## Imports for datasets\n",
    "from palmerpenguins import load_penguins\n",
    "from sklearn.datasets import load_breast_cancer, load_iris, load_boston, fetch_california_housing\n",
    "\n",
    "## Additional imports for use-cases\n",
    "import joblib\n",
    "import pandas as pd\n",
    "\n",
    "from random_word import RandomWords\n",
    "from sklearn.datasets import make_classification, make_regression\n",
    "from sklearn.ensemble import RandomForestClassifier, RandomForestRegressor\n",
    "from sklearn.model_selection import GridSearchCV"
   ]
  },
  {
   "cell_type": "markdown",
   "metadata": {},
   "source": [
    "## Binary Classification: Breast Cancer Dataset"
   ]
  },
  {
   "cell_type": "code",
   "execution_count": null,
   "metadata": {
    "vscode": {
     "languageId": "python"
    }
   },
   "outputs": [],
   "source": [
    "data_breast_cancer = load_breast_cancer(as_frame=True)\n",
    "data_breast_cancer = data_breast_cancer.frame\n",
    "data_breast_cancer['target'] = data_breast_cancer['target'].map({0: 'malignant', 1: 'benign'})\n",
    "\n",
    "X_breast_cancer = data_breast_cancer.loc[:, data_breast_cancer.columns != 'target']\n",
    "y_breast_cancer = data_breast_cancer.target\n",
    "\n",
    "grid = {'max_depth':[2, 5], 'max_features': ['sqrt', 'log2']}\n",
    "classifier = RandomForestClassifier(max_samples=0.8, bootstrap=True, oob_score=True, random_state=42)\n",
    "grid_classifier = GridSearchCV(classifier, grid, cv=5)\n",
    "grid_classifier.fit(X_breast_cancer, y_breast_cancer)\n",
    "rf_breast_cancer = grid_classifier.best_estimator_\n",
    "\n",
    "print('Parameters of best prediction model:')\n",
    "print(grid_classifier.best_params_)\n",
    "print('OOB accuracy of prediction model:')\n",
    "print(rf_breast_cancer.oob_score_)"
   ]
  },
  {
   "cell_type": "code",
   "execution_count": null,
   "metadata": {
    "vscode": {
     "languageId": "python"
    }
   },
   "outputs": [],
   "source": [
    "fgc = FgClustering(model=rf_breast_cancer, data=data_breast_cancer, target_column='target')\n",
    "fgc.run()"
   ]
  },
  {
   "cell_type": "code",
   "execution_count": null,
   "metadata": {
    "vscode": {
     "languageId": "python"
    }
   },
   "outputs": [],
   "source": [
    "fgc.plot_global_feature_importance()\n",
    "fgc.plot_local_feature_importance()\n",
    "fgc.plot_decision_paths(thr_pvalue=0.01)"
   ]
  },
  {
   "cell_type": "markdown",
   "metadata": {},
   "source": [
    "## Multiclass Classification: Iris Dataset"
   ]
  },
  {
   "cell_type": "code",
   "execution_count": null,
   "metadata": {
    "vscode": {
     "languageId": "python"
    }
   },
   "outputs": [],
   "source": [
    "data_iris = load_iris(as_frame=True)\n",
    "data_iris = data_iris.frame\n",
    "data_iris['target'] = data_iris['target'].map({0: 'setosa', 1: 'versicolor', 2: 'virginica'})\n",
    "\n",
    "X_iris = data_iris.loc[:, data_iris.columns != 'target']\n",
    "y_iris = data_iris.target\n",
    "\n",
    "grid = {'max_depth':[2, 5], 'max_features': ['sqrt', 'log2']}\n",
    "classifier = RandomForestClassifier(max_samples=0.8, bootstrap=True, oob_score=True, random_state=42)\n",
    "grid_classifier = GridSearchCV(classifier, grid, cv=5)\n",
    "grid_classifier.fit(X_iris, y_iris)\n",
    "rf_iris = grid_classifier.best_estimator_\n",
    "\n",
    "print('Parameters of best prediction model:')\n",
    "print(grid_classifier.best_params_)\n",
    "print('OOB accuracy of prediction model:')\n",
    "print(rf_iris.oob_score_)"
   ]
  },
  {
   "cell_type": "code",
   "execution_count": null,
   "metadata": {
    "vscode": {
     "languageId": "python"
    }
   },
   "outputs": [],
   "source": [
    "fgc = FgClustering(model=rf_iris, data=data_iris, target_column='target')\n",
    "fgc.run()"
   ]
  },
  {
   "cell_type": "code",
   "execution_count": null,
   "metadata": {
    "vscode": {
     "languageId": "python"
    }
   },
   "outputs": [],
   "source": [
    "fgc.plot_global_feature_importance()\n",
    "fgc.plot_local_feature_importance()\n",
    "fgc.plot_decision_paths(thr_pvalue=0.01)"
   ]
  },
  {
   "cell_type": "markdown",
   "metadata": {},
   "source": [
    "## Multiclass Classification: Penguins Dataset"
   ]
  },
  {
   "cell_type": "code",
   "execution_count": null,
   "metadata": {
    "vscode": {
     "languageId": "python"
    }
   },
   "outputs": [],
   "source": [
    "data_penguins = load_penguins()\n",
    "data_penguins.rename(columns={'species':'target'}, inplace=True)\n",
    "\n",
    "# Remove the instances with missing values and check how many we are left with\n",
    "print(f\"Before omiting the missing values the dataset has {data_penguins.shape[0]} instances\")\n",
    "data_penguins.dropna(inplace=True)\n",
    "print(f\"After omiting the missing values the dataset has {data_penguins.shape[0]} instances\")\n",
    "\n",
    "# preprocess categorical features such that they can be used for the RF model\n",
    "data_penguins_encoded = pd.get_dummies(data_penguins, columns=['island', 'sex'], prefix=['island', 'sex'], drop_first=True)\n",
    "\n",
    "X_penguins = data_penguins_encoded.loc[:, data_penguins_encoded.columns != 'target']\n",
    "y_penguins = data_penguins_encoded.target\n",
    "\n",
    "grid = {'max_depth':[2, 5], 'max_features': ['sqrt', 'log2']}\n",
    "classifier = RandomForestClassifier(max_samples=0.8, bootstrap=True, oob_score=True, random_state=42)\n",
    "grid_classifier = GridSearchCV(classifier, grid, cv=5)\n",
    "grid_classifier.fit(X_penguins, y_penguins)\n",
    "rf_penguins = grid_classifier.best_estimator_\n",
    "\n",
    "print('Parameters of best prediction model:')\n",
    "print(grid_classifier.best_params_)\n",
    "print('OOB accuracy of prediction model:')\n",
    "print(rf_penguins.oob_score_)"
   ]
  },
  {
   "cell_type": "code",
   "execution_count": null,
   "metadata": {
    "vscode": {
     "languageId": "python"
    }
   },
   "outputs": [],
   "source": [
    "fgc = FgClustering(model=rf_penguins, data=data_penguins_encoded, target_column='target')\n",
    "fgc.run()"
   ]
  },
  {
   "cell_type": "code",
   "execution_count": null,
   "metadata": {
    "vscode": {
     "languageId": "python"
    }
   },
   "outputs": [],
   "source": [
    "fgc.plot_global_feature_importance()\n",
    "fgc.plot_local_feature_importance()\n",
    "fgc.plot_decision_paths(thr_pvalue=0.01)"
   ]
  },
  {
   "cell_type": "code",
   "execution_count": null,
   "metadata": {
    "vscode": {
     "languageId": "python"
    }
   },
   "outputs": [],
   "source": [
    "X = data_penguins.drop('target', axis=1)\n",
    "X['island'] = X['island'].astype('category')\n",
    "X['sex'] = X['sex'].astype('category')\n",
    "\n",
    "fgc.calculate_statistics(X)"
   ]
  },
  {
   "cell_type": "code",
   "execution_count": null,
   "metadata": {
    "vscode": {
     "languageId": "python"
    }
   },
   "outputs": [],
   "source": [
    "fgc.plot_global_feature_importance()\n",
    "fgc.plot_local_feature_importance()\n",
    "fgc.plot_decision_paths(thr_pvalue=0.01)"
   ]
  },
  {
   "cell_type": "markdown",
   "metadata": {},
   "source": [
    "## Regression: Boston Housing Dataset"
   ]
  },
  {
   "cell_type": "code",
   "execution_count": null,
   "metadata": {
    "vscode": {
     "languageId": "python"
    }
   },
   "outputs": [],
   "source": [
    "data = load_boston()\n",
    "\n",
    "data_boston = pd.DataFrame(columns=data['feature_names'], index=range(data['data'].shape[0]))\n",
    "data_boston.loc[:,:] = data['data']\n",
    "data_boston['target'] = data['target']\n",
    "\n",
    "# features need to be converted to correct select_dtypes\n",
    "for feature in data_boston.columns:\n",
    "    if feature != 'CHAS':\n",
    "        data_boston[feature] = data_boston[feature].astype('float64')\n",
    "data_boston['CHAS'] = data_boston['CHAS'].astype('category')\n",
    "\n",
    "X_boston = data_boston.loc[:, data_boston.columns != 'target']\n",
    "y_boston = data_boston.target\n",
    "\n",
    "grid = {'max_depth':[2, 5], 'max_features': ['sqrt', 'log2']}\n",
    "classifier = RandomForestRegressor(n_estimators=100, bootstrap=True, oob_score=True, random_state=42)\n",
    "grid_classifier = GridSearchCV(classifier, grid, cv=5)\n",
    "grid_classifier.fit(X_boston, y_boston)\n",
    "rf_boston = grid_classifier.best_estimator_\n",
    "\n",
    "print('Parameters of best prediction model:')\n",
    "print(grid_classifier.best_params_)\n",
    "print('OOB R^2 of prediction model:')\n",
    "print(rf_boston.oob_score_)"
   ]
  },
  {
   "cell_type": "code",
   "execution_count": null,
   "metadata": {
    "vscode": {
     "languageId": "python"
    }
   },
   "outputs": [],
   "source": [
    "fgc = FgClustering(model=rf_boston, data=data_boston, target_column='target')\n",
    "fgc.run()"
   ]
  },
  {
   "cell_type": "code",
   "execution_count": null,
   "metadata": {
    "vscode": {
     "languageId": "python"
    }
   },
   "outputs": [],
   "source": [
    "fgc.plot_global_feature_importance()\n",
    "fgc.plot_local_feature_importance()\n",
    "fgc.plot_decision_paths(thr_pvalue=0.01)"
   ]
  },
  {
   "cell_type": "markdown",
   "metadata": {},
   "source": [
    "## Regression: California Housing Dataset"
   ]
  },
  {
   "cell_type": "code",
   "execution_count": null,
   "metadata": {
    "vscode": {
     "languageId": "python"
    }
   },
   "outputs": [],
   "source": [
    "data_housing = fetch_california_housing(as_frame=True)\n",
    "data_housing = data_housing.frame\n",
    "data_housing.rename(columns={'MedHouseVal':'target'}, inplace=True)\n",
    "\n",
    "# for sake of runtime we only use the first 6000 samples\n",
    "data_housing = data_housing[:3000]\n",
    "data_housing.head()\n",
    "\n",
    "X_housing = data_housing.loc[:, data_housing.columns != 'target']\n",
    "y_housing = data_housing.target\n",
    "\n",
    "grid = {'max_depth':[2, 5], 'max_features': ['sqrt', 'log2']}\n",
    "classifier = RandomForestRegressor(n_estimators=100, bootstrap=True, oob_score=True, random_state=42)\n",
    "grid_classifier = GridSearchCV(classifier, grid, cv=5)\n",
    "grid_classifier.fit(X_housing, y_housing)\n",
    "rf_housing = grid_classifier.best_estimator_\n",
    "\n",
    "print('Parameters of best prediction model:')\n",
    "print(grid_classifier.best_params_)\n",
    "print('OOB R^2 of prediction model:')\n",
    "print(rf_housing.oob_score_)"
   ]
  },
  {
   "cell_type": "code",
   "execution_count": null,
   "metadata": {
    "vscode": {
     "languageId": "python"
    }
   },
   "outputs": [],
   "source": [
    "fgc = FgClustering(model=rf_housing, data=data_housing, target_column='target')\n",
    "fgc.run(method_clustering='pam', init_clustering='k-medoids++', n_jobs=6)"
   ]
  },
  {
   "cell_type": "code",
   "execution_count": null,
   "metadata": {
    "vscode": {
     "languageId": "python"
    }
   },
   "outputs": [],
   "source": [
    "fgc.plot_global_feature_importance()\n",
    "fgc.plot_local_feature_importance()\n",
    "fgc.plot_decision_paths(thr_pvalue=0.01)"
   ]
  },
  {
   "cell_type": "code",
   "execution_count": null,
   "metadata": {
    "vscode": {
     "languageId": "python"
    }
   },
   "outputs": [],
   "source": [
    "fgc_fast = FgClustering(model=rf_housing, data=data_housing, target_column='target')\n",
    "fgc_fast.run(method_clustering='alternate', init_clustering='k-medoids++', n_jobs=6)"
   ]
  },
  {
   "cell_type": "code",
   "execution_count": null,
   "metadata": {
    "vscode": {
     "languageId": "python"
    }
   },
   "outputs": [],
   "source": [
    "fgc_fast.plot_global_feature_importance()\n",
    "fgc_fast.plot_local_feature_importance()\n",
    "fgc_fast.plot_decision_paths(thr_pvalue=0.01)"
   ]
  },
  {
   "cell_type": "markdown",
   "metadata": {},
   "source": [
    "## Artificial Datasets"
   ]
  },
  {
   "cell_type": "markdown",
   "metadata": {},
   "source": [
    "### Binary Classification"
   ]
  },
  {
   "cell_type": "code",
   "execution_count": null,
   "metadata": {
    "vscode": {
     "languageId": "python"
    }
   },
   "outputs": [],
   "source": [
    "# create random feature labels\n",
    "n_features = 10\n",
    "feature_names = []\n",
    "\n",
    "r = RandomWords()\n",
    "for i in range(n_features):\n",
    "    feature_names.append(r.get_random_word())"
   ]
  },
  {
   "cell_type": "code",
   "execution_count": null,
   "metadata": {
    "vscode": {
     "languageId": "python"
    }
   },
   "outputs": [],
   "source": [
    "# make classification dataset\n",
    "X, y = make_classification(n_samples=300, n_features=n_features, n_informative=4, n_redundant=2, n_classes=2, n_clusters_per_class=1, random_state=1)\n",
    "\n",
    "data_classification = pd.DataFrame(X, columns=feature_names)\n",
    "data_classification['target'] = y\n",
    "data_classification['target'] = data_classification['target'].map({0: 'alpaca', 1: 'lion'})\n",
    "\n",
    "data_classification.head()"
   ]
  },
  {
   "cell_type": "code",
   "execution_count": null,
   "metadata": {
    "vscode": {
     "languageId": "python"
    }
   },
   "outputs": [],
   "source": [
    "X_classification = data_classification.loc[:, data_classification.columns != 'target']\n",
    "y_classification = data_classification.target\n",
    "\n",
    "grid = {'max_depth':[2, 5, 10], 'max_features': ['sqrt', 'log2']}\n",
    "classifier = RandomForestClassifier(max_samples=0.8, bootstrap=True, oob_score=True, random_state=42)\n",
    "grid_classifier = GridSearchCV(classifier, grid, cv=5)\n",
    "grid_classifier.fit(X_classification, y_classification)\n",
    "rf_classification = grid_classifier.best_estimator_\n",
    "\n",
    "print('Parameters of best prediction model:')\n",
    "print(grid_classifier.best_params_)\n",
    "print('OOB accuracy of prediction model:')\n",
    "print(rf_classification.oob_score_)"
   ]
  },
  {
   "cell_type": "code",
   "execution_count": null,
   "metadata": {
    "vscode": {
     "languageId": "python"
    }
   },
   "outputs": [],
   "source": [
    "fgc = FgClustering(model=rf_classification, data=data_classification, target_column='target')\n",
    "fgc.run(n_jobs=3)"
   ]
  },
  {
   "cell_type": "code",
   "execution_count": null,
   "metadata": {
    "vscode": {
     "languageId": "python"
    }
   },
   "outputs": [],
   "source": [
    "fgc.plot_global_feature_importance()\n",
    "fgc.plot_local_feature_importance()\n",
    "fgc.plot_decision_paths()"
   ]
  },
  {
   "cell_type": "markdown",
   "metadata": {},
   "source": [
    "### Regression"
   ]
  },
  {
   "cell_type": "code",
   "execution_count": null,
   "metadata": {
    "vscode": {
     "languageId": "python"
    }
   },
   "outputs": [],
   "source": [
    "# make regression dataset\n",
    "X, y = make_regression(n_samples=500, n_features=n_features, n_informative=4, n_targets=1, noise=0, random_state=1)\n",
    "\n",
    "data_regression = pd.DataFrame(X, columns=feature_names)\n",
    "data_regression['target'] = y\n",
    "\n",
    "data_regression.head()"
   ]
  },
  {
   "cell_type": "code",
   "execution_count": null,
   "metadata": {
    "vscode": {
     "languageId": "python"
    }
   },
   "outputs": [],
   "source": [
    "X_regression = data_regression.loc[:, data_regression.columns != 'target']\n",
    "y_regression = data_regression.target\n",
    "\n",
    "grid = {'max_depth':[2, 5], 'max_features': ['sqrt', 'log2']}\n",
    "classifier = RandomForestRegressor(max_samples=0.8, bootstrap=True, oob_score=True, random_state=42)\n",
    "grid_classifier = GridSearchCV(classifier, grid, cv=5)\n",
    "grid_classifier.fit(X_regression, y_regression)\n",
    "rf_regression = grid_classifier.best_estimator_\n",
    "\n",
    "print('Parameters of best prediction model:')\n",
    "print(grid_classifier.best_params_)\n",
    "print('OOB R^2 of prediction model:')\n",
    "print(rf_regression.oob_score_)"
   ]
  },
  {
   "cell_type": "code",
   "execution_count": null,
   "metadata": {
    "vscode": {
     "languageId": "python"
    }
   },
   "outputs": [],
   "source": [
    "fgc = FgClustering(model=rf_regression, data=data_regression, target_column='target')\n",
    "fgc.run(n_jobs=3, discart_value_JI=0.7)"
   ]
  },
  {
   "cell_type": "code",
   "execution_count": null,
   "metadata": {
    "vscode": {
     "languageId": "python"
    }
   },
   "outputs": [],
   "source": [
    "fgc.plot_global_feature_importance()\n",
    "fgc.plot_local_feature_importance()\n",
    "fgc.plot_decision_paths(thr_pvalue=0.01, num_cols=3)"
   ]
  }
 ],
 "metadata": {
  "kernelspec": {
   "display_name": "forest_guided_clustering",
   "language": "python",
   "name": "forest_guided_clustering"
  },
  "orig_nbformat": 4
 },
 "nbformat": 4,
 "nbformat_minor": 2
}

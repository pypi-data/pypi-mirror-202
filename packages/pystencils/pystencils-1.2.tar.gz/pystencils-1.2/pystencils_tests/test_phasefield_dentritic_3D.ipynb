{
 "cells": [
  {
   "cell_type": "code",
   "execution_count": null,
   "metadata": {},
   "outputs": [],
   "source": [
    "import pytest\n",
    "pytest.importorskip('pycuda')"
   ]
  },
  {
   "cell_type": "code",
   "execution_count": 1,
   "metadata": {},
   "outputs": [],
   "source": [
    "from pystencils.session import *\n",
    "sp.init_printing()\n",
    "frac = sp.Rational"
   ]
  },
  {
   "cell_type": "markdown",
   "metadata": {},
   "source": [
    "# Phase-field simulation of dentritic solidification in 3D\n",
    "\n",
    "This notebook tests the model presented in the dentritic growth tutorial in 3D. "
   ]
  },
  {
   "cell_type": "code",
   "execution_count": 2,
   "metadata": {},
   "outputs": [],
   "source": [
    "target = ps.Target.GPU\n",
    "gpu = target == ps.Target.GPU\n",
    "domain_size = (25, 25, 25) if 'is_test_run' in globals() else (300, 300, 300)\n",
    "\n",
    "dh = ps.create_data_handling(domain_size=domain_size, periodicity=True, default_target=target)\n",
    "φ_field = dh.add_array('phi', latex_name='φ')\n",
    "φ_delta_field = dh.add_array('phidelta', latex_name='φ_D')\n",
    "t_field = dh.add_array('T')"
   ]
  },
  {
   "cell_type": "code",
   "execution_count": 3,
   "metadata": {},
   "outputs": [],
   "source": [
    "ε, m, δ, j, θzero, α, γ, Teq, κ, τ = sp.symbols(\"ε m δ j θ_0 α γ T_eq κ τ\")\n",
    "εb = sp.Symbol(\"\\\\bar{\\\\epsilon}\")\n",
    "discretize = ps.fd.Discretization2ndOrder(dx=0.03, dt=1e-5)\n",
    "\n",
    "φ = φ_field.center\n",
    "T = t_field.center\n",
    "d = ps.fd.Diff\n",
    "\n",
    "def f(φ, m):\n",
    "    return φ**4 / 4 - (frac(1, 2) - m/3) * φ**3 + (frac(1,4)-m/2)*φ**2\n",
    "\n",
    "\n",
    "\n",
    "bulk_free_energy_density = f(φ, m)\n",
    "interface_free_energy_density = ε ** 2 / 2 * (d(φ, 0) ** 2 + d(φ, 1) ** 2 + d(φ, 2) ** 2)"
   ]
  },
  {
   "cell_type": "markdown",
   "metadata": {},
   "source": [
    "Here comes the major change, that has to be made for the 3D model: $\\epsilon$ depends on the interface normal, which can not be computed simply as atan() as in the 2D case"
   ]
  },
  {
   "cell_type": "code",
   "execution_count": 4,
   "metadata": {},
   "outputs": [
    {
     "data": {
      "text/latex": [
       "$\\displaystyle \\bar{\\epsilon} \\left(δ \\left(\\frac{{\\partial_{0} {{φ}_{(0,0,0)}}}^{4}}{\\left({\\partial_{0} {{φ}_{(0,0,0)}}}^{2} + {\\partial_{1} {{φ}_{(0,0,0)}}}^{2} + {\\partial_{2} {{φ}_{(0,0,0)}}}^{2}\\right)^{2}} + \\frac{{\\partial_{1} {{φ}_{(0,0,0)}}}^{4}}{\\left({\\partial_{0} {{φ}_{(0,0,0)}}}^{2} + {\\partial_{1} {{φ}_{(0,0,0)}}}^{2} + {\\partial_{2} {{φ}_{(0,0,0)}}}^{2}\\right)^{2}} + \\frac{{\\partial_{2} {{φ}_{(0,0,0)}}}^{4}}{\\left({\\partial_{0} {{φ}_{(0,0,0)}}}^{2} + {\\partial_{1} {{φ}_{(0,0,0)}}}^{2} + {\\partial_{2} {{φ}_{(0,0,0)}}}^{2}\\right)^{2}}\\right) + 1\\right)$"
      ],
      "text/plain": [
       "               ⎛  ⎛                            4                              \n",
       "               ⎜  ⎜                 D(φ[0,0,0])                               \n",
       "\\bar{\\epsilon}⋅⎜δ⋅⎜───────────────────────────────────────────── + ───────────\n",
       "               ⎜  ⎜                                            2              \n",
       "               ⎜  ⎜⎛           2              2              2⎞    ⎛          \n",
       "               ⎝  ⎝⎝D(φ[0,0,0])  + D(φ[0,0,0])  + D(φ[0,0,0]) ⎠    ⎝D(φ[0,0,0]\n",
       "\n",
       "                 4                                               4            \n",
       "      D(φ[0,0,0])                                     D(φ[0,0,0])             \n",
       "────────────────────────────────── + ─────────────────────────────────────────\n",
       "                                 2                                            \n",
       " 2              2              2⎞    ⎛           2              2             \n",
       ")  + D(φ[0,0,0])  + D(φ[0,0,0]) ⎠    ⎝D(φ[0,0,0])  + D(φ[0,0,0])  + D(φ[0,0,0]\n",
       "\n",
       "    ⎞    ⎞\n",
       "    ⎟    ⎟\n",
       "────⎟ + 1⎟\n",
       "   2⎟    ⎟\n",
       " 2⎞ ⎟    ⎟\n",
       ") ⎠ ⎠    ⎠"
      ]
     },
     "execution_count": 4,
     "metadata": {},
     "output_type": "execute_result"
    }
   ],
   "source": [
    "n = sp.Matrix([d(φ, i) for i in range(3)])\n",
    "nLen = sp.sqrt(sum(n_i**2 for n_i in n))\n",
    "n = n / nLen\n",
    "nVal = sum(n_i**4 for n_i in n)\n",
    "σ = δ * nVal\n",
    "\n",
    "εVal = εb * (1 + σ)\n",
    "εVal"
   ]
  },
  {
   "cell_type": "code",
   "execution_count": 5,
   "metadata": {},
   "outputs": [],
   "source": [
    "def m_func(temperature):\n",
    "    return (α / sp.pi) * sp.atan(γ * (Teq - temperature))"
   ]
  },
  {
   "cell_type": "code",
   "execution_count": 6,
   "metadata": {},
   "outputs": [],
   "source": [
    "substitutions = {m: m_func(T),\n",
    "                 ε: εVal}\n",
    "\n",
    "fe_i = interface_free_energy_density.subs(substitutions)\n",
    "fe_b = bulk_free_energy_density.subs(substitutions)\n",
    "\n",
    "μ_if = ps.fd.expand_diff_full(ps.fd.functional_derivative(fe_i, φ), functions=[φ])\n",
    "μ_b = ps.fd.expand_diff_full(ps.fd.functional_derivative(fe_b, φ), functions=[φ])"
   ]
  },
  {
   "cell_type": "code",
   "execution_count": 7,
   "metadata": {},
   "outputs": [],
   "source": [
    "dF_dφ = μ_b + sp.Piecewise((μ_if, nLen**2 > 1e-10), (0, True))"
   ]
  },
  {
   "cell_type": "code",
   "execution_count": 8,
   "metadata": {},
   "outputs": [
    {
     "data": {
      "image/png": "[encoded data removed]",
      "text/latex": [
       "$\\displaystyle \\left\\{ \\pi : 3.14159265358979, \\  T_{eq} : 1.0, \\  \\bar{\\epsilon} : 0.01, \\  j : 6, \\  α : 0.9, \\  γ : 10, \\  δ : 0.3, \\  θ_{0} : 0.2, \\  κ : 1.8, \\  τ : 0.0003\\right\\}$"
      ],
      "text/plain": [
       "{π: 3.14159265358979, T_eq: 1.0, \\bar{\\epsilon}: 0.01, j: 6, α: 0.9, γ: 10, δ:\n",
       " 0.3, θ₀: 0.2, κ: 1.8, τ: 0.0003}"
      ]
     },
     "execution_count": 8,
     "metadata": {},
     "output_type": "execute_result"
    }
   ],
   "source": [
    "parameters = {\n",
    "    τ: 0.0003,\n",
    "    κ: 1.8,\n",
    "    εb: 0.01,\n",
    "    δ: 0.3,\n",
    "    γ: 10,\n",
    "    j: 6,\n",
    "    α: 0.9,\n",
    "    Teq: 1.0,\n",
    "    θzero: 0.2,\n",
    "    sp.pi: sp.pi.evalf()\n",
    "}\n",
    "parameters"
   ]
  },
  {
   "cell_type": "code",
   "execution_count": 9,
   "metadata": {},
   "outputs": [],
   "source": [
    "dφ_dt = - dF_dφ / τ\n",
    "assignments = [\n",
    "    ps.Assignment(φ_delta_field.center, discretize(dφ_dt.subs(parameters))),\n",
    "]\n",
    "φEqs = ps.simp.sympy_cse_on_assignment_list(assignments)\n",
    "φEqs.append(ps.Assignment(φ, discretize(ps.fd.transient(φ) - φ_delta_field.center)))\n",
    "\n",
    "\n",
    "temperatureEvolution = -ps.fd.transient(T) + ps.fd.diffusion(T, 1) + κ * φ_delta_field.center\n",
    "temperatureEqs = [\n",
    "    ps.Assignment(T, discretize(temperatureEvolution.subs(parameters)))\n",
    "]"
   ]
  },
  {
   "cell_type": "code",
   "execution_count": 10,
   "metadata": {},
   "outputs": [
    {
     "data": {
      "text/latex": [
       "$\\displaystyle \\left[ {{T}_{(0,0,0)}} \\leftarrow 0.0111111111111111 {{T}_{(-1,0,0)}} + 0.0111111111111111 {{T}_{(0,-1,0)}} + 0.0111111111111111 {{T}_{(0,0,-1)}} + 0.933333333333333 {{T}_{(0,0,0)}} + 0.0111111111111111 {{T}_{(0,0,1)}} + 0.0111111111111111 {{T}_{(0,1,0)}} + 0.0111111111111111 {{T}_{(1,0,0)}} + 1.8 \\cdot 10^{-5} {{φ_D}_{(0,0,0)}}\\right]$"
      ],
      "text/plain": [
       "[T_C := 0.0111111111111111⋅T_W + 0.0111111111111111⋅T_S + 0.0111111111111111⋅T\n",
       "_B + 0.933333333333333⋅T_C + 0.0111111111111111⋅T_T + 0.0111111111111111⋅T_N +\n",
       " 0.0111111111111111⋅T_E + 1.8e-5⋅phidelta_C]"
      ]
     },
     "execution_count": 10,
     "metadata": {},
     "output_type": "execute_result"
    }
   ],
   "source": [
    "temperatureEqs"
   ]
  },
  {
   "cell_type": "code",
   "execution_count": 11,
   "metadata": {},
   "outputs": [],
   "source": [
    "φ_kernel = ps.create_kernel(φEqs, cpu_openmp=4, target=target).compile()\n",
    "temperatureKernel = ps.create_kernel(temperatureEqs, cpu_openmp=4, target=target).compile()"
   ]
  },
  {
   "cell_type": "code",
   "execution_count": 12,
   "metadata": {},
   "outputs": [],
   "source": [
    "def time_loop(steps):\n",
    "    φ_sync = dh.synchronization_function(['phi'], target=target)\n",
    "    temperature_sync = dh.synchronization_function(['T'], target=target)\n",
    "    dh.all_to_gpu()\n",
    "    for t in range(steps):\n",
    "        φ_sync()\n",
    "        dh.run_kernel(φ_kernel)\n",
    "        temperature_sync()\n",
    "        dh.run_kernel(temperatureKernel)\n",
    "    dh.all_to_cpu()\n",
    "\n",
    "\n",
    "def init(nucleus_size=np.sqrt(5)):\n",
    "    for b in dh.iterate():\n",
    "        x, y, z = b.cell_index_arrays\n",
    "        x, y, z = x - b.shape[0] // 2, y - b.shape[1] // 2, z - b.shape[2] // 2\n",
    "        b['phi'].fill(0)\n",
    "        b['phi'][(x ** 2 + y ** 2 + z ** 2) < nucleus_size ** 2] = 1.0\n",
    "        b['T'].fill(0.0)\n",
    "\n",
    "\n",
    "def plot(slice_obj=ps.make_slice[:, :, 0.5]):\n",
    "    plt.subplot(1, 3, 1)\n",
    "    plt.scalar_field(dh.gather_array('phi', slice_obj).squeeze())\n",
    "    plt.title(\"φ\")\n",
    "    plt.colorbar()\n",
    "    plt.subplot(1, 3, 2)\n",
    "    plt.title(\"T\")\n",
    "    plt.scalar_field(dh.gather_array('T', slice_obj).squeeze())\n",
    "    plt.colorbar()\n",
    "    plt.subplot(1, 3, 3)\n",
    "    plt.title(\"∂φ\")\n",
    "    plt.scalar_field(dh.gather_array('phidelta', slice_obj).squeeze())\n",
    "    plt.colorbar()"
   ]
  },
  {
   "cell_type": "code",
   "execution_count": 13,
   "metadata": {},
   "outputs": [
    {
     "name": "stdout",
     "output_type": "stream",
     "text": [
      "    Name|      Inner (min/max)|     WithGl (min/max)\n",
      "----------------------------------------------------\n",
      "       T|            (  0,  0)|            (  0,  0)\n",
      "     phi|            (  0,  1)|            (  0,  1)\n",
      "phidelta|            (  0,  0)|            (  0,  0)\n",
      "\n"
     ]
    },
    {
     "data": {
      "image/png": "[encoded data removed]",
      "text/plain": [
       "<Figure size 1152x432 with 6 Axes>"
      ]
     },
     "metadata": {
      "needs_background": "light"
     },
     "output_type": "display_data"
    }
   ],
   "source": [
    "init()\n",
    "plot()\n",
    "print(dh)"
   ]
  },
  {
   "cell_type": "code",
   "execution_count": null,
   "metadata": {},
   "outputs": [],
   "source": [
    "if 'is_test_run' in globals():\n",
    "    time_loop(2)\n",
    "    assert np.isfinite(dh.max('phi'))\n",
    "    assert np.isfinite(dh.max('T'))\n",
    "    assert np.isfinite(dh.max('phidelta'))\n",
    "else:\n",
    "    from time import perf_counter\n",
    "    vtk_writer = dh.create_vtk_writer('dentritic_growth_large', ['phi'])\n",
    "    last = perf_counter()\n",
    "    for i in range(300):\n",
    "        time_loop(100)\n",
    "        vtk_writer(i)\n",
    "        print(\"Step \", i, perf_counter() - last, dh.max('phi'))\n",
    "        last = perf_counter()"
   ]
  }
 ],
 "metadata": {
  "kernelspec": {
   "display_name": "Python 3",
   "language": "python",
   "name": "python3"
  },
  "language_info": {
   "codemirror_mode": {
    "name": "ipython",
    "version": 3
   },
   "file_extension": ".py",
   "mimetype": "text/x-python",
   "name": "python",
   "nbconvert_exporter": "python",
   "pygments_lexer": "ipython3",
   "version": "3.8.5"
  }
 },
 "nbformat": 4,
 "nbformat_minor": 2
}